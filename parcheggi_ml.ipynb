{
 "cells": [
  {
   "cell_type": "markdown",
   "id": "e6e0403a-7f71-4461-96ed-ccccc014a1df",
   "metadata": {},
   "source": [
    "## 1. Model Training\n",
    "We train a data prediction model using darts framework and NBEATS Deep Learning model."
   ]
  },
  {
   "cell_type": "code",
   "execution_count": 1,
   "id": "00f75c71-9f2a-4f03-ab89-0c9f174de31d",
   "metadata": {
    "collapsed": true,
    "jupyter": {
     "outputs_hidden": true
    },
    "tags": []
   },
   "outputs": [
    {
     "name": "stdout",
     "output_type": "stream",
     "text": [
      "Requirement already satisfied: darts==0.25.0 in /opt/conda/lib/python3.10/site-packages (0.25.0)\n",
      "Requirement already satisfied: pandas==1.4.4 in /opt/conda/lib/python3.10/site-packages (1.4.4)\n",
      "Requirement already satisfied: numpy==1.22.4 in /opt/conda/lib/python3.10/site-packages (1.22.4)\n",
      "Requirement already satisfied: patsy==0.5.2 in /opt/conda/lib/python3.10/site-packages (0.5.2)\n",
      "Requirement already satisfied: scikit-learn==1.1.2 in /opt/conda/lib/python3.10/site-packages (1.1.2)\n",
      "Requirement already satisfied: holidays>=0.11.1 in /opt/conda/lib/python3.10/site-packages (from darts==0.25.0) (0.54)\n",
      "Requirement already satisfied: joblib>=0.16.0 in /opt/conda/lib/python3.10/site-packages (from darts==0.25.0) (1.2.0)\n",
      "Requirement already satisfied: matplotlib>=3.3.0 in /opt/conda/lib/python3.10/site-packages (from darts==0.25.0) (3.7.1)\n",
      "Requirement already satisfied: nfoursid>=1.0.0 in /opt/conda/lib/python3.10/site-packages (from darts==0.25.0) (1.0.1)\n",
      "Requirement already satisfied: pmdarima>=1.8.0 in /opt/conda/lib/python3.10/site-packages (from darts==0.25.0) (2.0.4)\n",
      "Requirement already satisfied: pyod>=0.9.5 in /opt/conda/lib/python3.10/site-packages (from darts==0.25.0) (2.0.1)\n",
      "Requirement already satisfied: requests>=2.22.0 in /opt/conda/lib/python3.10/site-packages (from darts==0.25.0) (2.31.0)\n",
      "Requirement already satisfied: scipy>=1.3.2 in /opt/conda/lib/python3.10/site-packages (from darts==0.25.0) (1.10.1)\n",
      "Requirement already satisfied: shap>=0.40.0 in /opt/conda/lib/python3.10/site-packages (from darts==0.25.0) (0.46.0)\n",
      "Requirement already satisfied: statsforecast>=1.4 in /opt/conda/lib/python3.10/site-packages (from darts==0.25.0) (1.7.6)\n",
      "Requirement already satisfied: statsmodels>=0.14.0 in /opt/conda/lib/python3.10/site-packages (from darts==0.25.0) (0.14.0)\n",
      "Requirement already satisfied: tbats>=1.1.0 in /opt/conda/lib/python3.10/site-packages (from darts==0.25.0) (1.1.3)\n",
      "Requirement already satisfied: tqdm>=4.60.0 in /opt/conda/lib/python3.10/site-packages (from darts==0.25.0) (4.65.0)\n",
      "Requirement already satisfied: typing-extensions in /opt/conda/lib/python3.10/site-packages (from darts==0.25.0) (4.12.2)\n",
      "Requirement already satisfied: xarray>=0.17.0 in /opt/conda/lib/python3.10/site-packages (from darts==0.25.0) (2023.12.0)\n",
      "Requirement already satisfied: xgboost>=1.6.0 in /opt/conda/lib/python3.10/site-packages (from darts==0.25.0) (2.1.1)\n",
      "Requirement already satisfied: pytorch-lightning>=1.5.0 in /opt/conda/lib/python3.10/site-packages (from darts==0.25.0) (2.3.3)\n",
      "Requirement already satisfied: tensorboardX>=2.1 in /opt/conda/lib/python3.10/site-packages (from darts==0.25.0) (2.6.2.2)\n",
      "Requirement already satisfied: torch>=1.8.0 in /opt/conda/lib/python3.10/site-packages (from darts==0.25.0) (2.4.0)\n",
      "Requirement already satisfied: python-dateutil>=2.8.1 in /opt/conda/lib/python3.10/site-packages (from pandas==1.4.4) (2.8.2)\n",
      "Requirement already satisfied: pytz>=2020.1 in /opt/conda/lib/python3.10/site-packages (from pandas==1.4.4) (2023.3)\n",
      "Requirement already satisfied: six in /opt/conda/lib/python3.10/site-packages (from patsy==0.5.2) (1.16.0)\n",
      "Requirement already satisfied: threadpoolctl>=2.0.0 in /opt/conda/lib/python3.10/site-packages (from scikit-learn==1.1.2) (3.1.0)\n",
      "Requirement already satisfied: contourpy>=1.0.1 in /opt/conda/lib/python3.10/site-packages (from matplotlib>=3.3.0->darts==0.25.0) (1.0.7)\n",
      "Requirement already satisfied: cycler>=0.10 in /opt/conda/lib/python3.10/site-packages (from matplotlib>=3.3.0->darts==0.25.0) (0.11.0)\n",
      "Requirement already satisfied: fonttools>=4.22.0 in /opt/conda/lib/python3.10/site-packages (from matplotlib>=3.3.0->darts==0.25.0) (4.39.4)\n",
      "Requirement already satisfied: kiwisolver>=1.0.1 in /opt/conda/lib/python3.10/site-packages (from matplotlib>=3.3.0->darts==0.25.0) (1.4.4)\n",
      "Requirement already satisfied: packaging>=20.0 in /opt/conda/lib/python3.10/site-packages (from matplotlib>=3.3.0->darts==0.25.0) (23.1)\n",
      "Requirement already satisfied: pillow>=6.2.0 in /opt/conda/lib/python3.10/site-packages (from matplotlib>=3.3.0->darts==0.25.0) (9.5.0)\n",
      "Requirement already satisfied: pyparsing>=2.3.1 in /opt/conda/lib/python3.10/site-packages (from matplotlib>=3.3.0->darts==0.25.0) (3.0.9)\n",
      "Requirement already satisfied: Cython!=0.29.18,!=0.29.31,>=0.29 in /opt/conda/lib/python3.10/site-packages (from pmdarima>=1.8.0->darts==0.25.0) (0.29.35)\n",
      "Requirement already satisfied: urllib3 in /opt/conda/lib/python3.10/site-packages (from pmdarima>=1.8.0->darts==0.25.0) (1.26.19)\n",
      "Requirement already satisfied: setuptools!=50.0.0,>=38.6.0 in /opt/conda/lib/python3.10/site-packages (from pmdarima>=1.8.0->darts==0.25.0) (67.7.2)\n",
      "Requirement already satisfied: numba>=0.51 in /opt/conda/lib/python3.10/site-packages (from pyod>=0.9.5->darts==0.25.0) (0.57.0)\n",
      "Requirement already satisfied: PyYAML>=5.4 in /opt/conda/lib/python3.10/site-packages (from pytorch-lightning>=1.5.0->darts==0.25.0) (6.0)\n",
      "Requirement already satisfied: fsspec[http]>=2022.5.0 in /opt/conda/lib/python3.10/site-packages (from pytorch-lightning>=1.5.0->darts==0.25.0) (2024.6.1)\n",
      "Requirement already satisfied: torchmetrics>=0.7.0 in /opt/conda/lib/python3.10/site-packages (from pytorch-lightning>=1.5.0->darts==0.25.0) (1.4.1)\n",
      "Requirement already satisfied: lightning-utilities>=0.10.0 in /opt/conda/lib/python3.10/site-packages (from pytorch-lightning>=1.5.0->darts==0.25.0) (0.11.6)\n",
      "Requirement already satisfied: charset-normalizer<4,>=2 in /opt/conda/lib/python3.10/site-packages (from requests>=2.22.0->darts==0.25.0) (3.1.0)\n",
      "Requirement already satisfied: idna<4,>=2.5 in /opt/conda/lib/python3.10/site-packages (from requests>=2.22.0->darts==0.25.0) (3.4)\n",
      "Requirement already satisfied: certifi>=2017.4.17 in /opt/conda/lib/python3.10/site-packages (from requests>=2.22.0->darts==0.25.0) (2023.5.7)\n",
      "Requirement already satisfied: slicer==0.0.8 in /opt/conda/lib/python3.10/site-packages (from shap>=0.40.0->darts==0.25.0) (0.0.8)\n",
      "Requirement already satisfied: cloudpickle in /opt/conda/lib/python3.10/site-packages (from shap>=0.40.0->darts==0.25.0) (2.2.1)\n",
      "Requirement already satisfied: coreforecast>=0.0.12 in /opt/conda/lib/python3.10/site-packages (from statsforecast>=1.4->darts==0.25.0) (0.0.12)\n",
      "Requirement already satisfied: fugue>=0.8.1 in /opt/conda/lib/python3.10/site-packages (from statsforecast>=1.4->darts==0.25.0) (0.9.1)\n",
      "Requirement already satisfied: utilsforecast>=0.1.4 in /opt/conda/lib/python3.10/site-packages (from statsforecast>=1.4->darts==0.25.0) (0.2.3)\n",
      "Requirement already satisfied: protobuf>=3.20 in /opt/conda/lib/python3.10/site-packages (from tensorboardX>=2.1->darts==0.25.0) (4.21.12)\n",
      "Requirement already satisfied: filelock in /opt/conda/lib/python3.10/site-packages (from torch>=1.8.0->darts==0.25.0) (3.15.4)\n",
      "Requirement already satisfied: sympy in /opt/conda/lib/python3.10/site-packages (from torch>=1.8.0->darts==0.25.0) (1.12)\n",
      "Requirement already satisfied: networkx in /opt/conda/lib/python3.10/site-packages (from torch>=1.8.0->darts==0.25.0) (3.1)\n",
      "Requirement already satisfied: jinja2 in /opt/conda/lib/python3.10/site-packages (from torch>=1.8.0->darts==0.25.0) (3.1.2)\n",
      "Requirement already satisfied: nvidia-cuda-nvrtc-cu12==12.1.105 in /opt/conda/lib/python3.10/site-packages (from torch>=1.8.0->darts==0.25.0) (12.1.105)\n",
      "Requirement already satisfied: nvidia-cuda-runtime-cu12==12.1.105 in /opt/conda/lib/python3.10/site-packages (from torch>=1.8.0->darts==0.25.0) (12.1.105)\n",
      "Requirement already satisfied: nvidia-cuda-cupti-cu12==12.1.105 in /opt/conda/lib/python3.10/site-packages (from torch>=1.8.0->darts==0.25.0) (12.1.105)\n",
      "Requirement already satisfied: nvidia-cudnn-cu12==9.1.0.70 in /opt/conda/lib/python3.10/site-packages (from torch>=1.8.0->darts==0.25.0) (9.1.0.70)\n",
      "Requirement already satisfied: nvidia-cublas-cu12==12.1.3.1 in /opt/conda/lib/python3.10/site-packages (from torch>=1.8.0->darts==0.25.0) (12.1.3.1)\n",
      "Requirement already satisfied: nvidia-cufft-cu12==11.0.2.54 in /opt/conda/lib/python3.10/site-packages (from torch>=1.8.0->darts==0.25.0) (11.0.2.54)\n",
      "Requirement already satisfied: nvidia-curand-cu12==10.3.2.106 in /opt/conda/lib/python3.10/site-packages (from torch>=1.8.0->darts==0.25.0) (10.3.2.106)\n",
      "Requirement already satisfied: nvidia-cusolver-cu12==11.4.5.107 in /opt/conda/lib/python3.10/site-packages (from torch>=1.8.0->darts==0.25.0) (11.4.5.107)\n",
      "Requirement already satisfied: nvidia-cusparse-cu12==12.1.0.106 in /opt/conda/lib/python3.10/site-packages (from torch>=1.8.0->darts==0.25.0) (12.1.0.106)\n",
      "Requirement already satisfied: nvidia-nccl-cu12==2.20.5 in /opt/conda/lib/python3.10/site-packages (from torch>=1.8.0->darts==0.25.0) (2.20.5)\n",
      "Requirement already satisfied: nvidia-nvtx-cu12==12.1.105 in /opt/conda/lib/python3.10/site-packages (from torch>=1.8.0->darts==0.25.0) (12.1.105)\n",
      "Requirement already satisfied: triton==3.0.0 in /opt/conda/lib/python3.10/site-packages (from torch>=1.8.0->darts==0.25.0) (3.0.0)\n",
      "Requirement already satisfied: nvidia-nvjitlink-cu12 in /opt/conda/lib/python3.10/site-packages (from nvidia-cusolver-cu12==11.4.5.107->torch>=1.8.0->darts==0.25.0) (12.6.20)\n",
      "Requirement already satisfied: aiohttp!=4.0.0a0,!=4.0.0a1 in /opt/conda/lib/python3.10/site-packages (from fsspec[http]>=2022.5.0->pytorch-lightning>=1.5.0->darts==0.25.0) (3.9.5)\n",
      "Requirement already satisfied: triad>=0.9.7 in /opt/conda/lib/python3.10/site-packages (from fugue>=0.8.1->statsforecast>=1.4->darts==0.25.0) (0.9.8)\n",
      "Requirement already satisfied: adagio>=0.2.4 in /opt/conda/lib/python3.10/site-packages (from fugue>=0.8.1->statsforecast>=1.4->darts==0.25.0) (0.2.4)\n",
      "Requirement already satisfied: llvmlite<0.41,>=0.40.0dev0 in /opt/conda/lib/python3.10/site-packages (from numba>=0.51->pyod>=0.9.5->darts==0.25.0) (0.40.0)\n",
      "Requirement already satisfied: MarkupSafe>=2.0 in /opt/conda/lib/python3.10/site-packages (from jinja2->torch>=1.8.0->darts==0.25.0) (2.1.2)\n",
      "Requirement already satisfied: mpmath>=0.19 in /opt/conda/lib/python3.10/site-packages (from sympy->torch>=1.8.0->darts==0.25.0) (1.3.0)\n",
      "Requirement already satisfied: aiosignal>=1.1.2 in /opt/conda/lib/python3.10/site-packages (from aiohttp!=4.0.0a0,!=4.0.0a1->fsspec[http]>=2022.5.0->pytorch-lightning>=1.5.0->darts==0.25.0) (1.3.1)\n",
      "Requirement already satisfied: attrs>=17.3.0 in /opt/conda/lib/python3.10/site-packages (from aiohttp!=4.0.0a0,!=4.0.0a1->fsspec[http]>=2022.5.0->pytorch-lightning>=1.5.0->darts==0.25.0) (23.1.0)\n",
      "Requirement already satisfied: frozenlist>=1.1.1 in /opt/conda/lib/python3.10/site-packages (from aiohttp!=4.0.0a0,!=4.0.0a1->fsspec[http]>=2022.5.0->pytorch-lightning>=1.5.0->darts==0.25.0) (1.4.1)\n",
      "Requirement already satisfied: multidict<7.0,>=4.5 in /opt/conda/lib/python3.10/site-packages (from aiohttp!=4.0.0a0,!=4.0.0a1->fsspec[http]>=2022.5.0->pytorch-lightning>=1.5.0->darts==0.25.0) (6.0.5)\n",
      "Requirement already satisfied: yarl<2.0,>=1.0 in /opt/conda/lib/python3.10/site-packages (from aiohttp!=4.0.0a0,!=4.0.0a1->fsspec[http]>=2022.5.0->pytorch-lightning>=1.5.0->darts==0.25.0) (1.9.4)\n",
      "Requirement already satisfied: async-timeout<5.0,>=4.0 in /opt/conda/lib/python3.10/site-packages (from aiohttp!=4.0.0a0,!=4.0.0a1->fsspec[http]>=2022.5.0->pytorch-lightning>=1.5.0->darts==0.25.0) (4.0.3)\n",
      "Requirement already satisfied: pyarrow>=6.0.1 in /opt/conda/lib/python3.10/site-packages (from triad>=0.9.7->fugue>=0.8.1->statsforecast>=1.4->darts==0.25.0) (12.0.0)\n",
      "Requirement already satisfied: fs in /opt/conda/lib/python3.10/site-packages (from triad>=0.9.7->fugue>=0.8.1->statsforecast>=1.4->darts==0.25.0) (2.4.16)\n",
      "Requirement already satisfied: appdirs~=1.4.3 in /opt/conda/lib/python3.10/site-packages (from fs->triad>=0.9.7->fugue>=0.8.1->statsforecast>=1.4->darts==0.25.0) (1.4.4)\n",
      "Note: you may need to restart the kernel to use updated packages.\n"
     ]
    }
   ],
   "source": [
    "%pip install darts==0.25.0 pandas==1.4.4 numpy==1.22.4 patsy==0.5.2 scikit-learn==1.1.2"
   ]
  },
  {
   "cell_type": "code",
   "execution_count": 2,
   "id": "47429826-291e-4c85-87bc-0420841415fd",
   "metadata": {},
   "outputs": [
    {
     "data": {
      "text/html": [
       "<div>\n",
       "<style scoped>\n",
       "    .dataframe tbody tr th:only-of-type {\n",
       "        vertical-align: middle;\n",
       "    }\n",
       "\n",
       "    .dataframe tbody tr th {\n",
       "        vertical-align: top;\n",
       "    }\n",
       "\n",
       "    .dataframe thead th {\n",
       "        text-align: right;\n",
       "    }\n",
       "</style>\n",
       "<table border=\"1\" class=\"dataframe\">\n",
       "  <thead>\n",
       "    <tr style=\"text-align: right;\">\n",
       "      <th></th>\n",
       "      <th>parcheggio</th>\n",
       "      <th>data</th>\n",
       "      <th>posti_liberi</th>\n",
       "      <th>posti_occupati</th>\n",
       "      <th>posti_totali</th>\n",
       "      <th>lat</th>\n",
       "      <th>lon</th>\n",
       "    </tr>\n",
       "  </thead>\n",
       "  <tbody>\n",
       "    <tr>\n",
       "      <th>0</th>\n",
       "      <td>Riva Reno</td>\n",
       "      <td>2024-06-07T01:59:00+00:00</td>\n",
       "      <td>369.0</td>\n",
       "      <td>101.0</td>\n",
       "      <td>470</td>\n",
       "      <td>44.501153</td>\n",
       "      <td>11.336062</td>\n",
       "    </tr>\n",
       "    <tr>\n",
       "      <th>1</th>\n",
       "      <td>VIII Agosto</td>\n",
       "      <td>2024-06-07T02:09:00+00:00</td>\n",
       "      <td>485.0</td>\n",
       "      <td>140.0</td>\n",
       "      <td>625</td>\n",
       "      <td>44.500297</td>\n",
       "      <td>11.345368</td>\n",
       "    </tr>\n",
       "    <tr>\n",
       "      <th>2</th>\n",
       "      <td>Autostazione</td>\n",
       "      <td>2024-06-07T02:09:00+00:00</td>\n",
       "      <td>244.0</td>\n",
       "      <td>21.0</td>\n",
       "      <td>265</td>\n",
       "      <td>44.504422</td>\n",
       "      <td>11.346514</td>\n",
       "    </tr>\n",
       "    <tr>\n",
       "      <th>3</th>\n",
       "      <td>VIII Agosto</td>\n",
       "      <td>2024-06-07T02:34:00+00:00</td>\n",
       "      <td>487.0</td>\n",
       "      <td>138.0</td>\n",
       "      <td>625</td>\n",
       "      <td>44.500297</td>\n",
       "      <td>11.345368</td>\n",
       "    </tr>\n",
       "    <tr>\n",
       "      <th>4</th>\n",
       "      <td>Riva Reno</td>\n",
       "      <td>2024-06-07T02:49:00+00:00</td>\n",
       "      <td>369.0</td>\n",
       "      <td>101.0</td>\n",
       "      <td>470</td>\n",
       "      <td>44.501153</td>\n",
       "      <td>11.336062</td>\n",
       "    </tr>\n",
       "  </tbody>\n",
       "</table>\n",
       "</div>"
      ],
      "text/plain": [
       "     parcheggio                       data  posti_liberi  posti_occupati  \\\n",
       "0     Riva Reno  2024-06-07T01:59:00+00:00         369.0           101.0   \n",
       "1   VIII Agosto  2024-06-07T02:09:00+00:00         485.0           140.0   \n",
       "2  Autostazione  2024-06-07T02:09:00+00:00         244.0            21.0   \n",
       "3   VIII Agosto  2024-06-07T02:34:00+00:00         487.0           138.0   \n",
       "4     Riva Reno  2024-06-07T02:49:00+00:00         369.0           101.0   \n",
       "\n",
       "   posti_totali        lat        lon  \n",
       "0           470  44.501153  11.336062  \n",
       "1           625  44.500297  11.345368  \n",
       "2           265  44.504422  11.346514  \n",
       "3           625  44.500297  11.345368  \n",
       "4           470  44.501153  11.336062  "
      ]
     },
     "execution_count": 2,
     "metadata": {},
     "output_type": "execute_result"
    }
   ],
   "source": [
    "import digitalhub as dh\n",
    "\n",
    "proj = dh.get_or_create_project('parcheggi-demo')\n",
    "di = proj.get_dataitem('dataset')\n",
    "df = di.as_df()\n",
    "df.head()"
   ]
  },
  {
   "cell_type": "markdown",
   "id": "7d4edf63-04f8-4f59-bf92-659adc61c86f",
   "metadata": {},
   "source": [
    "### 1.1. Prepare data"
   ]
  },
  {
   "cell_type": "markdown",
   "id": "8161b902-85e5-43cc-940e-d4e86b961ab6",
   "metadata": {},
   "source": [
    "Clean data: convert date to datetime and calculate occupied ratio, remove redundant columns."
   ]
  },
  {
   "cell_type": "code",
   "execution_count": 3,
   "id": "34fdee6b-33d7-4acf-a71d-463fe983fb84",
   "metadata": {},
   "outputs": [
    {
     "data": {
      "text/html": [
       "<div>\n",
       "<style scoped>\n",
       "    .dataframe tbody tr th:only-of-type {\n",
       "        vertical-align: middle;\n",
       "    }\n",
       "\n",
       "    .dataframe tbody tr th {\n",
       "        vertical-align: top;\n",
       "    }\n",
       "\n",
       "    .dataframe thead th {\n",
       "        text-align: right;\n",
       "    }\n",
       "</style>\n",
       "<table border=\"1\" class=\"dataframe\">\n",
       "  <thead>\n",
       "    <tr style=\"text-align: right;\">\n",
       "      <th></th>\n",
       "      <th>parcheggio</th>\n",
       "      <th>occupied</th>\n",
       "      <th>date_time_slice</th>\n",
       "    </tr>\n",
       "  </thead>\n",
       "  <tbody>\n",
       "    <tr>\n",
       "      <th>54</th>\n",
       "      <td>VIII Agosto</td>\n",
       "      <td>0.844800</td>\n",
       "      <td>2024-06-07 12:00:00</td>\n",
       "    </tr>\n",
       "    <tr>\n",
       "      <th>55</th>\n",
       "      <td>Autostazione</td>\n",
       "      <td>0.313208</td>\n",
       "      <td>2024-06-07 12:00:00</td>\n",
       "    </tr>\n",
       "    <tr>\n",
       "      <th>56</th>\n",
       "      <td>VIII Agosto</td>\n",
       "      <td>0.804800</td>\n",
       "      <td>2024-06-07 12:30:00</td>\n",
       "    </tr>\n",
       "    <tr>\n",
       "      <th>57</th>\n",
       "      <td>VIII Agosto</td>\n",
       "      <td>0.812800</td>\n",
       "      <td>2024-06-07 12:30:00</td>\n",
       "    </tr>\n",
       "    <tr>\n",
       "      <th>58</th>\n",
       "      <td>VIII Agosto</td>\n",
       "      <td>0.788800</td>\n",
       "      <td>2024-06-07 12:30:00</td>\n",
       "    </tr>\n",
       "  </tbody>\n",
       "</table>\n",
       "</div>"
      ],
      "text/plain": [
       "      parcheggio  occupied     date_time_slice\n",
       "54   VIII Agosto  0.844800 2024-06-07 12:00:00\n",
       "55  Autostazione  0.313208 2024-06-07 12:00:00\n",
       "56   VIII Agosto  0.804800 2024-06-07 12:30:00\n",
       "57   VIII Agosto  0.812800 2024-06-07 12:30:00\n",
       "58   VIII Agosto  0.788800 2024-06-07 12:30:00"
      ]
     },
     "execution_count": 3,
     "metadata": {},
     "output_type": "execute_result"
    }
   ],
   "source": [
    "import datetime\n",
    "import pandas as pd\n",
    "\n",
    "window = 60\n",
    "\n",
    "df_clean = df.copy()\n",
    "df_clean.data = pd.to_datetime(df_clean.data, utc=True)\n",
    "df_clean['occupied'] = df_clean.posti_occupati / df_clean.posti_totali\n",
    "df_clean['date_time_slice'] = df_clean.data.dt.round('30min').dt.tz_convert(None)\n",
    "df_clean = df_clean[df_clean.date_time_slice >= (datetime.datetime.today() - pd.DateOffset(window))]\n",
    "df_clean = df_clean[df_clean.date_time_slice <= (datetime.datetime.today() - pd.DateOffset(1))]\n",
    "df_clean.posti_occupati = df_clean.apply(lambda x: max(0, min(x['posti_totali'], x['posti_occupati'])), axis=1)\n",
    "df_clean['occupied'] = df_clean.posti_occupati / df_clean.posti_totali\n",
    "df_clean = df_clean.drop(columns=['lat', 'lon', 'data', 'posti_totali', 'posti_liberi', 'posti_occupati'])\n",
    "df_clean.head()"
   ]
  },
  {
   "cell_type": "markdown",
   "id": "33e7c8d3-07c2-47b9-82e0-4ca6c19bbb9f",
   "metadata": {},
   "source": [
    "### 1.2. Create multiple time series"
   ]
  },
  {
   "cell_type": "code",
   "execution_count": 4,
   "id": "b52b04c5-686c-46b0-b5b5-c1620c2070b9",
   "metadata": {
    "jupyter": {
     "source_hidden": true
    }
   },
   "outputs": [
    {
     "name": "stderr",
     "output_type": "stream",
     "text": [
      "/tmp/ipykernel_6608/2711141629.py:29: SettingWithCopyWarning: \n",
      "A value is trying to be set on a copy of a slice from a DataFrame.\n",
      "Try using .loc[row_indexer,col_indexer] = value instead\n",
      "\n",
      "See the caveats in the documentation: https://pandas.pydata.org/pandas-docs/stable/user_guide/indexing.html#returning-a-view-versus-a-copy\n",
      "  parc_df['hour'] = parc_df.date_time_slice.dt.hour\n",
      "/tmp/ipykernel_6608/2711141629.py:30: SettingWithCopyWarning: \n",
      "A value is trying to be set on a copy of a slice from a DataFrame.\n",
      "Try using .loc[row_indexer,col_indexer] = value instead\n",
      "\n",
      "See the caveats in the documentation: https://pandas.pydata.org/pandas-docs/stable/user_guide/indexing.html#returning-a-view-versus-a-copy\n",
      "  parc_df['dow'] = parc_df.date_time_slice.dt.dayofweek\n",
      "/tmp/ipykernel_6608/2711141629.py:29: SettingWithCopyWarning: \n",
      "A value is trying to be set on a copy of a slice from a DataFrame.\n",
      "Try using .loc[row_indexer,col_indexer] = value instead\n",
      "\n",
      "See the caveats in the documentation: https://pandas.pydata.org/pandas-docs/stable/user_guide/indexing.html#returning-a-view-versus-a-copy\n",
      "  parc_df['hour'] = parc_df.date_time_slice.dt.hour\n",
      "/tmp/ipykernel_6608/2711141629.py:30: SettingWithCopyWarning: \n",
      "A value is trying to be set on a copy of a slice from a DataFrame.\n",
      "Try using .loc[row_indexer,col_indexer] = value instead\n",
      "\n",
      "See the caveats in the documentation: https://pandas.pydata.org/pandas-docs/stable/user_guide/indexing.html#returning-a-view-versus-a-copy\n",
      "  parc_df['dow'] = parc_df.date_time_slice.dt.dayofweek\n"
     ]
    },
    {
     "data": {
      "text/plain": [
       "<Axes: xlabel='date_time_slice'>"
      ]
     },
     "execution_count": 4,
     "metadata": {},
     "output_type": "execute_result"
    },
    {
     "data": {
      "image/png": "[encoded data removed]",
      "text/plain": [
       "<Figure size 640x480 with 1 Axes>"
      ]
     },
     "metadata": {},
     "output_type": "display_data"
    }
   ],
   "source": [
    "from darts import TimeSeries\n",
    "from darts.dataprocessing.transformers import Scaler\n",
    "\n",
    "split_ratio = 0.8\n",
    "\n",
    "def fill_missing(parc_df):\n",
    "    missing = []  # List to store timestamps for which values could not be filled\n",
    "    temp = pd.Series(parc_df.index.date).value_counts()  # Count the occurrences of each date\n",
    "    temp = temp[temp < 48]  # Filter dates with less than 48 occurrences\n",
    "    temp.sort_index(inplace=True)  # Sort the dates in ascending order\n",
    "    for t in temp.index:  # Iterate through the filtered dates\n",
    "        for h in range(24):  # Iterate through 24 hours\n",
    "            for half_hour in [0, 30]:  # Iterate through 0 and 30 minutes\n",
    "                ts = datetime.datetime(t.year, t.month, t.day, h, half_hour)  # Create a timestamp\n",
    "                if ts not in parc_df.index:  # If the timestamp is missing in the DataFrame\n",
    "                    if ts - datetime.timedelta(days=7) in parc_df.index:  # Check if the previous week's timestamp is available\n",
    "                        parc_df.loc[ts] = parc_df.loc[ts - datetime.timedelta(days=7)].copy()  # Copy values from the previous week\n",
    "                    elif ts + datetime.timedelta(days=7) in parc_df.index:  # Check if the next week's timestamp is available\n",
    "                        parc_df.loc[ts] = parc_df.loc[ts + datetime.timedelta(days=7)].copy()  # Copy values from the next week\n",
    "                    else:\n",
    "                        missing.append(ts)  # If values cannot be filled, add the timestamp to the missing list\n",
    "    return missing \n",
    "parcheggi = ['Riva Reno' ,'VIII Agosto']# df_clean['parcheggio'].unique()\n",
    "\n",
    "train_sets, val_sets = [], []\n",
    "\n",
    "for parcheggio in parcheggi:\n",
    "    parc_df = df_clean[df_clean['parcheggio'] == parcheggio]\n",
    "    parc_df['hour'] = parc_df.date_time_slice.dt.hour\n",
    "    parc_df['dow'] = parc_df.date_time_slice.dt.dayofweek\n",
    "    parc_df = parc_df.drop(columns=['parcheggio'])\n",
    "    parc_df = parc_df.groupby('date_time_slice').agg({'occupied': 'mean', 'hour': 'first', 'dow': 'first'})\n",
    "    fill_missing(parc_df)\n",
    "    ts = TimeSeries.from_dataframe(parc_df,  value_cols='occupied', freq='30min')\n",
    "    ts_scaled = Scaler().fit_transform(ts)\n",
    "\n",
    "    split = int(len(ts_scaled) * (1 - split_ratio))\n",
    "\n",
    "    train, val = ts_scaled[:-split], ts_scaled[-split:]\n",
    "    train_sets.append(train)\n",
    "    val_sets.append(val)\n",
    "    \n",
    "train_sets[0].plot(label='train')"
   ]
  },
  {
   "cell_type": "code",
   "execution_count": 5,
   "id": "59bf880a-7d42-471b-955f-0a9219ea87b7",
   "metadata": {},
   "outputs": [
    {
     "name": "stderr",
     "output_type": "stream",
     "text": [
      "The `LightGBM` module could not be imported. To enable LightGBM support in Darts, follow the detailed instructions in the installation guide: https://github.com/unit8co/darts/blob/master/INSTALL.md\n",
      "The `Prophet` module could not be imported. To enable Prophet support in Darts, follow the detailed instructions in the installation guide: https://github.com/unit8co/darts/blob/master/INSTALL.md\n",
      "The `CatBoost` module could not be imported. To enable CatBoost support in Darts, follow the detailed instructions in the installation guide: https://github.com/unit8co/darts/blob/master/INSTALL.md\n",
      "GPU available: False, used: False\n",
      "TPU available: False, using: 0 TPU cores\n",
      "HPU available: False, using: 0 HPUs\n",
      "\n",
      "  | Name          | Type             | Params | Mode \n",
      "-----------------------------------------------------------\n",
      "0 | criterion     | MSELoss          | 0      | train\n",
      "1 | train_metrics | MetricCollection | 0      | train\n",
      "2 | val_metrics   | MetricCollection | 0      | train\n",
      "3 | stacks        | ModuleList       | 6.2 M  | train\n",
      "-----------------------------------------------------------\n",
      "6.2 M     Trainable params\n",
      "1.4 K     Non-trainable params\n",
      "6.2 M     Total params\n",
      "24.787    Total estimated model params size (MB)\n"
     ]
    },
    {
     "data": {
      "application/vnd.jupyter.widget-view+json": {
       "model_id": "91c13267feb0487995ec0d9ec39a61d2",
       "version_major": 2,
       "version_minor": 0
      },
      "text/plain": [
       "Training: |          | 0/? [00:00<?, ?it/s]"
      ]
     },
     "metadata": {},
     "output_type": "display_data"
    },
    {
     "name": "stderr",
     "output_type": "stream",
     "text": [
      "`Trainer.fit` stopped: `max_epochs=1` reached.\n"
     ]
    },
    {
     "data": {
      "text/plain": [
       "NBEATSModel(generic_architecture=True, num_stacks=30, num_blocks=1, num_layers=4, layer_widths=256, expansion_coefficient_dim=5, trend_polynomial_degree=2, dropout=0.0, activation=ReLU, input_chunk_length=24, output_chunk_length=12, n_epochs=1, random_state=0)"
      ]
     },
     "execution_count": 5,
     "metadata": {},
     "output_type": "execute_result"
    }
   ],
   "source": [
    "from darts.models import NBEATSModel\n",
    "\n",
    "multimodel =  NBEATSModel(\n",
    "        input_chunk_length=24,\n",
    "        output_chunk_length=12,\n",
    "        n_epochs=1,\n",
    "        random_state=0\n",
    "    )\n",
    "\n",
    "multimodel.fit(train_sets)"
   ]
  },
  {
   "cell_type": "code",
   "execution_count": 6,
   "id": "4d3d7379-828c-43f9-8988-47bb3807b6aa",
   "metadata": {},
   "outputs": [
    {
     "name": "stderr",
     "output_type": "stream",
     "text": [
      "GPU available: False, used: False\n",
      "TPU available: False, using: 0 TPU cores\n",
      "HPU available: False, using: 0 HPUs\n"
     ]
    },
    {
     "data": {
      "application/vnd.jupyter.widget-view+json": {
       "model_id": "cf5a437762f74b828bca8adb301b3a4d",
       "version_major": 2,
       "version_minor": 0
      },
      "text/plain": [
       "Predicting: |          | 0/? [00:00<?, ?it/s]"
      ]
     },
     "metadata": {},
     "output_type": "display_data"
    },
    {
     "data": {
      "text/plain": [
       "<Axes: xlabel='date_time_slice'>"
      ]
     },
     "execution_count": 6,
     "metadata": {},
     "output_type": "execute_result"
    },
    {
     "data": {
      "image/png": "[encoded data removed]",
      "text/plain": [
       "<Figure size 1000x600 with 1 Axes>"
      ]
     },
     "metadata": {},
     "output_type": "display_data"
    }
   ],
   "source": [
    "import matplotlib.pyplot as plt\n",
    "\n",
    "pred = multimodel.predict(n=24, series=train_sets[0][:-24])\n",
    "\n",
    "plt.figure(figsize=(10, 6))\n",
    "train_sets[0].plot(label=\"actual\")\n",
    "pred.plot(label=\"forecast\")"
   ]
  },
  {
   "cell_type": "code",
   "execution_count": 7,
   "id": "504a0f32-a612-4ef9-9c10-1af84a319b15",
   "metadata": {},
   "outputs": [
    {
     "data": {
      "text/plain": [
       "{'mape': 49.32425052357362,\n",
       " 'smape': 36.85724142338202,\n",
       " 'mae': 0.06279265622065518}"
      ]
     },
     "execution_count": 7,
     "metadata": {},
     "output_type": "execute_result"
    }
   ],
   "source": [
    "from darts.metrics import mape, smape, mae\n",
    "\n",
    "metrics = {\n",
    "    \"mape\": mape(train_sets[0], pred),\n",
    "    \"smape\": smape(train_sets[0], pred),\n",
    "    \"mae\": mae(train_sets[0], pred)\n",
    "}\n",
    "metrics"
   ]
  },
  {
   "cell_type": "markdown",
   "id": "24a1806b-30b7-4586-914a-59ff0d1b4cf2",
   "metadata": {},
   "source": [
    "## 2. ML Ops\n",
    "With the help of the platform, we will create the training function, train a parking occupation prediction model, and deploy it to the cluster as an inference API."
   ]
  },
  {
   "cell_type": "markdown",
   "id": "95a716dd-a707-4edd-9a2b-c1be40a214ae",
   "metadata": {},
   "source": [
    "### 2.1. Initalization\n",
    "Create the working context: data management project for the parking data processing. Project is a placeholder for the code, data, and management of the parking data operations. "
   ]
  },
  {
   "cell_type": "code",
   "execution_count": 8,
   "id": "17ac742b-1986-4ef5-9a37-59a57f839e17",
   "metadata": {},
   "outputs": [],
   "source": [
    "import digitalhub as dh\n",
    "\n",
    "ml_proj = dh.get_or_create_project(\"parcheggi-demo\")"
   ]
  },
  {
   "cell_type": "markdown",
   "id": "3091a46b-246d-4c1f-8054-4d0c601aaccf",
   "metadata": {},
   "source": [
    "### 2.2. ML training function\n",
    "We convert the ML operations into a function - single executable operation that can be executed in the platform."
   ]
  },
  {
   "cell_type": "code",
   "execution_count": 9,
   "id": "be58a753-d830-45e1-81a4-9bff2f4c7f81",
   "metadata": {},
   "outputs": [
    {
     "name": "stdout",
     "output_type": "stream",
     "text": [
      "Writing train_multimodel.py\n"
     ]
    }
   ],
   "source": [
    "%%writefile \"train_multimodel.py\"\n",
    "\n",
    "import pandas as pd\n",
    "from digitalhub_runtime_python import handler\n",
    "from darts import TimeSeries\n",
    "\n",
    "from darts.models import NBEATSModel\n",
    "from darts.metrics import mape, smape, mae\n",
    "from darts.dataprocessing.transformers import Scaler\n",
    "from zipfile import ZipFile\n",
    "\n",
    "import logging\n",
    "logging.disable(logging.CRITICAL)\n",
    "\n",
    "import warnings\n",
    "warnings.filterwarnings(\"ignore\")\n",
    "\n",
    "import datetime\n",
    "\n",
    "import pandas as pd\n",
    "import datetime\n",
    "\n",
    "from pickle import dumps\n",
    "\n",
    "def fill_missing(parc_df):\n",
    "    missing = []  # List to store timestamps for which values could not be filled\n",
    "    temp = pd.Series(parc_df.index.date).value_counts()  # Count the occurrences of each date\n",
    "    temp = temp[temp < 48]  # Filter dates with less than 48 occurrences\n",
    "    temp.sort_index(inplace=True)  # Sort the dates in ascending order\n",
    "    for t in temp.index:  # Iterate through the filtered dates\n",
    "        for h in range(24):  # Iterate through 24 hours\n",
    "            for half_hour in [0, 30]:  # Iterate through 0 and 30 minutes\n",
    "                ts = datetime.datetime(t.year, t.month, t.day, h, half_hour)  # Create a timestamp\n",
    "                if ts not in parc_df.index:  # If the timestamp is missing in the DataFrame\n",
    "                    if ts - datetime.timedelta(days=7) in parc_df.index:  # Check if the previous week's timestamp is available\n",
    "                        parc_df.loc[ts] = parc_df.loc[ts - datetime.timedelta(days=7)].copy()  # Copy values from the previous week\n",
    "                    elif ts + datetime.timedelta(days=7) in parc_df.index:  # Check if the next week's timestamp is available\n",
    "                        parc_df.loc[ts] = parc_df.loc[ts + datetime.timedelta(days=7)].copy()  # Copy values from the next week\n",
    "                    else:\n",
    "                        missing.append(ts)  # If values cannot be filled, add the timestamp to the missing list\n",
    "    return missing  # Return the list of timestamps for which values could not be filled\n",
    "\n",
    "\n",
    "@handler()\n",
    "def train_model(project, parkings_di,n_epochs: int = 1, window: int = 60, \n",
    "                input_chunk_length: int = 24, output_chunk_length: int = 12, \n",
    "                split_ratio: float = 0.8):\n",
    "\n",
    "    # Load the input data\n",
    "    df_source = parkings_di.as_df()\n",
    "    # Clean the data\n",
    "    df_clean = df_source.copy()\n",
    "    df_clean.data = pd.to_datetime(df_clean.data, utc=True)\n",
    "    df_clean['occupied'] = df_clean.posti_occupati / df_clean.posti_totali\n",
    "    df_clean['date_time_slice'] = df_clean.data.dt.round('30min').dt.tz_convert(None)\n",
    "    df_clean = df_clean[df_clean.date_time_slice >= (datetime.datetime.today() - pd.DateOffset(window))]\n",
    "    df_clean = df_clean[df_clean.date_time_slice <= (datetime.datetime.today() - pd.DateOffset(1))]\n",
    "    df_clean.posti_occupati = df_clean.apply(lambda x: max(0, min(x['posti_totali'], x['posti_occupati'])), axis=1)\n",
    "    df_clean['occupied'] = df_clean.posti_occupati / df_clean.posti_totali\n",
    "    df_clean = df_clean.drop(columns=['lat', 'lon', 'data', 'posti_totali', 'posti_liberi', 'posti_occupati'])\n",
    "    #parcheggi = df_clean['parcheggio'].unique()\n",
    "    parcheggi = ['Riva Reno' ,'VIII Agosto']\n",
    "    \n",
    "    train_sets, val_sets = [], []\n",
    "\n",
    "    # Process data for each parking lot\n",
    "    for parcheggio in parcheggi:\n",
    "        parc_df = df_clean[df_clean['parcheggio'] == parcheggio]\n",
    "        parc_df['hour'] = parc_df.date_time_slice.dt.hour\n",
    "        parc_df['dow'] = parc_df.date_time_slice.dt.dayofweek\n",
    "        parc_df = parc_df.drop(columns=['parcheggio'])\n",
    "        parc_df = parc_df.groupby('date_time_slice').agg({'occupied': 'mean', 'hour': 'first', 'dow': 'first'})\n",
    "        fill_missing(parc_df)\n",
    "        ts = TimeSeries.from_dataframe(parc_df,  value_cols='occupied', freq='30min')\n",
    "        ts_scaled = Scaler().fit_transform(ts)\n",
    "        \n",
    "        split = int(len(ts_scaled) * (1 - split_ratio))\n",
    "\n",
    "        # Split data into training and validation sets\n",
    "        train, val = ts_scaled[:-split], ts_scaled[-split:]\n",
    "        train_sets.append(train)\n",
    "        val_sets.append(val)\n",
    "\n",
    "    # Train a multi-model using the NBEATS algorithm\n",
    "    multimodel =  NBEATSModel(\n",
    "        input_chunk_length=input_chunk_length,\n",
    "        output_chunk_length=output_chunk_length,\n",
    "        n_epochs=n_epochs,\n",
    "        random_state=0\n",
    "    )\n",
    "\n",
    "    # Fit the model to the training sets\n",
    "    multimodel.fit(train_sets)\n",
    "    pred = multimodel.predict(n=output_chunk_length*2, series=train_sets[0][:-output_chunk_length*2])\n",
    "\n",
    "    multimodel.save(\"parcheggi_predictor_model.pt\")\n",
    "    with ZipFile(\"parcheggi_predictor_model.pt.zip\", \"w\") as z:\n",
    "        z.write(\"parcheggi_predictor_model.pt\")\n",
    "        z.write(\"parcheggi_predictor_model.pt.ckpt\")\n",
    "    metrics = {\n",
    "        \"mape\": mape(train_sets[0], pred),\n",
    "        \"smape\": smape(train_sets[0], pred),\n",
    "        \"mae\": mae(train_sets[0], pred)\n",
    "    }\n",
    "\n",
    "    project.log_model(\n",
    "        name=\"modello_parcheggi\", \n",
    "        kind=\"model\", \n",
    "        source_path=\"parcheggi_predictor_model.pt.zip\", \n",
    "        algorithm=\"darts.models.NBEATSModel\",\n",
    "        framework=\"darts\",\n",
    "        metrics=metrics\n",
    "    )\n"
   ]
  },
  {
   "cell_type": "code",
   "execution_count": 10,
   "id": "e30c8506-e4e8-48f1-9095-5c770094b295",
   "metadata": {},
   "outputs": [],
   "source": [
    "func = ml_proj.new_function(name=\"training_model\",\n",
    "                         kind=\"python\",\n",
    "                         python_version=\"PYTHON3_9\",\n",
    "                         source={\"source\": \"train_multimodel.py\", \"handler\": \"train_model\"})"
   ]
  },
  {
   "cell_type": "code",
   "execution_count": 11,
   "id": "7306fe2f-ae61-4724-9ac2-f0214da89329",
   "metadata": {
    "collapsed": true,
    "jupyter": {
     "outputs_hidden": true
    },
    "tags": []
   },
   "outputs": [
    {
     "data": {
      "text/plain": [
       "{'project': 'parcheggi-demo', 'id': '15eedf8a-b0fe-4268-bec8-5fef2d7f4bff', 'kind': 'python+run', 'key': 'store://parcheggi-demo/runs/python+run/15eedf8a-b0fe-4268-bec8-5fef2d7f4bff', 'metadata': {'project': 'parcheggi-demo', 'name': '15eedf8a-b0fe-4268-bec8-5fef2d7f4bff', 'created': '2024-08-06T11:38:42.48Z', 'updated': '2024-08-06T11:38:42.494Z', 'created_by': 'tenant1userid', 'updated_by': 'tenant1userid'}, 'spec': {'task': 'python+build://parcheggi-demo/training_model:5b7f80fe-7b12-419d-b056-034c90d91fdb', 'local_execution': False, 'source': {'source': 'train_multimodel.py', 'handler': 'train_model', 'base64': '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', 'lang': 'python'}, 'python_version': 'PYTHON3_9', 'function': 'python://parcheggi-demo/training_model:5b7f80fe-7b12-419d-b056-034c90d91fdb', 'instructions': ['pip3 install torch torchvision torchaudio --index-url https://download.pytorch.org/whl/cpu', 'pip3 install darts==0.25.0 pandas==1.4.4 numpy==1.22.4 patsy==0.5.2 scikit-learn==1.1.2'], 'inputs': {}, 'outputs': {}, 'parameters': {}}, 'status': {'state': 'READY'}, 'user': 'tenant1userid'}"
      ]
     },
     "execution_count": 11,
     "metadata": {},
     "output_type": "execute_result"
    }
   ],
   "source": [
    "func.run(action=\"build\", instructions=[\"pip3 install torch torchvision torchaudio --index-url https://download.pytorch.org/whl/cpu\",\"pip3 install darts==0.25.0 pandas==1.4.4 numpy==1.22.4 patsy==0.5.2 scikit-learn==1.1.2\"])"
   ]
  },
  {
   "cell_type": "markdown",
   "id": "942c97a9-0d85-4450-93ce-29f9407f77ae",
   "metadata": {},
   "source": [
    "### 2.3. Train model\n",
    "Execute train model function. As a result, the function produces a ML model that is uploaded to the platform storage, versioned, and enriched with metadata (e.g., metrics)."
   ]
  },
  {
   "cell_type": "code",
   "execution_count": 12,
   "id": "cc5b263c-c3ac-4ac1-8a76-186d88aeb7ab",
   "metadata": {
    "tags": []
   },
   "outputs": [],
   "source": [
    "data_item_download = di.key\n",
    "train_run = func.run(action=\"job\", inputs={\"parkings_di\":data_item_download}, parameters={\"n_epochs\": 50})"
   ]
  },
  {
   "cell_type": "markdown",
   "id": "0a03ac5d-680c-4c36-987a-43a6dbfce803",
   "metadata": {},
   "source": [
    "### 2.4. Deploy Model\n",
    "Next, we deploy the model in the serving function. Given that the interaction does not correspond to a standard MLRun model server, we will deploy the function as a custom server. See the implementation of ``serve_multimodel.py`` for more details. \n",
    "\n",
    "For this, we add the model to the serving function in the initialization method."
   ]
  },
  {
   "cell_type": "code",
   "execution_count": 13,
   "id": "dcf0a94f-a72c-4140-9dd2-266d01638c1b",
   "metadata": {},
   "outputs": [
    {
     "name": "stdout",
     "output_type": "stream",
     "text": [
      "Overwriting serve_multimodel.py\n"
     ]
    }
   ],
   "source": [
    "%%writefile \"serve_multimodel.py\"\n",
    "\n",
    "from darts.models import NBEATSModel\n",
    "from zipfile import ZipFile\n",
    "from darts import TimeSeries\n",
    "import json\n",
    "import pandas as pd\n",
    "\n",
    "def init(context):\n",
    "    # Qua ti setti il nome del modello che vuoi caricare\n",
    "    model_name = \"modello_parcheggi\"\n",
    "\n",
    "    # prendi l'entity model sulla base del nome\n",
    "    model = context.project.get_model(model_name)\n",
    "    path = model.download()\n",
    "    local_path_model = \"extracted_model/\"\n",
    "    # Qua fai unzip immagino\n",
    "    with ZipFile(path, 'r') as zip_ref:\n",
    "        zip_ref.extractall(local_path_model)\n",
    "    \n",
    "    # codice che carica il modello\n",
    "    input_chunk_length = 24\n",
    "    output_chunk_length = 12\n",
    "    name_model_local = local_path_model +\"parcheggi_predictor_model.pt\"\n",
    "    mm = NBEATSModel(\n",
    "            input_chunk_length,\n",
    "            output_chunk_length\n",
    "    ).load(name_model_local)\n",
    "\n",
    "    # settare model nel context di nuclio (non su project che è il context nostro)\n",
    "    # context.setattr(\"model\", mm)\n",
    "    setattr(context, \"model\", mm)\n",
    "\n",
    "def serve(context, event):\n",
    "\n",
    "    # Sostanzialmente invochiamo la funzione con una chiamata REST\n",
    "    # Nel body della richiesta mandi l'inference input\n",
    "    \n",
    "    if isinstance(event.body, bytes):\n",
    "        body = json.loads(event.body)\n",
    "    else:\n",
    "        body = event.body\n",
    "    context.logger.info(f\"Received event: {body}\")\n",
    "    inference_input = body[\"inference_input\"]\n",
    "    \n",
    "    pdf = pd.DataFrame(inference_input)\n",
    "    pdf['date'] = pd.to_datetime(pdf['date'], unit='ms')\n",
    "\n",
    "    ts = TimeSeries.from_dataframe(\n",
    "        pdf,\n",
    "        time_col=\"date\",\n",
    "        value_cols=\"value\",\n",
    "        freq=\"30min\"\n",
    "    )\n",
    "    \n",
    "    output_chunk_length = 12\n",
    "    result = context.model.predict(n=output_chunk_length*2, series=ts)\n",
    "    # Convert the result to a pandas DataFrame, reset the index, and convert to a list\n",
    "    jsonstr = result.pd_dataframe().reset_index().to_json(orient='records')\n",
    "    return json.loads(jsonstr)"
   ]
  },
  {
   "cell_type": "code",
   "execution_count": 14,
   "id": "c50a047f-2f31-4019-a23a-29527692602e",
   "metadata": {},
   "outputs": [],
   "source": [
    "func = ml_proj.new_function(name=\"serve_model\",\n",
    "                            kind=\"python\",\n",
    "                            python_version=\"PYTHON3_9\",\n",
    "                            base_image = \"python:3.9\",\n",
    "                            source={\n",
    "                                 \"source\": \"serve_multimodel.py\",\n",
    "                                 \"handler\": \"serve\",\n",
    "                                 \"init_function\": \"init\"})"
   ]
  },
  {
   "cell_type": "code",
   "execution_count": 15,
   "id": "971c6d99-8ee4-42fb-8611-1513d2186a91",
   "metadata": {},
   "outputs": [],
   "source": [
    "run_build_model_serve = func.run(action=\"build\",instructions=[\"pip3 install torch torchvision torchaudio --index-url https://download.pytorch.org/whl/cpu\",\"pip3 install darts==0.25.0 pandas==1.4.4 numpy==1.22.4 patsy==0.5.2 scikit-learn==1.1.2\"])"
   ]
  },
  {
   "cell_type": "markdown",
   "id": "08b322f8-1269-46eb-908a-69994c0827d3",
   "metadata": {},
   "source": [
    "Let us wait till the build is finished and then expose the function as a service. For this, we need to run the ``serve`` action on the function."
   ]
  },
  {
   "cell_type": "code",
   "execution_count": 16,
   "id": "9e0ea7bb-f548-4192-b80f-cf453b2076ed",
   "metadata": {},
   "outputs": [],
   "source": [
    "run_serve_model = func.run(action=\"serve\")"
   ]
  },
  {
   "cell_type": "markdown",
   "id": "e3b31482-fbb7-49ab-883a-d47d8431f59d",
   "metadata": {},
   "source": [
    "### Test the API\n",
    "\n",
    "Once deployed, we can test the API. Let us test the latest data taken from the OpenData API. We take the latest data regarding the Riva Reno parking and convert it into the format expected by the API: list of dates and values representing the occupation of the parking (percentage).\n"
   ]
  },
  {
   "cell_type": "code",
   "execution_count": 17,
   "id": "3e66c459-1507-4dc3-8a28-fe94b2e24605",
   "metadata": {},
   "outputs": [
    {
     "data": {
      "text/plain": [
       "[{'date': 1722884400000, 'value': 0.2212765957},\n",
       " {'date': 1722886200000, 'value': 0.2156028369},\n",
       " {'date': 1722888000000, 'value': 0.2141843972},\n",
       " {'date': 1722889800000, 'value': 0.2113475177},\n",
       " {'date': 1722891600000, 'value': 0.204964539},\n",
       " {'date': 1722893400000, 'value': 0.204964539},\n",
       " {'date': 1722895200000, 'value': 0.204964539},\n",
       " {'date': 1722897000000, 'value': 0.2028368794},\n",
       " {'date': 1722898800000, 'value': 0.2},\n",
       " {'date': 1722900600000, 'value': 0.1971631206},\n",
       " {'date': 1722902400000, 'value': 0.1936170213},\n",
       " {'date': 1722904200000, 'value': 0.1921985816},\n",
       " {'date': 1722906000000, 'value': 0.1921985816},\n",
       " {'date': 1722907800000, 'value': 0.190070922},\n",
       " {'date': 1722909600000, 'value': 0.1893617021},\n",
       " {'date': 1722911400000, 'value': 0.1893617021},\n",
       " {'date': 1722913200000, 'value': 0.1893617021},\n",
       " {'date': 1722915000000, 'value': 0.1893617021},\n",
       " {'date': 1722916800000, 'value': 0.1893617021},\n",
       " {'date': 1722918600000, 'value': 0.1893617021},\n",
       " {'date': 1722920400000, 'value': 0.1893617021},\n",
       " {'date': 1722922200000, 'value': 0.1893617021},\n",
       " {'date': 1722924000000, 'value': 0.1893617021},\n",
       " {'date': 1722925800000, 'value': 0.1879432624},\n",
       " {'date': 1722927600000, 'value': 0.1879432624},\n",
       " {'date': 1722929400000, 'value': 0.1914893617},\n",
       " {'date': 1722931200000, 'value': 0.1957446809},\n",
       " {'date': 1722933000000, 'value': 0.2007092199},\n",
       " {'date': 1722934800000, 'value': 0.2070921986},\n",
       " {'date': 1722936600000, 'value': 0.2212765957},\n",
       " {'date': 1722938400000, 'value': 0.2319148936},\n",
       " {'date': 1722940200000, 'value': 0.2361702128},\n",
       " {'date': 1722942000000, 'value': 0.2468085106},\n",
       " {'date': 1722943800000, 'value': 0.2468085106},\n",
       " {'date': 1722945600000, 'value': 0.2468085106}]"
      ]
     },
     "execution_count": 17,
     "metadata": {},
     "output_type": "execute_result"
    }
   ],
   "source": [
    "import datetime \n",
    "import requests\n",
    "import json\n",
    "\n",
    "date_str = datetime.datetime.now().strftime('%Y-%m-%dT%H:%M:%S')\n",
    "parking_str='Riva Reno'\n",
    "API_URL = f'https://opendata.comune.bologna.it/api/explore/v2.1/catalog/datasets/disponibilita-parcheggi-storico/records?where=data%3C%3D%27{date_str}%27%20and%20parcheggio%3D%27{parking_str}%27&order_by=data%20DESC&limit=100'\n",
    "\n",
    "latest_data_file = 'last_records.json'\n",
    "\n",
    "with requests.get(API_URL) as r:\n",
    "    with open(latest_data_file, \"wb\") as f:\n",
    "        f.write(r.content)\n",
    "\n",
    "with open(latest_data_file) as f:\n",
    "    json_data = json.load(f)\n",
    "    df_latest = pd.json_normalize(json_data['results']).drop(columns=['guid', 'occupazione']).rename(columns={\"coordinate.lon\": \"lon\", \"coordinate.lat\": \"lat\"})\n",
    "    df_latest.data = df_latest.data.astype('datetime64')\n",
    "    df_latest['value'] = df_latest.posti_occupati / df_latest.posti_totali\n",
    "    df_latest['date'] = df_latest.data.dt.round('30min')\n",
    "    df_latest = df_latest.drop(columns=['parcheggio'])\n",
    "    df_latest = df_latest.groupby('date').agg({'value': 'mean'})\n",
    "\n",
    "\n",
    "jsonstr = df_latest.reset_index().to_json(orient='records')\n",
    "arr = json.loads(jsonstr)\n",
    "arr"
   ]
  },
  {
   "cell_type": "code",
   "execution_count": 18,
   "id": "31e2c5fb-8730-45e1-9204-f645fbbb2c1c",
   "metadata": {},
   "outputs": [
    {
     "name": "stdout",
     "output_type": "stream",
     "text": [
      "b'[{\"date\": 1722947400000, \"value\": 0.2569619106}, {\"date\": 1722949200000, \"value\": 0.2690154861}, {\"date\": 1722951000000, \"value\": 0.2429872122}, {\"date\": 1722952800000, \"value\": 0.2170893603}, {\"date\": 1722954600000, \"value\": 0.2014962612}, {\"date\": 1722956400000, \"value\": 0.2108028826}, {\"date\": 1722958200000, \"value\": 0.1898471038}, {\"date\": 1722960000000, \"value\": 0.1600334968}, {\"date\": 1722961800000, \"value\": 0.2070903138}, {\"date\": 1722963600000, \"value\": 0.1602838456}, {\"date\": 1722965400000, \"value\": 0.1795623165}, {\"date\": 1722967200000, \"value\": 0.1552370516}, {\"date\": 1722969000000, \"value\": 0.1820815608}, {\"date\": 1722970800000, \"value\": 0.1856707805}, {\"date\": 1722972600000, \"value\": 0.1644394259}, {\"date\": 1722974400000, \"value\": 0.1519836381}, {\"date\": 1722976200000, \"value\": 0.1326024841}, {\"date\": 1722978000000, \"value\": 0.1395891558}, {\"date\": 1722979800000, \"value\": 0.1263856761}, {\"date\": 1722981600000, \"value\": 0.1186660597}, {\"date\": 1722983400000, \"value\": 0.1423952925}, {\"date\": 1722985200000, \"value\": 0.1112347307}, {\"date\": 1722987000000, \"value\": 0.1291038077}, {\"date\": 1722988800000, \"value\": 0.111101364}]'\n"
     ]
    }
   ],
   "source": [
    "run_serve_model.refresh()\n",
    "SERVICE_URL = run_serve_model.status.to_dict()[\"service\"][\"url\"]\n",
    "\n",
    "with requests.post(f'http://{SERVICE_URL}', json={\"inference_input\":arr}) as r:\n",
    "    res = r.content\n",
    "print(res)"
   ]
  }
 ],
 "metadata": {
  "kernelspec": {
   "display_name": "Python 3 (ipykernel)",
   "language": "python",
   "name": "python3"
  },
  "language_info": {
   "codemirror_mode": {
    "name": "ipython",
    "version": 3
   },
   "file_extension": ".py",
   "mimetype": "text/x-python",
   "name": "python",
   "nbconvert_exporter": "python",
   "pygments_lexer": "ipython3",
   "version": "3.10.11"
  }
 },
 "nbformat": 4,
 "nbformat_minor": 5
}
