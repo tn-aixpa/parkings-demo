{
 "cells": [
  {
   "cell_type": "code",
   "execution_count": 1,
   "id": "7b412acf-4fb7-4c24-86ad-28526e6c17ac",
   "metadata": {},
   "outputs": [],
   "source": [
    "import pandas as pd\n",
    "import requests\n",
    "import os\n",
    "import json\n",
    "from pathlib import Path"
   ]
  },
  {
   "cell_type": "markdown",
   "id": "5580a0e9-3371-4465-af75-ec41d253b6e8",
   "metadata": {},
   "source": [
    " # Load data into a pandas dataframe."
   ]
  },
  {
   "cell_type": "code",
   "execution_count": 2,
   "id": "654791c3-27be-4a79-bb04-d60f8a105005",
   "metadata": {},
   "outputs": [
    {
     "data": {
      "text/html": [
       "<div>\n",
       "<style scoped>\n",
       "    .dataframe tbody tr th:only-of-type {\n",
       "        vertical-align: middle;\n",
       "    }\n",
       "\n",
       "    .dataframe tbody tr th {\n",
       "        vertical-align: top;\n",
       "    }\n",
       "\n",
       "    .dataframe thead th {\n",
       "        text-align: right;\n",
       "    }\n",
       "</style>\n",
       "<table border=\"1\" class=\"dataframe\">\n",
       "  <thead>\n",
       "    <tr style=\"text-align: right;\">\n",
       "      <th></th>\n",
       "      <th>parcheggio</th>\n",
       "      <th>data</th>\n",
       "      <th>posti_liberi</th>\n",
       "      <th>posti_occupati</th>\n",
       "      <th>posti_totali</th>\n",
       "      <th>lat</th>\n",
       "      <th>lon</th>\n",
       "    </tr>\n",
       "  </thead>\n",
       "  <tbody>\n",
       "    <tr>\n",
       "      <th>0</th>\n",
       "      <td>Riva Reno</td>\n",
       "      <td>2024-07-29T06:59:00+00:00</td>\n",
       "      <td>391.0</td>\n",
       "      <td>79.0</td>\n",
       "      <td>470</td>\n",
       "      <td>44.501153</td>\n",
       "      <td>11.336062</td>\n",
       "    </tr>\n",
       "    <tr>\n",
       "      <th>1</th>\n",
       "      <td>Riva Reno</td>\n",
       "      <td>2024-07-29T07:09:00+00:00</td>\n",
       "      <td>391.0</td>\n",
       "      <td>79.0</td>\n",
       "      <td>470</td>\n",
       "      <td>44.501153</td>\n",
       "      <td>11.336062</td>\n",
       "    </tr>\n",
       "    <tr>\n",
       "      <th>2</th>\n",
       "      <td>Riva Reno</td>\n",
       "      <td>2024-07-29T07:29:00+00:00</td>\n",
       "      <td>391.0</td>\n",
       "      <td>79.0</td>\n",
       "      <td>470</td>\n",
       "      <td>44.501153</td>\n",
       "      <td>11.336062</td>\n",
       "    </tr>\n",
       "    <tr>\n",
       "      <th>3</th>\n",
       "      <td>Riva Reno</td>\n",
       "      <td>2024-07-29T08:09:00+00:00</td>\n",
       "      <td>386.0</td>\n",
       "      <td>84.0</td>\n",
       "      <td>470</td>\n",
       "      <td>44.501153</td>\n",
       "      <td>11.336062</td>\n",
       "    </tr>\n",
       "    <tr>\n",
       "      <th>4</th>\n",
       "      <td>VIII Agosto</td>\n",
       "      <td>2024-07-29T08:29:00+00:00</td>\n",
       "      <td>418.0</td>\n",
       "      <td>207.0</td>\n",
       "      <td>625</td>\n",
       "      <td>44.500297</td>\n",
       "      <td>11.345368</td>\n",
       "    </tr>\n",
       "    <tr>\n",
       "      <th>...</th>\n",
       "      <td>...</td>\n",
       "      <td>...</td>\n",
       "      <td>...</td>\n",
       "      <td>...</td>\n",
       "      <td>...</td>\n",
       "      <td>...</td>\n",
       "      <td>...</td>\n",
       "    </tr>\n",
       "    <tr>\n",
       "      <th>39098</th>\n",
       "      <td>Autostazione</td>\n",
       "      <td>2024-08-30T13:19:00+00:00</td>\n",
       "      <td>133.0</td>\n",
       "      <td>132.0</td>\n",
       "      <td>265</td>\n",
       "      <td>44.504422</td>\n",
       "      <td>11.346514</td>\n",
       "    </tr>\n",
       "    <tr>\n",
       "      <th>39099</th>\n",
       "      <td>Riva Reno</td>\n",
       "      <td>2024-08-30T13:29:00+00:00</td>\n",
       "      <td>326.0</td>\n",
       "      <td>144.0</td>\n",
       "      <td>470</td>\n",
       "      <td>44.501153</td>\n",
       "      <td>11.336062</td>\n",
       "    </tr>\n",
       "    <tr>\n",
       "      <th>39100</th>\n",
       "      <td>VIII Agosto</td>\n",
       "      <td>2024-08-30T13:39:00+00:00</td>\n",
       "      <td>248.0</td>\n",
       "      <td>377.0</td>\n",
       "      <td>625</td>\n",
       "      <td>44.500297</td>\n",
       "      <td>11.345368</td>\n",
       "    </tr>\n",
       "    <tr>\n",
       "      <th>39101</th>\n",
       "      <td>Riva Reno</td>\n",
       "      <td>2024-08-30T13:39:00+00:00</td>\n",
       "      <td>326.0</td>\n",
       "      <td>144.0</td>\n",
       "      <td>470</td>\n",
       "      <td>44.501153</td>\n",
       "      <td>11.336062</td>\n",
       "    </tr>\n",
       "    <tr>\n",
       "      <th>39102</th>\n",
       "      <td>Autostazione</td>\n",
       "      <td>2024-08-30T13:39:00+00:00</td>\n",
       "      <td>138.0</td>\n",
       "      <td>127.0</td>\n",
       "      <td>265</td>\n",
       "      <td>44.504422</td>\n",
       "      <td>11.346514</td>\n",
       "    </tr>\n",
       "  </tbody>\n",
       "</table>\n",
       "<p>39103 rows × 7 columns</p>\n",
       "</div>"
      ],
      "text/plain": [
       "         parcheggio                       data  posti_liberi  posti_occupati  \\\n",
       "0         Riva Reno  2024-07-29T06:59:00+00:00         391.0            79.0   \n",
       "1         Riva Reno  2024-07-29T07:09:00+00:00         391.0            79.0   \n",
       "2         Riva Reno  2024-07-29T07:29:00+00:00         391.0            79.0   \n",
       "3         Riva Reno  2024-07-29T08:09:00+00:00         386.0            84.0   \n",
       "4       VIII Agosto  2024-07-29T08:29:00+00:00         418.0           207.0   \n",
       "...             ...                        ...           ...             ...   \n",
       "39098  Autostazione  2024-08-30T13:19:00+00:00         133.0           132.0   \n",
       "39099     Riva Reno  2024-08-30T13:29:00+00:00         326.0           144.0   \n",
       "39100   VIII Agosto  2024-08-30T13:39:00+00:00         248.0           377.0   \n",
       "39101     Riva Reno  2024-08-30T13:39:00+00:00         326.0           144.0   \n",
       "39102  Autostazione  2024-08-30T13:39:00+00:00         138.0           127.0   \n",
       "\n",
       "       posti_totali        lat        lon  \n",
       "0               470  44.501153  11.336062  \n",
       "1               470  44.501153  11.336062  \n",
       "2               470  44.501153  11.336062  \n",
       "3               470  44.501153  11.336062  \n",
       "4               625  44.500297  11.345368  \n",
       "...             ...        ...        ...  \n",
       "39098           265  44.504422  11.346514  \n",
       "39099           470  44.501153  11.336062  \n",
       "39100           625  44.500297  11.345368  \n",
       "39101           470  44.501153  11.336062  \n",
       "39102           265  44.504422  11.346514  \n",
       "\n",
       "[39103 rows x 7 columns]"
      ]
     },
     "execution_count": 2,
     "metadata": {},
     "output_type": "execute_result"
    }
   ],
   "source": [
    "URL = \"https://opendata.comune.bologna.it/api/explore/v2.1/catalog/datasets/disponibilita-parcheggi-storico/exports/csv?lang=it&timezone=UTC&use_labels=true&delimiter=%3B\"\n",
    "df = pd.read_csv(URL, sep=\";\")\n",
    "df[['lat', 'lon']] = df['coordinate'].str.split(', ',expand=True)\n",
    "df = df.drop(columns=['% occupazione', 'GUID', 'coordinate']).rename(columns={'Parcheggio': 'parcheggio', 'Data': 'data', 'Posti liberi': 'posti_liberi', 'Posti occupati': 'posti_occupati', 'Posti totali': 'posti_totali'})\n",
    "df"
   ]
  },
  {
   "cell_type": "markdown",
   "id": "845efa5f-dde8-40e1-9889-d68a9362358d",
   "metadata": {},
   "source": [
    "# Extract parkings\n",
    "Extract distinct parkings from the dataframe."
   ]
  },
  {
   "cell_type": "code",
   "execution_count": 3,
   "id": "47161c7e-dfd9-4723-8083-547b215b73b3",
   "metadata": {},
   "outputs": [
    {
     "data": {
      "text/html": [
       "<div>\n",
       "<style scoped>\n",
       "    .dataframe tbody tr th:only-of-type {\n",
       "        vertical-align: middle;\n",
       "    }\n",
       "\n",
       "    .dataframe tbody tr th {\n",
       "        vertical-align: top;\n",
       "    }\n",
       "\n",
       "    .dataframe thead th {\n",
       "        text-align: right;\n",
       "    }\n",
       "</style>\n",
       "<table border=\"1\" class=\"dataframe\">\n",
       "  <thead>\n",
       "    <tr style=\"text-align: right;\">\n",
       "      <th></th>\n",
       "      <th>parcheggio</th>\n",
       "      <th>lat</th>\n",
       "      <th>lon</th>\n",
       "    </tr>\n",
       "  </thead>\n",
       "  <tbody>\n",
       "    <tr>\n",
       "      <th>0</th>\n",
       "      <td>Autostazione</td>\n",
       "      <td>44.504422</td>\n",
       "      <td>11.346514</td>\n",
       "    </tr>\n",
       "    <tr>\n",
       "      <th>1</th>\n",
       "      <td>Riva Reno</td>\n",
       "      <td>44.501153</td>\n",
       "      <td>11.336062</td>\n",
       "    </tr>\n",
       "    <tr>\n",
       "      <th>2</th>\n",
       "      <td>VIII Agosto</td>\n",
       "      <td>44.500297</td>\n",
       "      <td>11.345368</td>\n",
       "    </tr>\n",
       "  </tbody>\n",
       "</table>\n",
       "</div>"
      ],
      "text/plain": [
       "     parcheggio        lat        lon\n",
       "0  Autostazione  44.504422  11.346514\n",
       "1     Riva Reno  44.501153  11.336062\n",
       "2   VIII Agosto  44.500297  11.345368"
      ]
     },
     "execution_count": 3,
     "metadata": {},
     "output_type": "execute_result"
    }
   ],
   "source": [
    "KEYS = ['parcheggio', 'lat', 'lon']\n",
    "df_parcheggi = df.groupby(['parcheggio']).first().reset_index()[KEYS]\n",
    "df_parcheggi"
   ]
  },
  {
   "cell_type": "markdown",
   "id": "08b4b638-cc1b-4373-b867-f5729ee83fad",
   "metadata": {},
   "source": [
    "# Aggregate Parking Data\n",
    "Aggregate Parking Data by date, hour, dow, and parking \n",
    "(***Note: https://pandas.pydata.org/pandas-docs/version/1.2/reference/api/pandas.core.groupby.GroupBy.mean.html***)."
   ]
  },
  {
   "cell_type": "code",
   "execution_count": 4,
   "id": "873e5cb9-6edb-4ea8-89ef-283fa577a01c",
   "metadata": {},
   "outputs": [
    {
     "data": {
      "text/html": [
       "<div>\n",
       "<style scoped>\n",
       "    .dataframe tbody tr th:only-of-type {\n",
       "        vertical-align: middle;\n",
       "    }\n",
       "\n",
       "    .dataframe tbody tr th {\n",
       "        vertical-align: top;\n",
       "    }\n",
       "\n",
       "    .dataframe thead th {\n",
       "        text-align: right;\n",
       "    }\n",
       "</style>\n",
       "<table border=\"1\" class=\"dataframe\">\n",
       "  <thead>\n",
       "    <tr style=\"text-align: right;\">\n",
       "      <th></th>\n",
       "      <th>parcheggio</th>\n",
       "      <th>day</th>\n",
       "      <th>posti_liberi</th>\n",
       "      <th>posti_occupati</th>\n",
       "      <th>posti_totali</th>\n",
       "      <th>lat</th>\n",
       "      <th>lon</th>\n",
       "    </tr>\n",
       "  </thead>\n",
       "  <tbody>\n",
       "    <tr>\n",
       "      <th>0</th>\n",
       "      <td>Autostazione</td>\n",
       "      <td>2024-06-07 01:00:00+00:00</td>\n",
       "      <td>244.000000</td>\n",
       "      <td>21.000000</td>\n",
       "      <td>265.0</td>\n",
       "      <td>44.504422</td>\n",
       "      <td>11.346514</td>\n",
       "    </tr>\n",
       "    <tr>\n",
       "      <th>1</th>\n",
       "      <td>Autostazione</td>\n",
       "      <td>2024-06-07 02:00:00+00:00</td>\n",
       "      <td>244.000000</td>\n",
       "      <td>21.000000</td>\n",
       "      <td>265.0</td>\n",
       "      <td>44.504422</td>\n",
       "      <td>11.346514</td>\n",
       "    </tr>\n",
       "    <tr>\n",
       "      <th>2</th>\n",
       "      <td>Autostazione</td>\n",
       "      <td>2024-06-07 03:00:00+00:00</td>\n",
       "      <td>244.000000</td>\n",
       "      <td>21.000000</td>\n",
       "      <td>265.0</td>\n",
       "      <td>44.504422</td>\n",
       "      <td>11.346514</td>\n",
       "    </tr>\n",
       "    <tr>\n",
       "      <th>3</th>\n",
       "      <td>Autostazione</td>\n",
       "      <td>2024-06-07 04:00:00+00:00</td>\n",
       "      <td>244.333333</td>\n",
       "      <td>20.666667</td>\n",
       "      <td>265.0</td>\n",
       "      <td>44.504422</td>\n",
       "      <td>11.346514</td>\n",
       "    </tr>\n",
       "    <tr>\n",
       "      <th>4</th>\n",
       "      <td>Autostazione</td>\n",
       "      <td>2024-06-07 05:00:00+00:00</td>\n",
       "      <td>242.666667</td>\n",
       "      <td>22.333333</td>\n",
       "      <td>265.0</td>\n",
       "      <td>44.504422</td>\n",
       "      <td>11.346514</td>\n",
       "    </tr>\n",
       "    <tr>\n",
       "      <th>...</th>\n",
       "      <td>...</td>\n",
       "      <td>...</td>\n",
       "      <td>...</td>\n",
       "      <td>...</td>\n",
       "      <td>...</td>\n",
       "      <td>...</td>\n",
       "      <td>...</td>\n",
       "    </tr>\n",
       "    <tr>\n",
       "      <th>6609</th>\n",
       "      <td>VIII Agosto</td>\n",
       "      <td>2024-09-13 06:00:00+00:00</td>\n",
       "      <td>446.666667</td>\n",
       "      <td>178.333333</td>\n",
       "      <td>625.0</td>\n",
       "      <td>44.500297</td>\n",
       "      <td>11.345368</td>\n",
       "    </tr>\n",
       "    <tr>\n",
       "      <th>6610</th>\n",
       "      <td>VIII Agosto</td>\n",
       "      <td>2024-09-13 07:00:00+00:00</td>\n",
       "      <td>423.000000</td>\n",
       "      <td>202.000000</td>\n",
       "      <td>625.0</td>\n",
       "      <td>44.500297</td>\n",
       "      <td>11.345368</td>\n",
       "    </tr>\n",
       "    <tr>\n",
       "      <th>6611</th>\n",
       "      <td>VIII Agosto</td>\n",
       "      <td>2024-09-13 08:00:00+00:00</td>\n",
       "      <td>349.333333</td>\n",
       "      <td>275.666667</td>\n",
       "      <td>625.0</td>\n",
       "      <td>44.500297</td>\n",
       "      <td>11.345368</td>\n",
       "    </tr>\n",
       "    <tr>\n",
       "      <th>6612</th>\n",
       "      <td>VIII Agosto</td>\n",
       "      <td>2024-09-13 09:00:00+00:00</td>\n",
       "      <td>239.166667</td>\n",
       "      <td>385.833333</td>\n",
       "      <td>625.0</td>\n",
       "      <td>44.500297</td>\n",
       "      <td>11.345368</td>\n",
       "    </tr>\n",
       "    <tr>\n",
       "      <th>6613</th>\n",
       "      <td>VIII Agosto</td>\n",
       "      <td>2024-09-13 10:00:00+00:00</td>\n",
       "      <td>171.000000</td>\n",
       "      <td>454.000000</td>\n",
       "      <td>625.0</td>\n",
       "      <td>44.500297</td>\n",
       "      <td>11.345368</td>\n",
       "    </tr>\n",
       "  </tbody>\n",
       "</table>\n",
       "<p>6614 rows × 7 columns</p>\n",
       "</div>"
      ],
      "text/plain": [
       "        parcheggio                       day  posti_liberi  posti_occupati  \\\n",
       "0     Autostazione 2024-06-07 01:00:00+00:00    244.000000       21.000000   \n",
       "1     Autostazione 2024-06-07 02:00:00+00:00    244.000000       21.000000   \n",
       "2     Autostazione 2024-06-07 03:00:00+00:00    244.000000       21.000000   \n",
       "3     Autostazione 2024-06-07 04:00:00+00:00    244.333333       20.666667   \n",
       "4     Autostazione 2024-06-07 05:00:00+00:00    242.666667       22.333333   \n",
       "...            ...                       ...           ...             ...   \n",
       "6609   VIII Agosto 2024-09-13 06:00:00+00:00    446.666667      178.333333   \n",
       "6610   VIII Agosto 2024-09-13 07:00:00+00:00    423.000000      202.000000   \n",
       "6611   VIII Agosto 2024-09-13 08:00:00+00:00    349.333333      275.666667   \n",
       "6612   VIII Agosto 2024-09-13 09:00:00+00:00    239.166667      385.833333   \n",
       "6613   VIII Agosto 2024-09-13 10:00:00+00:00    171.000000      454.000000   \n",
       "\n",
       "      posti_totali        lat        lon  \n",
       "0            265.0  44.504422  11.346514  \n",
       "1            265.0  44.504422  11.346514  \n",
       "2            265.0  44.504422  11.346514  \n",
       "3            265.0  44.504422  11.346514  \n",
       "4            265.0  44.504422  11.346514  \n",
       "...            ...        ...        ...  \n",
       "6609         625.0  44.500297  11.345368  \n",
       "6610         625.0  44.500297  11.345368  \n",
       "6611         625.0  44.500297  11.345368  \n",
       "6612         625.0  44.500297  11.345368  \n",
       "6613         625.0  44.500297  11.345368  \n",
       "\n",
       "[6614 rows x 7 columns]"
      ]
     },
     "execution_count": 4,
     "metadata": {},
     "output_type": "execute_result"
    }
   ],
   "source": [
    "rdf = df.copy()\n",
    "rdf['data'] = pd.to_datetime(rdf['data'])\n",
    "rdf['day'] = rdf['data'].apply(lambda t: t.replace(second=0, minute=0))\n",
    "rdf['lat'] = rdf['lat'].apply(lambda t: float(t))\n",
    "rdf['lon'] = rdf['lon'].apply(lambda t: float(t))\n",
    "rdf = rdf.drop(columns=['data'])\n",
    "grouped =rdf.groupby(['parcheggio','day']).mean()\n",
    "df_aggregated = grouped.reset_index()\n",
    "df_aggregated"
   ]
  },
  {
   "cell_type": "markdown",
   "id": "ca311ae7-6415-4b66-8b00-b4499e70559c",
   "metadata": {},
   "source": [
    "# Platform Support - Data Ops\n",
    "We use the platform support to load the data into the platform, version it, and automate the execution of the data management operations\n",
    "## Initalization\n",
    "Create the working context: data management project for the parking data processing. Project is a placeholder for the code, data, and management of the parking data operations. To keep it reproducible, we use the git source type to store the definition and code."
   ]
  },
  {
   "cell_type": "code",
   "execution_count": 5,
   "id": "16504628-9573-42d8-bb29-5036433294b6",
   "metadata": {},
   "outputs": [],
   "source": [
    "import digitalhub as dh\n",
    "PROJECT_NAME = \"parcheggi-bologna-scenario\"\n",
    "proj = dh.get_or_create_project(PROJECT_NAME)"
   ]
  },
  {
   "cell_type": "markdown",
   "id": "a8c6939b-c72d-46c3-9332-80039116e952",
   "metadata": {},
   "source": [
    "## Data management functions\n",
    "We convert the data management Extract-Transform-Load(ETL) operations into functions - single executable operations that can be executed in the platform.\n",
    "Mean Absolute Error (MAE)"
   ]
  },
  {
   "cell_type": "code",
   "execution_count": 6,
   "id": "3c618e2b-bfc1-4852-9fa5-c76a4bf21169",
   "metadata": {},
   "outputs": [
    {
     "name": "stdout",
     "output_type": "stream",
     "text": [
      "Overwriting download_all.py\n"
     ]
    }
   ],
   "source": [
    "%%writefile \"download_all.py\"\n",
    "from digitalhub_runtime_python import handler\n",
    "import pandas as pd\n",
    "\n",
    "@handler(outputs=[\"dataset\"])\n",
    "def downloader(project, url):\n",
    "    df = url.as_df(file_format='csv',sep=\";\")\n",
    "    df[['lat', 'lon']] = df['coordinate'].str.split(', ',expand=True)\n",
    "    df = df.drop(columns=['% occupazione', 'GUID', 'coordinate']).rename(columns={'Parcheggio': 'parcheggio', 'Data': 'data', 'Posti liberi': 'posti_liberi', 'Posti occupati': 'posti_occupati', 'Posti totali': 'posti_totali'})\n",
    "    df[\"lat\"] = pd.to_numeric(df[\"lat\"])\n",
    "    df[\"lon\"] = pd.to_numeric(df[\"lon\"])\n",
    "    return df"
   ]
  },
  {
   "cell_type": "code",
   "execution_count": 7,
   "id": "4887949a-9998-4036-abee-4639fc9a8954",
   "metadata": {},
   "outputs": [],
   "source": [
    "func = proj.new_function(name=\"downloader-funct\",\n",
    "                         kind=\"python\",\n",
    "                         python_version=\"PYTHON3_9\",\n",
    "                         source={\"source\": \"download_all.py\", \"handler\": \"downloader\"})"
   ]
  },
  {
   "cell_type": "code",
   "execution_count": 8,
   "id": "be04cb93-fb76-4a62-86df-8285a02394ef",
   "metadata": {},
   "outputs": [],
   "source": [
    "di = proj.new_dataitem(name=\"url_data_item\",kind=\"table\",path=URL)"
   ]
  },
  {
   "cell_type": "markdown",
   "id": "d8ba161e-237e-42eb-adf6-ebbfb31b7fbc",
   "metadata": {},
   "source": [
    "## Creation of data item 'parkings'"
   ]
  },
  {
   "cell_type": "code",
   "execution_count": 9,
   "id": "12ef3d20-e5c3-4a66-8576-bbc97ae2b57d",
   "metadata": {},
   "outputs": [],
   "source": [
    "run_download = func.run(action=\"job\",inputs={\"url\":di.key},outputs={\"dataset\":\"dataset\"})"
   ]
  },
  {
   "cell_type": "markdown",
   "id": "0b446274-ff7f-406d-9ad6-dabfbf4318a1",
   "metadata": {},
   "source": [
    "Wait the run to finish. Monitor the execution status of the run using the console or with the run refresh function.\n",
    "\n"
   ]
  },
  {
   "cell_type": "markdown",
   "id": "872a3b4c-f2bb-4b3f-b5fd-2fc06b589aa8",
   "metadata": {},
   "source": [
    "# Model Training\n",
    "We train a data prediction model using darts framework and NBEATS Deep Learning model."
   ]
  },
  {
   "cell_type": "code",
   "execution_count": 13,
   "id": "93757743-5c0f-4b9f-bbcc-a32a0b594aa3",
   "metadata": {
    "scrolled": true
   },
   "outputs": [
    {
     "name": "stdout",
     "output_type": "stream",
     "text": [
      "Requirement already satisfied: darts==0.25.0 in /opt/conda/lib/python3.10/site-packages (0.25.0)\n",
      "Requirement already satisfied: pandas==1.4.4 in /opt/conda/lib/python3.10/site-packages (1.4.4)\n",
      "Requirement already satisfied: numpy==1.22.4 in /opt/conda/lib/python3.10/site-packages (1.22.4)\n",
      "Requirement already satisfied: patsy==0.5.2 in /opt/conda/lib/python3.10/site-packages (0.5.2)\n",
      "Requirement already satisfied: scikit-learn==1.1.2 in /opt/conda/lib/python3.10/site-packages (1.1.2)\n",
      "Requirement already satisfied: holidays>=0.11.1 in /opt/conda/lib/python3.10/site-packages (from darts==0.25.0) (0.56)\n",
      "Requirement already satisfied: joblib>=0.16.0 in /opt/conda/lib/python3.10/site-packages (from darts==0.25.0) (1.2.0)\n",
      "Requirement already satisfied: matplotlib>=3.3.0 in /opt/conda/lib/python3.10/site-packages (from darts==0.25.0) (3.7.1)\n",
      "Requirement already satisfied: nfoursid>=1.0.0 in /opt/conda/lib/python3.10/site-packages (from darts==0.25.0) (1.0.1)\n",
      "Requirement already satisfied: pmdarima>=1.8.0 in /opt/conda/lib/python3.10/site-packages (from darts==0.25.0) (2.0.4)\n",
      "Requirement already satisfied: pyod>=0.9.5 in /opt/conda/lib/python3.10/site-packages (from darts==0.25.0) (2.0.2)\n",
      "Requirement already satisfied: requests>=2.22.0 in /opt/conda/lib/python3.10/site-packages (from darts==0.25.0) (2.31.0)\n",
      "Requirement already satisfied: scipy>=1.3.2 in /opt/conda/lib/python3.10/site-packages (from darts==0.25.0) (1.10.1)\n",
      "Requirement already satisfied: shap>=0.40.0 in /opt/conda/lib/python3.10/site-packages (from darts==0.25.0) (0.46.0)\n",
      "Requirement already satisfied: statsforecast>=1.4 in /opt/conda/lib/python3.10/site-packages (from darts==0.25.0) (1.7.7)\n",
      "Requirement already satisfied: statsmodels>=0.14.0 in /opt/conda/lib/python3.10/site-packages (from darts==0.25.0) (0.14.0)\n",
      "Requirement already satisfied: tbats>=1.1.0 in /opt/conda/lib/python3.10/site-packages (from darts==0.25.0) (1.1.3)\n",
      "Requirement already satisfied: tqdm>=4.60.0 in /opt/conda/lib/python3.10/site-packages (from darts==0.25.0) (4.65.0)\n",
      "Requirement already satisfied: typing-extensions in /opt/conda/lib/python3.10/site-packages (from darts==0.25.0) (4.12.2)\n",
      "Requirement already satisfied: xarray>=0.17.0 in /opt/conda/lib/python3.10/site-packages (from darts==0.25.0) (2023.12.0)\n",
      "Requirement already satisfied: xgboost>=1.6.0 in /opt/conda/lib/python3.10/site-packages (from darts==0.25.0) (2.1.1)\n",
      "Requirement already satisfied: pytorch-lightning>=1.5.0 in /opt/conda/lib/python3.10/site-packages (from darts==0.25.0) (2.4.0)\n",
      "Requirement already satisfied: tensorboardX>=2.1 in /opt/conda/lib/python3.10/site-packages (from darts==0.25.0) (2.6.2.2)\n",
      "Requirement already satisfied: torch>=1.8.0 in /opt/conda/lib/python3.10/site-packages (from darts==0.25.0) (2.4.1)\n",
      "Requirement already satisfied: python-dateutil>=2.8.1 in /opt/conda/lib/python3.10/site-packages (from pandas==1.4.4) (2.8.2)\n",
      "Requirement already satisfied: pytz>=2020.1 in /opt/conda/lib/python3.10/site-packages (from pandas==1.4.4) (2023.3)\n",
      "Requirement already satisfied: six in /opt/conda/lib/python3.10/site-packages (from patsy==0.5.2) (1.16.0)\n",
      "Requirement already satisfied: threadpoolctl>=2.0.0 in /opt/conda/lib/python3.10/site-packages (from scikit-learn==1.1.2) (3.1.0)\n",
      "Requirement already satisfied: contourpy>=1.0.1 in /opt/conda/lib/python3.10/site-packages (from matplotlib>=3.3.0->darts==0.25.0) (1.0.7)\n",
      "Requirement already satisfied: cycler>=0.10 in /opt/conda/lib/python3.10/site-packages (from matplotlib>=3.3.0->darts==0.25.0) (0.11.0)\n",
      "Requirement already satisfied: fonttools>=4.22.0 in /opt/conda/lib/python3.10/site-packages (from matplotlib>=3.3.0->darts==0.25.0) (4.39.4)\n",
      "Requirement already satisfied: kiwisolver>=1.0.1 in /opt/conda/lib/python3.10/site-packages (from matplotlib>=3.3.0->darts==0.25.0) (1.4.4)\n",
      "Requirement already satisfied: packaging>=20.0 in /opt/conda/lib/python3.10/site-packages (from matplotlib>=3.3.0->darts==0.25.0) (23.1)\n",
      "Requirement already satisfied: pillow>=6.2.0 in /opt/conda/lib/python3.10/site-packages (from matplotlib>=3.3.0->darts==0.25.0) (9.5.0)\n",
      "Requirement already satisfied: pyparsing>=2.3.1 in /opt/conda/lib/python3.10/site-packages (from matplotlib>=3.3.0->darts==0.25.0) (3.0.9)\n",
      "Requirement already satisfied: Cython!=0.29.18,!=0.29.31,>=0.29 in /opt/conda/lib/python3.10/site-packages (from pmdarima>=1.8.0->darts==0.25.0) (0.29.35)\n",
      "Requirement already satisfied: urllib3 in /opt/conda/lib/python3.10/site-packages (from pmdarima>=1.8.0->darts==0.25.0) (2.2.2)\n",
      "Requirement already satisfied: setuptools!=50.0.0,>=38.6.0 in /opt/conda/lib/python3.10/site-packages (from pmdarima>=1.8.0->darts==0.25.0) (67.7.2)\n",
      "Requirement already satisfied: numba>=0.51 in /opt/conda/lib/python3.10/site-packages (from pyod>=0.9.5->darts==0.25.0) (0.57.0)\n",
      "Requirement already satisfied: PyYAML>=5.4 in /opt/conda/lib/python3.10/site-packages (from pytorch-lightning>=1.5.0->darts==0.25.0) (6.0)\n",
      "Requirement already satisfied: fsspec[http]>=2022.5.0 in /opt/conda/lib/python3.10/site-packages (from pytorch-lightning>=1.5.0->darts==0.25.0) (2024.9.0)\n",
      "Requirement already satisfied: torchmetrics>=0.7.0 in /opt/conda/lib/python3.10/site-packages (from pytorch-lightning>=1.5.0->darts==0.25.0) (1.4.1)\n",
      "Requirement already satisfied: lightning-utilities>=0.10.0 in /opt/conda/lib/python3.10/site-packages (from pytorch-lightning>=1.5.0->darts==0.25.0) (0.11.7)\n",
      "Requirement already satisfied: charset-normalizer<4,>=2 in /opt/conda/lib/python3.10/site-packages (from requests>=2.22.0->darts==0.25.0) (3.1.0)\n",
      "Requirement already satisfied: idna<4,>=2.5 in /opt/conda/lib/python3.10/site-packages (from requests>=2.22.0->darts==0.25.0) (3.4)\n",
      "Requirement already satisfied: certifi>=2017.4.17 in /opt/conda/lib/python3.10/site-packages (from requests>=2.22.0->darts==0.25.0) (2023.5.7)\n",
      "Requirement already satisfied: slicer==0.0.8 in /opt/conda/lib/python3.10/site-packages (from shap>=0.40.0->darts==0.25.0) (0.0.8)\n",
      "Requirement already satisfied: cloudpickle in /opt/conda/lib/python3.10/site-packages (from shap>=0.40.0->darts==0.25.0) (2.2.1)\n",
      "Requirement already satisfied: coreforecast>=0.0.12 in /opt/conda/lib/python3.10/site-packages (from statsforecast>=1.4->darts==0.25.0) (0.0.12)\n",
      "Requirement already satisfied: fugue>=0.8.1 in /opt/conda/lib/python3.10/site-packages (from statsforecast>=1.4->darts==0.25.0) (0.9.1)\n",
      "Requirement already satisfied: utilsforecast>=0.1.4 in /opt/conda/lib/python3.10/site-packages (from statsforecast>=1.4->darts==0.25.0) (0.2.4)\n",
      "Requirement already satisfied: protobuf>=3.20 in /opt/conda/lib/python3.10/site-packages (from tensorboardX>=2.1->darts==0.25.0) (4.21.12)\n",
      "Requirement already satisfied: filelock in /opt/conda/lib/python3.10/site-packages (from torch>=1.8.0->darts==0.25.0) (3.16.0)\n",
      "Requirement already satisfied: sympy in /opt/conda/lib/python3.10/site-packages (from torch>=1.8.0->darts==0.25.0) (1.12)\n",
      "Requirement already satisfied: networkx in /opt/conda/lib/python3.10/site-packages (from torch>=1.8.0->darts==0.25.0) (3.1)\n",
      "Requirement already satisfied: jinja2 in /opt/conda/lib/python3.10/site-packages (from torch>=1.8.0->darts==0.25.0) (3.1.4)\n",
      "Requirement already satisfied: nvidia-cuda-nvrtc-cu12==12.1.105 in /opt/conda/lib/python3.10/site-packages (from torch>=1.8.0->darts==0.25.0) (12.1.105)\n",
      "Requirement already satisfied: nvidia-cuda-runtime-cu12==12.1.105 in /opt/conda/lib/python3.10/site-packages (from torch>=1.8.0->darts==0.25.0) (12.1.105)\n",
      "Requirement already satisfied: nvidia-cuda-cupti-cu12==12.1.105 in /opt/conda/lib/python3.10/site-packages (from torch>=1.8.0->darts==0.25.0) (12.1.105)\n",
      "Requirement already satisfied: nvidia-cudnn-cu12==9.1.0.70 in /opt/conda/lib/python3.10/site-packages (from torch>=1.8.0->darts==0.25.0) (9.1.0.70)\n",
      "Requirement already satisfied: nvidia-cublas-cu12==12.1.3.1 in /opt/conda/lib/python3.10/site-packages (from torch>=1.8.0->darts==0.25.0) (12.1.3.1)\n",
      "Requirement already satisfied: nvidia-cufft-cu12==11.0.2.54 in /opt/conda/lib/python3.10/site-packages (from torch>=1.8.0->darts==0.25.0) (11.0.2.54)\n",
      "Requirement already satisfied: nvidia-curand-cu12==10.3.2.106 in /opt/conda/lib/python3.10/site-packages (from torch>=1.8.0->darts==0.25.0) (10.3.2.106)\n",
      "Requirement already satisfied: nvidia-cusolver-cu12==11.4.5.107 in /opt/conda/lib/python3.10/site-packages (from torch>=1.8.0->darts==0.25.0) (11.4.5.107)\n",
      "Requirement already satisfied: nvidia-cusparse-cu12==12.1.0.106 in /opt/conda/lib/python3.10/site-packages (from torch>=1.8.0->darts==0.25.0) (12.1.0.106)\n",
      "Requirement already satisfied: nvidia-nccl-cu12==2.20.5 in /opt/conda/lib/python3.10/site-packages (from torch>=1.8.0->darts==0.25.0) (2.20.5)\n",
      "Requirement already satisfied: nvidia-nvtx-cu12==12.1.105 in /opt/conda/lib/python3.10/site-packages (from torch>=1.8.0->darts==0.25.0) (12.1.105)\n",
      "Requirement already satisfied: triton==3.0.0 in /opt/conda/lib/python3.10/site-packages (from torch>=1.8.0->darts==0.25.0) (3.0.0)\n",
      "Requirement already satisfied: nvidia-nvjitlink-cu12 in /opt/conda/lib/python3.10/site-packages (from nvidia-cusolver-cu12==11.4.5.107->torch>=1.8.0->darts==0.25.0) (12.6.68)\n",
      "Requirement already satisfied: aiohttp!=4.0.0a0,!=4.0.0a1 in /opt/conda/lib/python3.10/site-packages (from fsspec[http]>=2022.5.0->pytorch-lightning>=1.5.0->darts==0.25.0) (3.10.5)\n",
      "Requirement already satisfied: triad>=0.9.7 in /opt/conda/lib/python3.10/site-packages (from fugue>=0.8.1->statsforecast>=1.4->darts==0.25.0) (0.9.8)\n",
      "Requirement already satisfied: adagio>=0.2.4 in /opt/conda/lib/python3.10/site-packages (from fugue>=0.8.1->statsforecast>=1.4->darts==0.25.0) (0.2.6)\n",
      "Requirement already satisfied: llvmlite<0.41,>=0.40.0dev0 in /opt/conda/lib/python3.10/site-packages (from numba>=0.51->pyod>=0.9.5->darts==0.25.0) (0.40.0)\n",
      "Requirement already satisfied: MarkupSafe>=2.0 in /opt/conda/lib/python3.10/site-packages (from jinja2->torch>=1.8.0->darts==0.25.0) (2.1.2)\n",
      "Requirement already satisfied: mpmath>=0.19 in /opt/conda/lib/python3.10/site-packages (from sympy->torch>=1.8.0->darts==0.25.0) (1.3.0)\n",
      "Requirement already satisfied: aiohappyeyeballs>=2.3.0 in /opt/conda/lib/python3.10/site-packages (from aiohttp!=4.0.0a0,!=4.0.0a1->fsspec[http]>=2022.5.0->pytorch-lightning>=1.5.0->darts==0.25.0) (2.4.0)\n",
      "Requirement already satisfied: aiosignal>=1.1.2 in /opt/conda/lib/python3.10/site-packages (from aiohttp!=4.0.0a0,!=4.0.0a1->fsspec[http]>=2022.5.0->pytorch-lightning>=1.5.0->darts==0.25.0) (1.3.1)\n",
      "Requirement already satisfied: attrs>=17.3.0 in /opt/conda/lib/python3.10/site-packages (from aiohttp!=4.0.0a0,!=4.0.0a1->fsspec[http]>=2022.5.0->pytorch-lightning>=1.5.0->darts==0.25.0) (23.1.0)\n",
      "Requirement already satisfied: frozenlist>=1.1.1 in /opt/conda/lib/python3.10/site-packages (from aiohttp!=4.0.0a0,!=4.0.0a1->fsspec[http]>=2022.5.0->pytorch-lightning>=1.5.0->darts==0.25.0) (1.4.1)\n",
      "Requirement already satisfied: multidict<7.0,>=4.5 in /opt/conda/lib/python3.10/site-packages (from aiohttp!=4.0.0a0,!=4.0.0a1->fsspec[http]>=2022.5.0->pytorch-lightning>=1.5.0->darts==0.25.0) (6.1.0)\n",
      "Requirement already satisfied: yarl<2.0,>=1.0 in /opt/conda/lib/python3.10/site-packages (from aiohttp!=4.0.0a0,!=4.0.0a1->fsspec[http]>=2022.5.0->pytorch-lightning>=1.5.0->darts==0.25.0) (1.11.1)\n",
      "Requirement already satisfied: async-timeout<5.0,>=4.0 in /opt/conda/lib/python3.10/site-packages (from aiohttp!=4.0.0a0,!=4.0.0a1->fsspec[http]>=2022.5.0->pytorch-lightning>=1.5.0->darts==0.25.0) (4.0.3)\n",
      "Requirement already satisfied: pyarrow>=6.0.1 in /opt/conda/lib/python3.10/site-packages (from triad>=0.9.7->fugue>=0.8.1->statsforecast>=1.4->darts==0.25.0) (12.0.0)\n",
      "Requirement already satisfied: fs in /opt/conda/lib/python3.10/site-packages (from triad>=0.9.7->fugue>=0.8.1->statsforecast>=1.4->darts==0.25.0) (2.4.16)\n",
      "Requirement already satisfied: appdirs~=1.4.3 in /opt/conda/lib/python3.10/site-packages (from fs->triad>=0.9.7->fugue>=0.8.1->statsforecast>=1.4->darts==0.25.0) (1.4.4)\n",
      "Note: you may need to restart the kernel to use updated packages.\n"
     ]
    }
   ],
   "source": [
    "%pip install darts==0.25.0 pandas==1.4.4 numpy==1.22.4 patsy==0.5.2 scikit-learn==1.1.2"
   ]
  },
  {
   "cell_type": "code",
   "execution_count": 6,
   "id": "d0994a7a-af73-44f8-bb9d-08749a7f07ba",
   "metadata": {},
   "outputs": [
    {
     "data": {
      "text/html": [
       "<div>\n",
       "<style scoped>\n",
       "    .dataframe tbody tr th:only-of-type {\n",
       "        vertical-align: middle;\n",
       "    }\n",
       "\n",
       "    .dataframe tbody tr th {\n",
       "        vertical-align: top;\n",
       "    }\n",
       "\n",
       "    .dataframe thead th {\n",
       "        text-align: right;\n",
       "    }\n",
       "</style>\n",
       "<table border=\"1\" class=\"dataframe\">\n",
       "  <thead>\n",
       "    <tr style=\"text-align: right;\">\n",
       "      <th></th>\n",
       "      <th>parcheggio</th>\n",
       "      <th>data</th>\n",
       "      <th>posti_liberi</th>\n",
       "      <th>posti_occupati</th>\n",
       "      <th>posti_totali</th>\n",
       "      <th>lat</th>\n",
       "      <th>lon</th>\n",
       "    </tr>\n",
       "  </thead>\n",
       "  <tbody>\n",
       "    <tr>\n",
       "      <th>0</th>\n",
       "      <td>Riva Reno</td>\n",
       "      <td>2024-07-29T06:59:00+00:00</td>\n",
       "      <td>391.0</td>\n",
       "      <td>79.0</td>\n",
       "      <td>470</td>\n",
       "      <td>44.501153</td>\n",
       "      <td>11.336062</td>\n",
       "    </tr>\n",
       "    <tr>\n",
       "      <th>1</th>\n",
       "      <td>Riva Reno</td>\n",
       "      <td>2024-07-29T07:09:00+00:00</td>\n",
       "      <td>391.0</td>\n",
       "      <td>79.0</td>\n",
       "      <td>470</td>\n",
       "      <td>44.501153</td>\n",
       "      <td>11.336062</td>\n",
       "    </tr>\n",
       "    <tr>\n",
       "      <th>2</th>\n",
       "      <td>Riva Reno</td>\n",
       "      <td>2024-07-29T07:29:00+00:00</td>\n",
       "      <td>391.0</td>\n",
       "      <td>79.0</td>\n",
       "      <td>470</td>\n",
       "      <td>44.501153</td>\n",
       "      <td>11.336062</td>\n",
       "    </tr>\n",
       "    <tr>\n",
       "      <th>3</th>\n",
       "      <td>Riva Reno</td>\n",
       "      <td>2024-07-29T08:09:00+00:00</td>\n",
       "      <td>386.0</td>\n",
       "      <td>84.0</td>\n",
       "      <td>470</td>\n",
       "      <td>44.501153</td>\n",
       "      <td>11.336062</td>\n",
       "    </tr>\n",
       "    <tr>\n",
       "      <th>4</th>\n",
       "      <td>VIII Agosto</td>\n",
       "      <td>2024-07-29T08:29:00+00:00</td>\n",
       "      <td>418.0</td>\n",
       "      <td>207.0</td>\n",
       "      <td>625</td>\n",
       "      <td>44.500297</td>\n",
       "      <td>11.345368</td>\n",
       "    </tr>\n",
       "  </tbody>\n",
       "</table>\n",
       "</div>"
      ],
      "text/plain": [
       "    parcheggio                       data  posti_liberi  posti_occupati  \\\n",
       "0    Riva Reno  2024-07-29T06:59:00+00:00         391.0            79.0   \n",
       "1    Riva Reno  2024-07-29T07:09:00+00:00         391.0            79.0   \n",
       "2    Riva Reno  2024-07-29T07:29:00+00:00         391.0            79.0   \n",
       "3    Riva Reno  2024-07-29T08:09:00+00:00         386.0            84.0   \n",
       "4  VIII Agosto  2024-07-29T08:29:00+00:00         418.0           207.0   \n",
       "\n",
       "   posti_totali        lat        lon  \n",
       "0           470  44.501153  11.336062  \n",
       "1           470  44.501153  11.336062  \n",
       "2           470  44.501153  11.336062  \n",
       "3           470  44.501153  11.336062  \n",
       "4           625  44.500297  11.345368  "
      ]
     },
     "execution_count": 6,
     "metadata": {},
     "output_type": "execute_result"
    }
   ],
   "source": [
    "import digitalhub as dh\n",
    "PROJECT_NAME = \"parcheggi-bologna-scenario\"\n",
    "proj = dh.get_or_create_project(PROJECT_NAME)\n",
    "di = proj.get_dataitem('dataset')\n",
    "df = di.as_df()\n",
    "df.head()"
   ]
  },
  {
   "cell_type": "markdown",
   "id": "749b9167-1c55-4867-be34-1373ce93eaa8",
   "metadata": {},
   "source": [
    "## Prepare data\n",
    "Clean data: convert date to datetime and calculate occupied ratio, remove redundant columns."
   ]
  },
  {
   "cell_type": "code",
   "execution_count": 7,
   "id": "7abf3307-315c-41f9-b356-1ddb807832b7",
   "metadata": {},
   "outputs": [
    {
     "data": {
      "text/html": [
       "<div>\n",
       "<style scoped>\n",
       "    .dataframe tbody tr th:only-of-type {\n",
       "        vertical-align: middle;\n",
       "    }\n",
       "\n",
       "    .dataframe tbody tr th {\n",
       "        vertical-align: top;\n",
       "    }\n",
       "\n",
       "    .dataframe thead th {\n",
       "        text-align: right;\n",
       "    }\n",
       "</style>\n",
       "<table border=\"1\" class=\"dataframe\">\n",
       "  <thead>\n",
       "    <tr style=\"text-align: right;\">\n",
       "      <th></th>\n",
       "      <th>parcheggio</th>\n",
       "      <th>occupied</th>\n",
       "      <th>date_time_slice</th>\n",
       "    </tr>\n",
       "  </thead>\n",
       "  <tbody>\n",
       "    <tr>\n",
       "      <th>0</th>\n",
       "      <td>Riva Reno</td>\n",
       "      <td>0.168085</td>\n",
       "      <td>2024-07-29 07:00:00</td>\n",
       "    </tr>\n",
       "    <tr>\n",
       "      <th>1</th>\n",
       "      <td>Riva Reno</td>\n",
       "      <td>0.168085</td>\n",
       "      <td>2024-07-29 07:00:00</td>\n",
       "    </tr>\n",
       "    <tr>\n",
       "      <th>2</th>\n",
       "      <td>Riva Reno</td>\n",
       "      <td>0.168085</td>\n",
       "      <td>2024-07-29 07:30:00</td>\n",
       "    </tr>\n",
       "    <tr>\n",
       "      <th>3</th>\n",
       "      <td>Riva Reno</td>\n",
       "      <td>0.178723</td>\n",
       "      <td>2024-07-29 08:00:00</td>\n",
       "    </tr>\n",
       "    <tr>\n",
       "      <th>4</th>\n",
       "      <td>VIII Agosto</td>\n",
       "      <td>0.331200</td>\n",
       "      <td>2024-07-29 08:30:00</td>\n",
       "    </tr>\n",
       "  </tbody>\n",
       "</table>\n",
       "</div>"
      ],
      "text/plain": [
       "    parcheggio  occupied     date_time_slice\n",
       "0    Riva Reno  0.168085 2024-07-29 07:00:00\n",
       "1    Riva Reno  0.168085 2024-07-29 07:00:00\n",
       "2    Riva Reno  0.168085 2024-07-29 07:30:00\n",
       "3    Riva Reno  0.178723 2024-07-29 08:00:00\n",
       "4  VIII Agosto  0.331200 2024-07-29 08:30:00"
      ]
     },
     "execution_count": 7,
     "metadata": {},
     "output_type": "execute_result"
    }
   ],
   "source": [
    "import datetime\n",
    "import pandas as pd\n",
    "\n",
    "window = 120\n",
    "\n",
    "df_clean = df.copy()\n",
    "df_clean.data = pd.to_datetime(df_clean.data, utc=True)\n",
    "df_clean['occupied'] = df_clean.posti_occupati / df_clean.posti_totali\n",
    "df_clean['date_time_slice'] = df_clean.data.dt.round('30min').dt.tz_convert(None)\n",
    "df_clean = df_clean[df_clean.date_time_slice >= (datetime.datetime.today() - pd.DateOffset(window))]\n",
    "df_clean = df_clean[df_clean.date_time_slice <= (datetime.datetime.today() - pd.DateOffset(1))]\n",
    "df_clean.posti_occupati = df_clean.apply(lambda x: max(0, min(x['posti_totali'], x['posti_occupati'])), axis=1)\n",
    "df_clean['occupied'] = df_clean.posti_occupati / df_clean.posti_totali\n",
    "df_clean = df_clean.drop(columns=['lat', 'lon', 'data', 'posti_totali', 'posti_liberi', 'posti_occupati'])\n",
    "df_clean.head()"
   ]
  },
  {
   "cell_type": "markdown",
   "id": "fdc5e1ee-3237-457c-a0af-0b6766660e21",
   "metadata": {},
   "source": [
    "## Create multiple time series"
   ]
  },
  {
   "cell_type": "code",
   "execution_count": 8,
   "id": "cffe3505-2ba0-4788-9385-87973919b462",
   "metadata": {},
   "outputs": [
    {
     "name": "stderr",
     "output_type": "stream",
     "text": [
      "/tmp/ipykernel_6352/2711141629.py:29: SettingWithCopyWarning: \n",
      "A value is trying to be set on a copy of a slice from a DataFrame.\n",
      "Try using .loc[row_indexer,col_indexer] = value instead\n",
      "\n",
      "See the caveats in the documentation: https://pandas.pydata.org/pandas-docs/stable/user_guide/indexing.html#returning-a-view-versus-a-copy\n",
      "  parc_df['hour'] = parc_df.date_time_slice.dt.hour\n",
      "/tmp/ipykernel_6352/2711141629.py:30: SettingWithCopyWarning: \n",
      "A value is trying to be set on a copy of a slice from a DataFrame.\n",
      "Try using .loc[row_indexer,col_indexer] = value instead\n",
      "\n",
      "See the caveats in the documentation: https://pandas.pydata.org/pandas-docs/stable/user_guide/indexing.html#returning-a-view-versus-a-copy\n",
      "  parc_df['dow'] = parc_df.date_time_slice.dt.dayofweek\n",
      "/tmp/ipykernel_6352/2711141629.py:29: SettingWithCopyWarning: \n",
      "A value is trying to be set on a copy of a slice from a DataFrame.\n",
      "Try using .loc[row_indexer,col_indexer] = value instead\n",
      "\n",
      "See the caveats in the documentation: https://pandas.pydata.org/pandas-docs/stable/user_guide/indexing.html#returning-a-view-versus-a-copy\n",
      "  parc_df['hour'] = parc_df.date_time_slice.dt.hour\n",
      "/tmp/ipykernel_6352/2711141629.py:30: SettingWithCopyWarning: \n",
      "A value is trying to be set on a copy of a slice from a DataFrame.\n",
      "Try using .loc[row_indexer,col_indexer] = value instead\n",
      "\n",
      "See the caveats in the documentation: https://pandas.pydata.org/pandas-docs/stable/user_guide/indexing.html#returning-a-view-versus-a-copy\n",
      "  parc_df['dow'] = parc_df.date_time_slice.dt.dayofweek\n"
     ]
    },
    {
     "data": {
      "text/plain": [
       "<Axes: xlabel='date_time_slice'>"
      ]
     },
     "execution_count": 8,
     "metadata": {},
     "output_type": "execute_result"
    },
    {
     "data": {
      "image/png": "[encoded data removed]",
      "text/plain": [
       "<Figure size 640x480 with 1 Axes>"
      ]
     },
     "metadata": {},
     "output_type": "display_data"
    }
   ],
   "source": [
    "from darts import TimeSeries\n",
    "from darts.dataprocessing.transformers import Scaler\n",
    "\n",
    "split_ratio = 0.8\n",
    "\n",
    "def fill_missing(parc_df):\n",
    "    missing = []  # List to store timestamps for which values could not be filled\n",
    "    temp = pd.Series(parc_df.index.date).value_counts()  # Count the occurrences of each date\n",
    "    temp = temp[temp < 48]  # Filter dates with less than 48 occurrences\n",
    "    temp.sort_index(inplace=True)  # Sort the dates in ascending order\n",
    "    for t in temp.index:  # Iterate through the filtered dates\n",
    "        for h in range(24):  # Iterate through 24 hours\n",
    "            for half_hour in [0, 30]:  # Iterate through 0 and 30 minutes\n",
    "                ts = datetime.datetime(t.year, t.month, t.day, h, half_hour)  # Create a timestamp\n",
    "                if ts not in parc_df.index:  # If the timestamp is missing in the DataFrame\n",
    "                    if ts - datetime.timedelta(days=7) in parc_df.index:  # Check if the previous week's timestamp is available\n",
    "                        parc_df.loc[ts] = parc_df.loc[ts - datetime.timedelta(days=7)].copy()  # Copy values from the previous week\n",
    "                    elif ts + datetime.timedelta(days=7) in parc_df.index:  # Check if the next week's timestamp is available\n",
    "                        parc_df.loc[ts] = parc_df.loc[ts + datetime.timedelta(days=7)].copy()  # Copy values from the next week\n",
    "                    else:\n",
    "                        missing.append(ts)  # If values cannot be filled, add the timestamp to the missing list\n",
    "    return missing \n",
    "parcheggi = ['Riva Reno' ,'VIII Agosto']# df_clean['parcheggio'].unique()\n",
    "\n",
    "train_sets, val_sets = [], []\n",
    "\n",
    "for parcheggio in parcheggi:\n",
    "    parc_df = df_clean[df_clean['parcheggio'] == parcheggio]\n",
    "    parc_df['hour'] = parc_df.date_time_slice.dt.hour\n",
    "    parc_df['dow'] = parc_df.date_time_slice.dt.dayofweek\n",
    "    parc_df = parc_df.drop(columns=['parcheggio'])\n",
    "    parc_df = parc_df.groupby('date_time_slice').agg({'occupied': 'mean', 'hour': 'first', 'dow': 'first'})\n",
    "    fill_missing(parc_df)\n",
    "    ts = TimeSeries.from_dataframe(parc_df,  value_cols='occupied', freq='30min')\n",
    "    ts_scaled = Scaler().fit_transform(ts)\n",
    "\n",
    "    split = int(len(ts_scaled) * (1 - split_ratio))\n",
    "\n",
    "    train, val = ts_scaled[:-split], ts_scaled[-split:]\n",
    "    train_sets.append(train)\n",
    "    val_sets.append(val)\n",
    "    \n",
    "train_sets[0].plot(label='train')"
   ]
  },
  {
   "cell_type": "code",
   "execution_count": 9,
   "id": "61d570d9-78f2-4cbf-b3fc-d8d04bd6dc2d",
   "metadata": {},
   "outputs": [
    {
     "name": "stderr",
     "output_type": "stream",
     "text": [
      "The `LightGBM` module could not be imported. To enable LightGBM support in Darts, follow the detailed instructions in the installation guide: https://github.com/unit8co/darts/blob/master/INSTALL.md\n",
      "The `Prophet` module could not be imported. To enable Prophet support in Darts, follow the detailed instructions in the installation guide: https://github.com/unit8co/darts/blob/master/INSTALL.md\n",
      "The `CatBoost` module could not be imported. To enable CatBoost support in Darts, follow the detailed instructions in the installation guide: https://github.com/unit8co/darts/blob/master/INSTALL.md\n",
      "GPU available: False, used: False\n",
      "TPU available: False, using: 0 TPU cores\n",
      "HPU available: False, using: 0 HPUs\n",
      "\n",
      "  | Name          | Type             | Params | Mode \n",
      "-----------------------------------------------------------\n",
      "0 | criterion     | MSELoss          | 0      | train\n",
      "1 | train_metrics | MetricCollection | 0      | train\n",
      "2 | val_metrics   | MetricCollection | 0      | train\n",
      "3 | stacks        | ModuleList       | 6.2 M  | train\n",
      "-----------------------------------------------------------\n",
      "6.2 M     Trainable params\n",
      "1.4 K     Non-trainable params\n",
      "6.2 M     Total params\n",
      "24.787    Total estimated model params size (MB)\n",
      "394       Modules in train mode\n",
      "0         Modules in eval mode\n"
     ]
    },
    {
     "data": {
      "application/vnd.jupyter.widget-view+json": {
       "model_id": "eff538824ae348aa97ace8ab6181d792",
       "version_major": 2,
       "version_minor": 0
      },
      "text/plain": [
       "Training: |          | 0/? [00:00<?, ?it/s]"
      ]
     },
     "metadata": {},
     "output_type": "display_data"
    },
    {
     "name": "stderr",
     "output_type": "stream",
     "text": [
      "`Trainer.fit` stopped: `max_epochs=1` reached.\n"
     ]
    },
    {
     "data": {
      "text/plain": [
       "NBEATSModel(generic_architecture=True, num_stacks=30, num_blocks=1, num_layers=4, layer_widths=256, expansion_coefficient_dim=5, trend_polynomial_degree=2, dropout=0.0, activation=ReLU, input_chunk_length=24, output_chunk_length=12, n_epochs=1, random_state=0)"
      ]
     },
     "execution_count": 9,
     "metadata": {},
     "output_type": "execute_result"
    }
   ],
   "source": [
    "from darts.models import NBEATSModel\n",
    "\n",
    "multimodel =  NBEATSModel(\n",
    "        input_chunk_length=24,\n",
    "        output_chunk_length=12,\n",
    "        n_epochs=1,\n",
    "        random_state=0\n",
    "    )\n",
    "\n",
    "multimodel.fit(train_sets)"
   ]
  },
  {
   "cell_type": "code",
   "execution_count": 10,
   "id": "139a1835-0141-4d6b-a375-59d5e240f73b",
   "metadata": {},
   "outputs": [
    {
     "name": "stderr",
     "output_type": "stream",
     "text": [
      "GPU available: False, used: False\n",
      "TPU available: False, using: 0 TPU cores\n",
      "HPU available: False, using: 0 HPUs\n"
     ]
    },
    {
     "data": {
      "application/vnd.jupyter.widget-view+json": {
       "model_id": "225e64753bcc49faaa603573ec331717",
       "version_major": 2,
       "version_minor": 0
      },
      "text/plain": [
       "Predicting: |          | 0/? [00:00<?, ?it/s]"
      ]
     },
     "metadata": {},
     "output_type": "display_data"
    },
    {
     "data": {
      "text/plain": [
       "<Axes: xlabel='date_time_slice'>"
      ]
     },
     "execution_count": 10,
     "metadata": {},
     "output_type": "execute_result"
    },
    {
     "data": {
      "image/png": "[encoded data removed]",
      "text/plain": [
       "<Figure size 1000x600 with 1 Axes>"
      ]
     },
     "metadata": {},
     "output_type": "display_data"
    }
   ],
   "source": [
    "import matplotlib.pyplot as plt\n",
    "\n",
    "pred = multimodel.predict(n=24, series=train_sets[0][:-24])\n",
    "\n",
    "plt.figure(figsize=(10, 6))\n",
    "train_sets[0].plot(label=\"actual\")\n",
    "pred.plot(label=\"forecast\")"
   ]
  },
  {
   "cell_type": "code",
   "execution_count": 11,
   "id": "12aabf09-89e9-4eb8-829b-93a115fcea88",
   "metadata": {},
   "outputs": [
    {
     "data": {
      "text/plain": [
       "{'mape': 32.96183458463854,\n",
       " 'smape': 42.546069263601574,\n",
       " 'mae': 0.019062584750454192}"
      ]
     },
     "execution_count": 11,
     "metadata": {},
     "output_type": "execute_result"
    }
   ],
   "source": [
    "from darts.metrics import mape, smape, mae\n",
    "\n",
    "metrics = {\n",
    "    \"mape\": mape(train_sets[0], pred),\n",
    "    \"smape\": smape(train_sets[0], pred),\n",
    "    \"mae\": mae(train_sets[0], pred)\n",
    "}\n",
    "metrics"
   ]
  },
  {
   "cell_type": "markdown",
   "id": "733cc149-9270-46cb-bbe9-625971b57dc0",
   "metadata": {},
   "source": [
    "# ML Ops\n",
    "\n",
    "With the help of the platform, we will create the training function, train a parking occupation prediction model, and deploy it to the cluster as an inference APIion"
   ]
  },
  {
   "cell_type": "markdown",
   "id": "38b88838-0a11-4b0b-8beb-4cdfc5b4266b",
   "metadata": {},
   "source": [
    "## ML training function\n",
    "We convert the ML operations into a function - single executable operation that can be executed in the platform."
   ]
  },
  {
   "cell_type": "code",
   "execution_count": 38,
   "id": "a716cabb-d682-405b-a914-d7ac70c607fd",
   "metadata": {},
   "outputs": [
    {
     "name": "stdout",
     "output_type": "stream",
     "text": [
      "Overwriting train_multimodel.py\n"
     ]
    }
   ],
   "source": [
    "%%writefile \"train_multimodel.py\"\n",
    "\n",
    "import pandas as pd\n",
    "from digitalhub_runtime_python import handler\n",
    "from darts import TimeSeries\n",
    "\n",
    "from darts.models import NBEATSModel\n",
    "from darts.metrics import mape, smape, mae\n",
    "from darts.dataprocessing.transformers import Scaler\n",
    "from zipfile import ZipFile\n",
    "\n",
    "import logging\n",
    "logging.disable(logging.CRITICAL)\n",
    "\n",
    "import warnings\n",
    "warnings.filterwarnings(\"ignore\")\n",
    "\n",
    "import datetime\n",
    "\n",
    "import pandas as pd\n",
    "import datetime\n",
    "\n",
    "from pickle import dumps\n",
    "\n",
    "def fill_missing(parc_df):\n",
    "    missing = []  # List to store timestamps for which values could not be filled\n",
    "    temp = pd.Series(parc_df.index.date).value_counts()  # Count the occurrences of each date\n",
    "    temp = temp[temp < 48]  # Filter dates with less than 48 occurrences\n",
    "    temp.sort_index(inplace=True)  # Sort the dates in ascending order\n",
    "    for t in temp.index:  # Iterate through the filtered dates\n",
    "        for h in range(24):  # Iterate through 24 hours\n",
    "            for half_hour in [0, 30]:  # Iterate through 0 and 30 minutes\n",
    "                ts = datetime.datetime(t.year, t.month, t.day, h, half_hour)  # Create a timestamp\n",
    "                if ts not in parc_df.index:  # If the timestamp is missing in the DataFrame\n",
    "                    if ts - datetime.timedelta(days=7) in parc_df.index:  # Check if the previous week's timestamp is available\n",
    "                        parc_df.loc[ts] = parc_df.loc[ts - datetime.timedelta(days=7)].copy()  # Copy values from the previous week\n",
    "                    elif ts + datetime.timedelta(days=7) in parc_df.index:  # Check if the next week's timestamp is available\n",
    "                        parc_df.loc[ts] = parc_df.loc[ts + datetime.timedelta(days=7)].copy()  # Copy values from the next week\n",
    "                    else:\n",
    "                        missing.append(ts)  # If values cannot be filled, add the timestamp to the missing list\n",
    "    return missing  # Return the list of timestamps for which values could not be filled\n",
    "\n",
    "\n",
    "@handler()\n",
    "def train_model(project, parkings_di,n_epochs: int = 1, window: int = 60, \n",
    "                input_chunk_length: int = 24, output_chunk_length: int = 12, \n",
    "                split_ratio: float = 0.8):\n",
    "\n",
    "    # Load the input data\n",
    "    df_source = parkings_di.as_df()\n",
    "    # Clean the data\n",
    "    df_clean = df_source.copy()\n",
    "    df_clean.data = pd.to_datetime(df_clean.data, utc=True)\n",
    "    df_clean['occupied'] = df_clean.posti_occupati / df_clean.posti_totali\n",
    "    df_clean['date_time_slice'] = df_clean.data.dt.round('30min').dt.tz_convert(None)\n",
    "    df_clean = df_clean[df_clean.date_time_slice >= (datetime.datetime.today() - pd.DateOffset(window))]\n",
    "    df_clean = df_clean[df_clean.date_time_slice <= (datetime.datetime.today() - pd.DateOffset(1))]\n",
    "    df_clean.posti_occupati = df_clean.apply(lambda x: max(0, min(x['posti_totali'], x['posti_occupati'])), axis=1)\n",
    "    df_clean['occupied'] = df_clean.posti_occupati / df_clean.posti_totali\n",
    "    df_clean = df_clean.drop(columns=['lat', 'lon', 'data', 'posti_totali', 'posti_liberi', 'posti_occupati'])\n",
    "    #parcheggi = df_clean['parcheggio'].unique()\n",
    "    parcheggi = ['Riva Reno' ,'VIII Agosto']\n",
    "    \n",
    "    train_sets, val_sets = [], []\n",
    "\n",
    "    # Process data for each parking lot\n",
    "    for parcheggio in parcheggi:\n",
    "        parc_df = df_clean[df_clean['parcheggio'] == parcheggio]\n",
    "        parc_df['hour'] = parc_df.date_time_slice.dt.hour\n",
    "        parc_df['dow'] = parc_df.date_time_slice.dt.dayofweek\n",
    "        parc_df = parc_df.drop(columns=['parcheggio'])\n",
    "        parc_df = parc_df.groupby('date_time_slice').agg({'occupied': 'mean', 'hour': 'first', 'dow': 'first'})\n",
    "        fill_missing(parc_df)\n",
    "        ts = TimeSeries.from_dataframe(parc_df,  value_cols='occupied', freq='30min')\n",
    "        ts_scaled = Scaler().fit_transform(ts)\n",
    "        \n",
    "        split = int(len(ts_scaled) * (1 - split_ratio))\n",
    "\n",
    "        # Split data into training and validation sets\n",
    "        train, val = ts_scaled[:-split], ts_scaled[-split:]\n",
    "        train_sets.append(train)\n",
    "        val_sets.append(val)\n",
    "\n",
    "    # Train a multi-model using the NBEATS algorithm\n",
    "    multimodel =  NBEATSModel(\n",
    "        input_chunk_length=input_chunk_length,\n",
    "        output_chunk_length=output_chunk_length,\n",
    "        n_epochs=n_epochs,\n",
    "        random_state=0\n",
    "    )\n",
    "\n",
    "    # Fit the model to the training sets\n",
    "    multimodel.fit(train_sets)\n",
    "    pred = multimodel.predict(n=output_chunk_length*2, series=train_sets[0][:-output_chunk_length*2])\n",
    "\n",
    "    multimodel.save(\"parcheggi_predictor_model.pt\")\n",
    "    with ZipFile(\"parcheggi_predictor_model.pt.zip\", \"w\") as z:\n",
    "        z.write(\"parcheggi_predictor_model.pt\")\n",
    "        z.write(\"parcheggi_predictor_model.pt.ckpt\")\n",
    "    metrics = {\n",
    "        \"mape\": mape(train_sets[0], pred),\n",
    "        \"smape\": smape(train_sets[0], pred),\n",
    "        \"mae\": mae(train_sets[0], pred)\n",
    "    }\n",
    "\n",
    "    project.log_model(\n",
    "        name=\"modello_parcheggi\", \n",
    "        kind=\"model\", \n",
    "        source=\"parcheggi_predictor_model.pt.zip\", \n",
    "        algorithm=\"darts.models.NBEATSModel\",\n",
    "        framework=\"darts\",\n",
    "        metrics=metrics\n",
    "    )"
   ]
  },
  {
   "cell_type": "code",
   "execution_count": 21,
   "id": "a7fed020-55d9-451f-be4a-bd59061e76e2",
   "metadata": {},
   "outputs": [],
   "source": [
    "func = proj.new_function(name=\"training_model\",\n",
    "                         kind=\"python\",\n",
    "                         python_version=\"PYTHON3_9\",\n",
    "                         source={\"source\": \"train_multimodel.py\", \"handler\": \"train_model\"})"
   ]
  },
  {
   "cell_type": "code",
   "execution_count": 22,
   "id": "0de15d07-e6a2-4014-995b-d8197e9988fd",
   "metadata": {},
   "outputs": [
    {
     "data": {
      "text/plain": [
       "{'kind': 'python+run', 'metadata': {'project': 'parcheggi-bologna-scenario', 'name': '1a206737-9589-4136-a525-7de2374a95fc', 'created': '2024-09-13T09:25:46.101Z', 'updated': '2024-09-13T09:25:46.116Z', 'created_by': 'tenant1userid', 'updated_by': 'tenant1userid'}, 'spec': {'task': 'python+build://parcheggi-bologna-scenario/training_model:0949d54f-84a6-4f66-9ad5-64e9b57d955d', 'local_execution': False, 'source': {'source': 'train_multimodel.py', 'handler': 'train_model', 'base64': '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', 'lang': 'python'}, 'python_version': 'PYTHON3_9', 'function': 'python://parcheggi-bologna-scenario/training_model:0949d54f-84a6-4f66-9ad5-64e9b57d955d', 'instructions': ['pip3 install torch torchvision torchaudio --index-url https://download.pytorch.org/whl/cpu', 'pip3 install darts==0.25.0 pandas==1.4.4 numpy==1.22.4 patsy==0.5.2 scikit-learn==1.1.2'], 'inputs': {}, 'outputs': {}, 'parameters': {}}, 'status': {'state': 'READY'}, 'user': 'tenant1userid', 'project': 'parcheggi-bologna-scenario', 'id': '1a206737-9589-4136-a525-7de2374a95fc', 'key': 'store://parcheggi-bologna-scenario/run/python+run/1a206737-9589-4136-a525-7de2374a95fc'}"
      ]
     },
     "execution_count": 22,
     "metadata": {},
     "output_type": "execute_result"
    }
   ],
   "source": [
    "func.run(action=\"build\", instructions=[\"pip3 install torch torchvision torchaudio --index-url https://download.pytorch.org/whl/cpu\",\"pip3 install darts==0.25.0 pandas==1.4.4 numpy==1.22.4 patsy==0.5.2 scikit-learn==1.1.2\"])"
   ]
  },
  {
   "cell_type": "markdown",
   "id": "60d13134-3c8e-4689-b5c2-d9a73d1e6b83",
   "metadata": {},
   "source": [
    "Let us wait till the build is finished."
   ]
  },
  {
   "cell_type": "markdown",
   "id": "dace652b-988b-4c91-8423-061f8740781a",
   "metadata": {},
   "source": [
    "## Train model\n",
    "Execute train model function. As a result, the function produces a ML model that is uploaded to the platform storage, versioned, and enriched with metadata (e.g., metrics)."
   ]
  },
  {
   "cell_type": "code",
   "execution_count": 23,
   "id": "6d55915d-93ef-4748-a3d3-cc59083ed58d",
   "metadata": {},
   "outputs": [],
   "source": [
    "data_item_download = di.key\n",
    "data_item_download\n",
    "train_run = func.run(action=\"job\", inputs={\"parkings_di\":data_item_download}, parameters={\"n_epochs\": 50})"
   ]
  },
  {
   "cell_type": "markdown",
   "id": "96e6ef81-2975-4cf5-8a49-73ced7adef92",
   "metadata": {},
   "source": [
    "## Deploy Model\n",
    "Next, we deploy the model in the serving function. Given that the interaction does not correspond to a standard MLRun model server, we will deploy the function as a custom server. See the implementation of serve_multimodel.py for more details.\n",
    "\n",
    "For this, we add the model to the serving function in the initialization method."
   ]
  },
  {
   "cell_type": "code",
   "execution_count": 39,
   "id": "c9b39776-e8ce-4411-a01f-073fc238ff82",
   "metadata": {},
   "outputs": [
    {
     "name": "stdout",
     "output_type": "stream",
     "text": [
      "Overwriting serve_multimodel.py\n"
     ]
    }
   ],
   "source": [
    "%%writefile \"serve_multimodel.py\"\n",
    "\n",
    "from darts.models import NBEATSModel\n",
    "from zipfile import ZipFile\n",
    "from darts import TimeSeries\n",
    "import json\n",
    "import pandas as pd\n",
    "\n",
    "def init(context):\n",
    "    # Qua ti setti il nome del modello che vuoi caricare\n",
    "    model_name = \"modello_parcheggi\"\n",
    "\n",
    "    # prendi l'entity model sulla base del nome\n",
    "    model = context.project.get_model(model_name)\n",
    "    path = model.download()\n",
    "    local_path_model = \"extracted_model/\"\n",
    "    # Qua fai unzip immagino\n",
    "    with ZipFile(path, 'r') as zip_ref:\n",
    "        zip_ref.extractall(local_path_model)\n",
    "    \n",
    "    # codice che carica il modello\n",
    "    input_chunk_length = 24\n",
    "    output_chunk_length = 12\n",
    "    name_model_local = local_path_model +\"parcheggi_predictor_model.pt\"\n",
    "    mm = NBEATSModel(\n",
    "            input_chunk_length,\n",
    "            output_chunk_length\n",
    "    ).load(name_model_local)\n",
    "\n",
    "    # settare model nel context di nuclio (non su project che è il context nostro)\n",
    "    # context.setattr(\"model\", mm)\n",
    "    setattr(context, \"model\", mm)\n",
    "\n",
    "def serve(context, event):\n",
    "\n",
    "    # Sostanzialmente invochiamo la funzione con una chiamata REST\n",
    "    # Nel body della richiesta mandi l'inference input\n",
    "    \n",
    "    if isinstance(event.body, bytes):\n",
    "        body = json.loads(event.body)\n",
    "    else:\n",
    "        body = event.body\n",
    "    context.logger.info(f\"Received event: {body}\")\n",
    "    inference_input = body[\"inference_input\"]\n",
    "    \n",
    "    pdf = pd.DataFrame(inference_input)\n",
    "    pdf['date'] = pd.to_datetime(pdf['date'], unit='ms')\n",
    "\n",
    "    ts = TimeSeries.from_dataframe(\n",
    "        pdf,\n",
    "        time_col=\"date\",\n",
    "        value_cols=\"value\",\n",
    "        freq=\"30min\"\n",
    "    )\n",
    "    \n",
    "    output_chunk_length = 12\n",
    "    result = context.model.predict(n=output_chunk_length*2, series=ts)\n",
    "    # Convert the result to a pandas DataFrame, reset the index, and convert to a list\n",
    "    jsonstr = result.pd_dataframe().reset_index().to_json(orient='records')\n",
    "    return json.loads(jsonstr)"
   ]
  },
  {
   "cell_type": "code",
   "execution_count": 40,
   "id": "5b214b2c-bb39-4930-b62f-5de055e2e3e3",
   "metadata": {},
   "outputs": [],
   "source": [
    "func = proj.new_function(name=\"serve_model\",\n",
    "                            kind=\"python\",\n",
    "                            python_version=\"PYTHON3_9\",\n",
    "                            source={\n",
    "                                 \"source\": \"serve_multimodel.py\",\n",
    "                                 \"handler\": \"serve\",\n",
    "                                 \"init_function\": \"init\"})"
   ]
  },
  {
   "cell_type": "code",
   "execution_count": 41,
   "id": "795b19cd-e57d-49c7-8200-ef21f843c8d2",
   "metadata": {},
   "outputs": [],
   "source": [
    "run_build_model_serve = func.run(action=\"build\",instructions=[\"pip3 install torch torchvision torchaudio --index-url https://download.pytorch.org/whl/cpu\",\"pip3 install darts==0.25.0 pandas==1.4.4 numpy==1.22.4 patsy==0.5.2 scikit-learn==1.1.2\"])"
   ]
  },
  {
   "cell_type": "markdown",
   "id": "9cf6c91e-c6b3-4165-a596-8a7af17b741f",
   "metadata": {},
   "source": [
    "Let us wait till the build is finished and then expose the function as a service. For this, we need to run the serve action on the function."
   ]
  },
  {
   "cell_type": "code",
   "execution_count": 42,
   "id": "4e8259bb-7a35-481a-95be-2cc78ce77427",
   "metadata": {},
   "outputs": [],
   "source": [
    "run_serve_model = func.run(action=\"serve\")"
   ]
  },
  {
   "cell_type": "markdown",
   "id": "1d9ad127-4ee9-4a6c-83a1-0679e31af57f",
   "metadata": {},
   "source": [
    "## Test the API\n",
    "Once deployed, we can test the API. Let us test the latest data taken from the OpenData API. We take the latest data regarding the Riva Reno parking and convert it into the format expected by the API: list of dates and values representing the occupation of the parking (percentage)."
   ]
  },
  {
   "cell_type": "code",
   "execution_count": 45,
   "id": "f9a38fc4-fab7-46f8-8c49-5cbae6915880",
   "metadata": {},
   "outputs": [
    {
     "data": {
      "text/plain": [
       "[{'date': 1726162200000, 'value': 0.414893617},\n",
       " {'date': 1726164000000, 'value': 0.4212765957},\n",
       " {'date': 1726165800000, 'value': 0.4234042553},\n",
       " {'date': 1726167600000, 'value': 0.4127659574},\n",
       " {'date': 1726169400000, 'value': 0.4113475177},\n",
       " {'date': 1726171200000, 'value': 0.4205673759},\n",
       " {'date': 1726173000000, 'value': 0.4127659574},\n",
       " {'date': 1726174800000, 'value': 0.4127659574},\n",
       " {'date': 1726176600000, 'value': 0.3822695035},\n",
       " {'date': 1726178400000, 'value': 0.3574468085},\n",
       " {'date': 1726180200000, 'value': 0.3460992908},\n",
       " {'date': 1726182000000, 'value': 0.329787234},\n",
       " {'date': 1726183800000, 'value': 0.3127659574},\n",
       " {'date': 1726185600000, 'value': 0.2921985816},\n",
       " {'date': 1726187400000, 'value': 0.2808510638},\n",
       " {'date': 1726189200000, 'value': 0.275177305},\n",
       " {'date': 1726191000000, 'value': 0.270212766},\n",
       " {'date': 1726192800000, 'value': 0.270212766},\n",
       " {'date': 1726194600000, 'value': 0.270212766},\n",
       " {'date': 1726196400000, 'value': 0.270212766},\n",
       " {'date': 1726198200000, 'value': 0.2695035461},\n",
       " {'date': 1726200000000, 'value': 0.2680851064},\n",
       " {'date': 1726201800000, 'value': 0.2680851064},\n",
       " {'date': 1726203600000, 'value': 0.2680851064},\n",
       " {'date': 1726205400000, 'value': 0.2680851064},\n",
       " {'date': 1726207200000, 'value': 0.2680851064},\n",
       " {'date': 1726209000000, 'value': 0.2680851064},\n",
       " {'date': 1726210800000, 'value': 0.2680851064},\n",
       " {'date': 1726212600000, 'value': 0.2680851064},\n",
       " {'date': 1726214400000, 'value': 0.2808510638},\n",
       " {'date': 1726216200000, 'value': 0.3070921986},\n",
       " {'date': 1726218000000, 'value': 0.3375886525},\n",
       " {'date': 1726219800000, 'value': 0.3496453901},\n",
       " {'date': 1726221600000, 'value': 0.3744680851}]"
      ]
     },
     "execution_count": 45,
     "metadata": {},
     "output_type": "execute_result"
    }
   ],
   "source": [
    "import datetime \n",
    "import requests\n",
    "import json\n",
    "import pandas as pd\n",
    "\n",
    "date_str = datetime.datetime.now().strftime('%Y-%m-%dT%H:%M:%S')\n",
    "parking_str='Riva Reno'\n",
    "API_URL = f'https://opendata.comune.bologna.it/api/explore/v2.1/catalog/datasets/disponibilita-parcheggi-storico/records?where=data%3C%3D%27{date_str}%27%20and%20parcheggio%3D%27{parking_str}%27&order_by=data%20DESC&limit=100'\n",
    "\n",
    "latest_data_file = 'last_records.json'\n",
    "\n",
    "with requests.get(API_URL) as r:\n",
    "    with open(latest_data_file, \"wb\") as f:\n",
    "        f.write(r.content)\n",
    "\n",
    "with open(latest_data_file) as f:\n",
    "    json_data = json.load(f)\n",
    "    df_latest = pd.json_normalize(json_data['results']).drop(columns=['guid', 'occupazione']).rename(columns={\"coordinate.lon\": \"lon\", \"coordinate.lat\": \"lat\"})\n",
    "    df_latest.data = df_latest.data.astype('datetime64')\n",
    "    df_latest['value'] = df_latest.posti_occupati / df_latest.posti_totali\n",
    "    df_latest['date'] = df_latest.data.dt.round('30min')\n",
    "    df_latest = df_latest.drop(columns=['parcheggio'])\n",
    "    df_latest = df_latest.groupby('date').agg({'value': 'mean'})\n",
    "\n",
    "\n",
    "jsonstr = df_latest.reset_index().to_json(orient='records')\n",
    "arr = json.loads(jsonstr)\n",
    "arr"
   ]
  },
  {
   "cell_type": "code",
   "execution_count": 47,
   "id": "66392802-6be7-410d-86b0-dbd6b1d21722",
   "metadata": {},
   "outputs": [
    {
     "name": "stdout",
     "output_type": "stream",
     "text": [
      "b'[{\"date\": 1726223400000, \"value\": 0.4795485759}, {\"date\": 1726225200000, \"value\": 0.5802274172}, {\"date\": 1726227000000, \"value\": 0.7236915274}, {\"date\": 1726228800000, \"value\": 0.8510843116}, {\"date\": 1726230600000, \"value\": 0.7581565059}, {\"date\": 1726232400000, \"value\": 0.8681239932}, {\"date\": 1726234200000, \"value\": 0.7877618728}, {\"date\": 1726236000000, \"value\": 0.826511244}, {\"date\": 1726237800000, \"value\": 0.8255530072}, {\"date\": 1726239600000, \"value\": 0.669558155}, {\"date\": 1726241400000, \"value\": 0.5228900678}, {\"date\": 1726243200000, \"value\": 0.4048109897}, {\"date\": 1726245000000, \"value\": 0.1975216664}, {\"date\": 1726246800000, \"value\": 0.1604257564}, {\"date\": 1726248600000, \"value\": 0.1593986776}, {\"date\": 1726250400000, \"value\": 0.138734339}, {\"date\": 1726252200000, \"value\": 0.1231430721}, {\"date\": 1726254000000, \"value\": 0.0921287087}, {\"date\": 1726255800000, \"value\": 0.1058026794}, {\"date\": 1726257600000, \"value\": 0.112943261}, {\"date\": 1726259400000, \"value\": 0.1335331134}, {\"date\": 1726261200000, \"value\": 0.1558745925}, {\"date\": 1726263000000, \"value\": 0.1496855192}, {\"date\": 1726264800000, \"value\": 0.1652064876}]'\n"
     ]
    }
   ],
   "source": [
    "run_serve_model.refresh()\n",
    "SERVICE_URL = run_serve_model.status.to_dict()[\"service\"][\"url\"]\n",
    "\n",
    "with requests.post(f'http://{SERVICE_URL}', json={\"inference_input\":arr}) as r:\n",
    "    res = r.content\n",
    "print(res)"
   ]
  },
  {
   "cell_type": "code",
   "execution_count": null,
   "id": "822e2d5b-19e0-4d91-a701-13dcd6e2e40a",
   "metadata": {},
   "outputs": [],
   "source": []
  }
 ],
 "metadata": {
  "kernelspec": {
   "display_name": "Python 3 (ipykernel)",
   "language": "python",
   "name": "python3"
  },
  "language_info": {
   "codemirror_mode": {
    "name": "ipython",
    "version": 3
   },
   "file_extension": ".py",
   "mimetype": "text/x-python",
   "name": "python",
   "nbconvert_exporter": "python",
   "pygments_lexer": "ipython3",
   "version": "3.10.11"
  }
 },
 "nbformat": 4,
 "nbformat_minor": 5
}
