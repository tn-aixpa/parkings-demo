{
 "cells": [
  {
   "cell_type": "markdown",
   "id": "e6e0403a-7f71-4461-96ed-ccccc014a1df",
   "metadata": {},
   "source": [
    "## 1. Model Training\n",
    "We train a data prediction model using darts framework and NBEATS Deep Learning model."
   ]
  },
  {
   "cell_type": "code",
   "execution_count": 1,
   "id": "00f75c71-9f2a-4f03-ab89-0c9f174de31d",
   "metadata": {
    "collapsed": true,
    "jupyter": {
     "outputs_hidden": true
    },
    "tags": []
   },
   "outputs": [
    {
     "name": "stdout",
     "output_type": "stream",
     "text": [
      "Collecting darts==0.25.0\n",
      "  Obtaining dependency information for darts==0.25.0 from https://files.pythonhosted.org/packages/a3/d1/5407b24307b7b2a2c6332b352964f901855e55d41974e1e81f621c24b21f/darts-0.25.0-py3-none-any.whl.metadata\n",
      "  Downloading darts-0.25.0-py3-none-any.whl.metadata (48 kB)\n",
      "\u001b[2K     \u001b[90m━━━━━━━━━━━━━━━━━━━━━━━━━━━━━━━━━━━━━━━━\u001b[0m \u001b[32m48.5/48.5 kB\u001b[0m \u001b[31m3.6 MB/s\u001b[0m eta \u001b[36m0:00:00\u001b[0m\n",
      "\u001b[?25hCollecting pandas==1.4.4\n",
      "  Obtaining dependency information for pandas==1.4.4 from https://files.pythonhosted.org/packages/91/2e/f2e84148e71dda670b310f1f7b9a220181e5dc1fe2f9dcf6a8632412bf4e/pandas-1.4.4-cp39-cp39-manylinux_2_17_x86_64.manylinux2014_x86_64.whl.metadata\n",
      "  Downloading pandas-1.4.4-cp39-cp39-manylinux_2_17_x86_64.manylinux2014_x86_64.whl.metadata (12 kB)\n",
      "Collecting numpy==1.22.4\n",
      "  Obtaining dependency information for numpy==1.22.4 from https://files.pythonhosted.org/packages/32/82/0a28e3a04411a1a4c1d099bb94349f97050579f90a0290432f09d9a58148/numpy-1.22.4-cp39-cp39-manylinux_2_17_x86_64.manylinux2014_x86_64.whl.metadata\n",
      "  Downloading numpy-1.22.4-cp39-cp39-manylinux_2_17_x86_64.manylinux2014_x86_64.whl.metadata (2.0 kB)\n",
      "Requirement already satisfied: patsy==0.5.2 in /opt/conda/lib/python3.9/site-packages (0.5.2)\n",
      "Collecting scikit-learn==1.1.2\n",
      "  Obtaining dependency information for scikit-learn==1.1.2 from https://files.pythonhosted.org/packages/73/80/a0df6812b29132db32b7712e9b4e8113aa76c5d68147a2e2b5f59042b5ea/scikit_learn-1.1.2-cp39-cp39-manylinux_2_17_x86_64.manylinux2014_x86_64.whl.metadata\n",
      "  Downloading scikit_learn-1.1.2-cp39-cp39-manylinux_2_17_x86_64.manylinux2014_x86_64.whl.metadata (10 kB)\n",
      "Collecting holidays>=0.11.1 (from darts==0.25.0)\n",
      "  Obtaining dependency information for holidays>=0.11.1 from https://files.pythonhosted.org/packages/7b/ac/034c669a23438b6d5a2d42d3d73ddad8439fc8b7057a884e4639cb2698f9/holidays-0.52-py3-none-any.whl.metadata\n",
      "  Downloading holidays-0.52-py3-none-any.whl.metadata (23 kB)\n",
      "Requirement already satisfied: joblib>=0.16.0 in /opt/conda/lib/python3.9/site-packages (from darts==0.25.0) (1.2.0)\n",
      "Requirement already satisfied: matplotlib>=3.3.0 in /opt/conda/lib/python3.9/site-packages (from darts==0.25.0) (3.6.0)\n",
      "Collecting nfoursid>=1.0.0 (from darts==0.25.0)\n",
      "  Obtaining dependency information for nfoursid>=1.0.0 from https://files.pythonhosted.org/packages/0a/92/dda081df8d207b72e419ef5dbd6a861041ceabdc609557249f334555a619/nfoursid-1.0.1-py3-none-any.whl.metadata\n",
      "  Downloading nfoursid-1.0.1-py3-none-any.whl.metadata (1.9 kB)\n",
      "Collecting pmdarima>=1.8.0 (from darts==0.25.0)\n",
      "  Obtaining dependency information for pmdarima>=1.8.0 from https://files.pythonhosted.org/packages/a2/14/cd7417d90312ad6de4e5bb48d98f0b89e77bb427f5b80495074ab25cd13b/pmdarima-2.0.4-cp39-cp39-manylinux_2_17_x86_64.manylinux2014_x86_64.manylinux_2_28_x86_64.whl.metadata\n",
      "  Downloading pmdarima-2.0.4-cp39-cp39-manylinux_2_17_x86_64.manylinux2014_x86_64.manylinux_2_28_x86_64.whl.metadata (7.8 kB)\n",
      "Collecting pyod>=0.9.5 (from darts==0.25.0)\n",
      "  Downloading pyod-2.0.1.tar.gz (163 kB)\n",
      "\u001b[2K     \u001b[90m━━━━━━━━━━━━━━━━━━━━━━━━━━━━━━━━━━━━━━\u001b[0m \u001b[32m163.8/163.8 kB\u001b[0m \u001b[31m14.4 MB/s\u001b[0m eta \u001b[36m0:00:00\u001b[0m\n",
      "\u001b[?25h  Preparing metadata (setup.py) ... \u001b[?25ldone\n",
      "\u001b[?25hRequirement already satisfied: requests>=2.22.0 in /opt/conda/lib/python3.9/site-packages (from darts==0.25.0) (2.31.0)\n",
      "Requirement already satisfied: scipy>=1.3.2 in /opt/conda/lib/python3.9/site-packages (from darts==0.25.0) (1.12.0)\n",
      "Collecting shap>=0.40.0 (from darts==0.25.0)\n",
      "  Obtaining dependency information for shap>=0.40.0 from https://files.pythonhosted.org/packages/c6/53/17cd5c57123f67b03c02d7a86ac5b9af76395f9e85e2e22960b259b2531a/shap-0.46.0-cp39-cp39-manylinux_2_12_x86_64.manylinux2010_x86_64.manylinux_2_17_x86_64.manylinux2014_x86_64.whl.metadata\n",
      "  Downloading shap-0.46.0-cp39-cp39-manylinux_2_12_x86_64.manylinux2010_x86_64.manylinux_2_17_x86_64.manylinux2014_x86_64.whl.metadata (24 kB)\n",
      "Collecting statsforecast>=1.4 (from darts==0.25.0)\n",
      "  Obtaining dependency information for statsforecast>=1.4 from https://files.pythonhosted.org/packages/d3/24/7fd322c05036e97fd64106999c05394c9ad34b00b697859c2bfac68d7734/statsforecast-1.7.5-py3-none-any.whl.metadata\n",
      "  Downloading statsforecast-1.7.5-py3-none-any.whl.metadata (27 kB)\n",
      "Collecting statsmodels>=0.14.0 (from darts==0.25.0)\n",
      "  Obtaining dependency information for statsmodels>=0.14.0 from https://files.pythonhosted.org/packages/e7/54/4c8086e90a54b8e57ac8ad63fc38eea20aa6507fb975efdb6c72210744c9/statsmodels-0.14.2-cp39-cp39-manylinux_2_17_x86_64.manylinux2014_x86_64.whl.metadata\n",
      "  Downloading statsmodels-0.14.2-cp39-cp39-manylinux_2_17_x86_64.manylinux2014_x86_64.whl.metadata (9.2 kB)\n",
      "Collecting tbats>=1.1.0 (from darts==0.25.0)\n",
      "  Obtaining dependency information for tbats>=1.1.0 from https://files.pythonhosted.org/packages/63/94/1949dc644c3fa05b736b988dc8058122f8c0187778ff9f18070bce2d4ddd/tbats-1.1.3-py3-none-any.whl.metadata\n",
      "  Downloading tbats-1.1.3-py3-none-any.whl.metadata (3.8 kB)\n",
      "Requirement already satisfied: tqdm>=4.60.0 in /opt/conda/lib/python3.9/site-packages (from darts==0.25.0) (4.64.1)\n",
      "Requirement already satisfied: typing-extensions in /opt/conda/lib/python3.9/site-packages (from darts==0.25.0) (4.10.0)\n",
      "Collecting xarray>=0.17.0 (from darts==0.25.0)\n",
      "  Obtaining dependency information for xarray>=0.17.0 from https://files.pythonhosted.org/packages/ce/78/7a78d5197e409371c4fd9734ad9ab41ed6f9147b3ac23256c4e6c81295f2/xarray-2024.6.0-py3-none-any.whl.metadata\n",
      "  Downloading xarray-2024.6.0-py3-none-any.whl.metadata (11 kB)\n",
      "Requirement already satisfied: xgboost>=1.6.0 in /opt/conda/lib/python3.9/site-packages (from darts==0.25.0) (1.7.6)\n",
      "Collecting pytorch-lightning>=1.5.0 (from darts==0.25.0)\n",
      "  Obtaining dependency information for pytorch-lightning>=1.5.0 from https://files.pythonhosted.org/packages/cf/1c/6122684e93864c09cf8010e27ad82b3b2f4864bd6864a40cb9e040752277/pytorch_lightning-2.3.3-py3-none-any.whl.metadata\n",
      "  Downloading pytorch_lightning-2.3.3-py3-none-any.whl.metadata (21 kB)\n",
      "Collecting tensorboardX>=2.1 (from darts==0.25.0)\n",
      "  Obtaining dependency information for tensorboardX>=2.1 from https://files.pythonhosted.org/packages/44/71/f3e7c9b2ab67e28c572ab4e9d5fa3499e0d252650f96d8a3a03e26677f53/tensorboardX-2.6.2.2-py2.py3-none-any.whl.metadata\n",
      "  Downloading tensorboardX-2.6.2.2-py2.py3-none-any.whl.metadata (5.8 kB)\n",
      "Collecting torch>=1.8.0 (from darts==0.25.0)\n",
      "  Obtaining dependency information for torch>=1.8.0 from https://files.pythonhosted.org/packages/74/b3/1febb6be57a4f68cb55ea178f5ffca6a10b01b47e182f7b76eddd9168632/torch-2.3.1-cp39-cp39-manylinux1_x86_64.whl.metadata\n",
      "  Downloading torch-2.3.1-cp39-cp39-manylinux1_x86_64.whl.metadata (26 kB)\n",
      "Requirement already satisfied: python-dateutil>=2.8.1 in /opt/conda/lib/python3.9/site-packages (from pandas==1.4.4) (2.8.2)\n",
      "Requirement already satisfied: pytz>=2020.1 in /opt/conda/lib/python3.9/site-packages (from pandas==1.4.4) (2022.4)\n",
      "Requirement already satisfied: six in /opt/conda/lib/python3.9/site-packages (from patsy==0.5.2) (1.16.0)\n",
      "Requirement already satisfied: threadpoolctl>=2.0.0 in /opt/conda/lib/python3.9/site-packages (from scikit-learn==1.1.2) (3.1.0)\n",
      "Requirement already satisfied: contourpy>=1.0.1 in /opt/conda/lib/python3.9/site-packages (from matplotlib>=3.3.0->darts==0.25.0) (1.0.5)\n",
      "Requirement already satisfied: cycler>=0.10 in /opt/conda/lib/python3.9/site-packages (from matplotlib>=3.3.0->darts==0.25.0) (0.11.0)\n",
      "Requirement already satisfied: fonttools>=4.22.0 in /opt/conda/lib/python3.9/site-packages (from matplotlib>=3.3.0->darts==0.25.0) (4.37.4)\n",
      "Requirement already satisfied: kiwisolver>=1.0.1 in /opt/conda/lib/python3.9/site-packages (from matplotlib>=3.3.0->darts==0.25.0) (1.4.4)\n",
      "Requirement already satisfied: packaging>=20.0 in /opt/conda/lib/python3.9/site-packages (from matplotlib>=3.3.0->darts==0.25.0) (21.3)\n",
      "Requirement already satisfied: pillow>=6.2.0 in /opt/conda/lib/python3.9/site-packages (from matplotlib>=3.3.0->darts==0.25.0) (10.2.0)\n",
      "Requirement already satisfied: pyparsing>=2.2.1 in /opt/conda/lib/python3.9/site-packages (from matplotlib>=3.3.0->darts==0.25.0) (3.0.9)\n",
      "Requirement already satisfied: Cython!=0.29.18,!=0.29.31,>=0.29 in /opt/conda/lib/python3.9/site-packages (from pmdarima>=1.8.0->darts==0.25.0) (0.29.32)\n",
      "Requirement already satisfied: urllib3 in /opt/conda/lib/python3.9/site-packages (from pmdarima>=1.8.0->darts==0.25.0) (1.26.11)\n",
      "Requirement already satisfied: setuptools!=50.0.0,>=38.6.0 in /opt/conda/lib/python3.9/site-packages (from pmdarima>=1.8.0->darts==0.25.0) (69.1.1)\n",
      "Requirement already satisfied: numba>=0.51 in /opt/conda/lib/python3.9/site-packages (from pyod>=0.9.5->darts==0.25.0) (0.56.2)\n",
      "Requirement already satisfied: PyYAML>=5.4 in /opt/conda/lib/python3.9/site-packages (from pytorch-lightning>=1.5.0->darts==0.25.0) (5.4.1)\n",
      "Requirement already satisfied: fsspec[http]>=2022.5.0 in /opt/conda/lib/python3.9/site-packages (from pytorch-lightning>=1.5.0->darts==0.25.0) (2023.9.2)\n",
      "Collecting torchmetrics>=0.7.0 (from pytorch-lightning>=1.5.0->darts==0.25.0)\n",
      "  Obtaining dependency information for torchmetrics>=0.7.0 from https://files.pythonhosted.org/packages/6d/e6/e51997d1818a4c1a1ad2b1c7ca5ff9dd95969596add58b2ed39479026964/torchmetrics-1.4.0.post0-py3-none-any.whl.metadata\n",
      "  Downloading torchmetrics-1.4.0.post0-py3-none-any.whl.metadata (19 kB)\n",
      "Collecting lightning-utilities>=0.10.0 (from pytorch-lightning>=1.5.0->darts==0.25.0)\n",
      "  Obtaining dependency information for lightning-utilities>=0.10.0 from https://files.pythonhosted.org/packages/36/bb/8577ddf395654b1790fd433d83c26bd3b236f515a3f7b02e445d4a0797a6/lightning_utilities-0.11.5-py3-none-any.whl.metadata\n",
      "  Downloading lightning_utilities-0.11.5-py3-none-any.whl.metadata (4.7 kB)\n",
      "Requirement already satisfied: charset-normalizer<4,>=2 in /opt/conda/lib/python3.9/site-packages (from requests>=2.22.0->darts==0.25.0) (2.1.1)\n",
      "Requirement already satisfied: idna<4,>=2.5 in /opt/conda/lib/python3.9/site-packages (from requests>=2.22.0->darts==0.25.0) (3.4)\n",
      "Requirement already satisfied: certifi>=2017.4.17 in /opt/conda/lib/python3.9/site-packages (from requests>=2.22.0->darts==0.25.0) (2024.2.2)\n",
      "Collecting slicer==0.0.8 (from shap>=0.40.0->darts==0.25.0)\n",
      "  Obtaining dependency information for slicer==0.0.8 from https://files.pythonhosted.org/packages/63/81/9ef641ff4e12cbcca30e54e72fb0951a2ba195d0cda0ba4100e532d929db/slicer-0.0.8-py3-none-any.whl.metadata\n",
      "  Downloading slicer-0.0.8-py3-none-any.whl.metadata (4.0 kB)\n",
      "Requirement already satisfied: cloudpickle in /opt/conda/lib/python3.9/site-packages (from shap>=0.40.0->darts==0.25.0) (2.2.0)\n",
      "Collecting coreforecast>=0.0.9 (from statsforecast>=1.4->darts==0.25.0)\n",
      "  Obtaining dependency information for coreforecast>=0.0.9 from https://files.pythonhosted.org/packages/1d/3b/010de1458e71eaecdabc40ca8779fcff5e580304e8152a2fdc86e4daa21b/coreforecast-0.0.10-py3-none-manylinux_2_17_x86_64.manylinux2014_x86_64.whl.metadata\n",
      "  Downloading coreforecast-0.0.10-py3-none-manylinux_2_17_x86_64.manylinux2014_x86_64.whl.metadata (3.6 kB)\n",
      "Collecting fugue>=0.8.1 (from statsforecast>=1.4->darts==0.25.0)\n",
      "  Obtaining dependency information for fugue>=0.8.1 from https://files.pythonhosted.org/packages/ec/38/46a0ef179f7279207a3263afeb8da4dd73f44d00b6cc999c96a39112d284/fugue-0.9.1-py3-none-any.whl.metadata\n",
      "  Downloading fugue-0.9.1-py3-none-any.whl.metadata (18 kB)\n",
      "Collecting utilsforecast>=0.1.4 (from statsforecast>=1.4->darts==0.25.0)\n",
      "  Obtaining dependency information for utilsforecast>=0.1.4 from https://files.pythonhosted.org/packages/2a/1a/7dcac872e33a98d5df61127120e1bf66ab700f083aeb52bd84cf7d39771b/utilsforecast-0.1.12-py3-none-any.whl.metadata\n",
      "  Downloading utilsforecast-0.1.12-py3-none-any.whl.metadata (7.5 kB)\n",
      "INFO: pip is looking at multiple versions of statsmodels to determine which version is compatible with other requirements. This could take a while.\n",
      "Collecting statsmodels>=0.14.0 (from darts==0.25.0)\n",
      "  Obtaining dependency information for statsmodels>=0.14.0 from https://files.pythonhosted.org/packages/a9/70/ead31bc6c1592a5237190994cc7023c7a2b79be287d0b3eb883a48019db0/statsmodels-0.14.1-cp39-cp39-manylinux_2_17_x86_64.manylinux2014_x86_64.whl.metadata\n",
      "  Downloading statsmodels-0.14.1-cp39-cp39-manylinux_2_17_x86_64.manylinux2014_x86_64.whl.metadata (9.5 kB)\n",
      "  Obtaining dependency information for statsmodels>=0.14.0 from https://files.pythonhosted.org/packages/77/e8/80a06b41754b82f1cf08fc7271e95c9b345cbe3d65ab71224f7f2489f338/statsmodels-0.14.0-cp39-cp39-manylinux_2_17_x86_64.manylinux2014_x86_64.whl.metadata\n",
      "  Downloading statsmodels-0.14.0-cp39-cp39-manylinux_2_17_x86_64.manylinux2014_x86_64.whl.metadata (9.0 kB)\n",
      "Requirement already satisfied: protobuf>=3.20 in /opt/conda/lib/python3.9/site-packages (from tensorboardX>=2.1->darts==0.25.0) (3.20.3)\n",
      "Collecting filelock (from torch>=1.8.0->darts==0.25.0)\n",
      "  Obtaining dependency information for filelock from https://files.pythonhosted.org/packages/ae/f0/48285f0262fe47103a4a45972ed2f9b93e4c80b8fd609fa98da78b2a5706/filelock-3.15.4-py3-none-any.whl.metadata\n",
      "  Downloading filelock-3.15.4-py3-none-any.whl.metadata (2.9 kB)\n",
      "Requirement already satisfied: sympy in /opt/conda/lib/python3.9/site-packages (from torch>=1.8.0->darts==0.25.0) (1.11.1)\n",
      "Requirement already satisfied: networkx in /opt/conda/lib/python3.9/site-packages (from torch>=1.8.0->darts==0.25.0) (2.8.7)\n",
      "Requirement already satisfied: jinja2 in /opt/conda/lib/python3.9/site-packages (from torch>=1.8.0->darts==0.25.0) (3.1.3)\n",
      "Collecting nvidia-cuda-nvrtc-cu12==12.1.105 (from torch>=1.8.0->darts==0.25.0)\n",
      "  Obtaining dependency information for nvidia-cuda-nvrtc-cu12==12.1.105 from https://files.pythonhosted.org/packages/b6/9f/c64c03f49d6fbc56196664d05dba14e3a561038a81a638eeb47f4d4cfd48/nvidia_cuda_nvrtc_cu12-12.1.105-py3-none-manylinux1_x86_64.whl.metadata\n",
      "  Downloading nvidia_cuda_nvrtc_cu12-12.1.105-py3-none-manylinux1_x86_64.whl.metadata (1.5 kB)\n",
      "Collecting nvidia-cuda-runtime-cu12==12.1.105 (from torch>=1.8.0->darts==0.25.0)\n",
      "  Obtaining dependency information for nvidia-cuda-runtime-cu12==12.1.105 from https://files.pythonhosted.org/packages/eb/d5/c68b1d2cdfcc59e72e8a5949a37ddb22ae6cade80cd4a57a84d4c8b55472/nvidia_cuda_runtime_cu12-12.1.105-py3-none-manylinux1_x86_64.whl.metadata\n",
      "  Downloading nvidia_cuda_runtime_cu12-12.1.105-py3-none-manylinux1_x86_64.whl.metadata (1.5 kB)\n",
      "Collecting nvidia-cuda-cupti-cu12==12.1.105 (from torch>=1.8.0->darts==0.25.0)\n",
      "  Obtaining dependency information for nvidia-cuda-cupti-cu12==12.1.105 from https://files.pythonhosted.org/packages/7e/00/6b218edd739ecfc60524e585ba8e6b00554dd908de2c9c66c1af3e44e18d/nvidia_cuda_cupti_cu12-12.1.105-py3-none-manylinux1_x86_64.whl.metadata\n",
      "  Downloading nvidia_cuda_cupti_cu12-12.1.105-py3-none-manylinux1_x86_64.whl.metadata (1.6 kB)\n",
      "Collecting nvidia-cudnn-cu12==8.9.2.26 (from torch>=1.8.0->darts==0.25.0)\n",
      "  Obtaining dependency information for nvidia-cudnn-cu12==8.9.2.26 from https://files.pythonhosted.org/packages/ff/74/a2e2be7fb83aaedec84f391f082cf765dfb635e7caa9b49065f73e4835d8/nvidia_cudnn_cu12-8.9.2.26-py3-none-manylinux1_x86_64.whl.metadata\n",
      "  Downloading nvidia_cudnn_cu12-8.9.2.26-py3-none-manylinux1_x86_64.whl.metadata (1.6 kB)\n",
      "Collecting nvidia-cublas-cu12==12.1.3.1 (from torch>=1.8.0->darts==0.25.0)\n",
      "  Obtaining dependency information for nvidia-cublas-cu12==12.1.3.1 from https://files.pythonhosted.org/packages/37/6d/121efd7382d5b0284239f4ab1fc1590d86d34ed4a4a2fdb13b30ca8e5740/nvidia_cublas_cu12-12.1.3.1-py3-none-manylinux1_x86_64.whl.metadata\n",
      "  Downloading nvidia_cublas_cu12-12.1.3.1-py3-none-manylinux1_x86_64.whl.metadata (1.5 kB)\n",
      "Collecting nvidia-cufft-cu12==11.0.2.54 (from torch>=1.8.0->darts==0.25.0)\n",
      "  Obtaining dependency information for nvidia-cufft-cu12==11.0.2.54 from https://files.pythonhosted.org/packages/86/94/eb540db023ce1d162e7bea9f8f5aa781d57c65aed513c33ee9a5123ead4d/nvidia_cufft_cu12-11.0.2.54-py3-none-manylinux1_x86_64.whl.metadata\n",
      "  Downloading nvidia_cufft_cu12-11.0.2.54-py3-none-manylinux1_x86_64.whl.metadata (1.5 kB)\n",
      "Collecting nvidia-curand-cu12==10.3.2.106 (from torch>=1.8.0->darts==0.25.0)\n",
      "  Obtaining dependency information for nvidia-curand-cu12==10.3.2.106 from https://files.pythonhosted.org/packages/44/31/4890b1c9abc496303412947fc7dcea3d14861720642b49e8ceed89636705/nvidia_curand_cu12-10.3.2.106-py3-none-manylinux1_x86_64.whl.metadata\n",
      "  Downloading nvidia_curand_cu12-10.3.2.106-py3-none-manylinux1_x86_64.whl.metadata (1.5 kB)\n",
      "Collecting nvidia-cusolver-cu12==11.4.5.107 (from torch>=1.8.0->darts==0.25.0)\n",
      "  Obtaining dependency information for nvidia-cusolver-cu12==11.4.5.107 from https://files.pythonhosted.org/packages/bc/1d/8de1e5c67099015c834315e333911273a8c6aaba78923dd1d1e25fc5f217/nvidia_cusolver_cu12-11.4.5.107-py3-none-manylinux1_x86_64.whl.metadata\n",
      "  Downloading nvidia_cusolver_cu12-11.4.5.107-py3-none-manylinux1_x86_64.whl.metadata (1.6 kB)\n",
      "Collecting nvidia-cusparse-cu12==12.1.0.106 (from torch>=1.8.0->darts==0.25.0)\n",
      "  Obtaining dependency information for nvidia-cusparse-cu12==12.1.0.106 from https://files.pythonhosted.org/packages/65/5b/cfaeebf25cd9fdec14338ccb16f6b2c4c7fa9163aefcf057d86b9cc248bb/nvidia_cusparse_cu12-12.1.0.106-py3-none-manylinux1_x86_64.whl.metadata\n",
      "  Downloading nvidia_cusparse_cu12-12.1.0.106-py3-none-manylinux1_x86_64.whl.metadata (1.6 kB)\n",
      "Collecting nvidia-nccl-cu12==2.20.5 (from torch>=1.8.0->darts==0.25.0)\n",
      "  Obtaining dependency information for nvidia-nccl-cu12==2.20.5 from https://files.pythonhosted.org/packages/4b/2a/0a131f572aa09f741c30ccd45a8e56316e8be8dfc7bc19bf0ab7cfef7b19/nvidia_nccl_cu12-2.20.5-py3-none-manylinux2014_x86_64.whl.metadata\n",
      "  Downloading nvidia_nccl_cu12-2.20.5-py3-none-manylinux2014_x86_64.whl.metadata (1.8 kB)\n",
      "Collecting nvidia-nvtx-cu12==12.1.105 (from torch>=1.8.0->darts==0.25.0)\n",
      "  Obtaining dependency information for nvidia-nvtx-cu12==12.1.105 from https://files.pythonhosted.org/packages/da/d3/8057f0587683ed2fcd4dbfbdfdfa807b9160b809976099d36b8f60d08f03/nvidia_nvtx_cu12-12.1.105-py3-none-manylinux1_x86_64.whl.metadata\n",
      "  Downloading nvidia_nvtx_cu12-12.1.105-py3-none-manylinux1_x86_64.whl.metadata (1.7 kB)\n",
      "Collecting triton==2.3.1 (from torch>=1.8.0->darts==0.25.0)\n",
      "  Obtaining dependency information for triton==2.3.1 from https://files.pythonhosted.org/packages/fe/31/a3783aaab3a75d8b622b0fa822eb3ae95063dec8e866a18d574ae64f33bd/triton-2.3.1-cp39-cp39-manylinux_2_17_x86_64.manylinux2014_x86_64.whl.metadata\n",
      "  Downloading triton-2.3.1-cp39-cp39-manylinux_2_17_x86_64.manylinux2014_x86_64.whl.metadata (1.4 kB)\n",
      "Collecting nvidia-nvjitlink-cu12 (from nvidia-cusolver-cu12==11.4.5.107->torch>=1.8.0->darts==0.25.0)\n",
      "  Obtaining dependency information for nvidia-nvjitlink-cu12 from https://files.pythonhosted.org/packages/75/bc/e0d0dbb85246a086ab14839979039647bce501d8c661a159b8b019d987b7/nvidia_nvjitlink_cu12-12.5.82-py3-none-manylinux2014_x86_64.whl.metadata\n",
      "  Downloading nvidia_nvjitlink_cu12-12.5.82-py3-none-manylinux2014_x86_64.whl.metadata (1.5 kB)\n",
      "INFO: pip is looking at multiple versions of xarray to determine which version is compatible with other requirements. This could take a while.\n",
      "Collecting xarray>=0.17.0 (from darts==0.25.0)\n",
      "  Obtaining dependency information for xarray>=0.17.0 from https://files.pythonhosted.org/packages/67/91/1f55f0e026fba8eba15afb7d097bb873bd6a9e466be45a45e7cac40a930b/xarray-2024.5.0-py3-none-any.whl.metadata\n",
      "  Downloading xarray-2024.5.0-py3-none-any.whl.metadata (11 kB)\n",
      "  Obtaining dependency information for xarray>=0.17.0 from https://files.pythonhosted.org/packages/f7/fe/c4d15ac730b2bcdd530e4bc6491958c53237eb573dba4eec3ad31ff0519a/xarray-2024.3.0-py3-none-any.whl.metadata\n",
      "  Downloading xarray-2024.3.0-py3-none-any.whl.metadata (11 kB)\n",
      "  Obtaining dependency information for xarray>=0.17.0 from https://files.pythonhosted.org/packages/47/f6/f2d4a0a2a4eb6fc427f1e482987e24104c9710c4244c76ea75b55243ada0/xarray-2024.2.0-py3-none-any.whl.metadata\n",
      "  Downloading xarray-2024.2.0-py3-none-any.whl.metadata (11 kB)\n",
      "  Obtaining dependency information for xarray>=0.17.0 from https://files.pythonhosted.org/packages/d4/b5/2af411546a4c2be8d6315bc01be055fbad367bc9c57dbd773ad05db62b1c/xarray-2024.1.1-py3-none-any.whl.metadata\n",
      "  Downloading xarray-2024.1.1-py3-none-any.whl.metadata (11 kB)\n",
      "  Obtaining dependency information for xarray>=0.17.0 from https://files.pythonhosted.org/packages/e9/c4/7f7ea950c721f002268d17e538c85108e5b09e4fe24e4b79e604bfb59660/xarray-2024.1.0-py3-none-any.whl.metadata\n",
      "  Downloading xarray-2024.1.0-py3-none-any.whl.metadata (11 kB)\n",
      "  Obtaining dependency information for xarray>=0.17.0 from https://files.pythonhosted.org/packages/54/a3/289d1b5703412247551fc9f2057e8726567bdd278d25c37ad834f78c851e/xarray-2023.12.0-py3-none-any.whl.metadata\n",
      "  Downloading xarray-2023.12.0-py3-none-any.whl.metadata (11 kB)\n",
      "Requirement already satisfied: importlib_resources in /opt/conda/lib/python3.9/site-packages (from coreforecast>=0.0.9->statsforecast>=1.4->darts==0.25.0) (5.10.0)\n",
      "Requirement already satisfied: aiohttp!=4.0.0a0,!=4.0.0a1 in /opt/conda/lib/python3.9/site-packages (from fsspec[http]>=2022.5.0->pytorch-lightning>=1.5.0->darts==0.25.0) (3.9.3)\n",
      "Collecting triad>=0.9.7 (from fugue>=0.8.1->statsforecast>=1.4->darts==0.25.0)\n",
      "  Obtaining dependency information for triad>=0.9.7 from https://files.pythonhosted.org/packages/4f/c6/4aedce0522bb3c72f2d770e7e4c18b0e1f7716d2c70a865e94c89ebcf7e6/triad-0.9.8-py3-none-any.whl.metadata\n",
      "  Downloading triad-0.9.8-py3-none-any.whl.metadata (6.3 kB)\n",
      "Collecting adagio>=0.2.4 (from fugue>=0.8.1->statsforecast>=1.4->darts==0.25.0)\n",
      "  Obtaining dependency information for adagio>=0.2.4 from https://files.pythonhosted.org/packages/7c/9f/b7d00edfa2b7195e9e2e29d97a5fbd7a8a0ba4b16fcacf670d76e21d8938/adagio-0.2.4-py3-none-any.whl.metadata\n",
      "  Downloading adagio-0.2.4-py3-none-any.whl.metadata (1.8 kB)\n",
      "Requirement already satisfied: llvmlite<0.40,>=0.39.0dev0 in /opt/conda/lib/python3.9/site-packages (from numba>=0.51->pyod>=0.9.5->darts==0.25.0) (0.39.1)\n",
      "Requirement already satisfied: MarkupSafe>=2.0 in /opt/conda/lib/python3.9/site-packages (from jinja2->torch>=1.8.0->darts==0.25.0) (2.1.1)\n",
      "Requirement already satisfied: mpmath>=0.19 in /opt/conda/lib/python3.9/site-packages (from sympy->torch>=1.8.0->darts==0.25.0) (1.3.0)\n",
      "Requirement already satisfied: aiosignal>=1.1.2 in /opt/conda/lib/python3.9/site-packages (from aiohttp!=4.0.0a0,!=4.0.0a1->fsspec[http]>=2022.5.0->pytorch-lightning>=1.5.0->darts==0.25.0) (1.3.1)\n",
      "Requirement already satisfied: attrs>=17.3.0 in /opt/conda/lib/python3.9/site-packages (from aiohttp!=4.0.0a0,!=4.0.0a1->fsspec[http]>=2022.5.0->pytorch-lightning>=1.5.0->darts==0.25.0) (22.1.0)\n",
      "Requirement already satisfied: frozenlist>=1.1.1 in /opt/conda/lib/python3.9/site-packages (from aiohttp!=4.0.0a0,!=4.0.0a1->fsspec[http]>=2022.5.0->pytorch-lightning>=1.5.0->darts==0.25.0) (1.4.1)\n",
      "Requirement already satisfied: multidict<7.0,>=4.5 in /opt/conda/lib/python3.9/site-packages (from aiohttp!=4.0.0a0,!=4.0.0a1->fsspec[http]>=2022.5.0->pytorch-lightning>=1.5.0->darts==0.25.0) (6.0.5)\n",
      "Requirement already satisfied: yarl<2.0,>=1.0 in /opt/conda/lib/python3.9/site-packages (from aiohttp!=4.0.0a0,!=4.0.0a1->fsspec[http]>=2022.5.0->pytorch-lightning>=1.5.0->darts==0.25.0) (1.9.4)\n",
      "Requirement already satisfied: async-timeout<5.0,>=4.0 in /opt/conda/lib/python3.9/site-packages (from aiohttp!=4.0.0a0,!=4.0.0a1->fsspec[http]>=2022.5.0->pytorch-lightning>=1.5.0->darts==0.25.0) (4.0.3)\n",
      "Requirement already satisfied: pyarrow>=6.0.1 in /opt/conda/lib/python3.9/site-packages (from triad>=0.9.7->fugue>=0.8.1->statsforecast>=1.4->darts==0.25.0) (14.0.2)\n",
      "Collecting fs (from triad>=0.9.7->fugue>=0.8.1->statsforecast>=1.4->darts==0.25.0)\n",
      "  Obtaining dependency information for fs from https://files.pythonhosted.org/packages/b9/5c/a3d95dc1ec6cdeb032d789b552ecc76effa3557ea9186e1566df6aac18df/fs-2.4.16-py2.py3-none-any.whl.metadata\n",
      "  Downloading fs-2.4.16-py2.py3-none-any.whl.metadata (6.3 kB)\n",
      "Requirement already satisfied: zipp>=3.1.0 in /opt/conda/lib/python3.9/site-packages (from importlib_resources->coreforecast>=0.0.9->statsforecast>=1.4->darts==0.25.0) (3.9.0)\n",
      "Collecting appdirs~=1.4.3 (from fs->triad>=0.9.7->fugue>=0.8.1->statsforecast>=1.4->darts==0.25.0)\n",
      "  Obtaining dependency information for appdirs~=1.4.3 from https://files.pythonhosted.org/packages/3b/00/2344469e2084fb287c2e0b57b72910309874c3245463acd6cf5e3db69324/appdirs-1.4.4-py2.py3-none-any.whl.metadata\n",
      "  Downloading appdirs-1.4.4-py2.py3-none-any.whl.metadata (9.0 kB)\n",
      "Downloading darts-0.25.0-py3-none-any.whl (760 kB)\n",
      "\u001b[2K   \u001b[90m━━━━━━━━━━━━━━━━━━━━━━━━━━━━━━━━━━━━━━━━\u001b[0m \u001b[32m760.5/760.5 kB\u001b[0m \u001b[31m35.9 MB/s\u001b[0m eta \u001b[36m0:00:00\u001b[0m\n",
      "\u001b[?25hDownloading pandas-1.4.4-cp39-cp39-manylinux_2_17_x86_64.manylinux2014_x86_64.whl (11.7 MB)\n",
      "\u001b[2K   \u001b[90m━━━━━━━━━━━━━━━━━━━━━━━━━━━━━━━━━━━━━━━━\u001b[0m \u001b[32m11.7/11.7 MB\u001b[0m \u001b[31m252.1 MB/s\u001b[0m eta \u001b[36m0:00:00\u001b[0m \u001b[36m0:00:01\u001b[0m\n",
      "\u001b[?25hDownloading numpy-1.22.4-cp39-cp39-manylinux_2_17_x86_64.manylinux2014_x86_64.whl (16.8 MB)\n",
      "\u001b[2K   \u001b[90m━━━━━━━━━━━━━━━━━━━━━━━━━━━━━━━━━━━━━━━━\u001b[0m \u001b[32m16.8/16.8 MB\u001b[0m \u001b[31m277.0 MB/s\u001b[0m eta \u001b[36m0:00:00\u001b[0m \u001b[36m0:00:01\u001b[0m\n",
      "\u001b[?25hDownloading scikit_learn-1.1.2-cp39-cp39-manylinux_2_17_x86_64.manylinux2014_x86_64.whl (30.8 MB)\n",
      "\u001b[2K   \u001b[90m━━━━━━━━━━━━━━━━━━━━━━━━━━━━━━━━━━━━━━━━\u001b[0m \u001b[32m30.8/30.8 MB\u001b[0m \u001b[31m281.3 MB/s\u001b[0m eta \u001b[36m0:00:00\u001b[0ma \u001b[36m0:00:01\u001b[0m\n",
      "\u001b[?25hDownloading holidays-0.52-py3-none-any.whl (1.0 MB)\n",
      "\u001b[2K   \u001b[90m━━━━━━━━━━━━━━━━━━━━━━━━━━━━━━━━━━━━━━━━\u001b[0m \u001b[32m1.0/1.0 MB\u001b[0m \u001b[31m452.4 MB/s\u001b[0m eta \u001b[36m0:00:00\u001b[0m\n",
      "\u001b[?25hDownloading nfoursid-1.0.1-py3-none-any.whl (16 kB)\n",
      "Downloading pmdarima-2.0.4-cp39-cp39-manylinux_2_17_x86_64.manylinux2014_x86_64.manylinux_2_28_x86_64.whl (2.1 MB)\n",
      "\u001b[2K   \u001b[90m━━━━━━━━━━━━━━━━━━━━━━━━━━━━━━━━━━━━━━━━\u001b[0m \u001b[32m2.1/2.1 MB\u001b[0m \u001b[31m405.5 MB/s\u001b[0m eta \u001b[36m0:00:00\u001b[0m\n",
      "\u001b[?25hDownloading pytorch_lightning-2.3.3-py3-none-any.whl (812 kB)\n",
      "\u001b[2K   \u001b[90m━━━━━━━━━━━━━━━━━━━━━━━━━━━━━━━━━━━━━━━\u001b[0m \u001b[32m812.3/812.3 kB\u001b[0m \u001b[31m430.4 MB/s\u001b[0m eta \u001b[36m0:00:00\u001b[0m\n",
      "\u001b[?25hDownloading shap-0.46.0-cp39-cp39-manylinux_2_12_x86_64.manylinux2010_x86_64.manylinux_2_17_x86_64.manylinux2014_x86_64.whl (539 kB)\n",
      "\u001b[2K   \u001b[90m━━━━━━━━━━━━━━━━━━━━━━━━━━━━━━━━━━━━━━━\u001b[0m \u001b[32m539.9/539.9 kB\u001b[0m \u001b[31m374.5 MB/s\u001b[0m eta \u001b[36m0:00:00\u001b[0m\n",
      "\u001b[?25hDownloading slicer-0.0.8-py3-none-any.whl (15 kB)\n",
      "Downloading statsforecast-1.7.5-py3-none-any.whl (133 kB)\n",
      "\u001b[2K   \u001b[90m━━━━━━━━━━━━━━━━━━━━━━━━━━━━━━━━━━━━━━━\u001b[0m \u001b[32m133.4/133.4 kB\u001b[0m \u001b[31m350.2 MB/s\u001b[0m eta \u001b[36m0:00:00\u001b[0m\n",
      "\u001b[?25hDownloading statsmodels-0.14.0-cp39-cp39-manylinux_2_17_x86_64.manylinux2014_x86_64.whl (10.1 MB)\n",
      "\u001b[2K   \u001b[90m━━━━━━━━━━━━━━━━━━━━━━━━━━━━━━━━━━━━━━━━\u001b[0m \u001b[32m10.1/10.1 MB\u001b[0m \u001b[31m280.1 MB/s\u001b[0m eta \u001b[36m0:00:00\u001b[0m \u001b[36m0:00:01\u001b[0m\n",
      "\u001b[?25hDownloading tbats-1.1.3-py3-none-any.whl (44 kB)\n",
      "\u001b[2K   \u001b[90m━━━━━━━━━━━━━━━━━━━━━━━━━━━━━━━━━━━━━━━━\u001b[0m \u001b[32m44.0/44.0 kB\u001b[0m \u001b[31m289.0 MB/s\u001b[0m eta \u001b[36m0:00:00\u001b[0m\n",
      "\u001b[?25hDownloading tensorboardX-2.6.2.2-py2.py3-none-any.whl (101 kB)\n",
      "\u001b[2K   \u001b[90m━━━━━━━━━━━━━━━━━━━━━━━━━━━━━━━━━━━━━━━\u001b[0m \u001b[32m101.7/101.7 kB\u001b[0m \u001b[31m276.6 MB/s\u001b[0m eta \u001b[36m0:00:00\u001b[0m\n",
      "\u001b[?25hDownloading torch-2.3.1-cp39-cp39-manylinux1_x86_64.whl (779.1 MB)\n",
      "\u001b[2K   \u001b[90m━━━━━━━━━━━━━━━━━━━━━━━━━━━━━━━━━━━━━━━\u001b[0m \u001b[32m779.1/779.1 MB\u001b[0m \u001b[31m136.8 MB/s\u001b[0m eta \u001b[36m0:00:00\u001b[0m00:01\u001b[0m00:01\u001b[0m\n",
      "\u001b[?25hDownloading nvidia_cublas_cu12-12.1.3.1-py3-none-manylinux1_x86_64.whl (410.6 MB)\n",
      "\u001b[2K   \u001b[90m━━━━━━━━━━━━━━━━━━━━━━━━━━━━━━━━━━━━━━━\u001b[0m \u001b[32m410.6/410.6 MB\u001b[0m \u001b[31m195.5 MB/s\u001b[0m eta \u001b[36m0:00:00\u001b[0m00:01\u001b[0m00:01\u001b[0m\n",
      "\u001b[?25hDownloading nvidia_cuda_cupti_cu12-12.1.105-py3-none-manylinux1_x86_64.whl (14.1 MB)\n",
      "\u001b[2K   \u001b[90m━━━━━━━━━━━━━━━━━━━━━━━━━━━━━━━━━━━━━━━━\u001b[0m \u001b[32m14.1/14.1 MB\u001b[0m \u001b[31m239.6 MB/s\u001b[0m eta \u001b[36m0:00:00\u001b[0m \u001b[36m0:00:01\u001b[0m\n",
      "\u001b[?25hDownloading nvidia_cuda_nvrtc_cu12-12.1.105-py3-none-manylinux1_x86_64.whl (23.7 MB)\n",
      "\u001b[2K   \u001b[90m━━━━━━━━━━━━━━━━━━━━━━━━━━━━━━━━━━━━━━━━\u001b[0m \u001b[32m23.7/23.7 MB\u001b[0m \u001b[31m231.2 MB/s\u001b[0m eta \u001b[36m0:00:00\u001b[0ma \u001b[36m0:00:01\u001b[0m\n",
      "\u001b[?25hDownloading nvidia_cuda_runtime_cu12-12.1.105-py3-none-manylinux1_x86_64.whl (823 kB)\n",
      "\u001b[2K   \u001b[90m━━━━━━━━━━━━━━━━━━━━━━━━━━━━━━━━━━━━━━━\u001b[0m \u001b[32m823.6/823.6 kB\u001b[0m \u001b[31m431.4 MB/s\u001b[0m eta \u001b[36m0:00:00\u001b[0m\n",
      "\u001b[?25hDownloading nvidia_cudnn_cu12-8.9.2.26-py3-none-manylinux1_x86_64.whl (731.7 MB)\n",
      "\u001b[2K   \u001b[90m━━━━━━━━━━━━━━━━━━━━━━━━━━━━━━━━━━━━━━━\u001b[0m \u001b[32m731.7/731.7 MB\u001b[0m \u001b[31m246.3 MB/s\u001b[0m eta \u001b[36m0:00:00\u001b[0m00:01\u001b[0m00:01\u001b[0m\n",
      "\u001b[?25hDownloading nvidia_cufft_cu12-11.0.2.54-py3-none-manylinux1_x86_64.whl (121.6 MB)\n",
      "\u001b[2K   \u001b[90m━━━━━━━━━━━━━━━━━━━━━━━━━━━━━━━━━━━━━━━\u001b[0m \u001b[32m121.6/121.6 MB\u001b[0m \u001b[31m273.5 MB/s\u001b[0m eta \u001b[36m0:00:00\u001b[0ma \u001b[36m0:00:01\u001b[0m\n",
      "\u001b[?25hDownloading nvidia_curand_cu12-10.3.2.106-py3-none-manylinux1_x86_64.whl (56.5 MB)\n",
      "\u001b[2K   \u001b[90m━━━━━━━━━━━━━━━━━━━━━━━━━━━━━━━━━━━━━━━━\u001b[0m \u001b[32m56.5/56.5 MB\u001b[0m \u001b[31m210.5 MB/s\u001b[0m eta \u001b[36m0:00:00\u001b[0ma \u001b[36m0:00:01\u001b[0m\n",
      "\u001b[?25hDownloading nvidia_cusolver_cu12-11.4.5.107-py3-none-manylinux1_x86_64.whl (124.2 MB)\n",
      "\u001b[2K   \u001b[90m━━━━━━━━━━━━━━━━━━━━━━━━━━━━━━━━━━━━━━━\u001b[0m \u001b[32m124.2/124.2 MB\u001b[0m \u001b[31m176.8 MB/s\u001b[0m eta \u001b[36m0:00:00\u001b[0m00:01\u001b[0m00:01\u001b[0m\n",
      "\u001b[?25hDownloading nvidia_cusparse_cu12-12.1.0.106-py3-none-manylinux1_x86_64.whl (196.0 MB)\n",
      "\u001b[2K   \u001b[90m━━━━━━━━━━━━━━━━━━━━━━━━━━━━━━━━━━━━━━━\u001b[0m \u001b[32m196.0/196.0 MB\u001b[0m \u001b[31m179.5 MB/s\u001b[0m eta \u001b[36m0:00:00\u001b[0m00:01\u001b[0m00:01\u001b[0m\n",
      "\u001b[?25hDownloading nvidia_nccl_cu12-2.20.5-py3-none-manylinux2014_x86_64.whl (176.2 MB)\n",
      "\u001b[2K   \u001b[90m━━━━━━━━━━━━━━━━━━━━━━━━━━━━━━━━━━━━━━━\u001b[0m \u001b[32m176.2/176.2 MB\u001b[0m \u001b[31m247.2 MB/s\u001b[0m eta \u001b[36m0:00:00\u001b[0m00:01\u001b[0m00:01\u001b[0m\n",
      "\u001b[?25hDownloading nvidia_nvtx_cu12-12.1.105-py3-none-manylinux1_x86_64.whl (99 kB)\n",
      "\u001b[2K   \u001b[90m━━━━━━━━━━━━━━━━━━━━━━━━━━━━━━━━━━━━━━━━\u001b[0m \u001b[32m99.1/99.1 kB\u001b[0m \u001b[31m289.6 MB/s\u001b[0m eta \u001b[36m0:00:00\u001b[0m\n",
      "\u001b[?25hDownloading triton-2.3.1-cp39-cp39-manylinux_2_17_x86_64.manylinux2014_x86_64.whl (168.1 MB)\n",
      "\u001b[2K   \u001b[90m━━━━━━━━━━━━━━━━━━━━━━━━━━━━━━━━━━━━━━━\u001b[0m \u001b[32m168.1/168.1 MB\u001b[0m \u001b[31m250.1 MB/s\u001b[0m eta \u001b[36m0:00:00\u001b[0ma \u001b[36m0:00:01\u001b[0m\n",
      "\u001b[?25hDownloading xarray-2023.12.0-py3-none-any.whl (1.1 MB)\n",
      "\u001b[2K   \u001b[90m━━━━━━━━━━━━━━━━━━━━━━━━━━━━━━━━━━━━━━━━\u001b[0m \u001b[32m1.1/1.1 MB\u001b[0m \u001b[31m391.3 MB/s\u001b[0m eta \u001b[36m0:00:00\u001b[0m\n",
      "\u001b[?25hDownloading coreforecast-0.0.10-py3-none-manylinux_2_17_x86_64.manylinux2014_x86_64.whl (223 kB)\n",
      "\u001b[2K   \u001b[90m━━━━━━━━━━━━━━━━━━━━━━━━━━━━━━━━━━━━━━━\u001b[0m \u001b[32m223.5/223.5 kB\u001b[0m \u001b[31m435.8 MB/s\u001b[0m eta \u001b[36m0:00:00\u001b[0m\n",
      "\u001b[?25hDownloading fugue-0.9.1-py3-none-any.whl (278 kB)\n",
      "\u001b[2K   \u001b[90m━━━━━━━━━━━━━━━━━━━━━━━━━━━━━━━━━━━━━━━\u001b[0m \u001b[32m278.2/278.2 kB\u001b[0m \u001b[31m389.0 MB/s\u001b[0m eta \u001b[36m0:00:00\u001b[0m\n",
      "\u001b[?25hDownloading lightning_utilities-0.11.5-py3-none-any.whl (26 kB)\n",
      "Downloading torchmetrics-1.4.0.post0-py3-none-any.whl (868 kB)\n",
      "\u001b[2K   \u001b[90m━━━━━━━━━━━━━━━━━━━━━━━━━━━━━━━━━━━━━━━\u001b[0m \u001b[32m868.8/868.8 kB\u001b[0m \u001b[31m459.1 MB/s\u001b[0m eta \u001b[36m0:00:00\u001b[0m\n",
      "\u001b[?25hDownloading utilsforecast-0.1.12-py3-none-any.whl (40 kB)\n",
      "\u001b[2K   \u001b[90m━━━━━━━━━━━━━━━━━━━━━━━━━━━━━━━━━━━━━━━━\u001b[0m \u001b[32m40.8/40.8 kB\u001b[0m \u001b[31m298.3 MB/s\u001b[0m eta \u001b[36m0:00:00\u001b[0m\n",
      "\u001b[?25hDownloading filelock-3.15.4-py3-none-any.whl (16 kB)\n",
      "Downloading adagio-0.2.4-py3-none-any.whl (26 kB)\n",
      "Downloading triad-0.9.8-py3-none-any.whl (62 kB)\n",
      "\u001b[2K   \u001b[90m━━━━━━━━━━━━━━━━━━━━━━━━━━━━━━━━━━━━━━━━\u001b[0m \u001b[32m62.3/62.3 kB\u001b[0m \u001b[31m303.4 MB/s\u001b[0m eta \u001b[36m0:00:00\u001b[0m\n",
      "\u001b[?25hDownloading nvidia_nvjitlink_cu12-12.5.82-py3-none-manylinux2014_x86_64.whl (21.3 MB)\n",
      "\u001b[2K   \u001b[90m━━━━━━━━━━━━━━━━━━━━━━━━━━━━━━━━━━━━━━━━\u001b[0m \u001b[32m21.3/21.3 MB\u001b[0m \u001b[31m247.4 MB/s\u001b[0m eta \u001b[36m0:00:00\u001b[0ma \u001b[36m0:00:01\u001b[0m\n",
      "\u001b[?25hDownloading fs-2.4.16-py2.py3-none-any.whl (135 kB)\n",
      "\u001b[2K   \u001b[90m━━━━━━━━━━━━━━━━━━━━━━━━━━━━━━━━━━━━━━━\u001b[0m \u001b[32m135.3/135.3 kB\u001b[0m \u001b[31m358.7 MB/s\u001b[0m eta \u001b[36m0:00:00\u001b[0m\n",
      "\u001b[?25hDownloading appdirs-1.4.4-py2.py3-none-any.whl (9.6 kB)\n",
      "Building wheels for collected packages: pyod\n",
      "  Building wheel for pyod (setup.py) ... \u001b[?25ldone\n",
      "\u001b[?25h  Created wheel for pyod: filename=pyod-2.0.1-py3-none-any.whl size=193267 sha256=16fccbd6547ec192b1e3eeea83eef429f0180b9145cfb23b8b1ccdfb00df54c0\n",
      "  Stored in directory: /tmp/pip-ephem-wheel-cache-_zkzj2yy/wheels/23/71/88/c2bab1baecb9b35930a6087879e2e07c5e663c480fea6c0479\n",
      "Successfully built pyod\n",
      "Installing collected packages: appdirs, slicer, nvidia-nvtx-cu12, nvidia-nvjitlink-cu12, nvidia-nccl-cu12, nvidia-curand-cu12, nvidia-cufft-cu12, nvidia-cuda-runtime-cu12, nvidia-cuda-nvrtc-cu12, nvidia-cuda-cupti-cu12, nvidia-cublas-cu12, numpy, fs, filelock, triton, tensorboardX, pandas, nvidia-cusparse-cu12, nvidia-cudnn-cu12, lightning-utilities, holidays, coreforecast, xarray, utilsforecast, triad, statsmodels, scikit-learn, nvidia-cusolver-cu12, torch, shap, pyod, pmdarima, nfoursid, adagio, torchmetrics, tbats, fugue, statsforecast, pytorch-lightning, darts\n",
      "  Attempting uninstall: numpy\n",
      "    Found existing installation: numpy 1.23.3\n",
      "    Uninstalling numpy-1.23.3:\n",
      "      Successfully uninstalled numpy-1.23.3\n",
      "  Attempting uninstall: pandas\n",
      "    Found existing installation: pandas 2.1.4\n",
      "    Uninstalling pandas-2.1.4:\n",
      "      Successfully uninstalled pandas-2.1.4\n",
      "  Attempting uninstall: statsmodels\n",
      "    Found existing installation: statsmodels 0.13.2\n",
      "    Uninstalling statsmodels-0.13.2:\n",
      "      Successfully uninstalled statsmodels-0.13.2\n",
      "  Attempting uninstall: scikit-learn\n",
      "    Found existing installation: scikit-learn 1.4.1.post1\n",
      "    Uninstalling scikit-learn-1.4.1.post1:\n",
      "      Successfully uninstalled scikit-learn-1.4.1.post1\n",
      "\u001b[31mERROR: pip's dependency resolver does not currently take into account all the packages that are installed. This behaviour is the source of the following dependency conflicts.\n",
      "digitalhub-runtime-kfp 0.6.0b5 requires kfp==1.8.11, but you have kfp 1.8.22 which is incompatible.\u001b[0m\u001b[31m\n",
      "\u001b[0mSuccessfully installed adagio-0.2.4 appdirs-1.4.4 coreforecast-0.0.10 darts-0.25.0 filelock-3.15.4 fs-2.4.16 fugue-0.9.1 holidays-0.52 lightning-utilities-0.11.5 nfoursid-1.0.1 numpy-1.22.4 nvidia-cublas-cu12-12.1.3.1 nvidia-cuda-cupti-cu12-12.1.105 nvidia-cuda-nvrtc-cu12-12.1.105 nvidia-cuda-runtime-cu12-12.1.105 nvidia-cudnn-cu12-8.9.2.26 nvidia-cufft-cu12-11.0.2.54 nvidia-curand-cu12-10.3.2.106 nvidia-cusolver-cu12-11.4.5.107 nvidia-cusparse-cu12-12.1.0.106 nvidia-nccl-cu12-2.20.5 nvidia-nvjitlink-cu12-12.5.82 nvidia-nvtx-cu12-12.1.105 pandas-1.4.4 pmdarima-2.0.4 pyod-2.0.1 pytorch-lightning-2.3.3 scikit-learn-1.1.2 shap-0.46.0 slicer-0.0.8 statsforecast-1.7.5 statsmodels-0.14.0 tbats-1.1.3 tensorboardX-2.6.2.2 torch-2.3.1 torchmetrics-1.4.0.post0 triad-0.9.8 triton-2.3.1 utilsforecast-0.1.12 xarray-2023.12.0\n",
      "\n",
      "\u001b[1m[\u001b[0m\u001b[34;49mnotice\u001b[0m\u001b[1;39;49m]\u001b[0m\u001b[39;49m A new release of pip is available: \u001b[0m\u001b[31;49m23.2.1\u001b[0m\u001b[39;49m -> \u001b[0m\u001b[32;49m24.1.2\u001b[0m\n",
      "\u001b[1m[\u001b[0m\u001b[34;49mnotice\u001b[0m\u001b[1;39;49m]\u001b[0m\u001b[39;49m To update, run: \u001b[0m\u001b[32;49mpip install --upgrade pip\u001b[0m\n",
      "Note: you may need to restart the kernel to use updated packages.\n"
     ]
    }
   ],
   "source": [
    "%pip install darts==0.25.0 pandas==1.4.4 numpy==1.22.4 patsy==0.5.2 scikit-learn==1.1.2"
   ]
  },
  {
   "cell_type": "code",
   "execution_count": 2,
   "id": "47429826-291e-4c85-87bc-0420841415fd",
   "metadata": {},
   "outputs": [
    {
     "data": {
      "text/html": [
       "<div>\n",
       "<style scoped>\n",
       "    .dataframe tbody tr th:only-of-type {\n",
       "        vertical-align: middle;\n",
       "    }\n",
       "\n",
       "    .dataframe tbody tr th {\n",
       "        vertical-align: top;\n",
       "    }\n",
       "\n",
       "    .dataframe thead th {\n",
       "        text-align: right;\n",
       "    }\n",
       "</style>\n",
       "<table border=\"1\" class=\"dataframe\">\n",
       "  <thead>\n",
       "    <tr style=\"text-align: right;\">\n",
       "      <th></th>\n",
       "      <th>parcheggio</th>\n",
       "      <th>data</th>\n",
       "      <th>posti_liberi</th>\n",
       "      <th>posti_occupati</th>\n",
       "      <th>posti_totali</th>\n",
       "      <th>lat</th>\n",
       "      <th>lon</th>\n",
       "    </tr>\n",
       "  </thead>\n",
       "  <tbody>\n",
       "    <tr>\n",
       "      <th>0</th>\n",
       "      <td>VIII Agosto</td>\n",
       "      <td>2024-06-07T01:59:00+00:00</td>\n",
       "      <td>484.0</td>\n",
       "      <td>141.0</td>\n",
       "      <td>625</td>\n",
       "      <td>44.500297</td>\n",
       "      <td>11.345368</td>\n",
       "    </tr>\n",
       "    <tr>\n",
       "      <th>1</th>\n",
       "      <td>Riva Reno</td>\n",
       "      <td>2024-06-07T02:09:00+00:00</td>\n",
       "      <td>369.0</td>\n",
       "      <td>101.0</td>\n",
       "      <td>470</td>\n",
       "      <td>44.501153</td>\n",
       "      <td>11.336062</td>\n",
       "    </tr>\n",
       "    <tr>\n",
       "      <th>2</th>\n",
       "      <td>Riva Reno</td>\n",
       "      <td>2024-06-07T02:19:00+00:00</td>\n",
       "      <td>369.0</td>\n",
       "      <td>101.0</td>\n",
       "      <td>470</td>\n",
       "      <td>44.501153</td>\n",
       "      <td>11.336062</td>\n",
       "    </tr>\n",
       "    <tr>\n",
       "      <th>3</th>\n",
       "      <td>VIII Agosto</td>\n",
       "      <td>2024-06-07T02:29:00+00:00</td>\n",
       "      <td>487.0</td>\n",
       "      <td>138.0</td>\n",
       "      <td>625</td>\n",
       "      <td>44.500297</td>\n",
       "      <td>11.345368</td>\n",
       "    </tr>\n",
       "    <tr>\n",
       "      <th>4</th>\n",
       "      <td>Riva Reno</td>\n",
       "      <td>2024-06-07T02:29:00+00:00</td>\n",
       "      <td>369.0</td>\n",
       "      <td>101.0</td>\n",
       "      <td>470</td>\n",
       "      <td>44.501153</td>\n",
       "      <td>11.336062</td>\n",
       "    </tr>\n",
       "  </tbody>\n",
       "</table>\n",
       "</div>"
      ],
      "text/plain": [
       "    parcheggio                       data  posti_liberi  posti_occupati  \\\n",
       "0  VIII Agosto  2024-06-07T01:59:00+00:00         484.0           141.0   \n",
       "1    Riva Reno  2024-06-07T02:09:00+00:00         369.0           101.0   \n",
       "2    Riva Reno  2024-06-07T02:19:00+00:00         369.0           101.0   \n",
       "3  VIII Agosto  2024-06-07T02:29:00+00:00         487.0           138.0   \n",
       "4    Riva Reno  2024-06-07T02:29:00+00:00         369.0           101.0   \n",
       "\n",
       "   posti_totali        lat        lon  \n",
       "0           625  44.500297  11.345368  \n",
       "1           470  44.501153  11.336062  \n",
       "2           470  44.501153  11.336062  \n",
       "3           625  44.500297  11.345368  \n",
       "4           470  44.501153  11.336062  "
      ]
     },
     "execution_count": 2,
     "metadata": {},
     "output_type": "execute_result"
    }
   ],
   "source": [
    "import digitalhub as dh\n",
    "\n",
    "proj = dh.get_or_create_project('parcheggi-demo')\n",
    "di = proj.get_dataitem('dataset')\n",
    "df = di.as_df()\n",
    "df.head()"
   ]
  },
  {
   "cell_type": "markdown",
   "id": "7d4edf63-04f8-4f59-bf92-659adc61c86f",
   "metadata": {},
   "source": [
    "### 1.1. Prepare data"
   ]
  },
  {
   "cell_type": "markdown",
   "id": "8161b902-85e5-43cc-940e-d4e86b961ab6",
   "metadata": {},
   "source": [
    "Clean data: convert date to datetime and calculate occupied ratio, remove redundant columns."
   ]
  },
  {
   "cell_type": "code",
   "execution_count": 3,
   "id": "34fdee6b-33d7-4acf-a71d-463fe983fb84",
   "metadata": {},
   "outputs": [
    {
     "data": {
      "text/html": [
       "<div>\n",
       "<style scoped>\n",
       "    .dataframe tbody tr th:only-of-type {\n",
       "        vertical-align: middle;\n",
       "    }\n",
       "\n",
       "    .dataframe tbody tr th {\n",
       "        vertical-align: top;\n",
       "    }\n",
       "\n",
       "    .dataframe thead th {\n",
       "        text-align: right;\n",
       "    }\n",
       "</style>\n",
       "<table border=\"1\" class=\"dataframe\">\n",
       "  <thead>\n",
       "    <tr style=\"text-align: right;\">\n",
       "      <th></th>\n",
       "      <th>parcheggio</th>\n",
       "      <th>occupied</th>\n",
       "      <th>date_time_slice</th>\n",
       "    </tr>\n",
       "  </thead>\n",
       "  <tbody>\n",
       "    <tr>\n",
       "      <th>0</th>\n",
       "      <td>VIII Agosto</td>\n",
       "      <td>0.225600</td>\n",
       "      <td>2024-06-07 02:00:00</td>\n",
       "    </tr>\n",
       "    <tr>\n",
       "      <th>1</th>\n",
       "      <td>Riva Reno</td>\n",
       "      <td>0.214894</td>\n",
       "      <td>2024-06-07 02:00:00</td>\n",
       "    </tr>\n",
       "    <tr>\n",
       "      <th>2</th>\n",
       "      <td>Riva Reno</td>\n",
       "      <td>0.214894</td>\n",
       "      <td>2024-06-07 02:30:00</td>\n",
       "    </tr>\n",
       "    <tr>\n",
       "      <th>3</th>\n",
       "      <td>VIII Agosto</td>\n",
       "      <td>0.220800</td>\n",
       "      <td>2024-06-07 02:30:00</td>\n",
       "    </tr>\n",
       "    <tr>\n",
       "      <th>4</th>\n",
       "      <td>Riva Reno</td>\n",
       "      <td>0.214894</td>\n",
       "      <td>2024-06-07 02:30:00</td>\n",
       "    </tr>\n",
       "  </tbody>\n",
       "</table>\n",
       "</div>"
      ],
      "text/plain": [
       "    parcheggio  occupied     date_time_slice\n",
       "0  VIII Agosto  0.225600 2024-06-07 02:00:00\n",
       "1    Riva Reno  0.214894 2024-06-07 02:00:00\n",
       "2    Riva Reno  0.214894 2024-06-07 02:30:00\n",
       "3  VIII Agosto  0.220800 2024-06-07 02:30:00\n",
       "4    Riva Reno  0.214894 2024-06-07 02:30:00"
      ]
     },
     "execution_count": 3,
     "metadata": {},
     "output_type": "execute_result"
    }
   ],
   "source": [
    "import datetime\n",
    "import pandas as pd\n",
    "\n",
    "window = 60\n",
    "\n",
    "df_clean = df.copy()\n",
    "df_clean.data = pd.to_datetime(df_clean.data, utc=True)\n",
    "df_clean['occupied'] = df_clean.posti_occupati / df_clean.posti_totali\n",
    "df_clean['date_time_slice'] = df_clean.data.dt.round('30min').dt.tz_convert(None)\n",
    "df_clean = df_clean[df_clean.date_time_slice >= (datetime.datetime.today() - pd.DateOffset(window))]\n",
    "df_clean = df_clean[df_clean.date_time_slice <= (datetime.datetime.today() - pd.DateOffset(1))]\n",
    "df_clean.posti_occupati = df_clean.apply(lambda x: max(0, min(x['posti_totali'], x['posti_occupati'])), axis=1)\n",
    "df_clean['occupied'] = df_clean.posti_occupati / df_clean.posti_totali\n",
    "df_clean = df_clean.drop(columns=['lat', 'lon', 'data', 'posti_totali', 'posti_liberi', 'posti_occupati'])\n",
    "df_clean.head()"
   ]
  },
  {
   "cell_type": "markdown",
   "id": "33e7c8d3-07c2-47b9-82e0-4ca6c19bbb9f",
   "metadata": {},
   "source": [
    "### 1.2. Create multiple time series"
   ]
  },
  {
   "cell_type": "code",
   "execution_count": 4,
   "id": "b52b04c5-686c-46b0-b5b5-c1620c2070b9",
   "metadata": {},
   "outputs": [
    {
     "name": "stderr",
     "output_type": "stream",
     "text": [
      "/tmp/ipykernel_222/2711141629.py:29: SettingWithCopyWarning: \n",
      "A value is trying to be set on a copy of a slice from a DataFrame.\n",
      "Try using .loc[row_indexer,col_indexer] = value instead\n",
      "\n",
      "See the caveats in the documentation: https://pandas.pydata.org/pandas-docs/stable/user_guide/indexing.html#returning-a-view-versus-a-copy\n",
      "  parc_df['hour'] = parc_df.date_time_slice.dt.hour\n",
      "/tmp/ipykernel_222/2711141629.py:30: SettingWithCopyWarning: \n",
      "A value is trying to be set on a copy of a slice from a DataFrame.\n",
      "Try using .loc[row_indexer,col_indexer] = value instead\n",
      "\n",
      "See the caveats in the documentation: https://pandas.pydata.org/pandas-docs/stable/user_guide/indexing.html#returning-a-view-versus-a-copy\n",
      "  parc_df['dow'] = parc_df.date_time_slice.dt.dayofweek\n",
      "/tmp/ipykernel_222/2711141629.py:29: SettingWithCopyWarning: \n",
      "A value is trying to be set on a copy of a slice from a DataFrame.\n",
      "Try using .loc[row_indexer,col_indexer] = value instead\n",
      "\n",
      "See the caveats in the documentation: https://pandas.pydata.org/pandas-docs/stable/user_guide/indexing.html#returning-a-view-versus-a-copy\n",
      "  parc_df['hour'] = parc_df.date_time_slice.dt.hour\n",
      "/tmp/ipykernel_222/2711141629.py:30: SettingWithCopyWarning: \n",
      "A value is trying to be set on a copy of a slice from a DataFrame.\n",
      "Try using .loc[row_indexer,col_indexer] = value instead\n",
      "\n",
      "See the caveats in the documentation: https://pandas.pydata.org/pandas-docs/stable/user_guide/indexing.html#returning-a-view-versus-a-copy\n",
      "  parc_df['dow'] = parc_df.date_time_slice.dt.dayofweek\n"
     ]
    },
    {
     "data": {
      "text/plain": [
       "<AxesSubplot: xlabel='date_time_slice'>"
      ]
     },
     "execution_count": 4,
     "metadata": {},
     "output_type": "execute_result"
    },
    {
     "data": {
      "image/png": "[encoded data removed]",
      "text/plain": [
       "<Figure size 640x480 with 1 Axes>"
      ]
     },
     "metadata": {},
     "output_type": "display_data"
    }
   ],
   "source": [
    "from darts import TimeSeries\n",
    "from darts.dataprocessing.transformers import Scaler\n",
    "\n",
    "split_ratio = 0.8\n",
    "\n",
    "def fill_missing(parc_df):\n",
    "    missing = []  # List to store timestamps for which values could not be filled\n",
    "    temp = pd.Series(parc_df.index.date).value_counts()  # Count the occurrences of each date\n",
    "    temp = temp[temp < 48]  # Filter dates with less than 48 occurrences\n",
    "    temp.sort_index(inplace=True)  # Sort the dates in ascending order\n",
    "    for t in temp.index:  # Iterate through the filtered dates\n",
    "        for h in range(24):  # Iterate through 24 hours\n",
    "            for half_hour in [0, 30]:  # Iterate through 0 and 30 minutes\n",
    "                ts = datetime.datetime(t.year, t.month, t.day, h, half_hour)  # Create a timestamp\n",
    "                if ts not in parc_df.index:  # If the timestamp is missing in the DataFrame\n",
    "                    if ts - datetime.timedelta(days=7) in parc_df.index:  # Check if the previous week's timestamp is available\n",
    "                        parc_df.loc[ts] = parc_df.loc[ts - datetime.timedelta(days=7)].copy()  # Copy values from the previous week\n",
    "                    elif ts + datetime.timedelta(days=7) in parc_df.index:  # Check if the next week's timestamp is available\n",
    "                        parc_df.loc[ts] = parc_df.loc[ts + datetime.timedelta(days=7)].copy()  # Copy values from the next week\n",
    "                    else:\n",
    "                        missing.append(ts)  # If values cannot be filled, add the timestamp to the missing list\n",
    "    return missing \n",
    "parcheggi = ['Riva Reno' ,'VIII Agosto']# df_clean['parcheggio'].unique()\n",
    "\n",
    "train_sets, val_sets = [], []\n",
    "\n",
    "for parcheggio in parcheggi:\n",
    "    parc_df = df_clean[df_clean['parcheggio'] == parcheggio]\n",
    "    parc_df['hour'] = parc_df.date_time_slice.dt.hour\n",
    "    parc_df['dow'] = parc_df.date_time_slice.dt.dayofweek\n",
    "    parc_df = parc_df.drop(columns=['parcheggio'])\n",
    "    parc_df = parc_df.groupby('date_time_slice').agg({'occupied': 'mean', 'hour': 'first', 'dow': 'first'})\n",
    "    fill_missing(parc_df)\n",
    "    ts = TimeSeries.from_dataframe(parc_df,  value_cols='occupied', freq='30min')\n",
    "    ts_scaled = Scaler().fit_transform(ts)\n",
    "\n",
    "    split = int(len(ts_scaled) * (1 - split_ratio))\n",
    "\n",
    "    train, val = ts_scaled[:-split], ts_scaled[-split:]\n",
    "    train_sets.append(train)\n",
    "    val_sets.append(val)\n",
    "    \n",
    "train_sets[0].plot(label='train')"
   ]
  },
  {
   "cell_type": "code",
   "execution_count": 5,
   "id": "59bf880a-7d42-471b-955f-0a9219ea87b7",
   "metadata": {},
   "outputs": [
    {
     "name": "stderr",
     "output_type": "stream",
     "text": [
      "The `LightGBM` module could not be imported. To enable LightGBM support in Darts, follow the detailed instructions in the installation guide: https://github.com/unit8co/darts/blob/master/INSTALL.md\n",
      "The `Prophet` module could not be imported. To enable Prophet support in Darts, follow the detailed instructions in the installation guide: https://github.com/unit8co/darts/blob/master/INSTALL.md\n",
      "The `CatBoost` module could not be imported. To enable CatBoost support in Darts, follow the detailed instructions in the installation guide: https://github.com/unit8co/darts/blob/master/INSTALL.md\n",
      "GPU available: False, used: False\n",
      "TPU available: False, using: 0 TPU cores\n",
      "HPU available: False, using: 0 HPUs\n",
      "\n",
      "  | Name          | Type             | Params | Mode \n",
      "-----------------------------------------------------------\n",
      "0 | criterion     | MSELoss          | 0      | train\n",
      "1 | train_metrics | MetricCollection | 0      | train\n",
      "2 | val_metrics   | MetricCollection | 0      | train\n",
      "3 | stacks        | ModuleList       | 6.2 M  | train\n",
      "-----------------------------------------------------------\n",
      "6.2 M     Trainable params\n",
      "1.4 K     Non-trainable params\n",
      "6.2 M     Total params\n",
      "24.787    Total estimated model params size (MB)\n"
     ]
    },
    {
     "data": {
      "application/vnd.jupyter.widget-view+json": {
       "model_id": "6ae84aa6e3234b5ea3d46bbfb7c9a93e",
       "version_major": 2,
       "version_minor": 0
      },
      "text/plain": [
       "Training: |          | 0/? [00:00<?, ?it/s]"
      ]
     },
     "metadata": {},
     "output_type": "display_data"
    },
    {
     "name": "stderr",
     "output_type": "stream",
     "text": [
      "`Trainer.fit` stopped: `max_epochs=1` reached.\n"
     ]
    },
    {
     "data": {
      "text/plain": [
       "NBEATSModel(generic_architecture=True, num_stacks=30, num_blocks=1, num_layers=4, layer_widths=256, expansion_coefficient_dim=5, trend_polynomial_degree=2, dropout=0.0, activation=ReLU, input_chunk_length=24, output_chunk_length=12, n_epochs=1, random_state=0)"
      ]
     },
     "execution_count": 5,
     "metadata": {},
     "output_type": "execute_result"
    }
   ],
   "source": [
    "from darts.models import NBEATSModel\n",
    "\n",
    "multimodel =  NBEATSModel(\n",
    "        input_chunk_length=24,\n",
    "        output_chunk_length=12,\n",
    "        n_epochs=1,\n",
    "        random_state=0\n",
    "    )\n",
    "\n",
    "multimodel.fit(train_sets)"
   ]
  },
  {
   "cell_type": "code",
   "execution_count": 6,
   "id": "4d3d7379-828c-43f9-8988-47bb3807b6aa",
   "metadata": {},
   "outputs": [
    {
     "name": "stderr",
     "output_type": "stream",
     "text": [
      "GPU available: False, used: False\n",
      "TPU available: False, using: 0 TPU cores\n",
      "HPU available: False, using: 0 HPUs\n"
     ]
    },
    {
     "data": {
      "application/vnd.jupyter.widget-view+json": {
       "model_id": "af765b5cc02f42d9b196efc3b57abf8c",
       "version_major": 2,
       "version_minor": 0
      },
      "text/plain": [
       "Predicting: |          | 0/? [00:00<?, ?it/s]"
      ]
     },
     "metadata": {},
     "output_type": "display_data"
    },
    {
     "data": {
      "text/plain": [
       "<AxesSubplot: xlabel='date_time_slice'>"
      ]
     },
     "execution_count": 6,
     "metadata": {},
     "output_type": "execute_result"
    },
    {
     "data": {
      "image/png": "[encoded data removed]",
      "text/plain": [
       "<Figure size 1000x600 with 1 Axes>"
      ]
     },
     "metadata": {},
     "output_type": "display_data"
    }
   ],
   "source": [
    "import matplotlib.pyplot as plt\n",
    "\n",
    "pred = multimodel.predict(n=24, series=train_sets[0][:-24])\n",
    "\n",
    "plt.figure(figsize=(10, 6))\n",
    "train_sets[0].plot(label=\"actual\")\n",
    "pred.plot(label=\"forecast\")"
   ]
  },
  {
   "cell_type": "code",
   "execution_count": 7,
   "id": "504a0f32-a612-4ef9-9c10-1af84a319b15",
   "metadata": {},
   "outputs": [
    {
     "data": {
      "text/plain": [
       "{'mape': 117.76921684456532,\n",
       " 'smape': 68.16904216093582,\n",
       " 'mae': 0.10717838740983933}"
      ]
     },
     "execution_count": 7,
     "metadata": {},
     "output_type": "execute_result"
    }
   ],
   "source": [
    "from darts.metrics import mape, smape, mae\n",
    "\n",
    "metrics = {\n",
    "    \"mape\": mape(train_sets[0], pred),\n",
    "    \"smape\": smape(train_sets[0], pred),\n",
    "    \"mae\": mae(train_sets[0], pred)\n",
    "}\n",
    "metrics"
   ]
  },
  {
   "cell_type": "markdown",
   "id": "24a1806b-30b7-4586-914a-59ff0d1b4cf2",
   "metadata": {},
   "source": [
    "## 2. ML Ops\n",
    "With the help of the platform, we will create the training function, train a parking occupation prediction model, and deploy it to the cluster as an inference API."
   ]
  },
  {
   "cell_type": "markdown",
   "id": "95a716dd-a707-4edd-9a2b-c1be40a214ae",
   "metadata": {},
   "source": [
    "### 2.1. Initalization\n",
    "Create the working context: data management project for the parking data processing. Project is a placeholder for the code, data, and management of the parking data operations. "
   ]
  },
  {
   "cell_type": "code",
   "execution_count": 10,
   "id": "17ac742b-1986-4ef5-9a37-59a57f839e17",
   "metadata": {},
   "outputs": [],
   "source": [
    "import digitalhub as dh\n",
    "\n",
    "ml_proj = dh.get_or_create_project(\"parcheggi-demo\")"
   ]
  },
  {
   "cell_type": "markdown",
   "id": "3091a46b-246d-4c1f-8054-4d0c601aaccf",
   "metadata": {},
   "source": [
    "### 2.2. ML training function\n",
    "We convert the ML operations into a function - single executable operation that can be executed in the platform."
   ]
  },
  {
   "cell_type": "code",
   "execution_count": 11,
   "id": "be58a753-d830-45e1-81a4-9bff2f4c7f81",
   "metadata": {},
   "outputs": [
    {
     "name": "stdout",
     "output_type": "stream",
     "text": [
      "Overwriting train_multimodel.py\n"
     ]
    }
   ],
   "source": [
    "%%writefile \"train_multimodel.py\"\n",
    "\n",
    "import pandas as pd\n",
    "from digitalhub_runtime_python import handler\n",
    "from darts import TimeSeries\n",
    "\n",
    "from darts.models import NBEATSModel\n",
    "from darts.metrics import mape, smape, mae\n",
    "from darts.dataprocessing.transformers import Scaler\n",
    "from zipfile import ZipFile\n",
    "\n",
    "import logging\n",
    "logging.disable(logging.CRITICAL)\n",
    "\n",
    "import warnings\n",
    "warnings.filterwarnings(\"ignore\")\n",
    "\n",
    "import datetime\n",
    "\n",
    "import pandas as pd\n",
    "import datetime\n",
    "\n",
    "from pickle import dumps\n",
    "\n",
    "def fill_missing(parc_df):\n",
    "    missing = []  # List to store timestamps for which values could not be filled\n",
    "    temp = pd.Series(parc_df.index.date).value_counts()  # Count the occurrences of each date\n",
    "    temp = temp[temp < 48]  # Filter dates with less than 48 occurrences\n",
    "    temp.sort_index(inplace=True)  # Sort the dates in ascending order\n",
    "    for t in temp.index:  # Iterate through the filtered dates\n",
    "        for h in range(24):  # Iterate through 24 hours\n",
    "            for half_hour in [0, 30]:  # Iterate through 0 and 30 minutes\n",
    "                ts = datetime.datetime(t.year, t.month, t.day, h, half_hour)  # Create a timestamp\n",
    "                if ts not in parc_df.index:  # If the timestamp is missing in the DataFrame\n",
    "                    if ts - datetime.timedelta(days=7) in parc_df.index:  # Check if the previous week's timestamp is available\n",
    "                        parc_df.loc[ts] = parc_df.loc[ts - datetime.timedelta(days=7)].copy()  # Copy values from the previous week\n",
    "                    elif ts + datetime.timedelta(days=7) in parc_df.index:  # Check if the next week's timestamp is available\n",
    "                        parc_df.loc[ts] = parc_df.loc[ts + datetime.timedelta(days=7)].copy()  # Copy values from the next week\n",
    "                    else:\n",
    "                        missing.append(ts)  # If values cannot be filled, add the timestamp to the missing list\n",
    "    return missing  # Return the list of timestamps for which values could not be filled\n",
    "\n",
    "\n",
    "@handler()\n",
    "def train_model(project, parkings_di,n_epochs: int = 1, window: int = 60, \n",
    "                input_chunk_length: int = 24, output_chunk_length: int = 12, \n",
    "                split_ratio: float = 0.8):\n",
    "\n",
    "    # Load the input data\n",
    "    df_source = parkings_di.as_df()\n",
    "    # Clean the data\n",
    "    df_clean = df_source.copy()\n",
    "    df_clean.data = pd.to_datetime(df_clean.data, utc=True)\n",
    "    df_clean['occupied'] = df_clean.posti_occupati / df_clean.posti_totali\n",
    "    df_clean['date_time_slice'] = df_clean.data.dt.round('30min').dt.tz_convert(None)\n",
    "    df_clean = df_clean[df_clean.date_time_slice >= (datetime.datetime.today() - pd.DateOffset(window))]\n",
    "    df_clean = df_clean[df_clean.date_time_slice <= (datetime.datetime.today() - pd.DateOffset(1))]\n",
    "    df_clean.posti_occupati = df_clean.apply(lambda x: max(0, min(x['posti_totali'], x['posti_occupati'])), axis=1)\n",
    "    df_clean['occupied'] = df_clean.posti_occupati / df_clean.posti_totali\n",
    "    df_clean = df_clean.drop(columns=['lat', 'lon', 'data', 'posti_totali', 'posti_liberi', 'posti_occupati'])\n",
    "    #parcheggi = df_clean['parcheggio'].unique()\n",
    "    parcheggi = ['Riva Reno' ,'VIII Agosto']\n",
    "    \n",
    "    train_sets, val_sets = [], []\n",
    "\n",
    "    # Process data for each parking lot\n",
    "    for parcheggio in parcheggi:\n",
    "        parc_df = df_clean[df_clean['parcheggio'] == parcheggio]\n",
    "        parc_df['hour'] = parc_df.date_time_slice.dt.hour\n",
    "        parc_df['dow'] = parc_df.date_time_slice.dt.dayofweek\n",
    "        parc_df = parc_df.drop(columns=['parcheggio'])\n",
    "        parc_df = parc_df.groupby('date_time_slice').agg({'occupied': 'mean', 'hour': 'first', 'dow': 'first'})\n",
    "        fill_missing(parc_df)\n",
    "        ts = TimeSeries.from_dataframe(parc_df,  value_cols='occupied', freq='30min')\n",
    "        ts_scaled = Scaler().fit_transform(ts)\n",
    "        \n",
    "        split = int(len(ts_scaled) * (1 - split_ratio))\n",
    "\n",
    "        # Split data into training and validation sets\n",
    "        train, val = ts_scaled[:-split], ts_scaled[-split:]\n",
    "        train_sets.append(train)\n",
    "        val_sets.append(val)\n",
    "\n",
    "    # Train a multi-model using the NBEATS algorithm\n",
    "    multimodel =  NBEATSModel(\n",
    "        input_chunk_length=input_chunk_length,\n",
    "        output_chunk_length=output_chunk_length,\n",
    "        n_epochs=n_epochs,\n",
    "        random_state=0\n",
    "    )\n",
    "\n",
    "    # Fit the model to the training sets\n",
    "    multimodel.fit(train_sets)\n",
    "    pred = multimodel.predict(n=output_chunk_length*2, series=train_sets[0][:-output_chunk_length*2])\n",
    "\n",
    "    multimodel.save(\"parcheggi_predictor_model.pt\")\n",
    "    with ZipFile(\"parcheggi_predictor_model.pt.zip\", \"w\") as z:\n",
    "        z.write(\"parcheggi_predictor_model.pt\")\n",
    "        z.write(\"parcheggi_predictor_model.pt.ckpt\")\n",
    "    metrics = {\n",
    "        \"mape\": mape(train_sets[0], pred),\n",
    "        \"smape\": smape(train_sets[0], pred),\n",
    "        \"mae\": mae(train_sets[0], pred)\n",
    "    }\n",
    "\n",
    "    project.log_model(\n",
    "        name=\"modello_parcheggi\", \n",
    "        kind=\"model\", \n",
    "        source_path=\"parcheggi_predictor_model.pt.zip\", \n",
    "        algorithm=\"darts.models.NBEATSModel\",\n",
    "        framework=\"darts\",\n",
    "        metrics=metrics\n",
    "    )\n"
   ]
  },
  {
   "cell_type": "code",
   "execution_count": 12,
   "id": "e30c8506-e4e8-48f1-9095-5c770094b295",
   "metadata": {},
   "outputs": [],
   "source": [
    "func = ml_proj.new_function(name=\"training_model\",\n",
    "                         kind=\"python\",\n",
    "                         python_version=\"PYTHON3_9\",\n",
    "                         source={\"source\": \"train_multimodel.py\", \"handler\": \"train_model\"})"
   ]
  },
  {
   "cell_type": "code",
   "execution_count": 13,
   "id": "7306fe2f-ae61-4724-9ac2-f0214da89329",
   "metadata": {
    "collapsed": true,
    "jupyter": {
     "outputs_hidden": true
    },
    "tags": []
   },
   "outputs": [
    {
     "data": {
      "text/plain": [
       "{'project': 'parcheggi-demo-raman', 'id': 'b843c80d-cf6a-4a6e-9377-f4712b6145c1', 'kind': 'python+run', 'key': 'store://parcheggi-demo-raman/runs/python+run/b843c80d-cf6a-4a6e-9377-f4712b6145c1', 'metadata': {'project': 'parcheggi-demo-raman', 'name': 'b843c80d-cf6a-4a6e-9377-f4712b6145c1', 'created': '2024-07-15T10:40:51.397Z', 'updated': '2024-07-15T10:40:51.406Z', 'created_by': 'tenant1userid', 'updated_by': 'tenant1userid'}, 'spec': {'task': 'python+build://parcheggi-demo-raman/training_model:048d8b38-b3c8-4e91-a17b-efad191cabe2', 'local_execution': False, 'source': {'source': 'train_multimodel.py', 'handler': 'train_model', 'base64': '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', 'lang': 'python'}, 'python_version': 'PYTHON3_9', 'function': 'python://parcheggi-demo-raman/training_model:048d8b38-b3c8-4e91-a17b-efad191cabe2', 'instructions': ['pip3 install torch torchvision torchaudio --index-url https://download.pytorch.org/whl/cpu', 'pip3 install darts==0.25.0 pandas==1.4.4 numpy==1.22.4 patsy==0.5.2 scikit-learn==1.1.2'], 'inputs': {}, 'outputs': {}, 'parameters': {}}, 'status': {'state': 'READY'}, 'user': 'tenant1userid'}"
      ]
     },
     "execution_count": 13,
     "metadata": {},
     "output_type": "execute_result"
    }
   ],
   "source": [
    "func.run(action=\"build\", instructions=[\"pip3 install torch torchvision torchaudio --index-url https://download.pytorch.org/whl/cpu\",\"pip3 install darts==0.25.0 pandas==1.4.4 numpy==1.22.4 patsy==0.5.2 scikit-learn==1.1.2\"])"
   ]
  },
  {
   "cell_type": "markdown",
   "id": "942c97a9-0d85-4450-93ce-29f9407f77ae",
   "metadata": {},
   "source": [
    "### 2.3. Train model\n",
    "Execute train model function. As a result, the function produces a ML model that is uploaded to the platform storage, versioned, and enriched with metadata (e.g., metrics)."
   ]
  },
  {
   "cell_type": "code",
   "execution_count": 14,
   "id": "cc5b263c-c3ac-4ac1-8a76-186d88aeb7ab",
   "metadata": {
    "tags": []
   },
   "outputs": [],
   "source": [
    "data_item_download = di.key\n",
    "train_run = func.run(action=\"job\", inputs={\"parkings_di\":data_item_download}, parameters={\"n_epochs\": 50})"
   ]
  },
  {
   "cell_type": "markdown",
   "id": "0a03ac5d-680c-4c36-987a-43a6dbfce803",
   "metadata": {},
   "source": [
    "### 2.4. Deploy Model\n",
    "Next, we deploy the model in the serving function. Given that the interaction does not correspond to a standard MLRun model server, we will deploy the function as a custom server. See the implementation of ``serve_multimodel.py`` for more details. \n",
    "\n",
    "For this, we add the model to the serving function in the initialization method."
   ]
  },
  {
   "cell_type": "code",
   "execution_count": 66,
   "id": "dcf0a94f-a72c-4140-9dd2-266d01638c1b",
   "metadata": {},
   "outputs": [
    {
     "name": "stdout",
     "output_type": "stream",
     "text": [
      "Overwriting serve_multimodel.py\n"
     ]
    }
   ],
   "source": [
    "%%writefile \"serve_multimodel.py\"\n",
    "\n",
    "from darts.models import NBEATSModel\n",
    "from zipfile import ZipFile\n",
    "from darts import TimeSeries\n",
    "import json\n",
    "import pandas as pd\n",
    "\n",
    "def init(context):\n",
    "    # Qua ti setti il nome del modello che vuoi caricare\n",
    "    model_name = \"modello_parcheggi\"\n",
    "\n",
    "    # prendi l'entity model sulla base del nome\n",
    "    model = context.project.get_model(model_name)\n",
    "    path = model.download()\n",
    "    local_path_model = \"extracted_model/\"\n",
    "    # Qua fai unzip immagino\n",
    "    with ZipFile(path, 'r') as zip_ref:\n",
    "        zip_ref.extractall(local_path_model)\n",
    "    \n",
    "    # codice che carica il modello\n",
    "    input_chunk_length = 24\n",
    "    output_chunk_length = 12\n",
    "    name_model_local = local_path_model +\"parcheggi_predictor_model.pt\"\n",
    "    mm = NBEATSModel(\n",
    "            input_chunk_length,\n",
    "            output_chunk_length\n",
    "    ).load(name_model_local)\n",
    "\n",
    "    # settare model nel context di nuclio (non su project che è il context nostro)\n",
    "    # context.setattr(\"model\", mm)\n",
    "    setattr(context, \"model\", mm)\n",
    "\n",
    "def serve(context, event):\n",
    "\n",
    "    # Sostanzialmente invochiamo la funzione con una chiamata REST\n",
    "    # Nel body della richiesta mandi l'inference input\n",
    "    \n",
    "    if isinstance(event.body, bytes):\n",
    "        body = json.loads(event.body)\n",
    "    else:\n",
    "        body = event.body\n",
    "    context.logger.info(f\"Received event: {body}\")\n",
    "    inference_input = body[\"inference_input\"]\n",
    "    \n",
    "    pdf = pd.DataFrame(inference_input)\n",
    "    pdf['date'] = pd.to_datetime(pdf['date'], unit='ms')\n",
    "\n",
    "    ts = TimeSeries.from_dataframe(\n",
    "        pdf,\n",
    "        time_col=\"date\",\n",
    "        value_cols=\"value\",\n",
    "        freq=\"30min\"\n",
    "    )\n",
    "    \n",
    "    output_chunk_length = 12\n",
    "    result = context.model.predict(n=output_chunk_length*2, series=ts)\n",
    "    # Convert the result to a pandas DataFrame, reset the index, and convert to a list\n",
    "    jsonstr = result.pd_dataframe().reset_index().to_json(orient='records')\n",
    "    return json.loads(jsonstr)"
   ]
  },
  {
   "cell_type": "code",
   "execution_count": 67,
   "id": "c50a047f-2f31-4019-a23a-29527692602e",
   "metadata": {},
   "outputs": [],
   "source": [
    "func = ml_proj.new_function(name=\"serve_model\",\n",
    "                            kind=\"python\",\n",
    "                            python_version=\"PYTHON3_9\",\n",
    "                            base_image = \"python:3.9\",\n",
    "                            source={\n",
    "                                 \"source\": \"serve_multimodel.py\",\n",
    "                                 \"handler\": \"serve\",\n",
    "                                 \"init_function\": \"init\"})"
   ]
  },
  {
   "cell_type": "code",
   "execution_count": 68,
   "id": "971c6d99-8ee4-42fb-8611-1513d2186a91",
   "metadata": {},
   "outputs": [],
   "source": [
    "run_build_model_serve = func.run(action=\"build\",instructions=[\"pip3 install torch torchvision torchaudio --index-url https://download.pytorch.org/whl/cpu\",\"pip3 install darts==0.25.0 pandas==1.4.4 numpy==1.22.4 patsy==0.5.2 scikit-learn==1.1.2\"])"
   ]
  },
  {
   "cell_type": "markdown",
   "id": "08b322f8-1269-46eb-908a-69994c0827d3",
   "metadata": {},
   "source": [
    "Let us wait till the build is finished and then expose the function as a service. For this, we need to run the ``serve`` action on the function."
   ]
  },
  {
   "cell_type": "code",
   "execution_count": 69,
   "id": "9e0ea7bb-f548-4192-b80f-cf453b2076ed",
   "metadata": {},
   "outputs": [],
   "source": [
    "run_serve_model = func.run(action=\"serve\")"
   ]
  },
  {
   "cell_type": "markdown",
   "id": "e3b31482-fbb7-49ab-883a-d47d8431f59d",
   "metadata": {},
   "source": [
    "### Test the API\n",
    "\n",
    "Once deployed, we can test the API. Let us test the latest data taken from the OpenData API. We take the latest data regarding the Riva Reno parking and convert it into the format expected by the API: list of dates and values representing the occupation of the parking (percentage).\n"
   ]
  },
  {
   "cell_type": "code",
   "execution_count": 70,
   "id": "3e66c459-1507-4dc3-8a28-fe94b2e24605",
   "metadata": {},
   "outputs": [
    {
     "data": {
      "text/plain": [
       "[{'date': 1720985400000, 'value': 0.2638297872},\n",
       " {'date': 1720987200000, 'value': 0.2624113475},\n",
       " {'date': 1720989000000, 'value': 0.2617021277},\n",
       " {'date': 1720990800000, 'value': 0.2645390071},\n",
       " {'date': 1720992600000, 'value': 0.2595744681},\n",
       " {'date': 1720994400000, 'value': 0.2574468085},\n",
       " {'date': 1720996200000, 'value': 0.2588652482},\n",
       " {'date': 1720998000000, 'value': 0.2574468085},\n",
       " {'date': 1720999800000, 'value': 0.2567375887},\n",
       " {'date': 1721001600000, 'value': 0.2531914894},\n",
       " {'date': 1721003400000, 'value': 0.2510638298},\n",
       " {'date': 1721005200000, 'value': 0.2496453901},\n",
       " {'date': 1721007000000, 'value': 0.2510638298},\n",
       " {'date': 1721008800000, 'value': 0.2510638298},\n",
       " {'date': 1721010600000, 'value': 0.2510638298},\n",
       " {'date': 1721012400000, 'value': 0.2510638298},\n",
       " {'date': 1721014200000, 'value': 0.2510638298},\n",
       " {'date': 1721016000000, 'value': 0.2510638298},\n",
       " {'date': 1721017800000, 'value': 0.2510638298},\n",
       " {'date': 1721019600000, 'value': 0.2510638298},\n",
       " {'date': 1721021400000, 'value': 0.2510638298},\n",
       " {'date': 1721023200000, 'value': 0.2510638298},\n",
       " {'date': 1721025000000, 'value': 0.2510638298},\n",
       " {'date': 1721026800000, 'value': 0.2510638298},\n",
       " {'date': 1721028600000, 'value': 0.2517730496},\n",
       " {'date': 1721030400000, 'value': 0.2574468085},\n",
       " {'date': 1721032200000, 'value': 0.2687943262},\n",
       " {'date': 1721034000000, 'value': 0.2886524823},\n",
       " {'date': 1721035800000, 'value': 0.309929078},\n",
       " {'date': 1721037600000, 'value': 0.3411347518},\n",
       " {'date': 1721039400000, 'value': 0.3602836879},\n",
       " {'date': 1721041200000, 'value': 0.3773049645},\n",
       " {'date': 1721043000000, 'value': 0.3843971631},\n",
       " {'date': 1721044800000, 'value': 0.3829787234},\n",
       " {'date': 1721046600000, 'value': 0.3765957447}]"
      ]
     },
     "execution_count": 70,
     "metadata": {},
     "output_type": "execute_result"
    }
   ],
   "source": [
    "import datetime \n",
    "import requests\n",
    "import json\n",
    "\n",
    "date_str = datetime.datetime.now().strftime('%Y-%m-%dT%H:%M:%S')\n",
    "parking_str='Riva Reno'\n",
    "API_URL = f'https://opendata.comune.bologna.it/api/explore/v2.1/catalog/datasets/disponibilita-parcheggi-storico/records?where=data%3C%3D%27{date_str}%27%20and%20parcheggio%3D%27{parking_str}%27&order_by=data%20DESC&limit=100'\n",
    "\n",
    "latest_data_file = 'last_records.json'\n",
    "\n",
    "with requests.get(API_URL) as r:\n",
    "    with open(latest_data_file, \"wb\") as f:\n",
    "        f.write(r.content)\n",
    "\n",
    "with open(latest_data_file) as f:\n",
    "    json_data = json.load(f)\n",
    "    df_latest = pd.json_normalize(json_data['results']).drop(columns=['guid', 'occupazione']).rename(columns={\"coordinate.lon\": \"lon\", \"coordinate.lat\": \"lat\"})\n",
    "    df_latest.data = df_latest.data.astype('datetime64')\n",
    "    df_latest['value'] = df_latest.posti_occupati / df_latest.posti_totali\n",
    "    df_latest['date'] = df_latest.data.dt.round('30min')\n",
    "    df_latest = df_latest.drop(columns=['parcheggio'])\n",
    "    df_latest = df_latest.groupby('date').agg({'value': 'mean'})\n",
    "\n",
    "\n",
    "jsonstr = df_latest.reset_index().to_json(orient='records')\n",
    "arr = json.loads(jsonstr)\n",
    "arr"
   ]
  },
  {
   "cell_type": "code",
   "execution_count": 71,
   "id": "31e2c5fb-8730-45e1-9204-f645fbbb2c1c",
   "metadata": {},
   "outputs": [
    {
     "name": "stdout",
     "output_type": "stream",
     "text": [
      "b'[{\"date\": 1721048400000, \"value\": 0.3360763423}, {\"date\": 1721050200000, \"value\": 0.2882877173}, {\"date\": 1721052000000, \"value\": 0.2421751028}, {\"date\": 1721053800000, \"value\": 0.2263056399}, {\"date\": 1721055600000, \"value\": 0.1812532727}, {\"date\": 1721057400000, \"value\": 0.1325744366}, {\"date\": 1721059200000, \"value\": 0.1368906515}, {\"date\": 1721061000000, \"value\": 0.1303118988}, {\"date\": 1721062800000, \"value\": 0.072807994}, {\"date\": 1721064600000, \"value\": 0.0972611906}, {\"date\": 1721066400000, \"value\": 0.0524519872}, {\"date\": 1721068200000, \"value\": 0.0417012266}, {\"date\": 1721070000000, \"value\": 0.0548863234}, {\"date\": 1721071800000, \"value\": 0.0391244768}, {\"date\": 1721073600000, \"value\": 0.0582938993}, {\"date\": 1721075400000, \"value\": 0.0825001684}, {\"date\": 1721077200000, \"value\": 0.064148406}, {\"date\": 1721079000000, \"value\": 0.0426761053}, {\"date\": 1721080800000, \"value\": 0.0659511874}, {\"date\": 1721082600000, \"value\": 0.0617020634}, {\"date\": 1721084400000, \"value\": 0.020002641}, {\"date\": 1721086200000, \"value\": 0.0532576487}, {\"date\": 1721088000000, \"value\": 0.0202933981}, {\"date\": 1721089800000, \"value\": 0.0227364558}]'\n"
     ]
    }
   ],
   "source": [
    "run_serve_model.refresh()\n",
    "SERVICE_URL = run_serve_model.status.to_dict()[\"service\"][\"url\"]\n",
    "\n",
    "with requests.post(f'http://{SERVICE_URL}', json={\"inference_input\":arr}) as r:\n",
    "    res = r.content\n",
    "print(res)"
   ]
  }
 ],
 "metadata": {
  "kernelspec": {
   "display_name": "Python 3 (ipykernel)",
   "language": "python",
   "name": "python3"
  },
  "language_info": {
   "codemirror_mode": {
    "name": "ipython",
    "version": 3
   },
   "file_extension": ".py",
   "mimetype": "text/x-python",
   "name": "python",
   "nbconvert_exporter": "python",
   "pygments_lexer": "ipython3",
   "version": "3.9.13"
  }
 },
 "nbformat": 4,
 "nbformat_minor": 5
}
