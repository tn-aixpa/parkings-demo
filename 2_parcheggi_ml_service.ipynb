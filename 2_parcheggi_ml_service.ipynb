{
 "cells": [
  {
   "cell_type": "markdown",
   "id": "ca311ae7-6415-4b66-8b00-b4499e70559c",
   "metadata": {},
   "source": [
    "# Platform Support - Data Ops\n",
    "We use the platform support to read the data created into the platform after the execution of notebook(parcheggi_data_pipeline.ipynb) for training"
   ]
  },
  {
   "cell_type": "markdown",
   "id": "872a3b4c-f2bb-4b3f-b5fd-2fc06b589aa8",
   "metadata": {},
   "source": [
    "# Model Training\n",
    "We train a data prediction model using darts framework and NBEATS Deep Learning model."
   ]
  },
  {
   "cell_type": "code",
   "execution_count": null,
   "id": "01202cdb-caa9-4a32-bd3e-1e0ae872e622",
   "metadata": {},
   "outputs": [
    {
     "name": "stdout",
     "output_type": "stream",
     "text": [
      "Collecting darts\n",
      "  Downloading darts-0.30.0-py3-none-any.whl (917 kB)\n",
      "\u001b[2K     \u001b[90m━━━━━━━━━━━━━━━━━━━━━━━━━━━━━━━━━━━━━━\u001b[0m \u001b[32m917.3/917.3 kB\u001b[0m \u001b[31m14.2 MB/s\u001b[0m eta \u001b[36m0:00:00\u001b[0ma \u001b[36m0:00:01\u001b[0m\n",
      "\u001b[?25hRequirement already satisfied: pandas in /opt/conda/lib/python3.10/site-packages (2.0.2)\n",
      "Requirement already satisfied: numpy in /opt/conda/lib/python3.10/site-packages (1.24.3)\n",
      "Requirement already satisfied: patsy in /opt/conda/lib/python3.10/site-packages (0.5.3)\n",
      "Requirement already satisfied: scikit-learn in /opt/conda/lib/python3.10/site-packages (1.2.2)\n",
      "Collecting holidays>=0.11.1 (from darts)\n",
      "  Downloading holidays-0.58-py3-none-any.whl (1.1 MB)\n",
      "\u001b[2K     \u001b[90m━━━━━━━━━━━━━━━━━━━━━━━━━━━━━━━━━━━━━━━━\u001b[0m \u001b[32m1.1/1.1 MB\u001b[0m \u001b[31m41.4 MB/s\u001b[0m eta \u001b[36m0:00:00\u001b[0m\n",
      "\u001b[?25hRequirement already satisfied: joblib>=0.16.0 in /opt/conda/lib/python3.10/site-packages (from darts) (1.2.0)\n",
      "Requirement already satisfied: matplotlib>=3.3.0 in /opt/conda/lib/python3.10/site-packages (from darts) (3.7.1)\n",
      "Collecting nfoursid>=1.0.0 (from darts)\n",
      "  Downloading nfoursid-1.0.1-py3-none-any.whl (16 kB)\n",
      "Collecting pmdarima>=1.8.0 (from darts)\n",
      "  Downloading pmdarima-2.0.4-cp310-cp310-manylinux_2_17_x86_64.manylinux2014_x86_64.manylinux_2_28_x86_64.whl (2.1 MB)\n",
      "\u001b[2K     \u001b[90m━━━━━━━━━━━━━━━━━━━━━━━━━━━━━━━━━━━━━━━━\u001b[0m \u001b[32m2.1/2.1 MB\u001b[0m \u001b[31m80.1 MB/s\u001b[0m eta \u001b[36m0:00:00\u001b[0m\n",
      "\u001b[?25hCollecting pyod>=0.9.5 (from darts)\n",
      "  Downloading pyod-2.0.2.tar.gz (165 kB)\n",
      "\u001b[2K     \u001b[90m━━━━━━━━━━━━━━━━━━━━━━━━━━━━━━━━━━━━━━\u001b[0m \u001b[32m165.8/165.8 kB\u001b[0m \u001b[31m22.0 MB/s\u001b[0m eta \u001b[36m0:00:00\u001b[0m\n",
      "\u001b[?25h  Preparing metadata (setup.py) ... \u001b[?25ldone\n",
      "\u001b[?25hRequirement already satisfied: requests>=2.22.0 in /opt/conda/lib/python3.10/site-packages (from darts) (2.31.0)\n",
      "Requirement already satisfied: scipy>=1.3.2 in /opt/conda/lib/python3.10/site-packages (from darts) (1.10.1)\n",
      "Collecting shap>=0.40.0 (from darts)\n",
      "  Downloading shap-0.46.0-cp310-cp310-manylinux_2_12_x86_64.manylinux2010_x86_64.manylinux_2_17_x86_64.manylinux2014_x86_64.whl (540 kB)\n",
      "\u001b[2K     \u001b[90m━━━━━━━━━━━━━━━━━━━━━━━━━━━━━━━━━━━━━━\u001b[0m \u001b[32m540.1/540.1 kB\u001b[0m \u001b[31m39.0 MB/s\u001b[0m eta \u001b[36m0:00:00\u001b[0m\n",
      "\u001b[?25hCollecting statsforecast>=1.4 (from darts)\n",
      "  Downloading statsforecast-1.7.8-cp310-cp310-manylinux_2_17_x86_64.manylinux2014_x86_64.whl (314 kB)\n",
      "\u001b[2K     \u001b[90m━━━━━━━━━━━━━━━━━━━━━━━━━━━━━━━━━━━━━━\u001b[0m \u001b[32m314.7/314.7 kB\u001b[0m \u001b[31m32.6 MB/s\u001b[0m eta \u001b[36m0:00:00\u001b[0m\n",
      "\u001b[?25hRequirement already satisfied: statsmodels>=0.14.0 in /opt/conda/lib/python3.10/site-packages (from darts) (0.14.0)\n",
      "Collecting tbats>=1.1.0 (from darts)\n",
      "  Downloading tbats-1.1.3-py3-none-any.whl (44 kB)\n",
      "\u001b[2K     \u001b[90m━━━━━━━━━━━━━━━━━━━━━━━━━━━━━━━━━━━━━━━━\u001b[0m \u001b[32m44.0/44.0 kB\u001b[0m \u001b[31m6.8 MB/s\u001b[0m eta \u001b[36m0:00:00\u001b[0m\n",
      "\u001b[?25hRequirement already satisfied: tqdm>=4.60.0 in /opt/conda/lib/python3.10/site-packages (from darts) (4.65.0)\n",
      "Requirement already satisfied: typing-extensions in /opt/conda/lib/python3.10/site-packages (from darts) (4.6.2)\n",
      "Collecting xarray>=0.17.0 (from darts)\n",
      "  Downloading xarray-2024.9.0-py3-none-any.whl (1.2 MB)\n",
      "\u001b[2K     \u001b[90m━━━━━━━━━━━━━━━━━━━━━━━━━━━━━━━━━━━━━━━━\u001b[0m \u001b[32m1.2/1.2 MB\u001b[0m \u001b[31m54.6 MB/s\u001b[0m eta \u001b[36m0:00:00\u001b[0m\n",
      "\u001b[?25hCollecting xgboost>=1.6.0 (from darts)\n",
      "  Downloading xgboost-2.1.1-py3-none-manylinux_2_28_x86_64.whl (153.9 MB)\n",
      "\u001b[2K     \u001b[90m━━━━━━━━━━━━━━━━━━━━━━━━━━━━━━━━━━━━━━━\u001b[0m \u001b[32m153.9/153.9 MB\u001b[0m \u001b[31m4.4 MB/s\u001b[0m eta \u001b[36m0:00:00\u001b[0m00:01\u001b[0m00:01\u001b[0m\n",
      "\u001b[?25hCollecting pytorch-lightning>=1.5.0 (from darts)\n",
      "  Downloading pytorch_lightning-2.4.0-py3-none-any.whl (815 kB)\n",
      "\u001b[2K     \u001b[90m━━━━━━━━━━━━━━━━━━━━━━━━━━━━━━━━━━━━━━\u001b[0m \u001b[32m815.2/815.2 kB\u001b[0m \u001b[31m53.5 MB/s\u001b[0m eta \u001b[36m0:00:00\u001b[0m\n",
      "\u001b[?25hCollecting tensorboardX>=2.1 (from darts)\n",
      "  Downloading tensorboardX-2.6.2.2-py2.py3-none-any.whl (101 kB)\n",
      "\u001b[2K     \u001b[90m━━━━━━━━━━━━━━━━━━━━━━━━━━━━━━━━━━━━━━\u001b[0m \u001b[32m101.7/101.7 kB\u001b[0m \u001b[31m12.9 MB/s\u001b[0m eta \u001b[36m0:00:00\u001b[0m\n",
      "\u001b[?25hCollecting torch>=1.8.0 (from darts)\n",
      "  Downloading torch-2.4.1-cp310-cp310-manylinux1_x86_64.whl (797.1 MB)\n",
      "\u001b[2K     \u001b[91m━━━━━━━━━━━━━━━━━━━━━━━━━━━━━━━━━━━━━\u001b[0m\u001b[91m╸\u001b[0m \u001b[32m797.1/797.1 MB\u001b[0m \u001b[31m83.4 MB/s\u001b[0m eta \u001b[36m0:00:01\u001b[0m00:01\u001b[0m"
     ]
    }
   ],
   "source": [
    "%pip install darts pandas numpy patsy scikit-learn"
   ]
  },
  {
   "cell_type": "code",
   "execution_count": 1,
   "id": "93757743-5c0f-4b9f-bbcc-a32a0b594aa3",
   "metadata": {
    "scrolled": true
   },
   "outputs": [
    {
     "name": "stdout",
     "output_type": "stream",
     "text": [
      "Collecting darts==0.25.0\n",
      "  Downloading darts-0.25.0-py3-none-any.whl (760 kB)\n",
      "\u001b[2K     \u001b[90m━━━━━━━━━━━━━━━━━━━━━━━━━━━━━━━━━━━━━━━\u001b[0m \u001b[32m760.5/760.5 kB\u001b[0m \u001b[31m9.0 MB/s\u001b[0m eta \u001b[36m0:00:00\u001b[0ma \u001b[36m0:00:01\u001b[0m\n",
      "\u001b[?25hCollecting pandas==1.4.4\n",
      "  Downloading pandas-1.4.4-cp310-cp310-manylinux_2_17_x86_64.manylinux2014_x86_64.whl (11.6 MB)\n",
      "\u001b[2K     \u001b[90m━━━━━━━━━━━━━━━━━━━━━━━━━━━━━━━━━━━━━━━\u001b[0m \u001b[32m11.6/11.6 MB\u001b[0m \u001b[31m102.8 MB/s\u001b[0m eta \u001b[36m0:00:00\u001b[0m00:01\u001b[0m00:01\u001b[0m\n",
      "\u001b[?25hCollecting numpy==1.22.4\n",
      "  Downloading numpy-1.22.4-cp310-cp310-manylinux_2_17_x86_64.manylinux2014_x86_64.whl (16.8 MB)\n",
      "\u001b[2K     \u001b[90m━━━━━━━━━━━━━━━━━━━━━━━━━━━━━━━━━━━━━━━━\u001b[0m \u001b[32m16.8/16.8 MB\u001b[0m \u001b[31m95.2 MB/s\u001b[0m eta \u001b[36m0:00:00\u001b[0m00:01\u001b[0m00:01\u001b[0m\n",
      "\u001b[?25hCollecting patsy==0.5.2\n",
      "  Downloading patsy-0.5.2-py2.py3-none-any.whl (233 kB)\n",
      "\u001b[2K     \u001b[90m━━━━━━━━━━━━━━━━━━━━━━━━━━━━━━━━━━━━━━\u001b[0m \u001b[32m233.7/233.7 kB\u001b[0m \u001b[31m31.3 MB/s\u001b[0m eta \u001b[36m0:00:00\u001b[0m\n",
      "\u001b[?25hCollecting scikit-learn==1.1.2\n",
      "  Downloading scikit_learn-1.1.2-cp310-cp310-manylinux_2_17_x86_64.manylinux2014_x86_64.whl (30.5 MB)\n",
      "\u001b[2K     \u001b[90m━━━━━━━━━━━━━━━━━━━━━━━━━━━━━━━━━━━━━━━━\u001b[0m \u001b[32m30.5/30.5 MB\u001b[0m \u001b[31m52.5 MB/s\u001b[0m eta \u001b[36m0:00:00\u001b[0m00:01\u001b[0m00:01\u001b[0m\n",
      "\u001b[?25hCollecting holidays>=0.11.1 (from darts==0.25.0)\n",
      "  Downloading holidays-0.57-py3-none-any.whl (1.1 MB)\n",
      "\u001b[2K     \u001b[90m━━━━━━━━━━━━━━━━━━━━━━━━━━━━━━━━━━━━━━━━\u001b[0m \u001b[32m1.1/1.1 MB\u001b[0m \u001b[31m58.8 MB/s\u001b[0m eta \u001b[36m0:00:00\u001b[0m\n",
      "\u001b[?25hRequirement already satisfied: joblib>=0.16.0 in /opt/conda/lib/python3.10/site-packages (from darts==0.25.0) (1.2.0)\n",
      "Requirement already satisfied: matplotlib>=3.3.0 in /opt/conda/lib/python3.10/site-packages (from darts==0.25.0) (3.7.1)\n",
      "Collecting nfoursid>=1.0.0 (from darts==0.25.0)\n",
      "  Downloading nfoursid-1.0.1-py3-none-any.whl (16 kB)\n",
      "Collecting pmdarima>=1.8.0 (from darts==0.25.0)\n",
      "  Downloading pmdarima-2.0.4-cp310-cp310-manylinux_2_17_x86_64.manylinux2014_x86_64.manylinux_2_28_x86_64.whl (2.1 MB)\n",
      "\u001b[2K     \u001b[90m━━━━━━━━━━━━━━━━━━━━━━━━━━━━━━━━━━━━━━━━\u001b[0m \u001b[32m2.1/2.1 MB\u001b[0m \u001b[31m88.7 MB/s\u001b[0m eta \u001b[36m0:00:00\u001b[0m\n",
      "\u001b[?25hCollecting pyod>=0.9.5 (from darts==0.25.0)\n",
      "  Downloading pyod-2.0.2.tar.gz (165 kB)\n",
      "\u001b[2K     \u001b[90m━━━━━━━━━━━━━━━━━━━━━━━━━━━━━━━━━━━━━━\u001b[0m \u001b[32m165.8/165.8 kB\u001b[0m \u001b[31m23.8 MB/s\u001b[0m eta \u001b[36m0:00:00\u001b[0m\n",
      "\u001b[?25h  Preparing metadata (setup.py) ... \u001b[?25ldone\n",
      "\u001b[?25hRequirement already satisfied: requests>=2.22.0 in /opt/conda/lib/python3.10/site-packages (from darts==0.25.0) (2.31.0)\n",
      "Requirement already satisfied: scipy>=1.3.2 in /opt/conda/lib/python3.10/site-packages (from darts==0.25.0) (1.10.1)\n",
      "Collecting shap>=0.40.0 (from darts==0.25.0)\n",
      "  Downloading shap-0.46.0-cp310-cp310-manylinux_2_12_x86_64.manylinux2010_x86_64.manylinux_2_17_x86_64.manylinux2014_x86_64.whl (540 kB)\n",
      "\u001b[2K     \u001b[90m━━━━━━━━━━━━━━━━━━━━━━━━━━━━━━━━━━━━━━\u001b[0m \u001b[32m540.1/540.1 kB\u001b[0m \u001b[31m47.1 MB/s\u001b[0m eta \u001b[36m0:00:00\u001b[0m\n",
      "\u001b[?25hCollecting statsforecast>=1.4 (from darts==0.25.0)\n",
      "  Downloading statsforecast-1.7.8-cp310-cp310-manylinux_2_17_x86_64.manylinux2014_x86_64.whl (314 kB)\n",
      "\u001b[2K     \u001b[90m━━━━━━━━━━━━━━━━━━━━━━━━━━━━━━━━━━━━━━\u001b[0m \u001b[32m314.7/314.7 kB\u001b[0m \u001b[31m33.2 MB/s\u001b[0m eta \u001b[36m0:00:00\u001b[0m\n",
      "\u001b[?25hRequirement already satisfied: statsmodels>=0.14.0 in /opt/conda/lib/python3.10/site-packages (from darts==0.25.0) (0.14.0)\n",
      "Collecting tbats>=1.1.0 (from darts==0.25.0)\n",
      "  Downloading tbats-1.1.3-py3-none-any.whl (44 kB)\n",
      "\u001b[2K     \u001b[90m━━━━━━━━━━━━━━━━━━━━━━━━━━━━━━━━━━━━━━━━\u001b[0m \u001b[32m44.0/44.0 kB\u001b[0m \u001b[31m6.5 MB/s\u001b[0m eta \u001b[36m0:00:00\u001b[0m\n",
      "\u001b[?25hRequirement already satisfied: tqdm>=4.60.0 in /opt/conda/lib/python3.10/site-packages (from darts==0.25.0) (4.65.0)\n",
      "Requirement already satisfied: typing-extensions in /opt/conda/lib/python3.10/site-packages (from darts==0.25.0) (4.6.2)\n",
      "Collecting xarray>=0.17.0 (from darts==0.25.0)\n",
      "  Downloading xarray-2024.9.0-py3-none-any.whl (1.2 MB)\n",
      "\u001b[2K     \u001b[90m━━━━━━━━━━━━━━━━━━━━━━━━━━━━━━━━━━━━━━━━\u001b[0m \u001b[32m1.2/1.2 MB\u001b[0m \u001b[31m59.5 MB/s\u001b[0m eta \u001b[36m0:00:00\u001b[0m\n",
      "\u001b[?25hCollecting xgboost>=1.6.0 (from darts==0.25.0)\n",
      "  Downloading xgboost-2.1.1-py3-none-manylinux_2_28_x86_64.whl (153.9 MB)\n",
      "\u001b[2K     \u001b[90m━━━━━━━━━━━━━━━━━━━━━━━━━━━━━━━━━━━━━━━\u001b[0m \u001b[32m153.9/153.9 MB\u001b[0m \u001b[31m4.1 MB/s\u001b[0m eta \u001b[36m0:00:00\u001b[0m00:01\u001b[0m00:01\u001b[0m\n",
      "\u001b[?25hCollecting pytorch-lightning>=1.5.0 (from darts==0.25.0)\n",
      "  Downloading pytorch_lightning-2.4.0-py3-none-any.whl (815 kB)\n",
      "\u001b[2K     \u001b[90m━━━━━━━━━━━━━━━━━━━━━━━━━━━━━━━━━━━━━━\u001b[0m \u001b[32m815.2/815.2 kB\u001b[0m \u001b[31m51.7 MB/s\u001b[0m eta \u001b[36m0:00:00\u001b[0m\n",
      "\u001b[?25hCollecting tensorboardX>=2.1 (from darts==0.25.0)\n",
      "  Downloading tensorboardX-2.6.2.2-py2.py3-none-any.whl (101 kB)\n",
      "\u001b[2K     \u001b[90m━━━━━━━━━━━━━━━━━━━━━━━━━━━━━━━━━━━━━━\u001b[0m \u001b[32m101.7/101.7 kB\u001b[0m \u001b[31m15.8 MB/s\u001b[0m eta \u001b[36m0:00:00\u001b[0m\n",
      "\u001b[?25hCollecting torch>=1.8.0 (from darts==0.25.0)\n",
      "  Downloading torch-2.4.1-cp310-cp310-manylinux1_x86_64.whl (797.1 MB)\n",
      "\u001b[2K     \u001b[90m━━━━━━━━━━━━━━━━━━━━━━━━━━━━━━━━━━━━━━━\u001b[0m \u001b[32m797.1/797.1 MB\u001b[0m \u001b[31m1.4 MB/s\u001b[0m eta \u001b[36m0:00:00\u001b[0m00:01\u001b[0m00:01\u001b[0m\n",
      "\u001b[?25hRequirement already satisfied: python-dateutil>=2.8.1 in /opt/conda/lib/python3.10/site-packages (from pandas==1.4.4) (2.8.2)\n",
      "Requirement already satisfied: pytz>=2020.1 in /opt/conda/lib/python3.10/site-packages (from pandas==1.4.4) (2023.3)\n",
      "Requirement already satisfied: six in /opt/conda/lib/python3.10/site-packages (from patsy==0.5.2) (1.16.0)\n",
      "Requirement already satisfied: threadpoolctl>=2.0.0 in /opt/conda/lib/python3.10/site-packages (from scikit-learn==1.1.2) (3.1.0)\n",
      "Requirement already satisfied: contourpy>=1.0.1 in /opt/conda/lib/python3.10/site-packages (from matplotlib>=3.3.0->darts==0.25.0) (1.0.7)\n",
      "Requirement already satisfied: cycler>=0.10 in /opt/conda/lib/python3.10/site-packages (from matplotlib>=3.3.0->darts==0.25.0) (0.11.0)\n",
      "Requirement already satisfied: fonttools>=4.22.0 in /opt/conda/lib/python3.10/site-packages (from matplotlib>=3.3.0->darts==0.25.0) (4.39.4)\n",
      "Requirement already satisfied: kiwisolver>=1.0.1 in /opt/conda/lib/python3.10/site-packages (from matplotlib>=3.3.0->darts==0.25.0) (1.4.4)\n",
      "Requirement already satisfied: packaging>=20.0 in /opt/conda/lib/python3.10/site-packages (from matplotlib>=3.3.0->darts==0.25.0) (23.1)\n",
      "Requirement already satisfied: pillow>=6.2.0 in /opt/conda/lib/python3.10/site-packages (from matplotlib>=3.3.0->darts==0.25.0) (9.5.0)\n",
      "Requirement already satisfied: pyparsing>=2.3.1 in /opt/conda/lib/python3.10/site-packages (from matplotlib>=3.3.0->darts==0.25.0) (3.0.9)\n",
      "Requirement already satisfied: Cython!=0.29.18,!=0.29.31,>=0.29 in /opt/conda/lib/python3.10/site-packages (from pmdarima>=1.8.0->darts==0.25.0) (0.29.35)\n",
      "Requirement already satisfied: urllib3 in /opt/conda/lib/python3.10/site-packages (from pmdarima>=1.8.0->darts==0.25.0) (2.0.2)\n",
      "Requirement already satisfied: setuptools!=50.0.0,>=38.6.0 in /opt/conda/lib/python3.10/site-packages (from pmdarima>=1.8.0->darts==0.25.0) (67.7.2)\n",
      "Requirement already satisfied: numba>=0.51 in /opt/conda/lib/python3.10/site-packages (from pyod>=0.9.5->darts==0.25.0) (0.57.0)\n",
      "Requirement already satisfied: PyYAML>=5.4 in /opt/conda/lib/python3.10/site-packages (from pytorch-lightning>=1.5.0->darts==0.25.0) (6.0)\n",
      "Requirement already satisfied: fsspec[http]>=2022.5.0 in /opt/conda/lib/python3.10/site-packages (from pytorch-lightning>=1.5.0->darts==0.25.0) (2024.9.0)\n",
      "Collecting torchmetrics>=0.7.0 (from pytorch-lightning>=1.5.0->darts==0.25.0)\n",
      "  Downloading torchmetrics-1.4.2-py3-none-any.whl (869 kB)\n",
      "\u001b[2K     \u001b[90m━━━━━━━━━━━━━━━━━━━━━━━━━━━━━━━━━━━━━━\u001b[0m \u001b[32m869.2/869.2 kB\u001b[0m \u001b[31m53.5 MB/s\u001b[0m eta \u001b[36m0:00:00\u001b[0m\n",
      "\u001b[?25hCollecting lightning-utilities>=0.10.0 (from pytorch-lightning>=1.5.0->darts==0.25.0)\n",
      "  Downloading lightning_utilities-0.11.7-py3-none-any.whl (26 kB)\n",
      "Requirement already satisfied: charset-normalizer<4,>=2 in /opt/conda/lib/python3.10/site-packages (from requests>=2.22.0->darts==0.25.0) (3.1.0)\n",
      "Requirement already satisfied: idna<4,>=2.5 in /opt/conda/lib/python3.10/site-packages (from requests>=2.22.0->darts==0.25.0) (3.4)\n",
      "Requirement already satisfied: certifi>=2017.4.17 in /opt/conda/lib/python3.10/site-packages (from requests>=2.22.0->darts==0.25.0) (2023.5.7)\n",
      "Collecting slicer==0.0.8 (from shap>=0.40.0->darts==0.25.0)\n",
      "  Downloading slicer-0.0.8-py3-none-any.whl (15 kB)\n",
      "Requirement already satisfied: cloudpickle in /opt/conda/lib/python3.10/site-packages (from shap>=0.40.0->darts==0.25.0) (2.2.1)\n",
      "Collecting coreforecast>=0.0.12 (from statsforecast>=1.4->darts==0.25.0)\n",
      "  Downloading coreforecast-0.0.12-py3-none-manylinux_2_17_x86_64.manylinux2014_x86_64.whl (196 kB)\n",
      "\u001b[2K     \u001b[90m━━━━━━━━━━━━━━━━━━━━━━━━━━━━━━━━━━━━━━\u001b[0m \u001b[32m196.7/196.7 kB\u001b[0m \u001b[31m25.6 MB/s\u001b[0m eta \u001b[36m0:00:00\u001b[0m\n",
      "\u001b[?25hCollecting fugue>=0.8.1 (from statsforecast>=1.4->darts==0.25.0)\n",
      "  Downloading fugue-0.9.1-py3-none-any.whl (278 kB)\n",
      "\u001b[2K     \u001b[90m━━━━━━━━━━━━━━━━━━━━━━━━━━━━━━━━━━━━━━\u001b[0m \u001b[32m278.2/278.2 kB\u001b[0m \u001b[31m33.6 MB/s\u001b[0m eta \u001b[36m0:00:00\u001b[0m\n",
      "\u001b[?25hCollecting utilsforecast>=0.1.4 (from statsforecast>=1.4->darts==0.25.0)\n",
      "  Downloading utilsforecast-0.2.5-py3-none-any.whl (41 kB)\n",
      "\u001b[2K     \u001b[90m━━━━━━━━━━━━━━━━━━━━━━━━━━━━━━━━━━━━━━━━\u001b[0m \u001b[32m41.2/41.2 kB\u001b[0m \u001b[31m6.6 MB/s\u001b[0m eta \u001b[36m0:00:00\u001b[0m\n",
      "\u001b[?25hRequirement already satisfied: protobuf>=3.20 in /opt/conda/lib/python3.10/site-packages (from tensorboardX>=2.1->darts==0.25.0) (4.21.12)\n",
      "Collecting filelock (from torch>=1.8.0->darts==0.25.0)\n",
      "  Downloading filelock-3.16.1-py3-none-any.whl (16 kB)\n",
      "Collecting typing-extensions (from darts==0.25.0)\n",
      "  Downloading typing_extensions-4.12.2-py3-none-any.whl (37 kB)\n",
      "Requirement already satisfied: sympy in /opt/conda/lib/python3.10/site-packages (from torch>=1.8.0->darts==0.25.0) (1.12)\n",
      "Requirement already satisfied: networkx in /opt/conda/lib/python3.10/site-packages (from torch>=1.8.0->darts==0.25.0) (3.1)\n",
      "Requirement already satisfied: jinja2 in /opt/conda/lib/python3.10/site-packages (from torch>=1.8.0->darts==0.25.0) (3.1.4)\n",
      "Collecting nvidia-cuda-nvrtc-cu12==12.1.105 (from torch>=1.8.0->darts==0.25.0)\n",
      "  Downloading nvidia_cuda_nvrtc_cu12-12.1.105-py3-none-manylinux1_x86_64.whl (23.7 MB)\n",
      "\u001b[2K     \u001b[90m━━━━━━━━━━━━━━━━━━━━━━━━━━━━━━━━━━━━━━━━\u001b[0m \u001b[32m23.7/23.7 MB\u001b[0m \u001b[31m86.5 MB/s\u001b[0m eta \u001b[36m0:00:00\u001b[0m00:01\u001b[0m00:01\u001b[0m\n",
      "\u001b[?25hCollecting nvidia-cuda-runtime-cu12==12.1.105 (from torch>=1.8.0->darts==0.25.0)\n",
      "  Downloading nvidia_cuda_runtime_cu12-12.1.105-py3-none-manylinux1_x86_64.whl (823 kB)\n",
      "\u001b[2K     \u001b[90m━━━━━━━━━━━━━━━━━━━━━━━━━━━━━━━━━━━━━━\u001b[0m \u001b[32m823.6/823.6 kB\u001b[0m \u001b[31m53.4 MB/s\u001b[0m eta \u001b[36m0:00:00\u001b[0m\n",
      "\u001b[?25hCollecting nvidia-cuda-cupti-cu12==12.1.105 (from torch>=1.8.0->darts==0.25.0)\n",
      "  Downloading nvidia_cuda_cupti_cu12-12.1.105-py3-none-manylinux1_x86_64.whl (14.1 MB)\n",
      "\u001b[2K     \u001b[90m━━━━━━━━━━━━━━━━━━━━━━━━━━━━━━━━━━━━━━━━\u001b[0m \u001b[32m14.1/14.1 MB\u001b[0m \u001b[31m83.8 MB/s\u001b[0m eta \u001b[36m0:00:00\u001b[0m00:01\u001b[0m00:01\u001b[0m\n",
      "\u001b[?25hCollecting nvidia-cudnn-cu12==9.1.0.70 (from torch>=1.8.0->darts==0.25.0)\n",
      "  Downloading nvidia_cudnn_cu12-9.1.0.70-py3-none-manylinux2014_x86_64.whl (664.8 MB)\n",
      "\u001b[2K     \u001b[90m━━━━━━━━━━━━━━━━━━━━━━━━━━━━━━━━━━━━━━━\u001b[0m \u001b[32m664.8/664.8 MB\u001b[0m \u001b[31m1.8 MB/s\u001b[0m eta \u001b[36m0:00:00\u001b[0m00:01\u001b[0m00:01\u001b[0m\n",
      "\u001b[?25hCollecting nvidia-cublas-cu12==12.1.3.1 (from torch>=1.8.0->darts==0.25.0)\n",
      "  Downloading nvidia_cublas_cu12-12.1.3.1-py3-none-manylinux1_x86_64.whl (410.6 MB)\n",
      "\u001b[2K     \u001b[90m━━━━━━━━━━━━━━━━━━━━━━━━━━━━━━━━━━━━━━━\u001b[0m \u001b[32m410.6/410.6 MB\u001b[0m \u001b[31m2.3 MB/s\u001b[0m eta \u001b[36m0:00:00\u001b[0m00:01\u001b[0m00:01\u001b[0m\n",
      "\u001b[?25hCollecting nvidia-cufft-cu12==11.0.2.54 (from torch>=1.8.0->darts==0.25.0)\n",
      "  Downloading nvidia_cufft_cu12-11.0.2.54-py3-none-manylinux1_x86_64.whl (121.6 MB)\n",
      "\u001b[2K     \u001b[90m━━━━━━━━━━━━━━━━━━━━━━━━━━━━━━━━━━━━━━━\u001b[0m \u001b[32m121.6/121.6 MB\u001b[0m \u001b[31m6.1 MB/s\u001b[0m eta \u001b[36m0:00:00\u001b[0m00:01\u001b[0m00:01\u001b[0m\n",
      "\u001b[?25hCollecting nvidia-curand-cu12==10.3.2.106 (from torch>=1.8.0->darts==0.25.0)\n",
      "  Downloading nvidia_curand_cu12-10.3.2.106-py3-none-manylinux1_x86_64.whl (56.5 MB)\n",
      "\u001b[2K     \u001b[90m━━━━━━━━━━━━━━━━━━━━━━━━━━━━━━━━━━━━━━━━\u001b[0m \u001b[32m56.5/56.5 MB\u001b[0m \u001b[31m24.8 MB/s\u001b[0m eta \u001b[36m0:00:00\u001b[0m00:01\u001b[0m00:01\u001b[0m\n",
      "\u001b[?25hCollecting nvidia-cusolver-cu12==11.4.5.107 (from torch>=1.8.0->darts==0.25.0)\n",
      "  Downloading nvidia_cusolver_cu12-11.4.5.107-py3-none-manylinux1_x86_64.whl (124.2 MB)\n",
      "\u001b[2K     \u001b[90m━━━━━━━━━━━━━━━━━━━━━━━━━━━━━━━━━━━━━━━\u001b[0m \u001b[32m124.2/124.2 MB\u001b[0m \u001b[31m4.2 MB/s\u001b[0m eta \u001b[36m0:00:00\u001b[0m00:01\u001b[0m00:01\u001b[0m\n",
      "\u001b[?25hCollecting nvidia-cusparse-cu12==12.1.0.106 (from torch>=1.8.0->darts==0.25.0)\n",
      "  Downloading nvidia_cusparse_cu12-12.1.0.106-py3-none-manylinux1_x86_64.whl (196.0 MB)\n",
      "\u001b[2K     \u001b[90m━━━━━━━━━━━━━━━━━━━━━━━━━━━━━━━━━━━━━━━\u001b[0m \u001b[32m196.0/196.0 MB\u001b[0m \u001b[31m3.5 MB/s\u001b[0m eta \u001b[36m0:00:00\u001b[0m00:01\u001b[0m00:01\u001b[0m\n",
      "\u001b[?25hCollecting nvidia-nccl-cu12==2.20.5 (from torch>=1.8.0->darts==0.25.0)\n",
      "  Downloading nvidia_nccl_cu12-2.20.5-py3-none-manylinux2014_x86_64.whl (176.2 MB)\n",
      "\u001b[2K     \u001b[90m━━━━━━━━━━━━━━━━━━━━━━━━━━━━━━━━━━━━━━━\u001b[0m \u001b[32m176.2/176.2 MB\u001b[0m \u001b[31m3.6 MB/s\u001b[0m eta \u001b[36m0:00:00\u001b[0m00:01\u001b[0m00:01\u001b[0m\n",
      "\u001b[?25hCollecting nvidia-nvtx-cu12==12.1.105 (from torch>=1.8.0->darts==0.25.0)\n",
      "  Downloading nvidia_nvtx_cu12-12.1.105-py3-none-manylinux1_x86_64.whl (99 kB)\n",
      "\u001b[2K     \u001b[90m━━━━━━━━━━━━━━━━━━━━━━━━━━━━━━━━━━━━━━━━\u001b[0m \u001b[32m99.1/99.1 kB\u001b[0m \u001b[31m16.1 MB/s\u001b[0m eta \u001b[36m0:00:00\u001b[0m\n",
      "\u001b[?25hCollecting triton==3.0.0 (from torch>=1.8.0->darts==0.25.0)\n",
      "  Downloading triton-3.0.0-1-cp310-cp310-manylinux2014_x86_64.manylinux_2_17_x86_64.whl (209.4 MB)\n",
      "\u001b[2K     \u001b[90m━━━━━━━━━━━━━━━━━━━━━━━━━━━━━━━━━━━━━━━\u001b[0m \u001b[32m209.4/209.4 MB\u001b[0m \u001b[31m3.4 MB/s\u001b[0m eta \u001b[36m0:00:00\u001b[0m00:01\u001b[0m00:01\u001b[0m\n",
      "\u001b[?25hCollecting nvidia-nvjitlink-cu12 (from nvidia-cusolver-cu12==11.4.5.107->torch>=1.8.0->darts==0.25.0)\n",
      "  Downloading nvidia_nvjitlink_cu12-12.6.77-py3-none-manylinux2014_x86_64.whl (19.7 MB)\n",
      "\u001b[2K     \u001b[90m━━━━━━━━━━━━━━━━━━━━━━━━━━━━━━━━━━━━━━━━\u001b[0m \u001b[32m19.7/19.7 MB\u001b[0m \u001b[31m70.6 MB/s\u001b[0m eta \u001b[36m0:00:00\u001b[0m00:01\u001b[0m00:01\u001b[0m\n",
      "\u001b[?25hINFO: pip is looking at multiple versions of xarray to determine which version is compatible with other requirements. This could take a while.\n",
      "Collecting xarray>=0.17.0 (from darts==0.25.0)\n",
      "  Downloading xarray-2024.7.0-py3-none-any.whl (1.2 MB)\n",
      "\u001b[2K     \u001b[90m━━━━━━━━━━━━━━━━━━━━━━━━━━━━━━━━━━━━━━━━\u001b[0m \u001b[32m1.2/1.2 MB\u001b[0m \u001b[31m58.3 MB/s\u001b[0m eta \u001b[36m0:00:00\u001b[0m\n",
      "\u001b[?25h  Downloading xarray-2024.6.0-py3-none-any.whl (1.2 MB)\n",
      "\u001b[2K     \u001b[90m━━━━━━━━━━━━━━━━━━━━━━━━━━━━━━━━━━━━━━━━\u001b[0m \u001b[32m1.2/1.2 MB\u001b[0m \u001b[31m61.0 MB/s\u001b[0m eta \u001b[36m0:00:00\u001b[0m\n",
      "\u001b[?25h  Downloading xarray-2024.5.0-py3-none-any.whl (1.2 MB)\n",
      "\u001b[2K     \u001b[90m━━━━━━━━━━━━━━━━━━━━━━━━━━━━━━━━━━━━━━━━\u001b[0m \u001b[32m1.2/1.2 MB\u001b[0m \u001b[31m58.1 MB/s\u001b[0m eta \u001b[36m0:00:00\u001b[0m\n",
      "\u001b[?25h  Downloading xarray-2024.3.0-py3-none-any.whl (1.1 MB)\n",
      "\u001b[2K     \u001b[90m━━━━━━━━━━━━━━━━━━━━━━━━━━━━━━━━━━━━━━━━\u001b[0m \u001b[32m1.1/1.1 MB\u001b[0m \u001b[31m59.1 MB/s\u001b[0m eta \u001b[36m0:00:00\u001b[0m\n",
      "\u001b[?25h  Downloading xarray-2024.2.0-py3-none-any.whl (1.1 MB)\n",
      "\u001b[2K     \u001b[90m━━━━━━━━━━━━━━━━━━━━━━━━━━━━━━━━━━━━━━━━\u001b[0m \u001b[32m1.1/1.1 MB\u001b[0m \u001b[31m45.7 MB/s\u001b[0m eta \u001b[36m0:00:00\u001b[0m\n",
      "\u001b[?25h  Downloading xarray-2024.1.1-py3-none-any.whl (1.1 MB)\n",
      "\u001b[2K     \u001b[90m━━━━━━━━━━━━━━━━━━━━━━━━━━━━━━━━━━━━━━━━\u001b[0m \u001b[32m1.1/1.1 MB\u001b[0m \u001b[31m54.7 MB/s\u001b[0m eta \u001b[36m0:00:00\u001b[0m\n",
      "\u001b[?25h  Downloading xarray-2024.1.0-py3-none-any.whl (1.1 MB)\n",
      "\u001b[2K     \u001b[90m━━━━━━━━━━━━━━━━━━━━━━━━━━━━━━━━━━━━━━━━\u001b[0m \u001b[32m1.1/1.1 MB\u001b[0m \u001b[31m59.4 MB/s\u001b[0m eta \u001b[36m0:00:00\u001b[0m\n",
      "\u001b[?25hINFO: pip is looking at multiple versions of xarray to determine which version is compatible with other requirements. This could take a while.\n",
      "  Downloading xarray-2023.12.0-py3-none-any.whl (1.1 MB)\n",
      "\u001b[2K     \u001b[90m━━━━━━━━━━━━━━━━━━━━━━━━━━━━━━━━━━━━━━━━\u001b[0m \u001b[32m1.1/1.1 MB\u001b[0m \u001b[31m58.3 MB/s\u001b[0m eta \u001b[36m0:00:00\u001b[0m\n",
      "\u001b[?25hRequirement already satisfied: aiohttp!=4.0.0a0,!=4.0.0a1 in /opt/conda/lib/python3.10/site-packages (from fsspec[http]>=2022.5.0->pytorch-lightning>=1.5.0->darts==0.25.0) (3.10.5)\n",
      "Collecting triad>=0.9.7 (from fugue>=0.8.1->statsforecast>=1.4->darts==0.25.0)\n",
      "  Downloading triad-0.9.8-py3-none-any.whl (62 kB)\n",
      "\u001b[2K     \u001b[90m━━━━━━━━━━━━━━━━━━━━━━━━━━━━━━━━━━━━━━━━\u001b[0m \u001b[32m62.3/62.3 kB\u001b[0m \u001b[31m7.8 MB/s\u001b[0m eta \u001b[36m0:00:00\u001b[0m\n",
      "\u001b[?25hCollecting adagio>=0.2.4 (from fugue>=0.8.1->statsforecast>=1.4->darts==0.25.0)\n",
      "  Downloading adagio-0.2.6-py3-none-any.whl (19 kB)\n",
      "Requirement already satisfied: llvmlite<0.41,>=0.40.0dev0 in /opt/conda/lib/python3.10/site-packages (from numba>=0.51->pyod>=0.9.5->darts==0.25.0) (0.40.0)\n",
      "Requirement already satisfied: MarkupSafe>=2.0 in /opt/conda/lib/python3.10/site-packages (from jinja2->torch>=1.8.0->darts==0.25.0) (2.1.2)\n",
      "Requirement already satisfied: mpmath>=0.19 in /opt/conda/lib/python3.10/site-packages (from sympy->torch>=1.8.0->darts==0.25.0) (1.3.0)\n",
      "Requirement already satisfied: aiohappyeyeballs>=2.3.0 in /opt/conda/lib/python3.10/site-packages (from aiohttp!=4.0.0a0,!=4.0.0a1->fsspec[http]>=2022.5.0->pytorch-lightning>=1.5.0->darts==0.25.0) (2.4.0)\n",
      "Requirement already satisfied: aiosignal>=1.1.2 in /opt/conda/lib/python3.10/site-packages (from aiohttp!=4.0.0a0,!=4.0.0a1->fsspec[http]>=2022.5.0->pytorch-lightning>=1.5.0->darts==0.25.0) (1.3.1)\n",
      "Requirement already satisfied: attrs>=17.3.0 in /opt/conda/lib/python3.10/site-packages (from aiohttp!=4.0.0a0,!=4.0.0a1->fsspec[http]>=2022.5.0->pytorch-lightning>=1.5.0->darts==0.25.0) (23.1.0)\n",
      "Requirement already satisfied: frozenlist>=1.1.1 in /opt/conda/lib/python3.10/site-packages (from aiohttp!=4.0.0a0,!=4.0.0a1->fsspec[http]>=2022.5.0->pytorch-lightning>=1.5.0->darts==0.25.0) (1.4.1)\n",
      "Requirement already satisfied: multidict<7.0,>=4.5 in /opt/conda/lib/python3.10/site-packages (from aiohttp!=4.0.0a0,!=4.0.0a1->fsspec[http]>=2022.5.0->pytorch-lightning>=1.5.0->darts==0.25.0) (6.1.0)\n",
      "Requirement already satisfied: yarl<2.0,>=1.0 in /opt/conda/lib/python3.10/site-packages (from aiohttp!=4.0.0a0,!=4.0.0a1->fsspec[http]>=2022.5.0->pytorch-lightning>=1.5.0->darts==0.25.0) (1.11.1)\n",
      "Requirement already satisfied: async-timeout<5.0,>=4.0 in /opt/conda/lib/python3.10/site-packages (from aiohttp!=4.0.0a0,!=4.0.0a1->fsspec[http]>=2022.5.0->pytorch-lightning>=1.5.0->darts==0.25.0) (4.0.3)\n",
      "Requirement already satisfied: pyarrow>=6.0.1 in /opt/conda/lib/python3.10/site-packages (from triad>=0.9.7->fugue>=0.8.1->statsforecast>=1.4->darts==0.25.0) (12.0.0)\n",
      "Collecting fs (from triad>=0.9.7->fugue>=0.8.1->statsforecast>=1.4->darts==0.25.0)\n",
      "  Downloading fs-2.4.16-py2.py3-none-any.whl (135 kB)\n",
      "\u001b[2K     \u001b[90m━━━━━━━━━━━━━━━━━━━━━━━━━━━━━━━━━━━━━━\u001b[0m \u001b[32m135.3/135.3 kB\u001b[0m \u001b[31m19.0 MB/s\u001b[0m eta \u001b[36m0:00:00\u001b[0m\n",
      "\u001b[?25hCollecting appdirs~=1.4.3 (from fs->triad>=0.9.7->fugue>=0.8.1->statsforecast>=1.4->darts==0.25.0)\n",
      "  Downloading appdirs-1.4.4-py2.py3-none-any.whl (9.6 kB)\n",
      "Building wheels for collected packages: pyod\n",
      "  Building wheel for pyod (setup.py) ... \u001b[?25ldone\n",
      "\u001b[?25h  Created wheel for pyod: filename=pyod-2.0.2-py3-none-any.whl size=198481 sha256=3309b8f340cb2dc07d68d75e1b67cb4d34987a1e46370d37c1a0979626478cb1\n",
      "  Stored in directory: /home/jovyan/.cache/pip/wheels/77/c2/20/34d1f15b41b701ba69f42a32304825810d680754d509f91391\n",
      "Successfully built pyod\n",
      "Installing collected packages: appdirs, typing-extensions, slicer, nvidia-nvtx-cu12, nvidia-nvjitlink-cu12, nvidia-nccl-cu12, nvidia-curand-cu12, nvidia-cufft-cu12, nvidia-cuda-runtime-cu12, nvidia-cuda-nvrtc-cu12, nvidia-cuda-cupti-cu12, nvidia-cublas-cu12, numpy, fs, filelock, triton, tensorboardX, patsy, pandas, nvidia-cusparse-cu12, nvidia-cudnn-cu12, lightning-utilities, holidays, coreforecast, xgboost, xarray, utilsforecast, triad, scikit-learn, nvidia-cusolver-cu12, torch, shap, pyod, pmdarima, nfoursid, adagio, torchmetrics, tbats, fugue, statsforecast, pytorch-lightning, darts\n",
      "  Attempting uninstall: typing-extensions\n",
      "    Found existing installation: typing_extensions 4.6.2\n",
      "    Uninstalling typing_extensions-4.6.2:\n",
      "      Successfully uninstalled typing_extensions-4.6.2\n",
      "  Attempting uninstall: numpy\n",
      "    Found existing installation: numpy 1.24.3\n",
      "    Uninstalling numpy-1.24.3:\n",
      "      Successfully uninstalled numpy-1.24.3\n",
      "  Attempting uninstall: patsy\n",
      "    Found existing installation: patsy 0.5.3\n",
      "    Uninstalling patsy-0.5.3:\n",
      "      Successfully uninstalled patsy-0.5.3\n",
      "  Attempting uninstall: pandas\n",
      "    Found existing installation: pandas 2.0.2\n",
      "    Uninstalling pandas-2.0.2:\n",
      "      Successfully uninstalled pandas-2.0.2\n",
      "  Attempting uninstall: scikit-learn\n",
      "    Found existing installation: scikit-learn 1.2.2\n",
      "    Uninstalling scikit-learn-1.2.2:\n",
      "      Successfully uninstalled scikit-learn-1.2.2\n",
      "Successfully installed adagio-0.2.6 appdirs-1.4.4 coreforecast-0.0.12 darts-0.25.0 filelock-3.16.1 fs-2.4.16 fugue-0.9.1 holidays-0.57 lightning-utilities-0.11.7 nfoursid-1.0.1 numpy-1.22.4 nvidia-cublas-cu12-12.1.3.1 nvidia-cuda-cupti-cu12-12.1.105 nvidia-cuda-nvrtc-cu12-12.1.105 nvidia-cuda-runtime-cu12-12.1.105 nvidia-cudnn-cu12-9.1.0.70 nvidia-cufft-cu12-11.0.2.54 nvidia-curand-cu12-10.3.2.106 nvidia-cusolver-cu12-11.4.5.107 nvidia-cusparse-cu12-12.1.0.106 nvidia-nccl-cu12-2.20.5 nvidia-nvjitlink-cu12-12.6.77 nvidia-nvtx-cu12-12.1.105 pandas-1.4.4 patsy-0.5.2 pmdarima-2.0.4 pyod-2.0.2 pytorch-lightning-2.4.0 scikit-learn-1.1.2 shap-0.46.0 slicer-0.0.8 statsforecast-1.7.8 tbats-1.1.3 tensorboardX-2.6.2.2 torch-2.4.1 torchmetrics-1.4.2 triad-0.9.8 triton-3.0.0 typing-extensions-4.12.2 utilsforecast-0.2.5 xarray-2023.12.0 xgboost-2.1.1\n",
      "Note: you may need to restart the kernel to use updated packages.\n"
     ]
    }
   ],
   "source": [
    "# with python 3_9\n",
    "# %pip install darts==0.25.0 pandas==1.4.4 numpy==1.22.4 patsy==0.5.2 scikit-learn==1.1.2"
   ]
  },
  {
   "cell_type": "code",
   "execution_count": 1,
   "id": "7b412acf-4fb7-4c24-86ad-28526e6c17ac",
   "metadata": {},
   "outputs": [],
   "source": [
    "import pandas as pd\n",
    "import requests\n",
    "import os\n",
    "import json\n",
    "from pathlib import Path\n",
    "import digitalhub as dh\n",
    "import getpass as gt"
   ]
  },
  {
   "cell_type": "code",
   "execution_count": 2,
   "id": "d0994a7a-af73-44f8-bb9d-08749a7f07ba",
   "metadata": {},
   "outputs": [
    {
     "name": "stdout",
     "output_type": "stream",
     "text": [
      "created project parcheggi-nk-scheduler-tenant2\n"
     ]
    },
    {
     "data": {
      "text/html": [
       "<div>\n",
       "<style scoped>\n",
       "    .dataframe tbody tr th:only-of-type {\n",
       "        vertical-align: middle;\n",
       "    }\n",
       "\n",
       "    .dataframe tbody tr th {\n",
       "        vertical-align: top;\n",
       "    }\n",
       "\n",
       "    .dataframe thead th {\n",
       "        text-align: right;\n",
       "    }\n",
       "</style>\n",
       "<table border=\"1\" class=\"dataframe\">\n",
       "  <thead>\n",
       "    <tr style=\"text-align: right;\">\n",
       "      <th></th>\n",
       "      <th>parcheggio</th>\n",
       "      <th>data</th>\n",
       "      <th>posti_liberi</th>\n",
       "      <th>posti_occupati</th>\n",
       "      <th>posti_totali</th>\n",
       "      <th>lat</th>\n",
       "      <th>lon</th>\n",
       "    </tr>\n",
       "  </thead>\n",
       "  <tbody>\n",
       "    <tr>\n",
       "      <th>0</th>\n",
       "      <td>Riva Reno</td>\n",
       "      <td>2024-07-02T08:09:00+00:00</td>\n",
       "      <td>343.0</td>\n",
       "      <td>127.0</td>\n",
       "      <td>470</td>\n",
       "      <td>44.501153</td>\n",
       "      <td>11.336062</td>\n",
       "    </tr>\n",
       "    <tr>\n",
       "      <th>1</th>\n",
       "      <td>VIII Agosto</td>\n",
       "      <td>2024-07-02T08:29:00+00:00</td>\n",
       "      <td>385.0</td>\n",
       "      <td>240.0</td>\n",
       "      <td>625</td>\n",
       "      <td>44.500297</td>\n",
       "      <td>11.345368</td>\n",
       "    </tr>\n",
       "    <tr>\n",
       "      <th>2</th>\n",
       "      <td>Autostazione</td>\n",
       "      <td>2024-07-02T08:49:00+00:00</td>\n",
       "      <td>214.0</td>\n",
       "      <td>51.0</td>\n",
       "      <td>265</td>\n",
       "      <td>44.504422</td>\n",
       "      <td>11.346514</td>\n",
       "    </tr>\n",
       "    <tr>\n",
       "      <th>3</th>\n",
       "      <td>Riva Reno</td>\n",
       "      <td>2024-07-02T08:59:00+00:00</td>\n",
       "      <td>319.0</td>\n",
       "      <td>151.0</td>\n",
       "      <td>470</td>\n",
       "      <td>44.501153</td>\n",
       "      <td>11.336062</td>\n",
       "    </tr>\n",
       "    <tr>\n",
       "      <th>4</th>\n",
       "      <td>Autostazione</td>\n",
       "      <td>2024-07-02T08:52:00+00:00</td>\n",
       "      <td>212.0</td>\n",
       "      <td>53.0</td>\n",
       "      <td>265</td>\n",
       "      <td>44.504422</td>\n",
       "      <td>11.346514</td>\n",
       "    </tr>\n",
       "  </tbody>\n",
       "</table>\n",
       "</div>"
      ],
      "text/plain": [
       "     parcheggio                       data  posti_liberi  posti_occupati  \\\n",
       "0     Riva Reno  2024-07-02T08:09:00+00:00         343.0           127.0   \n",
       "1   VIII Agosto  2024-07-02T08:29:00+00:00         385.0           240.0   \n",
       "2  Autostazione  2024-07-02T08:49:00+00:00         214.0            51.0   \n",
       "3     Riva Reno  2024-07-02T08:59:00+00:00         319.0           151.0   \n",
       "4  Autostazione  2024-07-02T08:52:00+00:00         212.0            53.0   \n",
       "\n",
       "   posti_totali        lat        lon  \n",
       "0           470  44.501153  11.336062  \n",
       "1           625  44.500297  11.345368  \n",
       "2           265  44.504422  11.346514  \n",
       "3           470  44.501153  11.336062  \n",
       "4           265  44.504422  11.346514  "
      ]
     },
     "execution_count": 2,
     "metadata": {},
     "output_type": "execute_result"
    }
   ],
   "source": [
    "PROJECT_NAME = \"parcheggi-nk-scheduler-\"+gt.getuser()\n",
    "proj = dh.get_or_create_project(PROJECT_NAME)\n",
    "print(\"created project {}\".format(PROJECT_NAME))\n",
    "di = proj.get_dataitem('dataset')\n",
    "df = di.as_df()\n",
    "df.head()"
   ]
  },
  {
   "cell_type": "markdown",
   "id": "749b9167-1c55-4867-be34-1373ce93eaa8",
   "metadata": {},
   "source": [
    "## Prepare data\n",
    "Clean data: convert date to datetime and calculate occupied ratio, remove redundant columns."
   ]
  },
  {
   "cell_type": "code",
   "execution_count": 5,
   "id": "7abf3307-315c-41f9-b356-1ddb807832b7",
   "metadata": {},
   "outputs": [
    {
     "data": {
      "text/html": [
       "<div>\n",
       "<style scoped>\n",
       "    .dataframe tbody tr th:only-of-type {\n",
       "        vertical-align: middle;\n",
       "    }\n",
       "\n",
       "    .dataframe tbody tr th {\n",
       "        vertical-align: top;\n",
       "    }\n",
       "\n",
       "    .dataframe thead th {\n",
       "        text-align: right;\n",
       "    }\n",
       "</style>\n",
       "<table border=\"1\" class=\"dataframe\">\n",
       "  <thead>\n",
       "    <tr style=\"text-align: right;\">\n",
       "      <th></th>\n",
       "      <th>parcheggio</th>\n",
       "      <th>occupied</th>\n",
       "      <th>date_time_slice</th>\n",
       "    </tr>\n",
       "  </thead>\n",
       "  <tbody>\n",
       "    <tr>\n",
       "      <th>0</th>\n",
       "      <td>Riva Reno</td>\n",
       "      <td>0.270213</td>\n",
       "      <td>2024-07-02 08:00:00</td>\n",
       "    </tr>\n",
       "    <tr>\n",
       "      <th>1</th>\n",
       "      <td>VIII Agosto</td>\n",
       "      <td>0.384000</td>\n",
       "      <td>2024-07-02 08:30:00</td>\n",
       "    </tr>\n",
       "    <tr>\n",
       "      <th>2</th>\n",
       "      <td>Autostazione</td>\n",
       "      <td>0.192453</td>\n",
       "      <td>2024-07-02 09:00:00</td>\n",
       "    </tr>\n",
       "    <tr>\n",
       "      <th>3</th>\n",
       "      <td>Riva Reno</td>\n",
       "      <td>0.321277</td>\n",
       "      <td>2024-07-02 09:00:00</td>\n",
       "    </tr>\n",
       "    <tr>\n",
       "      <th>4</th>\n",
       "      <td>Autostazione</td>\n",
       "      <td>0.200000</td>\n",
       "      <td>2024-07-02 09:00:00</td>\n",
       "    </tr>\n",
       "  </tbody>\n",
       "</table>\n",
       "</div>"
      ],
      "text/plain": [
       "     parcheggio  occupied     date_time_slice\n",
       "0     Riva Reno  0.270213 2024-07-02 08:00:00\n",
       "1   VIII Agosto  0.384000 2024-07-02 08:30:00\n",
       "2  Autostazione  0.192453 2024-07-02 09:00:00\n",
       "3     Riva Reno  0.321277 2024-07-02 09:00:00\n",
       "4  Autostazione  0.200000 2024-07-02 09:00:00"
      ]
     },
     "execution_count": 5,
     "metadata": {},
     "output_type": "execute_result"
    }
   ],
   "source": [
    "import datetime\n",
    "import pandas as pd\n",
    "\n",
    "window = 120\n",
    "\n",
    "df_clean = df.copy()\n",
    "df_clean.data = pd.to_datetime(df_clean.data, utc=True)\n",
    "df_clean['occupied'] = df_clean.posti_occupati / df_clean.posti_totali\n",
    "df_clean['date_time_slice'] = df_clean.data.dt.round('30min').dt.tz_convert(None)\n",
    "df_clean = df_clean[df_clean.date_time_slice >= (datetime.datetime.today() - pd.DateOffset(window))]\n",
    "df_clean = df_clean[df_clean.date_time_slice <= (datetime.datetime.today() - pd.DateOffset(1))]\n",
    "df_clean.posti_occupati = df_clean.apply(lambda x: max(0, min(x['posti_totali'], x['posti_occupati'])), axis=1)\n",
    "df_clean['occupied'] = df_clean.posti_occupati / df_clean.posti_totali\n",
    "df_clean = df_clean.drop(columns=['lat', 'lon', 'data', 'posti_totali', 'posti_liberi', 'posti_occupati'])\n",
    "df_clean.head()"
   ]
  },
  {
   "cell_type": "markdown",
   "id": "fdc5e1ee-3237-457c-a0af-0b6766660e21",
   "metadata": {},
   "source": [
    "## Create multiple time series"
   ]
  },
  {
   "cell_type": "code",
   "execution_count": 5,
   "id": "cffe3505-2ba0-4788-9385-87973919b462",
   "metadata": {},
   "outputs": [
    {
     "name": "stderr",
     "output_type": "stream",
     "text": [
      "/tmp/ipykernel_5866/2711141629.py:29: SettingWithCopyWarning: \n",
      "A value is trying to be set on a copy of a slice from a DataFrame.\n",
      "Try using .loc[row_indexer,col_indexer] = value instead\n",
      "\n",
      "See the caveats in the documentation: https://pandas.pydata.org/pandas-docs/stable/user_guide/indexing.html#returning-a-view-versus-a-copy\n",
      "  parc_df['hour'] = parc_df.date_time_slice.dt.hour\n",
      "/tmp/ipykernel_5866/2711141629.py:30: SettingWithCopyWarning: \n",
      "A value is trying to be set on a copy of a slice from a DataFrame.\n",
      "Try using .loc[row_indexer,col_indexer] = value instead\n",
      "\n",
      "See the caveats in the documentation: https://pandas.pydata.org/pandas-docs/stable/user_guide/indexing.html#returning-a-view-versus-a-copy\n",
      "  parc_df['dow'] = parc_df.date_time_slice.dt.dayofweek\n",
      "/tmp/ipykernel_5866/2711141629.py:29: SettingWithCopyWarning: \n",
      "A value is trying to be set on a copy of a slice from a DataFrame.\n",
      "Try using .loc[row_indexer,col_indexer] = value instead\n",
      "\n",
      "See the caveats in the documentation: https://pandas.pydata.org/pandas-docs/stable/user_guide/indexing.html#returning-a-view-versus-a-copy\n",
      "  parc_df['hour'] = parc_df.date_time_slice.dt.hour\n",
      "/tmp/ipykernel_5866/2711141629.py:30: SettingWithCopyWarning: \n",
      "A value is trying to be set on a copy of a slice from a DataFrame.\n",
      "Try using .loc[row_indexer,col_indexer] = value instead\n",
      "\n",
      "See the caveats in the documentation: https://pandas.pydata.org/pandas-docs/stable/user_guide/indexing.html#returning-a-view-versus-a-copy\n",
      "  parc_df['dow'] = parc_df.date_time_slice.dt.dayofweek\n"
     ]
    },
    {
     "data": {
      "text/plain": [
       "<Axes: xlabel='date_time_slice'>"
      ]
     },
     "execution_count": 5,
     "metadata": {},
     "output_type": "execute_result"
    },
    {
     "data": {
      "image/png": "[encoded data removed]",
      "text/plain": [
       "<Figure size 640x480 with 1 Axes>"
      ]
     },
     "metadata": {},
     "output_type": "display_data"
    }
   ],
   "source": [
    "from darts import TimeSeries\n",
    "from darts.dataprocessing.transformers import Scaler\n",
    "\n",
    "split_ratio = 0.8\n",
    "\n",
    "def fill_missing(parc_df):\n",
    "    missing = []  # List to store timestamps for which values could not be filled\n",
    "    temp = pd.Series(parc_df.index.date).value_counts()  # Count the occurrences of each date\n",
    "    temp = temp[temp < 48]  # Filter dates with less than 48 occurrences\n",
    "    temp.sort_index(inplace=True)  # Sort the dates in ascending order\n",
    "    for t in temp.index:  # Iterate through the filtered dates\n",
    "        for h in range(24):  # Iterate through 24 hours\n",
    "            for half_hour in [0, 30]:  # Iterate through 0 and 30 minutes\n",
    "                ts = datetime.datetime(t.year, t.month, t.day, h, half_hour)  # Create a timestamp\n",
    "                if ts not in parc_df.index:  # If the timestamp is missing in the DataFrame\n",
    "                    if ts - datetime.timedelta(days=7) in parc_df.index:  # Check if the previous week's timestamp is available\n",
    "                        parc_df.loc[ts] = parc_df.loc[ts - datetime.timedelta(days=7)].copy()  # Copy values from the previous week\n",
    "                    elif ts + datetime.timedelta(days=7) in parc_df.index:  # Check if the next week's timestamp is available\n",
    "                        parc_df.loc[ts] = parc_df.loc[ts + datetime.timedelta(days=7)].copy()  # Copy values from the next week\n",
    "                    else:\n",
    "                        missing.append(ts)  # If values cannot be filled, add the timestamp to the missing list\n",
    "    return missing \n",
    "parcheggi = ['Riva Reno' ,'VIII Agosto']# df_clean['parcheggio'].unique()\n",
    "\n",
    "train_sets, val_sets = [], []\n",
    "\n",
    "for parcheggio in parcheggi:\n",
    "    parc_df = df_clean[df_clean['parcheggio'] == parcheggio]\n",
    "    parc_df['hour'] = parc_df.date_time_slice.dt.hour\n",
    "    parc_df['dow'] = parc_df.date_time_slice.dt.dayofweek\n",
    "    parc_df = parc_df.drop(columns=['parcheggio'])\n",
    "    parc_df = parc_df.groupby('date_time_slice').agg({'occupied': 'mean', 'hour': 'first', 'dow': 'first'})\n",
    "    fill_missing(parc_df)\n",
    "    ts = TimeSeries.from_dataframe(parc_df,  value_cols='occupied', freq='30min')\n",
    "    ts_scaled = Scaler().fit_transform(ts)\n",
    "\n",
    "    split = int(len(ts_scaled) * (1 - split_ratio))\n",
    "\n",
    "    train, val = ts_scaled[:-split], ts_scaled[-split:]\n",
    "    train_sets.append(train)\n",
    "    val_sets.append(val)\n",
    "    \n",
    "train_sets[0].plot(label='train')"
   ]
  },
  {
   "cell_type": "code",
   "execution_count": 6,
   "id": "61d570d9-78f2-4cbf-b3fc-d8d04bd6dc2d",
   "metadata": {},
   "outputs": [
    {
     "name": "stderr",
     "output_type": "stream",
     "text": [
      "The `LightGBM` module could not be imported. To enable LightGBM support in Darts, follow the detailed instructions in the installation guide: https://github.com/unit8co/darts/blob/master/INSTALL.md\n",
      "The `Prophet` module could not be imported. To enable Prophet support in Darts, follow the detailed instructions in the installation guide: https://github.com/unit8co/darts/blob/master/INSTALL.md\n",
      "The `CatBoost` module could not be imported. To enable CatBoost support in Darts, follow the detailed instructions in the installation guide: https://github.com/unit8co/darts/blob/master/INSTALL.md\n",
      "GPU available: False, used: False\n",
      "TPU available: False, using: 0 TPU cores\n",
      "HPU available: False, using: 0 HPUs\n",
      "\n",
      "  | Name          | Type             | Params | Mode \n",
      "-----------------------------------------------------------\n",
      "0 | criterion     | MSELoss          | 0      | train\n",
      "1 | train_metrics | MetricCollection | 0      | train\n",
      "2 | val_metrics   | MetricCollection | 0      | train\n",
      "3 | stacks        | ModuleList       | 6.2 M  | train\n",
      "-----------------------------------------------------------\n",
      "6.2 M     Trainable params\n",
      "1.4 K     Non-trainable params\n",
      "6.2 M     Total params\n",
      "24.787    Total estimated model params size (MB)\n",
      "394       Modules in train mode\n",
      "0         Modules in eval mode\n"
     ]
    },
    {
     "data": {
      "application/vnd.jupyter.widget-view+json": {
       "model_id": "6106c88efa1f41f3a56b74e50eb64296",
       "version_major": 2,
       "version_minor": 0
      },
      "text/plain": [
       "Training: |          | 0/? [00:00<?, ?it/s]"
      ]
     },
     "metadata": {},
     "output_type": "display_data"
    },
    {
     "name": "stderr",
     "output_type": "stream",
     "text": [
      "`Trainer.fit` stopped: `max_epochs=1` reached.\n"
     ]
    },
    {
     "data": {
      "text/plain": [
       "NBEATSModel(generic_architecture=True, num_stacks=30, num_blocks=1, num_layers=4, layer_widths=256, expansion_coefficient_dim=5, trend_polynomial_degree=2, dropout=0.0, activation=ReLU, input_chunk_length=24, output_chunk_length=12, n_epochs=1, random_state=0)"
      ]
     },
     "execution_count": 6,
     "metadata": {},
     "output_type": "execute_result"
    }
   ],
   "source": [
    "from darts.models import NBEATSModel\n",
    "\n",
    "multimodel =  NBEATSModel(\n",
    "        input_chunk_length=24,\n",
    "        output_chunk_length=12,\n",
    "        n_epochs=1,\n",
    "        random_state=0\n",
    "    )\n",
    "\n",
    "multimodel.fit(train_sets)"
   ]
  },
  {
   "cell_type": "code",
   "execution_count": 7,
   "id": "139a1835-0141-4d6b-a375-59d5e240f73b",
   "metadata": {},
   "outputs": [
    {
     "name": "stderr",
     "output_type": "stream",
     "text": [
      "GPU available: False, used: False\n",
      "TPU available: False, using: 0 TPU cores\n",
      "HPU available: False, using: 0 HPUs\n"
     ]
    },
    {
     "data": {
      "application/vnd.jupyter.widget-view+json": {
       "model_id": "b27e77e16f504dae87632ff0ea0f89d2",
       "version_major": 2,
       "version_minor": 0
      },
      "text/plain": [
       "Predicting: |          | 0/? [00:00<?, ?it/s]"
      ]
     },
     "metadata": {},
     "output_type": "display_data"
    },
    {
     "data": {
      "text/plain": [
       "<Axes: xlabel='date_time_slice'>"
      ]
     },
     "execution_count": 7,
     "metadata": {},
     "output_type": "execute_result"
    },
    {
     "data": {
      "image/png": "[encoded data removed]",
      "text/plain": [
       "<Figure size 1000x600 with 1 Axes>"
      ]
     },
     "metadata": {},
     "output_type": "display_data"
    }
   ],
   "source": [
    "import matplotlib.pyplot as plt\n",
    "\n",
    "pred = multimodel.predict(n=24, series=train_sets[0][:-24])\n",
    "\n",
    "plt.figure(figsize=(10, 6))\n",
    "train_sets[0].plot(label=\"actual\")\n",
    "pred.plot(label=\"forecast\")"
   ]
  },
  {
   "cell_type": "code",
   "execution_count": 8,
   "id": "12aabf09-89e9-4eb8-829b-93a115fcea88",
   "metadata": {},
   "outputs": [
    {
     "data": {
      "text/plain": [
       "{'mape': 20.66924270351352,\n",
       " 'smape': 24.335480861929646,\n",
       " 'mae': 0.05233340481679374}"
      ]
     },
     "execution_count": 8,
     "metadata": {},
     "output_type": "execute_result"
    }
   ],
   "source": [
    "from darts.metrics import mape, smape, mae\n",
    "\n",
    "metrics = {\n",
    "    \"mape\": mape(train_sets[0], pred),\n",
    "    \"smape\": smape(train_sets[0], pred),\n",
    "    \"mae\": mae(train_sets[0], pred)\n",
    "}\n",
    "metrics"
   ]
  },
  {
   "cell_type": "markdown",
   "id": "733cc149-9270-46cb-bbe9-625971b57dc0",
   "metadata": {},
   "source": [
    "# ML Ops\n",
    "\n",
    "With the help of the platform, we will create the training function, train a parking occupation prediction model, and deploy it to the cluster as an inference APIion"
   ]
  },
  {
   "cell_type": "markdown",
   "id": "38b88838-0a11-4b0b-8beb-4cdfc5b4266b",
   "metadata": {},
   "source": [
    "## ML training function\n",
    "We convert the ML operations into a function - single executable operation that can be executed in the platform."
   ]
  },
  {
   "cell_type": "code",
   "execution_count": 6,
   "id": "e933b588-cff2-453c-abf5-efe675b1ca0e",
   "metadata": {},
   "outputs": [],
   "source": [
    "import os\n",
    "directory=\"src\"\n",
    "if not os.path.exists(directory):\n",
    "    os.makedirs(directory)"
   ]
  },
  {
   "cell_type": "code",
   "execution_count": 7,
   "id": "a716cabb-d682-405b-a914-d7ac70c607fd",
   "metadata": {},
   "outputs": [
    {
     "name": "stdout",
     "output_type": "stream",
     "text": [
      "Writing src/train_multimodel.py\n"
     ]
    }
   ],
   "source": [
    "%%writefile \"src/train_multimodel.py\"\n",
    "\n",
    "import pandas as pd\n",
    "from digitalhub_runtime_python import handler\n",
    "from darts import TimeSeries\n",
    "\n",
    "from darts.models import NBEATSModel\n",
    "from darts.metrics import mape, smape, mae\n",
    "from darts.dataprocessing.transformers import Scaler\n",
    "from zipfile import ZipFile\n",
    "\n",
    "import logging\n",
    "logging.disable(logging.CRITICAL)\n",
    "\n",
    "import warnings\n",
    "warnings.filterwarnings(\"ignore\")\n",
    "\n",
    "import datetime\n",
    "\n",
    "import pandas as pd\n",
    "import datetime\n",
    "\n",
    "from pickle import dumps\n",
    "\n",
    "def fill_missing(parc_df):\n",
    "    missing = []  # List to store timestamps for which values could not be filled\n",
    "    temp = pd.Series(parc_df.index.date).value_counts()  # Count the occurrences of each date\n",
    "    temp = temp[temp < 48]  # Filter dates with less than 48 occurrences\n",
    "    temp.sort_index(inplace=True)  # Sort the dates in ascending order\n",
    "    for t in temp.index:  # Iterate through the filtered dates\n",
    "        for h in range(24):  # Iterate through 24 hours\n",
    "            for half_hour in [0, 30]:  # Iterate through 0 and 30 minutes\n",
    "                ts = datetime.datetime(t.year, t.month, t.day, h, half_hour)  # Create a timestamp\n",
    "                if ts not in parc_df.index:  # If the timestamp is missing in the DataFrame\n",
    "                    if ts - datetime.timedelta(days=7) in parc_df.index:  # Check if the previous week's timestamp is available\n",
    "                        parc_df.loc[ts] = parc_df.loc[ts - datetime.timedelta(days=7)].copy()  # Copy values from the previous week\n",
    "                    elif ts + datetime.timedelta(days=7) in parc_df.index:  # Check if the next week's timestamp is available\n",
    "                        parc_df.loc[ts] = parc_df.loc[ts + datetime.timedelta(days=7)].copy()  # Copy values from the next week\n",
    "                    else:\n",
    "                        missing.append(ts)  # If values cannot be filled, add the timestamp to the missing list\n",
    "    return missing  # Return the list of timestamps for which values could not be filled\n",
    "\n",
    "\n",
    "@handler()\n",
    "def train_model(project, parkings_di,n_epochs: int = 1, window: int = 60, \n",
    "                input_chunk_length: int = 24, output_chunk_length: int = 12, \n",
    "                split_ratio: float = 0.8):\n",
    "\n",
    "    # Load the input data\n",
    "    df_source = parkings_di.as_df()\n",
    "    # Clean the data\n",
    "    df_clean = df_source.copy()\n",
    "    df_clean.data = pd.to_datetime(df_clean.data, utc=True)\n",
    "    df_clean['occupied'] = df_clean.posti_occupati / df_clean.posti_totali\n",
    "    df_clean['date_time_slice'] = df_clean.data.dt.round('30min').dt.tz_convert(None)\n",
    "    df_clean = df_clean[df_clean.date_time_slice >= (datetime.datetime.today() - pd.DateOffset(window))]\n",
    "    df_clean = df_clean[df_clean.date_time_slice <= (datetime.datetime.today() - pd.DateOffset(1))]\n",
    "    df_clean.posti_occupati = df_clean.apply(lambda x: max(0, min(x['posti_totali'], x['posti_occupati'])), axis=1)\n",
    "    df_clean['occupied'] = df_clean.posti_occupati / df_clean.posti_totali\n",
    "    df_clean = df_clean.drop(columns=['lat', 'lon', 'data', 'posti_totali', 'posti_liberi', 'posti_occupati'])\n",
    "    parcheggi = df_clean['parcheggio'].unique()\n",
    "    #parcheggi = ['Riva Reno' ,'VIII Agosto']\n",
    "    \n",
    "    train_sets, val_sets = [], []\n",
    "\n",
    "    # Process data for each parking lot\n",
    "    for parcheggio in parcheggi:\n",
    "        parc_df = df_clean[df_clean['parcheggio'] == parcheggio]\n",
    "        parc_df['hour'] = parc_df.date_time_slice.dt.hour\n",
    "        parc_df['dow'] = parc_df.date_time_slice.dt.dayofweek\n",
    "        parc_df = parc_df.drop(columns=['parcheggio'])\n",
    "        parc_df = parc_df.groupby('date_time_slice').agg({'occupied': 'mean', 'hour': 'first', 'dow': 'first'})\n",
    "        fill_missing(parc_df)\n",
    "        ts = TimeSeries.from_dataframe(parc_df, fillna_value=True, value_cols='occupied', freq='30min')\n",
    "        ts_scaled = Scaler().fit_transform(ts)\n",
    "        \n",
    "        split = int(len(ts_scaled) * (1 - split_ratio))\n",
    "\n",
    "        # Split data into training and validation sets\n",
    "        train, val = ts_scaled[:-split], ts_scaled[-split:]\n",
    "        train_sets.append(train)\n",
    "        val_sets.append(val)\n",
    "\n",
    "    # Train a multi-model using the NBEATS algorithm\n",
    "    multimodel =  NBEATSModel(\n",
    "        input_chunk_length=input_chunk_length,\n",
    "        output_chunk_length=output_chunk_length,\n",
    "        n_epochs=n_epochs,\n",
    "        random_state=0\n",
    "    )\n",
    "\n",
    "    # Fit the model to the training sets\n",
    "    multimodel.fit(train_sets)\n",
    "    pred = multimodel.predict(n=output_chunk_length*2, series=train_sets[0][:-output_chunk_length*2])\n",
    "\n",
    "    multimodel.save(\"parcheggi_predictor_model.pt\")\n",
    "    with ZipFile(\"parcheggi_predictor_model.pt.zip\", \"w\") as z:\n",
    "        z.write(\"parcheggi_predictor_model.pt\")\n",
    "        z.write(\"parcheggi_predictor_model.pt.ckpt\")\n",
    "    metrics = {\n",
    "        \"mape\": mape(train_sets[0], pred),\n",
    "        \"smape\": smape(train_sets[0], pred),\n",
    "        \"mae\": mae(train_sets[0], pred)\n",
    "    }\n",
    "\n",
    "    project.log_model(\n",
    "        name=\"modello_parcheggi\", \n",
    "        kind=\"model\", \n",
    "        source=\"parcheggi_predictor_model.pt.zip\", \n",
    "        algorithm=\"darts.models.NBEATSModel\",\n",
    "        framework=\"darts\",\n",
    "        metrics=metrics\n",
    "    )"
   ]
  },
  {
   "cell_type": "code",
   "execution_count": 8,
   "id": "a7fed020-55d9-451f-be4a-bd59061e76e2",
   "metadata": {},
   "outputs": [],
   "source": [
    "func = proj.new_function(name=\"training_model\",\n",
    "                         kind=\"python\",\n",
    "                         python_version=\"PYTHON3_10\",\n",
    "                         source={\"source\": \"src/train_multimodel.py\", \"handler\": \"train_model\"})"
   ]
  },
  {
   "cell_type": "code",
   "execution_count": 9,
   "id": "0de15d07-e6a2-4014-995b-d8197e9988fd",
   "metadata": {},
   "outputs": [
    {
     "data": {
      "text/plain": [
       "{'kind': 'python+run', 'metadata': {'project': 'parcheggi-nk-scheduler-tenant2', 'name': '1aa5ca74-2c34-4d17-b07c-8d60a8caf982', 'created': '2024-10-09T10:51:31.32Z', 'updated': '2024-10-09T10:51:31.349Z', 'created_by': 'tenant2userid', 'updated_by': 'tenant2userid'}, 'spec': {'task': 'python+build://parcheggi-nk-scheduler-tenant2/training_model:05fab6b8-364f-4b6c-9d3e-5b853060e3b9', 'local_execution': False, 'source': {'source': 'src/train_multimodel.py', 'handler': 'train_model', 'base64': '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', 'lang': 'python'}, 'python_version': 'PYTHON3_10', 'function': 'python://parcheggi-nk-scheduler-tenant2/training_model:05fab6b8-364f-4b6c-9d3e-5b853060e3b9', 'instructions': ['pip3 install torch torchvision torchaudio --index-url https://download.pytorch.org/whl/cpu', 'pip3 install pandas darts patsy scikit-learn'], 'inputs': {}, 'outputs': {}, 'parameters': {}}, 'status': {'state': 'READY', 'transitions': [{'status': 'READY', 'time': '2024-10-09T10:51:31.347979878Z'}, {'status': 'BUILT', 'time': '2024-10-09T10:51:31.328375413Z'}]}, 'user': 'tenant2userid', 'project': 'parcheggi-nk-scheduler-tenant2', 'id': '1aa5ca74-2c34-4d17-b07c-8d60a8caf982', 'key': 'store://parcheggi-nk-scheduler-tenant2/run/python+run/1aa5ca74-2c34-4d17-b07c-8d60a8caf982'}"
      ]
     },
     "execution_count": 9,
     "metadata": {},
     "output_type": "execute_result"
    }
   ],
   "source": [
    "func.run(action=\"build\", instructions=[\"pip3 install torch torchvision torchaudio --index-url https://download.pytorch.org/whl/cpu\",\"pip3 install pandas darts patsy scikit-learn\"])"
   ]
  },
  {
   "cell_type": "markdown",
   "id": "60d13134-3c8e-4689-b5c2-d9a73d1e6b83",
   "metadata": {},
   "source": [
    "Let us wait till the build is finished."
   ]
  },
  {
   "cell_type": "markdown",
   "id": "dace652b-988b-4c91-8423-061f8740781a",
   "metadata": {},
   "source": [
    "## Train model\n",
    "Execute train model function. As a result, the function produces a ML model that is uploaded to the platform storage, versioned, and enriched with metadata (e.g., metrics)."
   ]
  },
  {
   "cell_type": "code",
   "execution_count": 10,
   "id": "6d55915d-93ef-4748-a3d3-cc59083ed58d",
   "metadata": {},
   "outputs": [],
   "source": [
    "data_item_download = di.key\n",
    "data_item_download\n",
    "train_run = func.run(action=\"job\", inputs={\"parkings_di\":data_item_download}, parameters={\"n_epochs\": 50})"
   ]
  },
  {
   "cell_type": "markdown",
   "id": "96e6ef81-2975-4cf5-8a49-73ced7adef92",
   "metadata": {},
   "source": [
    "## Deploy Model\n",
    "Next, we deploy the model in the serving function. Given that the interaction does not correspond to a standard MLRun model server, we will deploy the function as a custom server. See the implementation of serve_multimodel.py for more details.\n",
    "\n",
    "For this, we add the model to the serving function in the initialization method."
   ]
  },
  {
   "cell_type": "code",
   "execution_count": 11,
   "id": "c9b39776-e8ce-4411-a01f-073fc238ff82",
   "metadata": {},
   "outputs": [
    {
     "name": "stdout",
     "output_type": "stream",
     "text": [
      "Writing src/serve_multimodel.py\n"
     ]
    }
   ],
   "source": [
    "%%writefile \"src/serve_multimodel.py\"\n",
    "\n",
    "from darts.models import NBEATSModel\n",
    "from zipfile import ZipFile\n",
    "from darts import TimeSeries\n",
    "import json\n",
    "import pandas as pd\n",
    "\n",
    "def init(context):\n",
    "    # Qua ti setti il nome del modello che vuoi caricare\n",
    "    model_name = \"modello_parcheggi\"\n",
    "\n",
    "    # prendi l'entity model sulla base del nome\n",
    "    model = context.project.get_model(model_name)\n",
    "    path = model.download()\n",
    "    local_path_model = \"extracted_model/\"\n",
    "    # Qua fai unzip immagino\n",
    "    with ZipFile(path, 'r') as zip_ref:\n",
    "        zip_ref.extractall(local_path_model)\n",
    "    \n",
    "    # codice che carica il modello\n",
    "    input_chunk_length = 24\n",
    "    output_chunk_length = 12\n",
    "    name_model_local = local_path_model +\"parcheggi_predictor_model.pt\"\n",
    "    mm = NBEATSModel(\n",
    "            input_chunk_length,\n",
    "            output_chunk_length\n",
    "    ).load(name_model_local)\n",
    "\n",
    "    # settare model nel context di nuclio (non su project che è il context nostro)\n",
    "    # context.setattr(\"model\", mm)\n",
    "    setattr(context, \"model\", mm)\n",
    "\n",
    "def serve(context, event):\n",
    "\n",
    "    # Sostanzialmente invochiamo la funzione con una chiamata REST\n",
    "    # Nel body della richiesta mandi l'inference input\n",
    "    \n",
    "    if isinstance(event.body, bytes):\n",
    "        body = json.loads(event.body)\n",
    "    else:\n",
    "        body = event.body\n",
    "    context.logger.info(f\"Received event: {body}\")\n",
    "    inference_input = body[\"inference_input\"]\n",
    "    \n",
    "    pdf = pd.DataFrame(inference_input)\n",
    "    pdf['date'] = pd.to_datetime(pdf['date'], unit='ms')\n",
    "\n",
    "    ts = TimeSeries.from_dataframe(\n",
    "        pdf,\n",
    "        time_col=\"date\",\n",
    "        value_cols=\"value\",\n",
    "        freq=\"30min\"\n",
    "    )\n",
    "    \n",
    "    output_chunk_length = 12\n",
    "    result = context.model.predict(n=output_chunk_length*2, series=ts)\n",
    "    # Convert the result to a pandas DataFrame, reset the index, and convert to a list\n",
    "    jsonstr = result.pd_dataframe().reset_index().to_json(orient='records')\n",
    "    return json.loads(jsonstr)"
   ]
  },
  {
   "cell_type": "code",
   "execution_count": 12,
   "id": "9b103516-9745-4eb1-b537-3a0b706916d4",
   "metadata": {},
   "outputs": [],
   "source": [
    "func = proj.new_function(name=\"serve_model\",\n",
    "                            kind=\"python\",\n",
    "                            python_version=\"PYTHON3_10\",\n",
    "                            source={\n",
    "                                 \"source\": \"src/serve_multimodel.py\",\n",
    "                                 \"handler\": \"serve\",\n",
    "                                 \"init_function\": \"init\"})"
   ]
  },
  {
   "cell_type": "code",
   "execution_count": 14,
   "id": "795b19cd-e57d-49c7-8200-ef21f843c8d2",
   "metadata": {},
   "outputs": [],
   "source": [
    "run_build_model_serve = func.run(action=\"build\",instructions=[\"pip3 install torch torchvision torchaudio --index-url https://download.pytorch.org/whl/cpu\",\"pip3 install darts pandas patsy scikit-learn\"])"
   ]
  },
  {
   "cell_type": "markdown",
   "id": "9cf6c91e-c6b3-4165-a596-8a7af17b741f",
   "metadata": {},
   "source": [
    "Let us wait till the build is finished and then expose the function as a service. For this, we need to run the serve action on the function."
   ]
  },
  {
   "cell_type": "code",
   "execution_count": 5,
   "id": "5db56f06-2402-40d2-97a4-41a7003f7547",
   "metadata": {},
   "outputs": [
    {
     "data": {
      "text/plain": [
       "'2.0.2'"
      ]
     },
     "execution_count": 5,
     "metadata": {},
     "output_type": "execute_result"
    }
   ],
   "source": [
    "#pd. __version__"
   ]
  },
  {
   "cell_type": "code",
   "execution_count": 16,
   "id": "4e8259bb-7a35-481a-95be-2cc78ce77427",
   "metadata": {},
   "outputs": [],
   "source": [
    "run_serve_model = func.run(action=\"serve\")"
   ]
  },
  {
   "cell_type": "markdown",
   "id": "1d9ad127-4ee9-4a6c-83a1-0679e31af57f",
   "metadata": {},
   "source": [
    "## Test the API\n",
    "Once deployed, we can test the API. Let us test the latest data taken from the OpenData API. We take the latest data regarding the Riva Reno parking and convert it into the format expected by the API: list of dates and values representing the occupation of the parking (percentage)."
   ]
  },
  {
   "cell_type": "code",
   "execution_count": 38,
   "id": "f9a38fc4-fab7-46f8-8c49-5cbae6915880",
   "metadata": {},
   "outputs": [
    {
     "data": {
      "text/plain": [
       "[{'date': 1728415800000, 'value': 0.3212765957},\n",
       " {'date': 1728417600000, 'value': 0.3219858156},\n",
       " {'date': 1728419400000, 'value': 0.3226950355},\n",
       " {'date': 1728421200000, 'value': 0.3276595745},\n",
       " {'date': 1728423000000, 'value': 0.3326241135},\n",
       " {'date': 1728424800000, 'value': 0.3333333333},\n",
       " {'date': 1728426600000, 'value': 0.3241134752},\n",
       " {'date': 1728428400000, 'value': 0.3078014184},\n",
       " {'date': 1728430200000, 'value': 0.2957446809},\n",
       " {'date': 1728432000000, 'value': 0.2815602837},\n",
       " {'date': 1728433800000, 'value': 0.2730496454},\n",
       " {'date': 1728435600000, 'value': 0.2680851064},\n",
       " {'date': 1728437400000, 'value': 0.2624113475},\n",
       " {'date': 1728439200000, 'value': 0.2595744681},\n",
       " {'date': 1728441000000, 'value': 0.2595744681},\n",
       " {'date': 1728442800000, 'value': 0.2595744681},\n",
       " {'date': 1728444600000, 'value': 0.2595744681},\n",
       " {'date': 1728446400000, 'value': 0.2595744681},\n",
       " {'date': 1728448200000, 'value': 0.2595744681},\n",
       " {'date': 1728450000000, 'value': 0.2595744681},\n",
       " {'date': 1728451800000, 'value': 0.2574468085},\n",
       " {'date': 1728453600000, 'value': 0.2560283688},\n",
       " {'date': 1728455400000, 'value': 0.2524822695},\n",
       " {'date': 1728457200000, 'value': 0.2531914894},\n",
       " {'date': 1728459000000, 'value': 0.2588652482},\n",
       " {'date': 1728460800000, 'value': 0.2574468085},\n",
       " {'date': 1728462600000, 'value': 0.2602836879},\n",
       " {'date': 1728464400000, 'value': 0.2858156028},\n",
       " {'date': 1728466200000, 'value': 0.3517730496},\n",
       " {'date': 1728468000000, 'value': 0.4226950355},\n",
       " {'date': 1728469800000, 'value': 0.4723404255},\n",
       " {'date': 1728471600000, 'value': 0.5021276596},\n",
       " {'date': 1728473400000, 'value': 0.5170212766},\n",
       " {'date': 1728475200000, 'value': 0.5156028369}]"
      ]
     },
     "execution_count": 38,
     "metadata": {},
     "output_type": "execute_result"
    }
   ],
   "source": [
    "import datetime \n",
    "import requests\n",
    "import json\n",
    "import pandas as pd\n",
    "\n",
    "date_str = datetime.datetime.now().strftime('%Y-%m-%dT%H:%M:%S')\n",
    "parking_str='Riva Reno'\n",
    "API_URL = f'https://opendata.comune.bologna.it/api/explore/v2.1/catalog/datasets/disponibilita-parcheggi-storico/records?where=data%3C%3D%27{date_str}%27%20and%20parcheggio%3D%27{parking_str}%27&order_by=data%20DESC&limit=100'\n",
    "\n",
    "latest_data_file = 'last_records.json'\n",
    "\n",
    "with requests.get(API_URL) as r:\n",
    "    with open(latest_data_file, \"wb\") as f:\n",
    "        f.write(r.content)\n",
    "\n",
    "with open(latest_data_file) as f:\n",
    "    json_data = json.load(f)\n",
    "    df_latest = pd.json_normalize(json_data['results']).drop(columns=['guid', 'occupazione']).rename(columns={\"coordinate.lon\": \"lon\", \"coordinate.lat\": \"lat\"})\n",
    "    df_latest.data = df_latest.data.astype('datetime64[ns, UTC]')\n",
    "    df_latest['value'] = df_latest.posti_occupati / df_latest.posti_totali\n",
    "    df_latest['date'] = df_latest.data.dt.round('30min')\n",
    "    df_latest = df_latest.drop(columns=['parcheggio'])\n",
    "    df_latest = df_latest.groupby('date').agg({'value': 'mean'})\n",
    "\n",
    "\n",
    "jsonstr = df_latest.reset_index().to_json(orient='records')\n",
    "arr = json.loads(jsonstr)\n",
    "arr"
   ]
  },
  {
   "cell_type": "code",
   "execution_count": 40,
   "id": "66392802-6be7-410d-86b0-dbd6b1d21722",
   "metadata": {},
   "outputs": [
    {
     "name": "stdout",
     "output_type": "stream",
     "text": [
      "b'[{\"date\": 1728477000000, \"value\": 0.4955009921}, {\"date\": 1728478800000, \"value\": 0.5106149701}, {\"date\": 1728480600000, \"value\": 0.4880652819}, {\"date\": 1728482400000, \"value\": 0.4766290834}, {\"date\": 1728484200000, \"value\": 0.4667139089}, {\"date\": 1728486000000, \"value\": 0.4637261741}, {\"date\": 1728487800000, \"value\": 0.4402286969}, {\"date\": 1728489600000, \"value\": 0.4351179112}, {\"date\": 1728491400000, \"value\": 0.4381982493}, {\"date\": 1728493200000, \"value\": 0.4117714809}, {\"date\": 1728495000000, \"value\": 0.433107993}, {\"date\": 1728496800000, \"value\": 0.4299833222}, {\"date\": 1728498600000, \"value\": 0.4235877194}, {\"date\": 1728500400000, \"value\": 0.4231463777}, {\"date\": 1728502200000, \"value\": 0.389687988}, {\"date\": 1728504000000, \"value\": 0.367447441}, {\"date\": 1728505800000, \"value\": 0.3376602009}, {\"date\": 1728507600000, \"value\": 0.3121206662}, {\"date\": 1728509400000, \"value\": 0.2869290097}, {\"date\": 1728511200000, \"value\": 0.269512735}, {\"date\": 1728513000000, \"value\": 0.2640775326}, {\"date\": 1728514800000, \"value\": 0.2133205131}, {\"date\": 1728516600000, \"value\": 0.2213068021}, {\"date\": 1728518400000, \"value\": 0.206220442}]'\n"
     ]
    }
   ],
   "source": [
    "run_serve_model =  dh.get_run(\"store://parcheggi-nk-scheduler-tenant2/run/python+run/22182eaa-b694-4897-a05f-da71fc825aa8\")\n",
    "run_serve_model.refresh()\n",
    "SERVICE_URL = run_serve_model.status.to_dict()[\"service\"][\"url\"]\n",
    "\n",
    "with requests.post(f'http://{SERVICE_URL}', json={\"inference_input\":arr}) as r:\n",
    "    res = r.content\n",
    "print(res)"
   ]
  },
  {
   "cell_type": "code",
   "execution_count": 12,
   "id": "822e2d5b-19e0-4d91-a701-13dcd6e2e40a",
   "metadata": {},
   "outputs": [
    {
     "name": "stdout",
     "output_type": "stream",
     "text": [
      "b'[{\"date\": 1728032400000, \"value\": 0.2097303876}, {\"date\": 1728034200000, \"value\": 0.1922338003}, {\"date\": 1728036000000, \"value\": 0.1699244294}, {\"date\": 1728037800000, \"value\": 0.1590026164}, {\"date\": 1728039600000, \"value\": 0.13392559}, {\"date\": 1728041400000, \"value\": 0.1074137125}, {\"date\": 1728043200000, \"value\": 0.1286769922}, {\"date\": 1728045000000, \"value\": 0.1098730975}, {\"date\": 1728046800000, \"value\": 0.1074287337}, {\"date\": 1728048600000, \"value\": 0.1033464426}, {\"date\": 1728050400000, \"value\": 0.1118914306}, {\"date\": 1728052200000, \"value\": 0.1219290663}, {\"date\": 1728054000000, \"value\": 0.0791850209}, {\"date\": 1728055800000, \"value\": 0.08099119}, {\"date\": 1728057600000, \"value\": 0.0792753229}, {\"date\": 1728059400000, \"value\": 0.0998880273}, {\"date\": 1728061200000, \"value\": 0.0932364096}, {\"date\": 1728063000000, \"value\": 0.0883411692}, {\"date\": 1728064800000, \"value\": 0.1227189262}, {\"date\": 1728066600000, \"value\": 0.1179525203}, {\"date\": 1728068400000, \"value\": 0.1354764182}, {\"date\": 1728070200000, \"value\": 0.1498315621}, {\"date\": 1728072000000, \"value\": 0.1782335475}, {\"date\": 1728073800000, \"value\": 0.2118197812}]'\n"
     ]
    }
   ],
   "source": [
    "#run_test =  dh.get_run(\"store://parcheggi-nk-scheduler-tenant2/run/python+run/413459ba-2924-4cdd-8d45-bd3baec34b50\", \"parcheggi-nk-scheduler-tenant2\")\n",
    "#run_test\n",
    "\n",
    "# SERVICE_URL = run_test.status.to_dict()[\"service\"][\"url\"]\n",
    "\n",
    "SERVICE_URL=\"s-pythonserve-413459ba-2924-4cdd-8d45-bd3baec34b50:8080\"\n",
    "\n",
    "with requests.post(f'http://{SERVICE_URL}', json={\"inference_input\":arr}) as r:\n",
    "    res = r.content\n",
    "print(res)\n"
   ]
  },
  {
   "cell_type": "code",
   "execution_count": null,
   "id": "2a11e228-d8ed-4c64-be0a-31c67f7d8c83",
   "metadata": {},
   "outputs": [],
   "source": []
  }
 ],
 "metadata": {
  "kernelspec": {
   "display_name": "Python 3 (ipykernel)",
   "language": "python",
   "name": "python3"
  },
  "language_info": {
   "codemirror_mode": {
    "name": "ipython",
    "version": 3
   },
   "file_extension": ".py",
   "mimetype": "text/x-python",
   "name": "python",
   "nbconvert_exporter": "python",
   "pygments_lexer": "ipython3",
   "version": "3.10.11"
  }
 },
 "nbformat": 4,
 "nbformat_minor": 5
}
