{
 "cells": [
  {
   "cell_type": "markdown",
   "id": "ca311ae7-6415-4b66-8b00-b4499e70559c",
   "metadata": {},
   "source": [
    "# Platform Support - Data Ops\n",
    "We use the platform support to read the data created into the platform after the execution of notebook(parcheggi_data_pipeline.ipynb) for training"
   ]
  },
  {
   "cell_type": "markdown",
   "id": "872a3b4c-f2bb-4b3f-b5fd-2fc06b589aa8",
   "metadata": {},
   "source": [
    "# Model Training\n",
    "We train a data prediction model using darts framework and NBEATS Deep Learning model."
   ]
  },
  {
   "cell_type": "code",
   "execution_count": 9,
   "id": "01202cdb-caa9-4a32-bd3e-1e0ae872e622",
   "metadata": {},
   "outputs": [
    {
     "name": "stdout",
     "output_type": "stream",
     "text": [
      "Requirement already satisfied: pandas in /opt/conda/lib/python3.10/site-packages (2.1.4)\n",
      "Requirement already satisfied: numpy in /opt/conda/lib/python3.10/site-packages (1.26.4)\n",
      "Requirement already satisfied: python-dateutil>=2.8.2 in /opt/conda/lib/python3.10/site-packages (from pandas) (2.8.2)\n",
      "Requirement already satisfied: pytz>=2020.1 in /opt/conda/lib/python3.10/site-packages (from pandas) (2023.3)\n",
      "Requirement already satisfied: tzdata>=2022.1 in /opt/conda/lib/python3.10/site-packages (from pandas) (2024.2)\n",
      "Requirement already satisfied: six>=1.5 in /opt/conda/lib/python3.10/site-packages (from python-dateutil>=2.8.2->pandas) (1.16.0)\n",
      "Note: you may need to restart the kernel to use updated packages.\n"
     ]
    }
   ],
   "source": [
    "%pip install pandas numpy #darts patsy scikit-learn"
   ]
  },
  {
   "cell_type": "code",
   "execution_count": 1,
   "id": "7b412acf-4fb7-4c24-86ad-28526e6c17ac",
   "metadata": {},
   "outputs": [],
   "source": [
    "import pandas as pd\n",
    "import requests\n",
    "import os\n",
    "import json\n",
    "from pathlib import Path\n",
    "import digitalhub as dh"
   ]
  },
  {
   "cell_type": "code",
   "execution_count": 2,
   "id": "d0994a7a-af73-44f8-bb9d-08749a7f07ba",
   "metadata": {},
   "outputs": [
    {
     "name": "stdout",
     "output_type": "stream",
     "text": [
      "created project parcheggi-scheduler\n"
     ]
    },
    {
     "data": {
      "text/html": [
       "<div>\n",
       "<style scoped>\n",
       "    .dataframe tbody tr th:only-of-type {\n",
       "        vertical-align: middle;\n",
       "    }\n",
       "\n",
       "    .dataframe tbody tr th {\n",
       "        vertical-align: top;\n",
       "    }\n",
       "\n",
       "    .dataframe thead th {\n",
       "        text-align: right;\n",
       "    }\n",
       "</style>\n",
       "<table border=\"1\" class=\"dataframe\">\n",
       "  <thead>\n",
       "    <tr style=\"text-align: right;\">\n",
       "      <th></th>\n",
       "      <th>parcheggio</th>\n",
       "      <th>data</th>\n",
       "      <th>posti_liberi</th>\n",
       "      <th>posti_occupati</th>\n",
       "      <th>posti_totali</th>\n",
       "      <th>lat</th>\n",
       "      <th>lon</th>\n",
       "    </tr>\n",
       "  </thead>\n",
       "  <tbody>\n",
       "    <tr>\n",
       "      <th>0</th>\n",
       "      <td>VIII Agosto</td>\n",
       "      <td>2024-06-07T01:59:00+00:00</td>\n",
       "      <td>484.0</td>\n",
       "      <td>141.0</td>\n",
       "      <td>625</td>\n",
       "      <td>44.500297</td>\n",
       "      <td>11.345368</td>\n",
       "    </tr>\n",
       "    <tr>\n",
       "      <th>1</th>\n",
       "      <td>Riva Reno</td>\n",
       "      <td>2024-06-07T02:09:00+00:00</td>\n",
       "      <td>369.0</td>\n",
       "      <td>101.0</td>\n",
       "      <td>470</td>\n",
       "      <td>44.501153</td>\n",
       "      <td>11.336062</td>\n",
       "    </tr>\n",
       "    <tr>\n",
       "      <th>2</th>\n",
       "      <td>Riva Reno</td>\n",
       "      <td>2024-06-07T02:19:00+00:00</td>\n",
       "      <td>369.0</td>\n",
       "      <td>101.0</td>\n",
       "      <td>470</td>\n",
       "      <td>44.501153</td>\n",
       "      <td>11.336062</td>\n",
       "    </tr>\n",
       "    <tr>\n",
       "      <th>3</th>\n",
       "      <td>VIII Agosto</td>\n",
       "      <td>2024-06-07T02:29:00+00:00</td>\n",
       "      <td>487.0</td>\n",
       "      <td>138.0</td>\n",
       "      <td>625</td>\n",
       "      <td>44.500297</td>\n",
       "      <td>11.345368</td>\n",
       "    </tr>\n",
       "    <tr>\n",
       "      <th>4</th>\n",
       "      <td>Riva Reno</td>\n",
       "      <td>2024-06-07T02:29:00+00:00</td>\n",
       "      <td>369.0</td>\n",
       "      <td>101.0</td>\n",
       "      <td>470</td>\n",
       "      <td>44.501153</td>\n",
       "      <td>11.336062</td>\n",
       "    </tr>\n",
       "  </tbody>\n",
       "</table>\n",
       "</div>"
      ],
      "text/plain": [
       "    parcheggio                       data  posti_liberi  posti_occupati  \\\n",
       "0  VIII Agosto  2024-06-07T01:59:00+00:00         484.0           141.0   \n",
       "1    Riva Reno  2024-06-07T02:09:00+00:00         369.0           101.0   \n",
       "2    Riva Reno  2024-06-07T02:19:00+00:00         369.0           101.0   \n",
       "3  VIII Agosto  2024-06-07T02:29:00+00:00         487.0           138.0   \n",
       "4    Riva Reno  2024-06-07T02:29:00+00:00         369.0           101.0   \n",
       "\n",
       "   posti_totali        lat        lon  \n",
       "0           625  44.500297  11.345368  \n",
       "1           470  44.501153  11.336062  \n",
       "2           470  44.501153  11.336062  \n",
       "3           625  44.500297  11.345368  \n",
       "4           470  44.501153  11.336062  "
      ]
     },
     "execution_count": 2,
     "metadata": {},
     "output_type": "execute_result"
    }
   ],
   "source": [
    "PROJECT_NAME = \"parcheggi-scheduler\"\n",
    "proj = dh.get_or_create_project(PROJECT_NAME)\n",
    "print(\"created project {}\".format(PROJECT_NAME))\n",
    "di = proj.get_dataitem('dataset')\n",
    "df = di.as_df()\n",
    "df.head()"
   ]
  },
  {
   "cell_type": "markdown",
   "id": "749b9167-1c55-4867-be34-1373ce93eaa8",
   "metadata": {},
   "source": [
    "## Prepare data\n",
    "Clean data: convert date to datetime and calculate occupied ratio, remove redundant columns."
   ]
  },
  {
   "cell_type": "code",
   "execution_count": 3,
   "id": "7abf3307-315c-41f9-b356-1ddb807832b7",
   "metadata": {},
   "outputs": [
    {
     "data": {
      "text/html": [
       "<div>\n",
       "<style scoped>\n",
       "    .dataframe tbody tr th:only-of-type {\n",
       "        vertical-align: middle;\n",
       "    }\n",
       "\n",
       "    .dataframe tbody tr th {\n",
       "        vertical-align: top;\n",
       "    }\n",
       "\n",
       "    .dataframe thead th {\n",
       "        text-align: right;\n",
       "    }\n",
       "</style>\n",
       "<table border=\"1\" class=\"dataframe\">\n",
       "  <thead>\n",
       "    <tr style=\"text-align: right;\">\n",
       "      <th></th>\n",
       "      <th>parcheggio</th>\n",
       "      <th>occupied</th>\n",
       "      <th>date_time_slice</th>\n",
       "    </tr>\n",
       "  </thead>\n",
       "  <tbody>\n",
       "    <tr>\n",
       "      <th>3051</th>\n",
       "      <td>VIII Agosto</td>\n",
       "      <td>0.273600</td>\n",
       "      <td>2024-07-29 07:00:00</td>\n",
       "    </tr>\n",
       "    <tr>\n",
       "      <th>3052</th>\n",
       "      <td>VIII Agosto</td>\n",
       "      <td>0.278400</td>\n",
       "      <td>2024-07-29 07:00:00</td>\n",
       "    </tr>\n",
       "    <tr>\n",
       "      <th>3053</th>\n",
       "      <td>VIII Agosto</td>\n",
       "      <td>0.278400</td>\n",
       "      <td>2024-07-29 07:30:00</td>\n",
       "    </tr>\n",
       "    <tr>\n",
       "      <th>3054</th>\n",
       "      <td>Riva Reno</td>\n",
       "      <td>0.168085</td>\n",
       "      <td>2024-07-29 07:30:00</td>\n",
       "    </tr>\n",
       "    <tr>\n",
       "      <th>3055</th>\n",
       "      <td>Riva Reno</td>\n",
       "      <td>0.174468</td>\n",
       "      <td>2024-07-29 08:00:00</td>\n",
       "    </tr>\n",
       "  </tbody>\n",
       "</table>\n",
       "</div>"
      ],
      "text/plain": [
       "       parcheggio  occupied     date_time_slice\n",
       "3051  VIII Agosto  0.273600 2024-07-29 07:00:00\n",
       "3052  VIII Agosto  0.278400 2024-07-29 07:00:00\n",
       "3053  VIII Agosto  0.278400 2024-07-29 07:30:00\n",
       "3054    Riva Reno  0.168085 2024-07-29 07:30:00\n",
       "3055    Riva Reno  0.174468 2024-07-29 08:00:00"
      ]
     },
     "execution_count": 3,
     "metadata": {},
     "output_type": "execute_result"
    }
   ],
   "source": [
    "import datetime\n",
    "import pandas as pd\n",
    "\n",
    "window = 120\n",
    "\n",
    "df_clean = df.copy()\n",
    "df_clean.data = pd.to_datetime(df_clean.data, utc=True)\n",
    "df_clean['occupied'] = df_clean.posti_occupati / df_clean.posti_totali\n",
    "df_clean['date_time_slice'] = df_clean.data.dt.round('30min').dt.tz_convert(None)\n",
    "df_clean = df_clean[df_clean.date_time_slice >= (datetime.datetime.today() - pd.DateOffset(window))]\n",
    "df_clean = df_clean[df_clean.date_time_slice <= (datetime.datetime.today() - pd.DateOffset(1))]\n",
    "df_clean.posti_occupati = df_clean.apply(lambda x: max(0, min(x['posti_totali'], x['posti_occupati'])), axis=1)\n",
    "df_clean['occupied'] = df_clean.posti_occupati / df_clean.posti_totali\n",
    "df_clean = df_clean.drop(columns=['lat', 'lon', 'data', 'posti_totali', 'posti_liberi', 'posti_occupati'])\n",
    "df_clean.head()"
   ]
  },
  {
   "cell_type": "markdown",
   "id": "fdc5e1ee-3237-457c-a0af-0b6766660e21",
   "metadata": {},
   "source": [
    "## Create multiple time series"
   ]
  },
  {
   "cell_type": "code",
   "execution_count": null,
   "id": "cffe3505-2ba0-4788-9385-87973919b462",
   "metadata": {},
   "outputs": [
    {
     "name": "stderr",
     "output_type": "stream",
     "text": [
      "/tmp/ipykernel_5356/1014642680.py:29: SettingWithCopyWarning: \n",
      "A value is trying to be set on a copy of a slice from a DataFrame.\n",
      "Try using .loc[row_indexer,col_indexer] = value instead\n",
      "\n",
      "See the caveats in the documentation: https://pandas.pydata.org/pandas-docs/stable/user_guide/indexing.html#returning-a-view-versus-a-copy\n",
      "  parc_df['hour'] = parc_df.date_time_slice.dt.hour\n",
      "/tmp/ipykernel_5356/1014642680.py:30: SettingWithCopyWarning: \n",
      "A value is trying to be set on a copy of a slice from a DataFrame.\n",
      "Try using .loc[row_indexer,col_indexer] = value instead\n",
      "\n",
      "See the caveats in the documentation: https://pandas.pydata.org/pandas-docs/stable/user_guide/indexing.html#returning-a-view-versus-a-copy\n",
      "  parc_df['dow'] = parc_df.date_time_slice.dt.dayofweek\n",
      "/tmp/ipykernel_5356/1014642680.py:29: SettingWithCopyWarning: \n",
      "A value is trying to be set on a copy of a slice from a DataFrame.\n",
      "Try using .loc[row_indexer,col_indexer] = value instead\n",
      "\n",
      "See the caveats in the documentation: https://pandas.pydata.org/pandas-docs/stable/user_guide/indexing.html#returning-a-view-versus-a-copy\n",
      "  parc_df['hour'] = parc_df.date_time_slice.dt.hour\n",
      "/tmp/ipykernel_5356/1014642680.py:30: SettingWithCopyWarning: \n",
      "A value is trying to be set on a copy of a slice from a DataFrame.\n",
      "Try using .loc[row_indexer,col_indexer] = value instead\n",
      "\n",
      "See the caveats in the documentation: https://pandas.pydata.org/pandas-docs/stable/user_guide/indexing.html#returning-a-view-versus-a-copy\n",
      "  parc_df['dow'] = parc_df.date_time_slice.dt.dayofweek\n"
     ]
    },
    {
     "data": {
      "text/plain": [
       "<Axes: xlabel='date_time_slice'>"
      ]
     },
     "execution_count": 10,
     "metadata": {},
     "output_type": "execute_result"
    },
    {
     "data": {
      "image/png": "[encoded data removed]",
      "text/plain": [
       "<Figure size 640x480 with 1 Axes>"
      ]
     },
     "metadata": {},
     "output_type": "display_data"
    }
   ],
   "source": [
    "from darts import TimeSeries\n",
    "from darts.dataprocessing.transformers import Scaler\n",
    "\n",
    "split_ratio = 0.8\n",
    "\n",
    "def fill_missing(parc_df):\n",
    "    missing = []  # List to store timestamps for which values could not be filled\n",
    "    temp = pd.Series(parc_df.index.date).value_counts()  # Count the occurrences of each date\n",
    "    temp = temp[temp < 48]  # Filter dates with less than 48 occurrences\n",
    "    temp.sort_index(inplace=True)  # Sort the dates in ascending order\n",
    "    for t in temp.index:  # Iterate through the filtered dates\n",
    "        for h in range(24):  # Iterate through 24 hours\n",
    "            for half_hour in [0, 30]:  # Iterate through 0 and 30 minutes\n",
    "                ts = datetime.datetime(t.year, t.month, t.day, h, half_hour)  # Create a timestamp\n",
    "                if ts not in parc_df.index:  # If the timestamp is missing in the DataFrame\n",
    "                    if ts - datetime.timedelta(days=7) in parc_df.index:  # Check if the previous week's timestamp is available\n",
    "                        parc_df.loc[ts] = parc_df.loc[ts - datetime.timedelta(days=7)].copy()  # Copy values from the previous week\n",
    "                    elif ts + datetime.timedelta(days=7) in parc_df.index:  # Check if the next week's timestamp is available\n",
    "                        parc_df.loc[ts] = parc_df.loc[ts + datetime.timedelta(days=7)].copy()  # Copy values from the next week\n",
    "                    else:\n",
    "                        missing.append(ts)  # If values cannot be filled, add the timestamp to the missing list\n",
    "    return missing \n",
    "\n",
    "parcheggi = df_clean['parcheggio'].unique()\n",
    "\n",
    "train_sets, val_sets = [], []\n",
    "\n",
    "for parcheggio in parcheggi:\n",
    "    parc_df = df_clean[df_clean['parcheggio'] == parcheggio]\n",
    "    parc_df['hour'] = parc_df.date_time_slice.dt.hour\n",
    "    parc_df['dow'] = parc_df.date_time_slice.dt.dayofweek\n",
    "    parc_df = parc_df.drop(columns=['parcheggio'])\n",
    "    parc_df = parc_df.groupby('date_time_slice').agg({'occupied': 'mean', 'hour': 'first', 'dow': 'first'})\n",
    "    fill_missing(parc_df)\n",
    "    ts = TimeSeries.from_dataframe(parc_df, fillna_value=True, value_cols='occupied', freq='30min')\n",
    "    ts_scaled = Scaler().fit_transform(ts)\n",
    "\n",
    "    split = int(len(ts_scaled) * (1 - split_ratio))\n",
    "\n",
    "    train, val = ts_scaled[:-split], ts_scaled[-split:]\n",
    "    train_sets.append(train)\n",
    "    val_sets.append(val)\n",
    "    \n",
    "train_sets[0].plot(label='train')"
   ]
  },
  {
   "cell_type": "code",
   "execution_count": 11,
   "id": "61d570d9-78f2-4cbf-b3fc-d8d04bd6dc2d",
   "metadata": {},
   "outputs": [
    {
     "name": "stderr",
     "output_type": "stream",
     "text": [
      "GPU available: False, used: False\n",
      "TPU available: False, using: 0 TPU cores\n",
      "HPU available: False, using: 0 HPUs\n",
      "\n",
      "  | Name            | Type             | Params | Mode \n",
      "-------------------------------------------------------------\n",
      "0 | criterion       | MSELoss          | 0      | train\n",
      "1 | train_criterion | MSELoss          | 0      | train\n",
      "2 | val_criterion   | MSELoss          | 0      | train\n",
      "3 | train_metrics   | MetricCollection | 0      | train\n",
      "4 | val_metrics     | MetricCollection | 0      | train\n",
      "5 | stacks          | ModuleList       | 6.2 M  | train\n",
      "-------------------------------------------------------------\n",
      "6.2 M     Trainable params\n",
      "1.4 K     Non-trainable params\n",
      "6.2 M     Total params\n",
      "24.787    Total estimated model params size (MB)\n",
      "396       Modules in train mode\n",
      "0         Modules in eval mode\n"
     ]
    },
    {
     "name": "stdout",
     "output_type": "stream",
     "text": [
      "Epoch 0: 100%|██████████| 286/286 [00:51<00:00,  5.58it/s, train_loss=0.00445]"
     ]
    },
    {
     "name": "stderr",
     "output_type": "stream",
     "text": [
      "`Trainer.fit` stopped: `max_epochs=1` reached.\n"
     ]
    },
    {
     "name": "stdout",
     "output_type": "stream",
     "text": [
      "Epoch 0: 100%|██████████| 286/286 [00:51<00:00,  5.58it/s, train_loss=0.00445]\n"
     ]
    },
    {
     "data": {
      "text/plain": [
       "NBEATSModel(output_chunk_shift=0, generic_architecture=True, num_stacks=30, num_blocks=1, num_layers=4, layer_widths=256, expansion_coefficient_dim=5, trend_polynomial_degree=2, dropout=0.0, activation=ReLU, input_chunk_length=24, output_chunk_length=12, n_epochs=1, random_state=0)"
      ]
     },
     "execution_count": 11,
     "metadata": {},
     "output_type": "execute_result"
    }
   ],
   "source": [
    "from darts.models import NBEATSModel\n",
    "\n",
    "multimodel =  NBEATSModel(\n",
    "        input_chunk_length=24,\n",
    "        output_chunk_length=12,\n",
    "        n_epochs=1,\n",
    "        random_state=0\n",
    "    )\n",
    "\n",
    "multimodel.fit(train_sets)"
   ]
  },
  {
   "cell_type": "code",
   "execution_count": 12,
   "id": "139a1835-0141-4d6b-a375-59d5e240f73b",
   "metadata": {},
   "outputs": [
    {
     "name": "stderr",
     "output_type": "stream",
     "text": [
      "GPU available: False, used: False\n",
      "TPU available: False, using: 0 TPU cores\n",
      "HPU available: False, using: 0 HPUs\n"
     ]
    },
    {
     "name": "stdout",
     "output_type": "stream",
     "text": [
      "Predicting DataLoader 0: 100%|██████████| 1/1 [00:00<00:00, 55.65it/s]\n"
     ]
    },
    {
     "data": {
      "text/plain": [
       "<Axes: xlabel='date_time_slice'>"
      ]
     },
     "execution_count": 12,
     "metadata": {},
     "output_type": "execute_result"
    },
    {
     "data": {
      "image/png": "[encoded data removed]",
      "text/plain": [
       "<Figure size 1000x600 with 1 Axes>"
      ]
     },
     "metadata": {},
     "output_type": "display_data"
    }
   ],
   "source": [
    "import matplotlib.pyplot as plt\n",
    "\n",
    "pred = multimodel.predict(n=24, series=train_sets[0][:-24])\n",
    "\n",
    "plt.figure(figsize=(10, 6))\n",
    "train_sets[0].plot(label=\"actual\")\n",
    "pred.plot(label=\"forecast\")"
   ]
  },
  {
   "cell_type": "code",
   "execution_count": 13,
   "id": "12aabf09-89e9-4eb8-829b-93a115fcea88",
   "metadata": {},
   "outputs": [
    {
     "data": {
      "text/plain": [
       "{'mape': 67.52760715978884,\n",
       " 'smape': 40.37425843068353,\n",
       " 'mae': 0.1410286916889264}"
      ]
     },
     "execution_count": 13,
     "metadata": {},
     "output_type": "execute_result"
    }
   ],
   "source": [
    "from darts.metrics import mape, smape, mae\n",
    "\n",
    "metrics = {\n",
    "    \"mape\": mape(train_sets[0], pred),\n",
    "    \"smape\": smape(train_sets[0], pred),\n",
    "    \"mae\": mae(train_sets[0], pred)\n",
    "}\n",
    "metrics"
   ]
  },
  {
   "cell_type": "markdown",
   "id": "733cc149-9270-46cb-bbe9-625971b57dc0",
   "metadata": {},
   "source": [
    "# ML Ops\n",
    "\n",
    "With the help of the platform, we will create the training function, train a parking occupation prediction model, and deploy it to the cluster as an inference APIion"
   ]
  },
  {
   "cell_type": "markdown",
   "id": "38b88838-0a11-4b0b-8beb-4cdfc5b4266b",
   "metadata": {},
   "source": [
    "## ML training function\n",
    "We convert the ML operations into a function - single executable operation that can be executed in the platform."
   ]
  },
  {
   "cell_type": "code",
   "execution_count": 4,
   "id": "e933b588-cff2-453c-abf5-efe675b1ca0e",
   "metadata": {},
   "outputs": [],
   "source": [
    "import os\n",
    "directory=\"src\"\n",
    "if not os.path.exists(directory):\n",
    "    os.makedirs(directory)"
   ]
  },
  {
   "cell_type": "code",
   "execution_count": 5,
   "id": "a716cabb-d682-405b-a914-d7ac70c607fd",
   "metadata": {},
   "outputs": [
    {
     "name": "stdout",
     "output_type": "stream",
     "text": [
      "Overwriting src/train_multimodel.py\n"
     ]
    }
   ],
   "source": [
    "%%writefile \"src/train_multimodel.py\"\n",
    "\n",
    "import pandas as pd\n",
    "from digitalhub_runtime_python import handler\n",
    "from darts import TimeSeries\n",
    "\n",
    "from darts.models import NBEATSModel\n",
    "from darts.metrics import mape, smape, mae\n",
    "from darts.dataprocessing.transformers import Scaler\n",
    "from zipfile import ZipFile\n",
    "\n",
    "import logging\n",
    "logging.disable(logging.CRITICAL)\n",
    "\n",
    "import warnings\n",
    "warnings.filterwarnings(\"ignore\")\n",
    "\n",
    "import datetime\n",
    "\n",
    "import pandas as pd\n",
    "import datetime\n",
    "\n",
    "from pickle import dumps\n",
    "\n",
    "def fill_missing(parc_df):\n",
    "    missing = []  # List to store timestamps for which values could not be filled\n",
    "    temp = pd.Series(parc_df.index.date).value_counts()  # Count the occurrences of each date\n",
    "    temp = temp[temp < 48]  # Filter dates with less than 48 occurrences\n",
    "    temp.sort_index(inplace=True)  # Sort the dates in ascending order\n",
    "    for t in temp.index:  # Iterate through the filtered dates\n",
    "        for h in range(24):  # Iterate through 24 hours\n",
    "            for half_hour in [0, 30]:  # Iterate through 0 and 30 minutes\n",
    "                ts = datetime.datetime(t.year, t.month, t.day, h, half_hour)  # Create a timestamp\n",
    "                if ts not in parc_df.index:  # If the timestamp is missing in the DataFrame\n",
    "                    if ts - datetime.timedelta(days=7) in parc_df.index:  # Check if the previous week's timestamp is available\n",
    "                        parc_df.loc[ts] = parc_df.loc[ts - datetime.timedelta(days=7)].copy()  # Copy values from the previous week\n",
    "                    elif ts + datetime.timedelta(days=7) in parc_df.index:  # Check if the next week's timestamp is available\n",
    "                        parc_df.loc[ts] = parc_df.loc[ts + datetime.timedelta(days=7)].copy()  # Copy values from the next week\n",
    "                    else:\n",
    "                        missing.append(ts)  # If values cannot be filled, add the timestamp to the missing list\n",
    "    return missing  # Return the list of timestamps for which values could not be filled\n",
    "\n",
    "\n",
    "@handler()\n",
    "def train_model(project, parkings_di,n_epochs: int = 1, window: int = 60, \n",
    "                input_chunk_length: int = 24, output_chunk_length: int = 12, \n",
    "                split_ratio: float = 0.8):\n",
    "\n",
    "    # Load the input data\n",
    "    df_source = parkings_di.as_df()\n",
    "    # Clean the data\n",
    "    df_clean = df_source.copy()\n",
    "    df_clean.data = pd.to_datetime(df_clean.data, utc=True)\n",
    "    df_clean['occupied'] = df_clean.posti_occupati / df_clean.posti_totali\n",
    "    df_clean['date_time_slice'] = df_clean.data.dt.round('30min').dt.tz_convert(None)\n",
    "    df_clean = df_clean[df_clean.date_time_slice >= (datetime.datetime.today() - pd.DateOffset(window))]\n",
    "    df_clean = df_clean[df_clean.date_time_slice <= (datetime.datetime.today() - pd.DateOffset(1))]\n",
    "    df_clean.posti_occupati = df_clean.apply(lambda x: max(0, min(x['posti_totali'], x['posti_occupati'])), axis=1)\n",
    "    df_clean['occupied'] = df_clean.posti_occupati / df_clean.posti_totali\n",
    "    df_clean = df_clean.drop(columns=['lat', 'lon', 'data', 'posti_totali', 'posti_liberi', 'posti_occupati'])\n",
    "    # parcheggi = df_clean['parcheggio'].unique()\n",
    "    parcheggi = ['Riva Reno' ,'VIII Agosto']\n",
    "    \n",
    "    train_sets, val_sets = [], []\n",
    "\n",
    "    # Process data for each parking lot\n",
    "    for parcheggio in parcheggi:\n",
    "        parc_df = df_clean[df_clean['parcheggio'] == parcheggio]\n",
    "        parc_df['hour'] = parc_df.date_time_slice.dt.hour\n",
    "        parc_df['dow'] = parc_df.date_time_slice.dt.dayofweek\n",
    "        parc_df = parc_df.drop(columns=['parcheggio'])\n",
    "        parc_df = parc_df.groupby('date_time_slice').agg({'occupied': 'mean', 'hour': 'first', 'dow': 'first'})\n",
    "        fill_missing(parc_df)\n",
    "        ts = TimeSeries.from_dataframe(parc_df, fillna_value=True, value_cols='occupied', freq='30min')\n",
    "        ts_scaled = Scaler().fit_transform(ts)\n",
    "        \n",
    "        split = int(len(ts_scaled) * (1 - split_ratio))\n",
    "\n",
    "        # Split data into training and validation sets\n",
    "        train, val = ts_scaled[:-split], ts_scaled[-split:]\n",
    "        train_sets.append(train)\n",
    "        val_sets.append(val)\n",
    "\n",
    "    # Train a multi-model using the NBEATS algorithm\n",
    "    multimodel =  NBEATSModel(\n",
    "        input_chunk_length=input_chunk_length,\n",
    "        output_chunk_length=output_chunk_length,\n",
    "        n_epochs=n_epochs,\n",
    "        random_state=0\n",
    "    )\n",
    "\n",
    "    # Fit the model to the training sets\n",
    "    multimodel.fit(train_sets)\n",
    "    pred = multimodel.predict(n=output_chunk_length*2, series=train_sets[0][:-output_chunk_length*2])\n",
    "\n",
    "    multimodel.save(\"parcheggi_predictor_model.pt\")\n",
    "    with ZipFile(\"parcheggi_predictor_model.pt.zip\", \"w\") as z:\n",
    "        z.write(\"parcheggi_predictor_model.pt\")\n",
    "        z.write(\"parcheggi_predictor_model.pt.ckpt\")\n",
    "    metrics = {\n",
    "        \"mape\": mape(train_sets[0], pred),\n",
    "        \"smape\": smape(train_sets[0], pred),\n",
    "        \"mae\": mae(train_sets[0], pred)\n",
    "    }\n",
    "\n",
    "    project.log_model(\n",
    "        name=\"modello_parcheggi\", \n",
    "        kind=\"model\", \n",
    "        source=\"parcheggi_predictor_model.pt.zip\", \n",
    "        algorithm=\"darts.models.NBEATSModel\",\n",
    "        framework=\"darts\",\n",
    "        metrics=metrics\n",
    "    )"
   ]
  },
  {
   "cell_type": "code",
   "execution_count": 6,
   "id": "a7fed020-55d9-451f-be4a-bd59061e76e2",
   "metadata": {},
   "outputs": [],
   "source": [
    "func = proj.new_function(name=\"training_model\",\n",
    "                         kind=\"python\",\n",
    "                         python_version=\"PYTHON3_10\",\n",
    "                         source={\"source\": \"src/train_multimodel.py\", \"handler\": \"train_model\"})"
   ]
  },
  {
   "cell_type": "code",
   "execution_count": 7,
   "id": "0de15d07-e6a2-4014-995b-d8197e9988fd",
   "metadata": {},
   "outputs": [],
   "source": [
    "func_run_build = func.run(action=\"build\", instructions=[\"pip3 install torch torchvision torchaudio --index-url https://download.pytorch.org/whl/cpu\",\"pip3 install pandas darts patsy==0.5.6 scikit-learn\"], wait=True)"
   ]
  },
  {
   "cell_type": "markdown",
   "id": "60d13134-3c8e-4689-b5c2-d9a73d1e6b83",
   "metadata": {},
   "source": [
    "Let us wait till the build is finished."
   ]
  },
  {
   "cell_type": "code",
   "execution_count": 8,
   "id": "8045198f-5558-45fc-af7d-d6aa9a113a42",
   "metadata": {},
   "outputs": [
    {
     "data": {
      "text/plain": [
       "'RUNNING'"
      ]
     },
     "execution_count": 8,
     "metadata": {},
     "output_type": "execute_result"
    }
   ],
   "source": [
    "func_run_build.refresh().status.state"
   ]
  },
  {
   "cell_type": "markdown",
   "id": "dace652b-988b-4c91-8423-061f8740781a",
   "metadata": {},
   "source": [
    "## Train model\n",
    "Execute train model function. As a result, the function produces a ML model that is uploaded to the platform storage, versioned, and enriched with metadata (e.g., metrics)."
   ]
  },
  {
   "cell_type": "code",
   "execution_count": 9,
   "id": "6d55915d-93ef-4748-a3d3-cc59083ed58d",
   "metadata": {},
   "outputs": [],
   "source": [
    "data_item_download = di.key\n",
    "data_item_download\n",
    "train_run = func.run(action=\"job\", inputs={\"parkings_di\":data_item_download}, parameters={\"n_epochs\": 50}, wait=True)"
   ]
  },
  {
   "cell_type": "markdown",
   "id": "3e1799a5-6a8a-4bfc-bc04-e57fbb4e86e9",
   "metadata": {},
   "source": [
    "Wait until Training job is completed."
   ]
  },
  {
   "cell_type": "code",
   "execution_count": 14,
   "id": "50f61bc4-fada-4557-9172-fec1bcee7a18",
   "metadata": {},
   "outputs": [
    {
     "data": {
      "text/plain": [
       "'RUNNING'"
      ]
     },
     "execution_count": 14,
     "metadata": {},
     "output_type": "execute_result"
    }
   ],
   "source": [
    "train_run.refresh().status.state"
   ]
  },
  {
   "cell_type": "markdown",
   "id": "96e6ef81-2975-4cf5-8a49-73ced7adef92",
   "metadata": {},
   "source": [
    "## Deploy Model\n",
    "Next, we deploy the model in the serving function. Given that the interaction does not correspond to a standard MLRun model server, we will deploy the function as a custom server. See the implementation of serve_multimodel.py for more details.\n",
    "\n",
    "For this, we add the model to the serving function in the initialization method."
   ]
  },
  {
   "cell_type": "code",
   "execution_count": 15,
   "id": "c9b39776-e8ce-4411-a01f-073fc238ff82",
   "metadata": {},
   "outputs": [
    {
     "name": "stdout",
     "output_type": "stream",
     "text": [
      "Overwriting src/serve_multimodel.py\n"
     ]
    }
   ],
   "source": [
    "%%writefile \"src/serve_multimodel.py\"\n",
    "\n",
    "from darts.models import NBEATSModel\n",
    "from zipfile import ZipFile\n",
    "from darts import TimeSeries\n",
    "import json\n",
    "import pandas as pd\n",
    "\n",
    "def init(context):\n",
    "    # Qua ti setti il nome del modello che vuoi caricare\n",
    "    model_name = \"modello_parcheggi\"\n",
    "\n",
    "    # prendi l'entity model sulla base del nome\n",
    "    model = context.project.get_model(model_name)\n",
    "    path = model.download()\n",
    "    local_path_model = \"extracted_model/\"\n",
    "    # Qua fai unzip immagino\n",
    "    with ZipFile(path, 'r') as zip_ref:\n",
    "        zip_ref.extractall(local_path_model)\n",
    "    \n",
    "    # codice che carica il modello\n",
    "    input_chunk_length = 24\n",
    "    output_chunk_length = 12\n",
    "    name_model_local = local_path_model +\"parcheggi_predictor_model.pt\"\n",
    "    mm = NBEATSModel(\n",
    "            input_chunk_length,\n",
    "            output_chunk_length\n",
    "    ).load(name_model_local)\n",
    "\n",
    "    # settare model nel context di nuclio (non su project che è il context nostro)\n",
    "    # context.setattr(\"model\", mm)\n",
    "    setattr(context, \"model\", mm)\n",
    "\n",
    "def serve(context, event):\n",
    "\n",
    "    # Sostanzialmente invochiamo la funzione con una chiamata REST\n",
    "    # Nel body della richiesta mandi l'inference input\n",
    "    \n",
    "    if isinstance(event.body, bytes):\n",
    "        body = json.loads(event.body)\n",
    "    else:\n",
    "        body = event.body\n",
    "    context.logger.info(f\"Received event: {body}\")\n",
    "    inference_input = body[\"inference_input\"]\n",
    "    \n",
    "    pdf = pd.DataFrame(inference_input)\n",
    "    pdf['date'] = pd.to_datetime(pdf['date'], unit='ms')\n",
    "\n",
    "    ts = TimeSeries.from_dataframe(\n",
    "        pdf,\n",
    "        time_col=\"date\",\n",
    "        value_cols=\"value\",\n",
    "        freq=\"30min\"\n",
    "    )\n",
    "    \n",
    "    output_chunk_length = 12\n",
    "    result = context.model.predict(n=output_chunk_length*2, series=ts)\n",
    "    # Convert the result to a pandas DataFrame, reset the index, and convert to a list\n",
    "    jsonstr = result.pd_dataframe().reset_index().to_json(orient='records')\n",
    "    return json.loads(jsonstr)"
   ]
  },
  {
   "cell_type": "code",
   "execution_count": 16,
   "id": "9b103516-9745-4eb1-b537-3a0b706916d4",
   "metadata": {},
   "outputs": [],
   "source": [
    "func = proj.new_function(name=\"serve_model\",\n",
    "                            kind=\"python\",\n",
    "                            python_version=\"PYTHON3_10\",\n",
    "                            source={\n",
    "                                 \"source\": \"src/serve_multimodel.py\",\n",
    "                                 \"handler\": \"serve\",\n",
    "                                 \"init_function\": \"init\"})"
   ]
  },
  {
   "cell_type": "code",
   "execution_count": 17,
   "id": "795b19cd-e57d-49c7-8200-ef21f843c8d2",
   "metadata": {},
   "outputs": [],
   "source": [
    "run_build_model_serve = func.run(action=\"build\",instructions=[\"pip3 install torch torchvision torchaudio --index-url https://download.pytorch.org/whl/cpu\",\"pip3 install darts pandas patsy==0.5.6 scikit-learn\"], wait=True)"
   ]
  },
  {
   "cell_type": "markdown",
   "id": "9cf6c91e-c6b3-4165-a596-8a7af17b741f",
   "metadata": {},
   "source": [
    "Let us wait till the build is finished and then expose the function as a service. For this, we need to run the serve action on the function."
   ]
  },
  {
   "cell_type": "code",
   "execution_count": 22,
   "id": "5db56f06-2402-40d2-97a4-41a7003f7547",
   "metadata": {},
   "outputs": [
    {
     "data": {
      "text/plain": [
       "'COMPLETED'"
      ]
     },
     "execution_count": 22,
     "metadata": {},
     "output_type": "execute_result"
    }
   ],
   "source": [
    "run_build_model_serve.refresh().status.state"
   ]
  },
  {
   "cell_type": "markdown",
   "id": "28df6322-522d-4eb5-bf89-7b8157ec725f",
   "metadata": {},
   "source": [
    "Wait until build is completed."
   ]
  },
  {
   "cell_type": "code",
   "execution_count": 23,
   "id": "4e8259bb-7a35-481a-95be-2cc78ce77427",
   "metadata": {},
   "outputs": [],
   "source": [
    "serve_run = func.run(action=\"serve\")"
   ]
  },
  {
   "cell_type": "code",
   "execution_count": 24,
   "id": "ebd0589b-fcfc-4578-a52e-9d6115ff5cd5",
   "metadata": {},
   "outputs": [
    {
     "data": {
      "text/plain": [
       "{'name': 's-pythonserve-3067478c-5da4-4190-a587-73a1ddb3fac9',\n",
       " 'namespace': 'digitalhub-test',\n",
       " 'type': 'NodePort',\n",
       " 'clusterIP': '10.100.186.16',\n",
       " 'ports': [{'name': 'port8080',\n",
       "   'nodePort': 32063,\n",
       "   'port': 8080,\n",
       "   'protocol': 'TCP',\n",
       "   'targetPort': 8080}],\n",
       " 'url': 's-pythonserve-3067478c-5da4-4190-a587-73a1ddb3fac9.digitalhub-test:8080'}"
      ]
     },
     "execution_count": 24,
     "metadata": {},
     "output_type": "execute_result"
    }
   ],
   "source": [
    "service = serve_run.refresh().status.service\n",
    "service"
   ]
  },
  {
   "cell_type": "markdown",
   "id": "7b415680-509e-44b9-81e4-37b5b026335d",
   "metadata": {},
   "source": [
    "Once 'Service' object available, proceed by making call to deployed service."
   ]
  },
  {
   "cell_type": "markdown",
   "id": "1d9ad127-4ee9-4a6c-83a1-0679e31af57f",
   "metadata": {},
   "source": [
    "## Test the API\n",
    "Once deployed, we can test the API. Let us test the latest data taken from the OpenData API. We take the latest data regarding the Riva Reno parking and convert it into the format expected by the API: list of dates and values representing the occupation of the parking (percentage)."
   ]
  },
  {
   "cell_type": "code",
   "execution_count": 25,
   "id": "f9a38fc4-fab7-46f8-8c49-5cbae6915880",
   "metadata": {},
   "outputs": [
    {
     "data": {
      "text/plain": [
       "[{'date': 1730673000000, 'value': 0.2574468085},\n",
       " {'date': 1730674800000, 'value': 0.2517730496},\n",
       " {'date': 1730676600000, 'value': 0.2411347518},\n",
       " {'date': 1730678400000, 'value': 0.2354609929},\n",
       " {'date': 1730680200000, 'value': 0.2276595745},\n",
       " {'date': 1730682000000, 'value': 0.2276595745},\n",
       " {'date': 1730683800000, 'value': 0.2290780142},\n",
       " {'date': 1730685600000, 'value': 0.229787234},\n",
       " {'date': 1730687400000, 'value': 0.229787234},\n",
       " {'date': 1730689200000, 'value': 0.229787234},\n",
       " {'date': 1730691000000, 'value': 0.229787234},\n",
       " {'date': 1730692800000, 'value': 0.229787234},\n",
       " {'date': 1730694600000, 'value': 0.229787234},\n",
       " {'date': 1730696400000, 'value': 0.229787234},\n",
       " {'date': 1730698200000, 'value': 0.229787234},\n",
       " {'date': 1730700000000, 'value': 0.229787234},\n",
       " {'date': 1730701800000, 'value': 0.229787234},\n",
       " {'date': 1730703600000, 'value': 0.2319148936},\n",
       " {'date': 1730705400000, 'value': 0.2340425532},\n",
       " {'date': 1730707200000, 'value': 0.2368794326},\n",
       " {'date': 1730709000000, 'value': 0.2531914894},\n",
       " {'date': 1730710800000, 'value': 0.2886524823},\n",
       " {'date': 1730712600000, 'value': 0.3205673759},\n",
       " {'date': 1730714400000, 'value': 0.3453900709},\n",
       " {'date': 1730716200000, 'value': 0.375177305},\n",
       " {'date': 1730718000000, 'value': 0.4070921986},\n",
       " {'date': 1730719800000, 'value': 0.4070921986},\n",
       " {'date': 1730721600000, 'value': 0.4035460993},\n",
       " {'date': 1730723400000, 'value': 0.4078014184},\n",
       " {'date': 1730725200000, 'value': 0.3992907801},\n",
       " {'date': 1730727000000, 'value': 0.3914893617},\n",
       " {'date': 1730728800000, 'value': 0.3794326241},\n",
       " {'date': 1730730600000, 'value': 0.3936170213},\n",
       " {'date': 1730732400000, 'value': 0.4056737589}]"
      ]
     },
     "execution_count": 25,
     "metadata": {},
     "output_type": "execute_result"
    }
   ],
   "source": [
    "import datetime \n",
    "import requests\n",
    "import json\n",
    "import pandas as pd\n",
    "\n",
    "date_str = datetime.datetime.now().strftime('%Y-%m-%dT%H:%M:%S')\n",
    "parking_str='Riva Reno'\n",
    "API_URL = f'https://opendata.comune.bologna.it/api/explore/v2.1/catalog/datasets/disponibilita-parcheggi-storico/records?where=data%3C%3D%27{date_str}%27%20and%20parcheggio%3D%27{parking_str}%27&order_by=data%20DESC&limit=100'\n",
    "\n",
    "latest_data_file = 'last_records.json'\n",
    "\n",
    "with requests.get(API_URL) as r:\n",
    "    with open(latest_data_file, \"wb\") as f:\n",
    "        f.write(r.content)\n",
    "\n",
    "with open(latest_data_file) as f:\n",
    "    json_data = json.load(f)\n",
    "    df_latest = pd.json_normalize(json_data['results']).drop(columns=['guid', 'occupazione']).rename(columns={\"coordinate.lon\": \"lon\", \"coordinate.lat\": \"lat\"})\n",
    "    df_latest.data = df_latest.data.astype('datetime64[ns, UTC]')\n",
    "    df_latest['value'] = df_latest.posti_occupati / df_latest.posti_totali\n",
    "    df_latest['date'] = df_latest.data.dt.round('30min')\n",
    "    df_latest = df_latest.drop(columns=['parcheggio'])\n",
    "    df_latest = df_latest.groupby('date').agg({'value': 'mean'})\n",
    "\n",
    "\n",
    "jsonstr = df_latest.reset_index().to_json(orient='records')\n",
    "arr = json.loads(jsonstr)\n",
    "arr"
   ]
  },
  {
   "cell_type": "code",
   "execution_count": 29,
   "id": "66392802-6be7-410d-86b0-dbd6b1d21722",
   "metadata": {},
   "outputs": [
    {
     "name": "stdout",
     "output_type": "stream",
     "text": [
      "b'[{\"date\": 1730734200000, \"value\": 0.3570387003}, {\"date\": 1730736000000, \"value\": 0.3658853812}, {\"date\": 1730737800000, \"value\": 0.3986641715}, {\"date\": 1730739600000, \"value\": 0.385422775}, {\"date\": 1730741400000, \"value\": 0.4178095298}, {\"date\": 1730743200000, \"value\": 0.4086572396}, {\"date\": 1730745000000, \"value\": 0.3670596069}, {\"date\": 1730746800000, \"value\": 0.3787527343}, {\"date\": 1730748600000, \"value\": 0.3394928405}, {\"date\": 1730750400000, \"value\": 0.3627157331}, {\"date\": 1730752200000, \"value\": 0.3934677495}, {\"date\": 1730754000000, \"value\": 0.4112754718}, {\"date\": 1730755800000, \"value\": 0.3602828425}, {\"date\": 1730757600000, \"value\": 0.372149049}, {\"date\": 1730759400000, \"value\": 0.3731400868}, {\"date\": 1730761200000, \"value\": 0.3413002767}, {\"date\": 1730763000000, \"value\": 0.3210230959}, {\"date\": 1730764800000, \"value\": 0.2760244498}, {\"date\": 1730766600000, \"value\": 0.232126894}, {\"date\": 1730768400000, \"value\": 0.1962185583}, {\"date\": 1730770200000, \"value\": 0.1581981814}, {\"date\": 1730772000000, \"value\": 0.1528359632}, {\"date\": 1730773800000, \"value\": 0.137633994}, {\"date\": 1730775600000, \"value\": 0.1307212075}]'\n"
     ]
    }
   ],
   "source": [
    "#run_serve =  dh.get_run(\"store://parcheggi-nk-scheduler-tenant2/run/python+run/22182eaa-b694-4897-a05f-da71fc825aa8\")\n",
    "SERVICE_URL = serve_run.refresh().status.to_dict()[\"service\"][\"url\"]\n",
    "\n",
    "with requests.post(f'http://{SERVICE_URL}', json={\"inference_input\":arr}) as r:\n",
    "    res = r.content\n",
    "print(res)"
   ]
  },
  {
   "cell_type": "code",
   "execution_count": 26,
   "id": "822e2d5b-19e0-4d91-a701-13dcd6e2e40a",
   "metadata": {},
   "outputs": [],
   "source": [
    "# run_test =  dh.get_run(\"store://parcheggi-nk-scheduler-tenant2/run/python+run/413459ba-2924-4cdd-8d45-bd3baec34b50\", \"parcheggi-nk-scheduler-tenant2\")\n",
    "# run_test\n",
    "\n",
    "# SERVICE_URL = run_test.status.to_dict()[\"service\"][\"url\"]\n",
    "\n",
    "# SERVICE_URL=\"s-pythonserve-413459ba-2924-4cdd-8d45-bd3baec34b50:8080\"\n",
    "\n",
    "# with requests.post(f'http://{SERVICE_URL}', json={\"inference_input\":arr}) as r:\n",
    "#    res = r.content\n",
    "# print(res)\n"
   ]
  }
 ],
 "metadata": {
  "kernelspec": {
   "display_name": "Python 3 (ipykernel)",
   "language": "python",
   "name": "python3"
  },
  "language_info": {
   "codemirror_mode": {
    "name": "ipython",
    "version": 3
   },
   "file_extension": ".py",
   "mimetype": "text/x-python",
   "name": "python",
   "nbconvert_exporter": "python",
   "pygments_lexer": "ipython3",
   "version": "3.10.11"
  }
 },
 "nbformat": 4,
 "nbformat_minor": 5
}
