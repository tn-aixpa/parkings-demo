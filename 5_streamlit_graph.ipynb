{
 "cells": [
  {
   "cell_type": "markdown",
   "id": "81e43430-000d-4409-8d6f-5ce6b86ddd93",
   "metadata": {},
   "source": [
    "# Visualization with Streamlit"
   ]
  },
  {
   "cell_type": "code",
   "execution_count": 8,
   "id": "8c392e46-bf16-47b5-bb78-db73004d0325",
   "metadata": {},
   "outputs": [],
   "source": [
    "#pip install streamlit"
   ]
  },
  {
   "cell_type": "code",
   "execution_count": 1,
   "id": "fd782ce4-66e6-4518-a0de-ecc35a281d17",
   "metadata": {},
   "outputs": [
    {
     "name": "stdout",
     "output_type": "stream",
     "text": [
      "Writing src/streamlit-app.py\n"
     ]
    }
   ],
   "source": [
    "%%writefile 'src/streamlit-app.py'\n",
    "\n",
    "import streamlit as st\n",
    "import digitalhub as dh\n",
    "import getpass as gt\n",
    "import pandas as pd\n",
    "\n",
    "PROJECT_NAME = \"parcheggi-nk-scheduler-\"+gt.getuser()\n",
    "proj = dh.get_or_create_project(PROJECT_NAME)\n",
    "print(\"created project {}\".format(PROJECT_NAME))\n",
    "\n",
    "prediction_nbeats = proj.get_dataitem(\"parking_prediction_nbeats_model\")\n",
    "prediction_sarimax_regression = proj.get_dataitem(\"parking_data_predicted_regression\")\n",
    "\n",
    "rdf1 = prediction_sarimax_regression.as_df();\n",
    "\n",
    "rdf2 = prediction_nbeats.as_df()\n",
    "rdf2.datetime = pd.to_datetime(rdf2.datetime, unit='ms')\n",
    "\n",
    "st.write(\"\"\"prediction Sarimax regression\"\"\")\n",
    "st.line_chart(rdf1, x=\"datetime\", y=\"predicted_mean\")\n",
    "\n",
    "st.write(\"\"\"prediction Nbeats model\"\"\")\n",
    "st.line_chart(rdf2, x=\"datetime\", y=\"predicted_mean\")\n"
   ]
  },
  {
   "cell_type": "code",
   "execution_count": 9,
   "id": "8e92ca51-703e-4b93-b152-29d4e53bba07",
   "metadata": {},
   "outputs": [],
   "source": [
    "#!streamlit run src/streamlit-app.py --browser.gatherUsageStats false"
   ]
  },
  {
   "cell_type": "code",
   "execution_count": 2,
   "id": "e23402ff-c740-4d99-9cb8-96831b308e44",
   "metadata": {},
   "outputs": [
    {
     "name": "stdout",
     "output_type": "stream",
     "text": [
      "created project parcheggi-nk-scheduler-khurshid\n"
     ]
    }
   ],
   "source": [
    "import digitalhub as dh\n",
    "import getpass as gt\n",
    "\n",
    "PROJECT_NAME = \"parcheggi-nk-scheduler-\"+gt.getuser()\n",
    "proj = dh.get_or_create_project(PROJECT_NAME)\n",
    "print(\"created project {}\".format(PROJECT_NAME))"
   ]
  },
  {
   "cell_type": "code",
   "execution_count": 3,
   "id": "5da87cab-9d28-4cb6-8f3a-58777a0df557",
   "metadata": {},
   "outputs": [],
   "source": [
    "func = proj.new_function(name=\"streamlit-viz-v3\",\n",
    "                         kind=\"container\",\n",
    "                         # baseImage=\"ghcr.io/scc-digitalhub/digitalhub-serverless/python-runtime:3.9-latest\"\n",
    "                         image=\"ghcr.io/scc-digitalhub/digitalhub-serverless/python-runtime:3.9-latest\",\n",
    "                         code_src=\"src/streamlit-app.py\", args= [\"run\", \"dashboard-viz.py\"], command= \"streamlit\")"
   ]
  },
  {
   "cell_type": "code",
   "execution_count": 4,
   "id": "919b0398-3780-4344-9309-3dbfca091f67",
   "metadata": {},
   "outputs": [
    {
     "data": {
      "text/plain": [
       "{'image': 'ghcr.io/scc-digitalhub/digitalhub-serverless/python-runtime:3.9-latest',\n",
       " 'command': 'streamlit',\n",
       " 'args': ['run', 'dashboard-viz.py'],\n",
       " 'source': {'source': 'src/streamlit-app.py',\n",
       "  'base64': 'CmltcG9ydCBzdHJlYW1saXQgYXMgc3QKaW1wb3J0IGRpZ2l0YWxodWIgYXMgZGgKaW1wb3J0IGdldHBhc3MgYXMgZ3QKaW1wb3J0IHBhbmRhcyBhcyBwZAoKUFJPSkVDVF9OQU1FID0gInBhcmNoZWdnaS1uay1zY2hlZHVsZXItIitndC5nZXR1c2VyKCkKcHJvaiA9IGRoLmdldF9vcl9jcmVhdGVfcHJvamVjdChQUk9KRUNUX05BTUUpCnByaW50KCJjcmVhdGVkIHByb2plY3Qge30iLmZvcm1hdChQUk9KRUNUX05BTUUpKQoKcHJlZGljdGlvbl9uYmVhdHMgPSBwcm9qLmdldF9kYXRhaXRlbSgicGFya2luZ19wcmVkaWN0aW9uX25iZWF0c19tb2RlbCIpCnByZWRpY3Rpb25fc2FyaW1heF9yZWdyZXNzaW9uID0gcHJvai5nZXRfZGF0YWl0ZW0oInBhcmtpbmdfZGF0YV9wcmVkaWN0ZWRfcmVncmVzc2lvbiIpCgpyZGYxID0gcHJlZGljdGlvbl9zYXJpbWF4X3JlZ3Jlc3Npb24uYXNfZGYoKTsKCnJkZjIgPSBwcmVkaWN0aW9uX25iZWF0cy5hc19kZigpCnJkZjIuZGF0ZXRpbWUgPSBwZC50b19kYXRldGltZShyZGYyLmRhdGV0aW1lLCB1bml0PSdtcycpCgpzdC53cml0ZSgiIiJwcmVkaWN0aW9uIFNhcmltYXggcmVncmVzc2lvbiIiIikKc3QubGluZV9jaGFydChyZGYxLCB4PSJkYXRldGltZSIsIHk9InByZWRpY3RlZF9tZWFuIikKCnN0LndyaXRlKCIiInByZWRpY3Rpb24gTmJlYXRzIG1vZGVsIiIiKQpzdC5saW5lX2NoYXJ0KHJkZjIsIHg9ImRhdGV0aW1lIiwgeT0icHJlZGljdGVkX21lYW4iKQo='}}"
      ]
     },
     "execution_count": 4,
     "metadata": {},
     "output_type": "execute_result"
    }
   ],
   "source": [
    "func.spec.to_dict()"
   ]
  },
  {
   "cell_type": "code",
   "execution_count": null,
   "id": "084f14bf-40b1-4848-9205-977dc2be7d82",
   "metadata": {},
   "outputs": [],
   "source": [
    "#fun.run(action=\"serve\", command='streamlit run src/streamlit-app.py --browser.gatherUsageStats false', )"
   ]
  },
  {
   "cell_type": "code",
   "execution_count": 6,
   "id": "51a9293b-0d35-4523-8802-8d8a2e7ec93f",
   "metadata": {},
   "outputs": [],
   "source": [
    "func.run(action=\"serve\", service_port=[{\"port\": 5002, \"target_port\": 5801}])\n",
    "#service_type = \"NodePort\""
   ]
  },
  {
   "cell_type": "markdown",
   "id": "84db884b-b89d-4276-be66-e10bf934f912",
   "metadata": {},
   "source": [
    "## Expose the service"
   ]
  },
  {
   "cell_type": "markdown",
   "id": "0994527f-f8a4-434a-be57-c48de3df7d68",
   "metadata": {},
   "source": [
    "To make it accessible from outside, we'll need to create an API gateway.\n",
    "\n",
    "Go to the Kubernetes Resource Manager component (available from dashboard) and go to the API Gateways section. To expose a service it is necessary to define\n",
    "\n",
    "name of the gateway\n",
    "the service to expose\n",
    "the endpoint where to publish\n",
    "and the authentication method (right now only no authentication or basic authentication are available). in case of basic authentication it is necessary to specify Username and Password.\n",
    "The platform by default support exposing the methods at the subdomains of services.<platform-domain>, where platform-domain is the domain of the platform instance."
   ]
  },
  {
   "attachments": {},
   "cell_type": "markdown",
   "id": "99134fc7-00c1-4ea3-8866-0a89710b5c79",
   "metadata": {},
   "source": [
    "<img src=\"streamlit.jpg\">"
   ]
  },
  {
   "cell_type": "markdown",
   "id": "15d8e30d-24f2-429b-92e2-cec69f411a8d",
   "metadata": {},
   "source": [
    "Save and, after a few moments, you will be able to call the API at the address you defined! If you set Authentication to Basic, don't forget that you have to provide the credentials."
   ]
  },
  {
   "cell_type": "code",
   "execution_count": null,
   "id": "50d566dc-42f4-4172-a162-c5f5725e83da",
   "metadata": {},
   "outputs": [],
   "source": []
  }
 ],
 "metadata": {
  "kernelspec": {
   "display_name": "Python 3 (ipykernel)",
   "language": "python",
   "name": "python3"
  },
  "language_info": {
   "codemirror_mode": {
    "name": "ipython",
    "version": 3
   },
   "file_extension": ".py",
   "mimetype": "text/x-python",
   "name": "python",
   "nbconvert_exporter": "python",
   "pygments_lexer": "ipython3",
   "version": "3.10.11"
  }
 },
 "nbformat": 4,
 "nbformat_minor": 5
}
