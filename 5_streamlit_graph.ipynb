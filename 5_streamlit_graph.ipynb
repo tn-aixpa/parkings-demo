{
 "cells": [
  {
   "cell_type": "markdown",
   "id": "81e43430-000d-4409-8d6f-5ce6b86ddd93",
   "metadata": {},
   "source": [
    "# Visualization with Streamlit"
   ]
  },
  {
   "cell_type": "markdown",
   "id": "5cf59b85-3e81-4b82-865d-bdb220ddcfb8",
   "metadata": {},
   "source": [
    "In this step we will make use of streamlit library to build the plots of predictions created using regression and nbeats time series."
   ]
  },
  {
   "cell_type": "code",
   "execution_count": 1,
   "id": "fd782ce4-66e6-4518-a0de-ecc35a281d17",
   "metadata": {},
   "outputs": [
    {
     "name": "stdout",
     "output_type": "stream",
     "text": [
      "Writing src/streamlit-app.py\n"
     ]
    }
   ],
   "source": [
    "%%writefile 'src/streamlit-app.py'\n",
    "\n",
    "import streamlit as st\n",
    "import digitalhub as dh\n",
    "import pandas as pd\n",
    "import dateutil.parser as dparser\n",
    "\n",
    "PROJECT_NAME = \"parcheggi-nk-scheduler-digitalhubdev\"\n",
    "proj = dh.get_or_create_project(PROJECT_NAME)\n",
    "print(\"created project {}\".format(PROJECT_NAME))\n",
    "\n",
    "prediction_nbeats = proj.get_dataitem(\"parking_prediction_nbeats_model\")\n",
    "prediction_sarimax_regression = proj.get_dataitem(\"parking_data_predicted_regression\")\n",
    "\n",
    "rdf1 = prediction_sarimax_regression.as_df();\n",
    "rdf1['datetime'] = rdf1['datetime'].apply(dparser.parse,fuzzy=True)\n",
    "\n",
    "rdf2 = prediction_nbeats.as_df()\n",
    "rdf2.datetime = pd.to_datetime(rdf2.datetime, unit='ms')\n",
    "\n",
    "st.write(\"\"\"prediction Sarimax regression\"\"\")\n",
    "st.line_chart(rdf1, x=\"datetime\", y=\"predicted_mean\")\n",
    "\n",
    "st.write(\"\"\"prediction Nbeats model\"\"\")\n",
    "st.line_chart(rdf2, x=\"datetime\", y=\"predicted_mean\")\n"
   ]
  },
  {
   "cell_type": "code",
   "execution_count": 2,
   "id": "8e92ca51-703e-4b93-b152-29d4e53bba07",
   "metadata": {},
   "outputs": [],
   "source": [
    "#!streamlit run src/streamlit-app.py --browser.gatherUsageStats false"
   ]
  },
  {
   "cell_type": "code",
   "execution_count": 3,
   "id": "e23402ff-c740-4d99-9cb8-96831b308e44",
   "metadata": {},
   "outputs": [
    {
     "name": "stdout",
     "output_type": "stream",
     "text": [
      "created project parcheggi-nk-scheduler-digitalhubdev\n"
     ]
    }
   ],
   "source": [
    "import digitalhub as dh\n",
    "import getpass as gt\n",
    "\n",
    "PROJECT_NAME = \"parcheggi-nk-scheduler-\"+gt.getuser()\n",
    "proj = dh.get_or_create_project(PROJECT_NAME)\n",
    "print(\"created project {}\".format(PROJECT_NAME))"
   ]
  },
  {
   "cell_type": "code",
   "execution_count": 4,
   "id": "5da87cab-9d28-4cb6-8f3a-58777a0df557",
   "metadata": {},
   "outputs": [],
   "source": [
    "func = proj.new_function(name=\"streamlit-viz-v3\",\n",
    "                         kind=\"container\",\n",
    "                         python_version=\"PYTHON3_10\",\n",
    "                         lang=\"python\",\n",
    "                         base_image=\"ghcr.io/scc-digitalhub/digitalhub-serverless/python-runtime:3.9-latest\",\n",
    "                         image=\"ghcr.io/scc-digitalhub/digitalhub-serverless/python-runtime:3.9-latest\",\n",
    "                         code_src=\"src/streamlit-app.py\", args= [\"run\", \"src/streamlit-app.py\"], command= \"streamlit\")"
   ]
  },
  {
   "cell_type": "code",
   "execution_count": 8,
   "id": "084d712d-2ef7-4bc8-a108-2b8dd7217e70",
   "metadata": {},
   "outputs": [],
   "source": [
    "# import pandas as pd\n",
    "# from datetime import datetime\n",
    "# import dateutil.parser as dparser\n",
    "# pd.set_option(\"display.max_columns\", None)\n",
    "# pd.set_option(\"display.max_rows\", None)"
   ]
  },
  {
   "cell_type": "code",
   "execution_count": 18,
   "id": "5d53b82a-eaaf-4d06-9c40-e9e2069bbe37",
   "metadata": {},
   "outputs": [
    {
     "data": {
      "text/plain": [
       "predicted_mean    float64\n",
       "parcheggio         object\n",
       "datetime           object\n",
       "dtype: object"
      ]
     },
     "execution_count": 18,
     "metadata": {},
     "output_type": "execute_result"
    }
   ],
   "source": [
    "# prediction_sarimax_regression = proj.get_dataitem(\"parking_data_predicted_regression\")\n",
    "# rdf1 = prediction_sarimax_regression.as_df();\n",
    "# rdf1.dtypes"
   ]
  },
  {
   "cell_type": "code",
   "execution_count": 12,
   "id": "16e6505e-01dd-4cd8-8591-8bd28ff0a742",
   "metadata": {},
   "outputs": [
    {
     "data": {
      "text/plain": [
       "predicted_mean           float64\n",
       "parcheggio                object\n",
       "datetime          datetime64[ns]\n",
       "dtype: object"
      ]
     },
     "execution_count": 12,
     "metadata": {},
     "output_type": "execute_result"
    }
   ],
   "source": [
    "# import dateutil.parser as dparser\n",
    "# rdf1['datetime'] = rdf1['datetime'].apply(dparser.parse,fuzzy=True)\n",
    "# rdf1.dtypes"
   ]
  },
  {
   "cell_type": "code",
   "execution_count": 14,
   "id": "c2115bc1-b4d0-496e-8d72-0a6c296b87d5",
   "metadata": {},
   "outputs": [
    {
     "data": {
      "text/plain": [
       "parcheggio                object\n",
       "datetime          datetime64[ns]\n",
       "predicted_mean           float64\n",
       "dtype: object"
      ]
     },
     "execution_count": 14,
     "metadata": {},
     "output_type": "execute_result"
    }
   ],
   "source": [
    "# prediction_nbeats = proj.get_dataitem(\"parking_prediction_nbeats_model\")\n",
    "# rdf2 = prediction_nbeats.as_df()\n",
    "# rdf2.datetime = pd.to_datetime(rdf2.datetime, unit='ms')\n",
    "# rdf2.dtypes"
   ]
  },
  {
   "cell_type": "markdown",
   "id": "87794001-24cb-4c6b-940d-78a435d67e6c",
   "metadata": {},
   "source": [
    "## Build"
   ]
  },
  {
   "cell_type": "code",
   "execution_count": 20,
   "id": "45d544f3-7e55-4cf2-aa70-39060ce6f2c4",
   "metadata": {},
   "outputs": [],
   "source": [
    "#func.run(action=\"build\", instructions=[\"pip install streamlit\"])"
   ]
  },
  {
   "cell_type": "code",
   "execution_count": null,
   "id": "919b0398-3780-4344-9309-3dbfca091f67",
   "metadata": {},
   "outputs": [],
   "source": [
    "# func.spec.to_dict()"
   ]
  },
  {
   "cell_type": "code",
   "execution_count": 40,
   "id": "084f14bf-40b1-4848-9205-977dc2be7d82",
   "metadata": {},
   "outputs": [],
   "source": [
    "#fun.run(action=\"serve\", command='streamlit run src/streamlit-app.py --browser.gatherUsageStats false', )"
   ]
  },
  {
   "cell_type": "markdown",
   "id": "64b47a96-ff9e-4dbb-8876-bae16ae1fc80",
   "metadata": {},
   "source": [
    "## Serve"
   ]
  },
  {
   "cell_type": "code",
   "execution_count": 16,
   "id": "51a9293b-0d35-4523-8802-8d8a2e7ec93f",
   "metadata": {},
   "outputs": [],
   "source": [
    "#func.run(action=\"serve\", service_ports=[{\"port\": 5002, \"target_port\": 8501}])"
   ]
  },
  {
   "cell_type": "markdown",
   "id": "84db884b-b89d-4276-be66-e10bf934f912",
   "metadata": {},
   "source": [
    "## Expose the service"
   ]
  },
  {
   "cell_type": "markdown",
   "id": "0994527f-f8a4-434a-be57-c48de3df7d68",
   "metadata": {},
   "source": [
    "To make it accessible from outside, we'll need to create an API gateway.\n",
    "\n",
    "Go to the Kubernetes Resource Manager component (available from dashboard) and go to the API Gateways section. To expose a service it is necessary to define\n",
    "\n",
    "name of the gateway\n",
    "the service to expose\n",
    "the endpoint where to publish\n",
    "and the authentication method (right now only no authentication or basic authentication are available). in case of basic authentication it is necessary to specify Username and Password.\n",
    "The platform by default support exposing the methods at the subdomains of services.<platform-domain>, where platform-domain is the domain of the platform instance."
   ]
  },
  {
   "attachments": {},
   "cell_type": "markdown",
   "id": "99134fc7-00c1-4ea3-8866-0a89710b5c79",
   "metadata": {},
   "source": [
    "<img src=\"streamlit.jpg\">"
   ]
  },
  {
   "cell_type": "markdown",
   "id": "15d8e30d-24f2-429b-92e2-cec69f411a8d",
   "metadata": {},
   "source": [
    "Save and, after a few moments, you will be able to call the API at the address you defined! If you set Authentication to Basic, don't forget that you have to provide the credentials."
   ]
  }
 ],
 "metadata": {
  "kernelspec": {
   "display_name": "Python 3 (ipykernel)",
   "language": "python",
   "name": "python3"
  },
  "language_info": {
   "codemirror_mode": {
    "name": "ipython",
    "version": 3
   },
   "file_extension": ".py",
   "mimetype": "text/x-python",
   "name": "python",
   "nbconvert_exporter": "python",
   "pygments_lexer": "ipython3",
   "version": "3.10.11"
  }
 },
 "nbformat": 4,
 "nbformat_minor": 5
}
