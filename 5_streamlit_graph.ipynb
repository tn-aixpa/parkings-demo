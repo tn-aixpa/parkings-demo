{
 "cells": [
  {
   "cell_type": "markdown",
   "id": "81e43430-000d-4409-8d6f-5ce6b86ddd93",
   "metadata": {},
   "source": [
    "# Visualization with Streamlit"
   ]
  },
  {
   "cell_type": "markdown",
   "id": "5cf59b85-3e81-4b82-865d-bdb220ddcfb8",
   "metadata": {},
   "source": [
    "In this step we will make use of streamlit library to build the plots of predictions created using regression and nbeats time series."
   ]
  },
  {
   "cell_type": "code",
   "execution_count": 33,
   "id": "fd782ce4-66e6-4518-a0de-ecc35a281d17",
   "metadata": {},
   "outputs": [
    {
     "name": "stdout",
     "output_type": "stream",
     "text": [
      "Overwriting src/streamlit-app.py\n"
     ]
    }
   ],
   "source": [
    "%%writefile 'src/streamlit-app.py'\n",
    "\n",
    "import streamlit as st\n",
    "import digitalhub as dh\n",
    "import pandas as pd\n",
    "\n",
    "PROJECT_NAME = \"parcheggi-nk-scheduler-digitalhubdev\"\n",
    "proj = dh.get_or_create_project(PROJECT_NAME)\n",
    "print(\"created project {}\".format(PROJECT_NAME))\n",
    "\n",
    "prediction_nbeats = proj.get_dataitem(\"parking_prediction_nbeats_model\")\n",
    "prediction_sarimax_regression = proj.get_dataitem(\"parking_data_predicted_regression\")\n",
    "\n",
    "rdf1 = prediction_sarimax_regression.as_df();\n",
    "\n",
    "rdf2 = prediction_nbeats.as_df()\n",
    "rdf2.datetime = pd.to_datetime(rdf2.datetime, unit='ms')\n",
    "\n",
    "st.write(\"\"\"prediction Sarimax regression\"\"\")\n",
    "st.line_chart(rdf1, x=\"datetime\", y=\"predicted_mean\")\n",
    "\n",
    "st.write(\"\"\"prediction Nbeats model\"\"\")\n",
    "st.line_chart(rdf2, x=\"datetime\", y=\"predicted_mean\")\n"
   ]
  },
  {
   "cell_type": "code",
   "execution_count": 34,
   "id": "8e92ca51-703e-4b93-b152-29d4e53bba07",
   "metadata": {},
   "outputs": [],
   "source": [
    "#!streamlit run src/streamlit-app.py --browser.gatherUsageStats false"
   ]
  },
  {
   "cell_type": "code",
   "execution_count": 35,
   "id": "e23402ff-c740-4d99-9cb8-96831b308e44",
   "metadata": {},
   "outputs": [
    {
     "name": "stdout",
     "output_type": "stream",
     "text": [
      "created project parcheggi-nk-scheduler-digitalhubdev\n"
     ]
    }
   ],
   "source": [
    "import digitalhub as dh\n",
    "import getpass as gt\n",
    "\n",
    "PROJECT_NAME = \"parcheggi-nk-scheduler-\"+gt.getuser()\n",
    "proj = dh.get_or_create_project(PROJECT_NAME)\n",
    "print(\"created project {}\".format(PROJECT_NAME))"
   ]
  },
  {
   "cell_type": "code",
   "execution_count": 36,
   "id": "5da87cab-9d28-4cb6-8f3a-58777a0df557",
   "metadata": {},
   "outputs": [],
   "source": [
    "func = proj.new_function(name=\"streamlit-viz-v3\",\n",
    "                         kind=\"container\",\n",
    "                         python_version=\"PYTHON3_10\",\n",
    "                         lang=\"python\",\n",
    "                         base_image=\"ghcr.io/scc-digitalhub/digitalhub-serverless/python-runtime:3.9-latest\",\n",
    "                         image=\"ghcr.io/scc-digitalhub/digitalhub-serverless/python-runtime:3.9-latest\",\n",
    "                         code_src=\"src/streamlit-app.py\", args= [\"run\", \"src/streamlit-app.py\"], command= \"streamlit\")"
   ]
  },
  {
   "cell_type": "code",
   "execution_count": 37,
   "id": "c2115bc1-b4d0-496e-8d72-0a6c296b87d5",
   "metadata": {},
   "outputs": [],
   "source": [
    "# func._tasks"
   ]
  },
  {
   "cell_type": "code",
   "execution_count": 38,
   "id": "45d544f3-7e55-4cf2-aa70-39060ce6f2c4",
   "metadata": {},
   "outputs": [
    {
     "data": {
      "text/plain": [
       "{'kind': 'container+run', 'metadata': {'project': 'parcheggi-nk-scheduler-digitalhubdev', 'name': '9713ff68-55ae-4a99-a79a-e65c63322e7c', 'created': '2024-10-14T10:37:45.446Z', 'updated': '2024-10-14T10:37:45.459Z', 'created_by': 'digitalhubdev', 'updated_by': 'digitalhubdev'}, 'spec': {'task': 'container+build://parcheggi-nk-scheduler-digitalhubdev/streamlit-viz-v3:227179bc-47df-42c1-ae58-1e637d4969ab', 'local_execution': False, 'function': 'container://parcheggi-nk-scheduler-digitalhubdev/streamlit-viz-v3:227179bc-47df-42c1-ae58-1e637d4969ab', 'source': {'source': 'src/streamlit-app.py', 'base64': 'CmltcG9ydCBzdHJlYW1saXQgYXMgc3QKaW1wb3J0IGRpZ2l0YWxodWIgYXMgZGgKaW1wb3J0IHBhbmRhcyBhcyBwZAoKUFJPSkVDVF9OQU1FID0gInBhcmNoZWdnaS1uay1zY2hlZHVsZXItZGlnaXRhbGh1YmRldiIKcHJvaiA9IGRoLmdldF9vcl9jcmVhdGVfcHJvamVjdChQUk9KRUNUX05BTUUpCnByaW50KCJjcmVhdGVkIHByb2plY3Qge30iLmZvcm1hdChQUk9KRUNUX05BTUUpKQoKcHJlZGljdGlvbl9uYmVhdHMgPSBwcm9qLmdldF9kYXRhaXRlbSgicGFya2luZ19wcmVkaWN0aW9uX25iZWF0c19tb2RlbCIpCnByZWRpY3Rpb25fc2FyaW1heF9yZWdyZXNzaW9uID0gcHJvai5nZXRfZGF0YWl0ZW0oInBhcmtpbmdfZGF0YV9wcmVkaWN0ZWRfcmVncmVzc2lvbiIpCgpyZGYxID0gcHJlZGljdGlvbl9zYXJpbWF4X3JlZ3Jlc3Npb24uYXNfZGYoKTsKCnJkZjIgPSBwcmVkaWN0aW9uX25iZWF0cy5hc19kZigpCnJkZjIuZGF0ZXRpbWUgPSBwZC50b19kYXRldGltZShyZGYyLmRhdGV0aW1lLCB1bml0PSdtcycpCgpzdC53cml0ZSgiIiJwcmVkaWN0aW9uIFNhcmltYXggcmVncmVzc2lvbiIiIikKc3QubGluZV9jaGFydChyZGYxLCB4PSJkYXRldGltZSIsIHk9InByZWRpY3RlZF9tZWFuIikKCnN0LndyaXRlKCIiInByZWRpY3Rpb24gTmJlYXRzIG1vZGVsIiIiKQpzdC5saW5lX2NoYXJ0KHJkZjIsIHg9ImRhdGV0aW1lIiwgeT0icHJlZGljdGVkX21lYW4iKQo=', 'lang': 'python'}, 'image': 'ghcr.io/scc-digitalhub/digitalhub-serverless/python-runtime:3.9-latest', 'base_image': 'ghcr.io/scc-digitalhub/digitalhub-serverless/python-runtime:3.9-latest', 'command': 'streamlit', 'args': ['run', 'src/streamlit-app.py'], 'instructions': ['pip install streamlit']}, 'status': {'state': 'READY', 'transitions': [{'status': 'READY', 'time': '2024-10-14T10:37:45.45936897Z'}, {'status': 'BUILT', 'time': '2024-10-14T10:37:45.450370438Z'}]}, 'user': 'digitalhubdev', 'project': 'parcheggi-nk-scheduler-digitalhubdev', 'id': '9713ff68-55ae-4a99-a79a-e65c63322e7c', 'key': 'store://parcheggi-nk-scheduler-digitalhubdev/run/container+run/9713ff68-55ae-4a99-a79a-e65c63322e7c'}"
      ]
     },
     "execution_count": 38,
     "metadata": {},
     "output_type": "execute_result"
    }
   ],
   "source": [
    "func.run(action=\"build\", instructions=[\"pip install streamlit\"])"
   ]
  },
  {
   "cell_type": "code",
   "execution_count": 39,
   "id": "919b0398-3780-4344-9309-3dbfca091f67",
   "metadata": {},
   "outputs": [],
   "source": [
    "# func.spec.to_dict()"
   ]
  },
  {
   "cell_type": "code",
   "execution_count": 40,
   "id": "084f14bf-40b1-4848-9205-977dc2be7d82",
   "metadata": {},
   "outputs": [],
   "source": [
    "#fun.run(action=\"serve\", command='streamlit run src/streamlit-app.py --browser.gatherUsageStats false', )"
   ]
  },
  {
   "cell_type": "code",
   "execution_count": 41,
   "id": "51a9293b-0d35-4523-8802-8d8a2e7ec93f",
   "metadata": {},
   "outputs": [
    {
     "data": {
      "text/plain": [
       "{'kind': 'container+run', 'metadata': {'project': 'parcheggi-nk-scheduler-digitalhubdev', 'name': '78f36d4c-e954-4200-a639-fdb66f6cc3cc', 'created': '2024-10-14T10:40:14.845Z', 'updated': '2024-10-14T10:40:14.858Z', 'created_by': 'digitalhubdev', 'updated_by': 'digitalhubdev'}, 'spec': {'task': 'container+serve://parcheggi-nk-scheduler-digitalhubdev/streamlit-viz-v3:227179bc-47df-42c1-ae58-1e637d4969ab', 'local_execution': False, 'function': 'container://parcheggi-nk-scheduler-digitalhubdev/streamlit-viz-v3:227179bc-47df-42c1-ae58-1e637d4969ab', 'source': {'source': 'src/streamlit-app.py', 'base64': 'CmltcG9ydCBzdHJlYW1saXQgYXMgc3QKaW1wb3J0IGRpZ2l0YWxodWIgYXMgZGgKaW1wb3J0IHBhbmRhcyBhcyBwZAoKUFJPSkVDVF9OQU1FID0gInBhcmNoZWdnaS1uay1zY2hlZHVsZXItZGlnaXRhbGh1YmRldiIKcHJvaiA9IGRoLmdldF9vcl9jcmVhdGVfcHJvamVjdChQUk9KRUNUX05BTUUpCnByaW50KCJjcmVhdGVkIHByb2plY3Qge30iLmZvcm1hdChQUk9KRUNUX05BTUUpKQoKcHJlZGljdGlvbl9uYmVhdHMgPSBwcm9qLmdldF9kYXRhaXRlbSgicGFya2luZ19wcmVkaWN0aW9uX25iZWF0c19tb2RlbCIpCnByZWRpY3Rpb25fc2FyaW1heF9yZWdyZXNzaW9uID0gcHJvai5nZXRfZGF0YWl0ZW0oInBhcmtpbmdfZGF0YV9wcmVkaWN0ZWRfcmVncmVzc2lvbiIpCgpyZGYxID0gcHJlZGljdGlvbl9zYXJpbWF4X3JlZ3Jlc3Npb24uYXNfZGYoKTsKCnJkZjIgPSBwcmVkaWN0aW9uX25iZWF0cy5hc19kZigpCnJkZjIuZGF0ZXRpbWUgPSBwZC50b19kYXRldGltZShyZGYyLmRhdGV0aW1lLCB1bml0PSdtcycpCgpzdC53cml0ZSgiIiJwcmVkaWN0aW9uIFNhcmltYXggcmVncmVzc2lvbiIiIikKc3QubGluZV9jaGFydChyZGYxLCB4PSJkYXRldGltZSIsIHk9InByZWRpY3RlZF9tZWFuIikKCnN0LndyaXRlKCIiInByZWRpY3Rpb24gTmJlYXRzIG1vZGVsIiIiKQpzdC5saW5lX2NoYXJ0KHJkZjIsIHg9ImRhdGV0aW1lIiwgeT0icHJlZGljdGVkX21lYW4iKQo=', 'lang': 'python'}, 'image': 'registry.tenant1.digitalhub-dev.smartcommunitylab.it/digitalhub-tenant1-ghcr.io/scc-digitalhub/digitalhub-serverless/python-runtime:9713f', 'base_image': 'ghcr.io/scc-digitalhub/digitalhub-serverless/python-runtime:3.9-latest', 'command': 'streamlit', 'args': ['run', 'src/streamlit-app.py'], 'service_ports': [{'port': 5002, 'target_port': 8501}]}, 'status': {'state': 'READY', 'transitions': [{'status': 'READY', 'time': '2024-10-14T10:40:14.858502662Z'}, {'status': 'BUILT', 'time': '2024-10-14T10:40:14.849520694Z'}]}, 'user': 'digitalhubdev', 'project': 'parcheggi-nk-scheduler-digitalhubdev', 'id': '78f36d4c-e954-4200-a639-fdb66f6cc3cc', 'key': 'store://parcheggi-nk-scheduler-digitalhubdev/run/container+run/78f36d4c-e954-4200-a639-fdb66f6cc3cc'}"
      ]
     },
     "execution_count": 41,
     "metadata": {},
     "output_type": "execute_result"
    }
   ],
   "source": [
    "func.run(action=\"serve\", service_ports=[{\"port\": 5002, \"target_port\": 8501}])\n",
    "#service_type = \"NodePort\""
   ]
  },
  {
   "cell_type": "markdown",
   "id": "84db884b-b89d-4276-be66-e10bf934f912",
   "metadata": {},
   "source": [
    "## Expose the service"
   ]
  },
  {
   "cell_type": "markdown",
   "id": "0994527f-f8a4-434a-be57-c48de3df7d68",
   "metadata": {},
   "source": [
    "To make it accessible from outside, we'll need to create an API gateway.\n",
    "\n",
    "Go to the Kubernetes Resource Manager component (available from dashboard) and go to the API Gateways section. To expose a service it is necessary to define\n",
    "\n",
    "name of the gateway\n",
    "the service to expose\n",
    "the endpoint where to publish\n",
    "and the authentication method (right now only no authentication or basic authentication are available). in case of basic authentication it is necessary to specify Username and Password.\n",
    "The platform by default support exposing the methods at the subdomains of services.<platform-domain>, where platform-domain is the domain of the platform instance."
   ]
  },
  {
   "attachments": {},
   "cell_type": "markdown",
   "id": "99134fc7-00c1-4ea3-8866-0a89710b5c79",
   "metadata": {},
   "source": [
    "<img src=\"streamlit.jpg\">"
   ]
  },
  {
   "cell_type": "markdown",
   "id": "15d8e30d-24f2-429b-92e2-cec69f411a8d",
   "metadata": {},
   "source": [
    "Save and, after a few moments, you will be able to call the API at the address you defined! If you set Authentication to Basic, don't forget that you have to provide the credentials."
   ]
  },
  {
   "cell_type": "code",
   "execution_count": null,
   "id": "50d566dc-42f4-4172-a162-c5f5725e83da",
   "metadata": {},
   "outputs": [],
   "source": []
  }
 ],
 "metadata": {
  "kernelspec": {
   "display_name": "Python 3 (ipykernel)",
   "language": "python",
   "name": "python3"
  },
  "language_info": {
   "codemirror_mode": {
    "name": "ipython",
    "version": 3
   },
   "file_extension": ".py",
   "mimetype": "text/x-python",
   "name": "python",
   "nbconvert_exporter": "python",
   "pygments_lexer": "ipython3",
   "version": "3.10.11"
  }
 },
 "nbformat": 4,
 "nbformat_minor": 5
}
